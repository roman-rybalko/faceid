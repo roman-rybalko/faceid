{
 "cells": [
  {
   "cell_type": "markdown",
   "id": "d38e8ac1",
   "metadata": {
    "papermill": {
     "duration": 0.007781,
     "end_time": "2022-09-22T15:02:05.384085",
     "exception": false,
     "start_time": "2022-09-22T15:02:05.376304",
     "status": "completed"
    },
    "tags": []
   },
   "source": [
    "# Face Identification\n",
    "\n",
    "Output vector: **16** x float32  "
   ]
  },
  {
   "cell_type": "code",
   "execution_count": 1,
   "id": "e37b11c7",
   "metadata": {
    "papermill": {
     "duration": 0.598999,
     "end_time": "2022-09-22T15:02:05.989704",
     "exception": false,
     "start_time": "2022-09-22T15:02:05.390705",
     "status": "completed"
    },
    "tags": []
   },
   "outputs": [
    {
     "name": "stdout",
     "output_type": "stream",
     "text": [
      "/kaggle/input/torchvision-resnet-pretrained/resnet101-63fe2227.pth\n",
      "/kaggle/input/torchvision-resnet-pretrained/resnet101-cd907fc2.pth\n",
      "/kaggle/input/torchvision-resnet-pretrained/resnet152-394f9c45.pth\n",
      "/kaggle/input/torchvision-resnet-pretrained/resnet152-f82ba261.pth\n",
      "/kaggle/input/torchvision-resnet-pretrained/resnet18-f37072fd.pth\n",
      "/kaggle/input/torchvision-resnet-pretrained/resnet34-b627a593.pth\n",
      "/kaggle/input/torchvision-resnet-pretrained/resnet50-0676ba61.pth\n",
      "/kaggle/input/torchvision-resnet-pretrained/resnet50-11ad3fa6.pth\n",
      "/kaggle/input/faceid-preprocessed/AJ_Cook_0.npz.pkl\n",
      "/kaggle/input/faceid-preprocessed/Yuri_Fedotov_3.npz.pkl\n",
      "/kaggle/input/faceid-preprocessed/Yuri_Fedotov_4.npz.pkl\n",
      "/kaggle/input/faceid-preprocessed/Zahir_Shah_0.npz.pkl\n",
      "/kaggle/input/faceid-preprocessed/Zahir_Shah_1.npz.pkl\n",
      "/kaggle/input/faceid-preprocessed/Zhang_Ziyi_1.npz.pkl\n",
      "/kaggle/input/faceid-preprocessed/Zhang_Ziyi_2.npz.pkl\n",
      "/kaggle/input/faceid-preprocessed/Zhang_Ziyi_4.npz.pkl\n",
      "/kaggle/input/faceid-preprocessed/Zhong_Nanshan_0.npz.pkl\n",
      "/kaggle/input/faceid-preprocessed/Zhong_Nanshan_1.npz.pkl\n",
      "/kaggle/input/faceid-preprocessed/Zhong_Nanshan_5.npz.pkl\n",
      "/kaggle/input/faceid-preprocessed/Zoran_Djindjic_0.npz.pkl\n",
      "/kaggle/input/faceid-preprocessed/Zoran_Djindjic_2.npz.pkl\n",
      "/kaggle/input/faceid-preprocessed/youtube_faces_with_keypoints_full.csv\n",
      "2203\n"
     ]
    }
   ],
   "source": [
    "# This Python 3 environment comes with many helpful analytics libraries installed\n",
    "# It is defined by the kaggle/python Docker image: https://github.com/kaggle/docker-python\n",
    "# For example, here's several helpful packages to load\n",
    "\n",
    "import numpy as np # linear algebra\n",
    "import pandas as pd # data processing, CSV file I/O (e.g. pd.read_csv)\n",
    "\n",
    "# Input data files are available in the read-only \"../input/\" directory\n",
    "# For example, running this (by clicking run or pressing Shift+Enter) will list all files under the input directory\n",
    "\n",
    "import os\n",
    "fcnt = 0\n",
    "for dirname, _, filenames in os.walk('/kaggle/input'):\n",
    "    for filename in filenames:\n",
    "        fcnt += 1\n",
    "        if fcnt < 10 or fcnt > 2190:\n",
    "            print(os.path.join(dirname, filename))\n",
    "print(fcnt)\n",
    "\n",
    "# You can write up to 20GB to the current directory (/kaggle/working/) that gets preserved as output when you create a version using \"Save & Run All\" \n",
    "# You can also write temporary files to /kaggle/temp/, but they won't be saved outside of the current session"
   ]
  },
  {
   "cell_type": "code",
   "execution_count": 2,
   "id": "ff86304c",
   "metadata": {
    "papermill": {
     "duration": 1.12206,
     "end_time": "2022-09-22T15:02:07.118459",
     "exception": false,
     "start_time": "2022-09-22T15:02:05.996399",
     "status": "completed"
    },
    "tags": []
   },
   "outputs": [
    {
     "name": "stdout",
     "output_type": "stream",
     "text": [
      "Filesystem     1K-blocks     Used Available Use% Mounted on\n",
      "overlay        104802308 67010148  37792160  64% /\n"
     ]
    }
   ],
   "source": [
    "!df /kaggle/"
   ]
  },
  {
   "cell_type": "code",
   "execution_count": 3,
   "id": "874d9b12-3949-466f-8d86-b159803b1117",
   "metadata": {
    "papermill": {
     "duration": 6.068463,
     "end_time": "2022-09-22T15:02:13.196940",
     "exception": false,
     "start_time": "2022-09-22T15:02:07.128477",
     "status": "completed"
    },
    "tags": []
   },
   "outputs": [],
   "source": [
    "#!mkdir -pv /kaggle/temp\n",
    "#!rm -Rf /kaggle/temp/*\n",
    "#!cp -as /kaggle/input/youtube-faces-with-facial-keypoints /kaggle/temp/\n",
    "#!mv /kaggle/temp/youtube-faces-with-facial-keypoints/*/*/*.npz /kaggle/temp/youtube-faces-with-facial-keypoints/\n",
    "#!ls /kaggle/temp/youtube-faces-with-facial-keypoints/ | wc"
   ]
  },
  {
   "cell_type": "code",
   "execution_count": 4,
   "id": "c8c0cb10",
   "metadata": {
    "papermill": {
     "duration": 0.015223,
     "end_time": "2022-09-22T15:02:13.218747",
     "exception": false,
     "start_time": "2022-09-22T15:02:13.203524",
     "status": "completed"
    },
    "tags": []
   },
   "outputs": [],
   "source": [
    "#data_dir = '/kaggle/temp/youtube-faces-with-facial-keypoints'\n",
    "data_dir = '/kaggle/input/faceid-preprocessed'"
   ]
  },
  {
   "cell_type": "code",
   "execution_count": 5,
   "id": "9ce8059a-76d4-43fe-b0c8-ef0525a1beaf",
   "metadata": {
    "papermill": {
     "duration": 7.350053,
     "end_time": "2022-09-22T15:02:20.575178",
     "exception": false,
     "start_time": "2022-09-22T15:02:13.225125",
     "status": "completed"
    },
    "tags": []
   },
   "outputs": [
    {
     "name": "stdout",
     "output_type": "stream",
     "text": [
      "mkdir: created directory '/root/.cache/torch/hub/checkpoints/'\n",
      "'/kaggle/input/torchvision-resnet-pretrained/resnet101-63fe2227.pth' -> '/root/.cache/torch/hub/checkpoints/resnet101-63fe2227.pth'\n",
      "'/kaggle/input/torchvision-resnet-pretrained/resnet101-cd907fc2.pth' -> '/root/.cache/torch/hub/checkpoints/resnet101-cd907fc2.pth'\n",
      "'/kaggle/input/torchvision-resnet-pretrained/resnet152-394f9c45.pth' -> '/root/.cache/torch/hub/checkpoints/resnet152-394f9c45.pth'\n",
      "'/kaggle/input/torchvision-resnet-pretrained/resnet152-f82ba261.pth' -> '/root/.cache/torch/hub/checkpoints/resnet152-f82ba261.pth'\n",
      "'/kaggle/input/torchvision-resnet-pretrained/resnet18-f37072fd.pth' -> '/root/.cache/torch/hub/checkpoints/resnet18-f37072fd.pth'\n",
      "'/kaggle/input/torchvision-resnet-pretrained/resnet34-b627a593.pth' -> '/root/.cache/torch/hub/checkpoints/resnet34-b627a593.pth'\n",
      "'/kaggle/input/torchvision-resnet-pretrained/resnet50-0676ba61.pth' -> '/root/.cache/torch/hub/checkpoints/resnet50-0676ba61.pth'\n",
      "'/kaggle/input/torchvision-resnet-pretrained/resnet50-11ad3fa6.pth' -> '/root/.cache/torch/hub/checkpoints/resnet50-11ad3fa6.pth'\n",
      "'/root/.cache/torch/hub/checkpoints/resnet50-11ad3fa6.pth' -> '/root/.cache/torch/hub/checkpoints/resnet50-0676ba61.pth'\n",
      "'/root/.cache/torch/hub/checkpoints/resnet101-cd907fc2.pth' -> '/root/.cache/torch/hub/checkpoints/resnet101-63fe2227.pth'\n",
      "'/root/.cache/torch/hub/checkpoints/resnet152-f82ba261.pth' -> '/root/.cache/torch/hub/checkpoints/resnet152-394f9c45.pth'\n",
      "total 0\n",
      "lrwxrwxrwx 1 root root 57 Sep 28 02:40 resnet101-63fe2227.pth -> /root/.cache/torch/hub/checkpoints/resnet101-cd907fc2.pth\n",
      "lrwxrwxrwx 1 root root 66 Sep 19 21:43 resnet101-cd907fc2.pth -> /kaggle/input/torchvision-resnet-pretrained/resnet101-cd907fc2.pth\n",
      "lrwxrwxrwx 1 root root 57 Sep 28 02:40 resnet152-394f9c45.pth -> /root/.cache/torch/hub/checkpoints/resnet152-f82ba261.pth\n",
      "lrwxrwxrwx 1 root root 66 Sep 19 21:44 resnet152-f82ba261.pth -> /kaggle/input/torchvision-resnet-pretrained/resnet152-f82ba261.pth\n",
      "lrwxrwxrwx 1 root root 65 Sep 19 21:44 resnet18-f37072fd.pth -> /kaggle/input/torchvision-resnet-pretrained/resnet18-f37072fd.pth\n",
      "lrwxrwxrwx 1 root root 65 Sep 19 21:44 resnet34-b627a593.pth -> /kaggle/input/torchvision-resnet-pretrained/resnet34-b627a593.pth\n",
      "lrwxrwxrwx 1 root root 56 Sep 28 02:40 resnet50-0676ba61.pth -> /root/.cache/torch/hub/checkpoints/resnet50-11ad3fa6.pth\n",
      "lrwxrwxrwx 1 root root 65 Sep 19 21:44 resnet50-11ad3fa6.pth -> /kaggle/input/torchvision-resnet-pretrained/resnet50-11ad3fa6.pth\n"
     ]
    }
   ],
   "source": [
    "# Updating to the recent pretrained data\n",
    "!rm -Rf ~/.cache/torch/hub/checkpoints/\n",
    "!mkdir -pv ~/.cache/torch/hub/checkpoints/\n",
    "!cp -avs /kaggle/input/torchvision-resnet-pretrained/resnet*.pth ~/.cache/torch/hub/checkpoints/\n",
    "!cp -vsf ~/.cache/torch/hub/checkpoints/resnet50-11ad3fa6.pth ~/.cache/torch/hub/checkpoints/resnet50-0676ba61.pth\n",
    "!cp -vsf ~/.cache/torch/hub/checkpoints/resnet101-cd907fc2.pth ~/.cache/torch/hub/checkpoints/resnet101-63fe2227.pth\n",
    "!cp -vsf ~/.cache/torch/hub/checkpoints/resnet152-f82ba261.pth ~/.cache/torch/hub/checkpoints/resnet152-394f9c45.pth\n",
    "!ls -l ~/.cache/torch/hub/checkpoints/"
   ]
  },
  {
   "cell_type": "code",
   "execution_count": 6,
   "id": "dc645013",
   "metadata": {
    "id": "xcDdqMb8jWEY",
    "papermill": {
     "duration": 0.016786,
     "end_time": "2022-09-22T15:02:20.611714",
     "exception": false,
     "start_time": "2022-09-22T15:02:20.594928",
     "status": "completed"
    },
    "tags": []
   },
   "outputs": [],
   "source": [
    "import pandas as pd\n",
    "import numpy as np\n",
    "import matplotlib.pyplot as plt\n",
    "from tqdm import tqdm"
   ]
  },
  {
   "cell_type": "code",
   "execution_count": 7,
   "id": "479e300d",
   "metadata": {
    "id": "9Wpb5ohLj5VI",
    "outputId": "ca513529-baef-44a8-9825-ab8ac718af30",
    "papermill": {
     "duration": 0.082417,
     "end_time": "2022-09-22T15:02:20.701294",
     "exception": false,
     "start_time": "2022-09-22T15:02:20.618877",
     "status": "completed"
    },
    "tags": []
   },
   "outputs": [
    {
     "data": {
      "text/html": [
       "<div>\n",
       "<style scoped>\n",
       "    .dataframe tbody tr th:only-of-type {\n",
       "        vertical-align: middle;\n",
       "    }\n",
       "\n",
       "    .dataframe tbody tr th {\n",
       "        vertical-align: top;\n",
       "    }\n",
       "\n",
       "    .dataframe thead th {\n",
       "        text-align: right;\n",
       "    }\n",
       "</style>\n",
       "<table border=\"1\" class=\"dataframe\">\n",
       "  <thead>\n",
       "    <tr style=\"text-align: right;\">\n",
       "      <th></th>\n",
       "      <th>videoID</th>\n",
       "      <th>personName</th>\n",
       "      <th>imageHeight</th>\n",
       "      <th>imageWidth</th>\n",
       "      <th>videoDuration</th>\n",
       "      <th>averageFaceSize</th>\n",
       "      <th>numVideosForPerson</th>\n",
       "    </tr>\n",
       "  </thead>\n",
       "  <tbody>\n",
       "    <tr>\n",
       "      <th>0</th>\n",
       "      <td>Alison_Lohman_0</td>\n",
       "      <td>Alison_Lohman</td>\n",
       "      <td>228.0</td>\n",
       "      <td>213.0</td>\n",
       "      <td>240.0</td>\n",
       "      <td>90.150000</td>\n",
       "      <td>6.0</td>\n",
       "    </tr>\n",
       "    <tr>\n",
       "      <th>1</th>\n",
       "      <td>Alison_Lohman_1</td>\n",
       "      <td>Alison_Lohman</td>\n",
       "      <td>248.0</td>\n",
       "      <td>201.0</td>\n",
       "      <td>79.0</td>\n",
       "      <td>108.417722</td>\n",
       "      <td>6.0</td>\n",
       "    </tr>\n",
       "    <tr>\n",
       "      <th>2</th>\n",
       "      <td>Alison_Lohman_2</td>\n",
       "      <td>Alison_Lohman</td>\n",
       "      <td>335.0</td>\n",
       "      <td>308.0</td>\n",
       "      <td>136.0</td>\n",
       "      <td>122.161765</td>\n",
       "      <td>6.0</td>\n",
       "    </tr>\n",
       "    <tr>\n",
       "      <th>3</th>\n",
       "      <td>Alison_Lohman_3</td>\n",
       "      <td>Alison_Lohman</td>\n",
       "      <td>151.0</td>\n",
       "      <td>110.0</td>\n",
       "      <td>53.0</td>\n",
       "      <td>58.000000</td>\n",
       "      <td>6.0</td>\n",
       "    </tr>\n",
       "    <tr>\n",
       "      <th>4</th>\n",
       "      <td>Alison_Lohman_4</td>\n",
       "      <td>Alison_Lohman</td>\n",
       "      <td>236.0</td>\n",
       "      <td>228.0</td>\n",
       "      <td>147.0</td>\n",
       "      <td>91.680272</td>\n",
       "      <td>6.0</td>\n",
       "    </tr>\n",
       "    <tr>\n",
       "      <th>...</th>\n",
       "      <td>...</td>\n",
       "      <td>...</td>\n",
       "      <td>...</td>\n",
       "      <td>...</td>\n",
       "      <td>...</td>\n",
       "      <td>...</td>\n",
       "      <td>...</td>\n",
       "    </tr>\n",
       "    <tr>\n",
       "      <th>2189</th>\n",
       "      <td>Yossi_Beilin_3</td>\n",
       "      <td>Yossi_Beilin</td>\n",
       "      <td>240.0</td>\n",
       "      <td>243.0</td>\n",
       "      <td>240.0</td>\n",
       "      <td>110.258333</td>\n",
       "      <td>2.0</td>\n",
       "    </tr>\n",
       "    <tr>\n",
       "      <th>2190</th>\n",
       "      <td>Zahir_Shah_0</td>\n",
       "      <td>Zahir_Shah</td>\n",
       "      <td>196.0</td>\n",
       "      <td>200.0</td>\n",
       "      <td>143.0</td>\n",
       "      <td>93.944056</td>\n",
       "      <td>2.0</td>\n",
       "    </tr>\n",
       "    <tr>\n",
       "      <th>2191</th>\n",
       "      <td>Zahir_Shah_1</td>\n",
       "      <td>Zahir_Shah</td>\n",
       "      <td>240.0</td>\n",
       "      <td>293.0</td>\n",
       "      <td>240.0</td>\n",
       "      <td>155.495833</td>\n",
       "      <td>2.0</td>\n",
       "    </tr>\n",
       "    <tr>\n",
       "      <th>2192</th>\n",
       "      <td>Zoran_Djindjic_0</td>\n",
       "      <td>Zoran_Djindjic</td>\n",
       "      <td>230.0</td>\n",
       "      <td>237.0</td>\n",
       "      <td>240.0</td>\n",
       "      <td>98.908333</td>\n",
       "      <td>2.0</td>\n",
       "    </tr>\n",
       "    <tr>\n",
       "      <th>2193</th>\n",
       "      <td>Zoran_Djindjic_2</td>\n",
       "      <td>Zoran_Djindjic</td>\n",
       "      <td>131.0</td>\n",
       "      <td>115.0</td>\n",
       "      <td>240.0</td>\n",
       "      <td>59.554167</td>\n",
       "      <td>2.0</td>\n",
       "    </tr>\n",
       "  </tbody>\n",
       "</table>\n",
       "<p>2194 rows × 7 columns</p>\n",
       "</div>"
      ],
      "text/plain": [
       "               videoID      personName  imageHeight  imageWidth  \\\n",
       "0      Alison_Lohman_0   Alison_Lohman        228.0       213.0   \n",
       "1      Alison_Lohman_1   Alison_Lohman        248.0       201.0   \n",
       "2      Alison_Lohman_2   Alison_Lohman        335.0       308.0   \n",
       "3      Alison_Lohman_3   Alison_Lohman        151.0       110.0   \n",
       "4      Alison_Lohman_4   Alison_Lohman        236.0       228.0   \n",
       "...                ...             ...          ...         ...   \n",
       "2189    Yossi_Beilin_3    Yossi_Beilin        240.0       243.0   \n",
       "2190      Zahir_Shah_0      Zahir_Shah        196.0       200.0   \n",
       "2191      Zahir_Shah_1      Zahir_Shah        240.0       293.0   \n",
       "2192  Zoran_Djindjic_0  Zoran_Djindjic        230.0       237.0   \n",
       "2193  Zoran_Djindjic_2  Zoran_Djindjic        131.0       115.0   \n",
       "\n",
       "      videoDuration  averageFaceSize  numVideosForPerson  \n",
       "0             240.0        90.150000                 6.0  \n",
       "1              79.0       108.417722                 6.0  \n",
       "2             136.0       122.161765                 6.0  \n",
       "3              53.0        58.000000                 6.0  \n",
       "4             147.0        91.680272                 6.0  \n",
       "...             ...              ...                 ...  \n",
       "2189          240.0       110.258333                 2.0  \n",
       "2190          143.0        93.944056                 2.0  \n",
       "2191          240.0       155.495833                 2.0  \n",
       "2192          240.0        98.908333                 2.0  \n",
       "2193          240.0        59.554167                 2.0  \n",
       "\n",
       "[2194 rows x 7 columns]"
      ]
     },
     "execution_count": 7,
     "metadata": {},
     "output_type": "execute_result"
    }
   ],
   "source": [
    "df = pd.read_csv(f'{data_dir}/youtube_faces_with_keypoints_full.csv')\n",
    "df"
   ]
  },
  {
   "cell_type": "code",
   "execution_count": 8,
   "id": "919d28fb-c843-4813-9a64-12c210533a46",
   "metadata": {},
   "outputs": [
    {
     "data": {
      "text/plain": [
       "(True, True, False)"
      ]
     },
     "execution_count": 8,
     "metadata": {},
     "output_type": "execute_result"
    }
   ],
   "source": [
    "import poptorch\n",
    "poptorch.ipuHardwareIsAvailable(num_ipus=1), poptorch.ipuHardwareIsAvailable(num_ipus=16), poptorch.ipuHardwareIsAvailable(num_ipus=32)"
   ]
  },
  {
   "cell_type": "code",
   "execution_count": 9,
   "id": "f40fd045-4ab6-4998-a921-3136cdd117eb",
   "metadata": {},
   "outputs": [],
   "source": [
    "!mkdir -p /tmp/work/popcache\n",
    "popcache_dir = '/tmp/work/popcache'\n",
    "hw_emulation = False\n",
    "#ipu_id = 16 # x2\n",
    "#ipu_id = 24 # x4\n",
    "#ipu_id = 28 # x8\n",
    "ipu_id = 30 # x16"
   ]
  },
  {
   "cell_type": "code",
   "execution_count": 10,
   "id": "d6eedcaa",
   "metadata": {
    "id": "sJguPEzWihnZ",
    "papermill": {
     "duration": 2.107764,
     "end_time": "2022-09-22T15:02:22.816205",
     "exception": false,
     "start_time": "2022-09-22T15:02:20.708441",
     "status": "completed"
    },
    "tags": []
   },
   "outputs": [],
   "source": [
    "import torch\n",
    "import torch.nn as nn\n",
    "#import torch.optim as optim\n",
    "import poptorch.optim as optim\n",
    "import torchvision\n",
    "from torchinfo import summary"
   ]
  },
  {
   "cell_type": "code",
   "execution_count": 11,
   "id": "cee41ad6",
   "metadata": {
    "id": "NfaI6TWnkpWw",
    "papermill": {
     "duration": 0.203356,
     "end_time": "2022-09-22T15:02:23.122384",
     "exception": false,
     "start_time": "2022-09-22T15:02:22.919028",
     "status": "completed"
    },
    "tags": []
   },
   "outputs": [],
   "source": [
    "import PIL\n",
    "import cv2\n",
    "\n",
    "class NormalizeTransform:\n",
    "    def __init__(self, ratio=0.333):\n",
    "        self.ratio = ratio\n",
    "\n",
    "        self.jawPoints          = [ 0,17]\n",
    "        self.rigthEyebrowPoints = [17,22]\n",
    "        self.leftEyebrowPoints  = [22,27]\n",
    "        self.noseRidgePoints    = [27,31]\n",
    "        self.noseBasePoints     = [31,36]\n",
    "        self.rightEyePoints     = [36,42]\n",
    "        self.leftEyePoints      = [42,48]\n",
    "        self.outerMouthPoints   = [48,60]\n",
    "        self.innerMouthPoints   = [60,68]\n",
    "\n",
    "        self.norm_transform = torchvision.transforms.Compose([\n",
    "            torchvision.transforms.Resize((224, 224)),\n",
    "            torchvision.transforms.functional.autocontrast,\n",
    "            torchvision.transforms.functional.to_grayscale,\n",
    "            torchvision.transforms.ToTensor(),\n",
    "        ])\n",
    "\n",
    "    def __call__(self, data, landmarks):\n",
    "        data = self.face_transform(data, landmarks)\n",
    "        img = PIL.Image.fromarray(data)\n",
    "        data = self.norm_transform(img)\n",
    "        return data\n",
    "\n",
    "    def face_transform(self, data, landmarks):\n",
    "        # see FaceId-Normalization.ipynb\n",
    "        pt1 = self.avg(landmarks[self.leftEyePoints[0]:self.leftEyePoints[1]])\n",
    "        pt2 = self.avg(landmarks[self.outerMouthPoints[0]:self.outerMouthPoints[1]])\n",
    "        pt3 = self.avg(landmarks[self.rightEyePoints[0]:self.rightEyePoints[1]])\n",
    "        src_pts = np.float32([pt1, pt2, pt3])\n",
    "        dst_pts = np.float32([\n",
    "            [data.shape[0]*self.ratio, data.shape[1]*self.ratio],\n",
    "            [data.shape[0]/2, data.shape[1]*(1-self.ratio)],\n",
    "            [data.shape[0]*(1-self.ratio), data.shape[1]*self.ratio]\n",
    "        ])\n",
    "        M = cv2.getAffineTransform(src_pts, dst_pts)\n",
    "        data = cv2.warpAffine(data, M, data.shape[:2])\n",
    "        return data\n",
    "    \n",
    "    def avg(self, pts):\n",
    "        x = sum(x for x,y in pts) / len(pts)\n",
    "        y = sum(y for x,y in pts) / len(pts)\n",
    "        return x, y"
   ]
  },
  {
   "cell_type": "code",
   "execution_count": 12,
   "id": "777a96cd",
   "metadata": {
    "id": "K6M-NqdtlvAN",
    "outputId": "7dba579b-5797-41d8-fdfb-4bbe6b901641",
    "papermill": {
     "duration": 10.813371,
     "end_time": "2022-09-22T15:02:33.943279",
     "exception": false,
     "start_time": "2022-09-22T15:02:23.129908",
     "status": "completed"
    },
    "tags": []
   },
   "outputs": [
    {
     "name": "stderr",
     "output_type": "stream",
     "text": [
      "Loading data: 100%|██████████| 828/828 [00:00<00:00, 1182.77it/s]\n"
     ]
    },
    {
     "data": {
      "text/plain": [
       "828"
      ]
     },
     "execution_count": 12,
     "metadata": {},
     "output_type": "execute_result"
    }
   ],
   "source": [
    "import random\n",
    "import pickle\n",
    "\n",
    "class YouTubeFacesDataset(torch.utils.data.Dataset):\n",
    "    def __init__(self, df, folder = '.', transform = NormalizeTransform(),\n",
    "                 cache_lim = 200,\n",
    "                 preload = False, preprocess = False,\n",
    "                 anchor_set_len = 1, positive_set_len = 1, negative_set_len = 1,\n",
    "                 stochastic_set_fraction = 0.8):\n",
    "        self.transform = transform\n",
    "        self.cache = {}\n",
    "        self.cache_lim = 0 if preload else cache_lim\n",
    "        self.preprocessed_cache = {}\n",
    "        need_preprocessing = []\n",
    "        self.data = {}\n",
    "        for p in tqdm(df['personName'].unique(), desc='Loading data'):\n",
    "            self.data[p] = []\n",
    "            for fn, cnt in df[df['personName'] == p][['videoID', 'videoDuration']].values:\n",
    "                fp = f'{folder}/{fn}.npz'\n",
    "                cnt = int(cnt)\n",
    "                self.data[p] += [(fp, i) for i in range(cnt)]\n",
    "                if preload:\n",
    "                    self.cache_lim += 1\n",
    "                    imgs, lms = self._cache_get(fp)\n",
    "                    assert imgs.shape[-1] == cnt\n",
    "                    assert lms.shape[-1] == cnt\n",
    "                if preprocess:\n",
    "                    need_preprocessing += [fp]\n",
    "        if preprocess:\n",
    "            preprocessed = [self._preprocess(fp) for fp in tqdm(need_preprocessing, desc='Preprocessing')]\n",
    "            self.preprocessed_cache = dict((fp, self._load_preprocessed(pfp)) for fp, pfp in tqdm(preprocessed, desc='Loading data'))\n",
    "        self.persons = list(self.data.keys())\n",
    "        self.neg_data = {}\n",
    "        for p in self.persons:\n",
    "            self.neg_data[p] = []\n",
    "            for p_neg in self.persons:\n",
    "                if p_neg == p:\n",
    "                    continue\n",
    "                self.neg_data[p] += self.data[p_neg]\n",
    "        self.anchor_set_len = anchor_set_len\n",
    "        self.positive_set_len = positive_set_len\n",
    "        self.negative_set_len = negative_set_len\n",
    "        self.stochastic_set_fraction = stochastic_set_fraction\n",
    "    \n",
    "    def __len__(self):\n",
    "        return len(self.persons) * self.anchor_set_len * self.positive_set_len * self.negative_set_len\n",
    "    \n",
    "    def __getitem__(self, index):\n",
    "        p_i = index // self.negative_set_len // self.positive_set_len // self.anchor_set_len\n",
    "        assert p_i >= 0\n",
    "        assert p_i < len(self.persons)\n",
    "        p = self.persons[p_i]\n",
    "        if self.negative_set_len > len(self.neg_data[p]) * self.stochastic_set_fraction:\n",
    "            negative_i = index % self.negative_set_len\n",
    "            negative_i = negative_i % len(self.neg_data[p])\n",
    "        else:\n",
    "            negative_i = random.randint(0, len(self.neg_data[p]) - 1)\n",
    "        assert negative_i >= 0\n",
    "        assert negative_i < len(self.neg_data[p])\n",
    "        if self.positive_set_len > len(self.data[p]) * self.stochastic_set_fraction:\n",
    "            positive_i = (index // self.negative_set_len) % self.positive_set_len\n",
    "            positive_i = positive_i % len(self.data[p])\n",
    "        else:\n",
    "            positive_i = random.randint(0, len(self.data[p]) - 1)\n",
    "        assert positive_i >= 0\n",
    "        assert positive_i < len(self.data[p])\n",
    "        if self.anchor_set_len > len(self.data[p]) * self.stochastic_set_fraction:\n",
    "            anchor_i = (index // self.negative_set_len // self.positive_set_len) % self.anchor_set_len\n",
    "            anchor_i = anchor_i % len(self.data[p])\n",
    "        else:\n",
    "            anchor_i = random.randint(0, len(self.data[p]) - 1)\n",
    "        assert anchor_i >= 0\n",
    "        assert anchor_i < len(self.data[p])\n",
    "        return self._load(*self.data[p][anchor_i]), self._load(*self.data[p][positive_i]), self._load(*self.neg_data[p][negative_i])\n",
    "    \n",
    "    def _load(self, fp, i):\n",
    "        if fp in self.preprocessed_cache:\n",
    "            assert i < len(self.preprocessed_cache[fp]), (fp, i, len(self.preprocessed_cache[fp]))\n",
    "            if self.preprocessed_cache[fp][i] is not None:\n",
    "                return self.preprocessed_cache[fp][i]\n",
    "        imgs, lms = self._cache_get(fp)\n",
    "        assert i < imgs.shape[-1], (fp, i, imgs.shape[-1])\n",
    "        data = imgs[:,:,:,i]\n",
    "        assert i < lms.shape[-1], (fp, i, lms.shape[-1])\n",
    "        lms = lms[:,:,i]\n",
    "        if self.transform:\n",
    "            data = self.transform(data, lms)\n",
    "        return data\n",
    "    \n",
    "    def _cache_get(self, fp):\n",
    "        if fp in self.cache:\n",
    "            return self.cache[fp]\n",
    "        if len(self.cache) > self.cache_lim:\n",
    "            idx = random.randint(0, len(self.cache) - 1)\n",
    "            key = list(self.cache.keys())[idx]\n",
    "            del self.cache[key]\n",
    "        d = np.load(fp)\n",
    "        # trigger lazy loading\n",
    "        self.cache[fp] = (d['colorImages'], d['landmarks2D'])\n",
    "        return self.cache[fp]\n",
    "    \n",
    "    def _preprocess(self, fp):\n",
    "        pfp = f'{fp}.pkl'\n",
    "        if not os.path.exists(pfp):\n",
    "            imgs, lms = self._cache_get(fp)\n",
    "            d = [self._load(fp, i) for i in range(imgs.shape[-1])]\n",
    "            with open(pfp, 'wb') as f:\n",
    "                pickle.dump(d, f)\n",
    "        return (fp, pfp)\n",
    "    \n",
    "    def _load_preprocessed(self, pfp):\n",
    "        with open(pfp, 'rb') as f:\n",
    "            return pickle.load(f)\n",
    "\n",
    "dataset = YouTubeFacesDataset(df, data_dir)\n",
    "len(dataset)"
   ]
  },
  {
   "cell_type": "code",
   "execution_count": 13,
   "id": "8621d451",
   "metadata": {
    "id": "xl07IjbM8sh9",
    "outputId": "896090fd-3e14-4abb-b7f8-9488d94e2d11",
    "papermill": {
     "duration": 0.049366,
     "end_time": "2022-09-22T15:02:34.003155",
     "exception": false,
     "start_time": "2022-09-22T15:02:33.953789",
     "status": "completed"
    },
    "tags": []
   },
   "outputs": [],
   "source": [
    "to_pil_transform = torchvision.transforms.ToPILImage()\n",
    "#to_pil_transform(dataset[0][1])"
   ]
  },
  {
   "cell_type": "code",
   "execution_count": 14,
   "id": "7da9ae90",
   "metadata": {
    "id": "4az7iXvujIux",
    "papermill": {
     "duration": 0.022685,
     "end_time": "2022-09-22T15:02:34.035305",
     "exception": false,
     "start_time": "2022-09-22T15:02:34.012620",
     "status": "completed"
    },
    "tags": []
   },
   "outputs": [],
   "source": [
    "class PoptorchModel(nn.Module):\n",
    "    def __init__(self, model, loss):\n",
    "        super().__init__()\n",
    "        self.model = model\n",
    "        self.loss = loss\n",
    "\n",
    "    def forward(self, xa, xp, xn):\n",
    "        ya = self.model(xa)\n",
    "        yp = self.model(xp)\n",
    "        yn = self.model(xn)\n",
    "        loss_data = self.loss(ya, yp, yn)\n",
    "        return poptorch.identity_loss(loss_data, reduction='none')\n",
    "\n",
    "def train_triplet_gc(model, dataset, num_epochs,\n",
    "                     lr=0.001, batch_size=16, target_loss = 0, lr_reduct_loss_threshold = 0.02,\n",
    "                     gradient_accumulation=1, replication_factor=1):\n",
    "    model.train()\n",
    "    \n",
    "    opts = poptorch.Options()\n",
    "    if hw_emulation:\n",
    "        opts.useIpuModel(True)\n",
    "    opts.enableExecutableCaching(popcache_dir)\n",
    "    opts.connectionType(poptorch.ConnectionType.OnDemand)\n",
    "    opts.useIpuId(ipu_id)\n",
    "    opts.Training.gradientAccumulation(gradient_accumulation)\n",
    "    opts.replicationFactor(replication_factor)\n",
    "    \n",
    "    loss = torch.nn.TripletMarginLoss()\n",
    "    loss_history = []\n",
    "    print(f'lr: {lr}')\n",
    "    optimizer = optim.Adam(model.parameters(), lr=lr)\n",
    "    \n",
    "    poptorch_model = poptorch.trainingModel(PoptorchModel(model, loss), options=opts, optimizer=optimizer)\n",
    "    data_loader = poptorch.DataLoader(opts, dataset, batch_size=batch_size)\n",
    "    \n",
    "    # run a batch to trigger compilation\n",
    "    for xa, xp, xn in data_loader:\n",
    "        poptorch_model(xa, xp, xn)\n",
    "        break\n",
    "\n",
    "    for epoch in range(1, num_epochs+1):\n",
    "        loss_accum = 0\n",
    "        loss_cnt = 0\n",
    "        for xa, xp, xn in tqdm(data_loader, desc=f'train {epoch}/{num_epochs}'):\n",
    "            loss_data = poptorch_model(xa, xp, xn)\n",
    "\n",
    "            loss_accum += float(loss_data.mean())\n",
    "            loss_cnt += 1\n",
    "    \n",
    "        loss_value = loss_accum / loss_cnt\n",
    "        print(f'loss: {loss_value}')\n",
    "\n",
    "        if loss_history and loss_value > loss_history[-1] * (1 - lr_reduct_loss_threshold):\n",
    "            lr *= 0.1\n",
    "            print(f'lr: {lr}')\n",
    "            optimizer = optim.Adam(model.parameters(), lr=lr)\n",
    "            poptorch_model.setOptimizer(optimizer)\n",
    "\n",
    "        loss_history.append(loss_value)\n",
    "        \n",
    "        if loss_value <= target_loss:\n",
    "            print(f'target loss {target_loss} reached')\n",
    "            break\n",
    "\n",
    "    poptorch_model.detachFromDevice()\n",
    "    return loss_history"
   ]
  },
  {
   "cell_type": "code",
   "execution_count": 15,
   "id": "edcf3bdc",
   "metadata": {
    "id": "PQ5MsTvD2Ifs",
    "outputId": "d0fc9abf-e1e4-4051-a659-6cdaae79f8a4",
    "papermill": {
     "duration": 4.759071,
     "end_time": "2022-09-22T15:02:38.832326",
     "exception": false,
     "start_time": "2022-09-22T15:02:34.073255",
     "status": "completed"
    },
    "tags": []
   },
   "outputs": [
    {
     "data": {
      "text/plain": [
       "(Conv2d(1, 64, kernel_size=(7, 7), stride=(2, 2), padding=(3, 3), bias=False),\n",
       " Linear(in_features=2048, out_features=16, bias=True))"
      ]
     },
     "execution_count": 15,
     "metadata": {},
     "output_type": "execute_result"
    }
   ],
   "source": [
    "def create_faceid_model():\n",
    "    model = torchvision.models.resnet50(pretrained=True)\n",
    "    model.fc = nn.Linear(model.fc.in_features, 16)\n",
    "    return model\n",
    "\n",
    "def grayscale_fix_model(model):\n",
    "    w = model.conv1.weight.data.sum(axis=1).reshape(64, 1, 7, 7)\n",
    "    model.conv1 = torch.nn.Conv2d(1, 64, kernel_size=(7, 7), stride=(2, 2), padding=(3, 3), bias=False)\n",
    "    model.conv1.weight.data = w\n",
    "    return model\n",
    "\n",
    "def set_trainable(model):\n",
    "    model.requires_grad_(False)\n",
    "    model.fc.requires_grad_(True)\n",
    "\n",
    "model = create_faceid_model()\n",
    "model = grayscale_fix_model(model)\n",
    "set_trainable(model)\n",
    "#summary(model)\n",
    "model.conv1, model.fc"
   ]
  },
  {
   "cell_type": "code",
   "execution_count": 16,
   "id": "1dcec84c-5abf-48eb-bcd8-5d678a5de5c8",
   "metadata": {},
   "outputs": [
    {
     "name": "stderr",
     "output_type": "stream",
     "text": [
      "Loading data: 100%|██████████| 828/828 [00:00<00:00, 1199.80it/s]\n",
      "Preprocessing: 100%|██████████| 2194/2194 [00:00<00:00, 219531.06it/s]\n",
      "Loading data: 100%|██████████| 2194/2194 [00:44<00:00, 49.75it/s]\n"
     ]
    },
    {
     "data": {
      "text/plain": [
       "828000"
      ]
     },
     "execution_count": 16,
     "metadata": {},
     "output_type": "execute_result"
    }
   ],
   "source": [
    "dataset = YouTubeFacesDataset(df, data_dir, anchor_set_len=10, positive_set_len=10, negative_set_len=10, preprocess=True)\n",
    "len(dataset)"
   ]
  },
  {
   "cell_type": "code",
   "execution_count": 17,
   "id": "c38a129e-f9e9-42f5-9ecc-0618636c04ed",
   "metadata": {},
   "outputs": [
    {
     "data": {
      "image/png": "[encoded data removed]",
      "text/plain": [
       "<PIL.Image.Image image mode=L size=224x224>"
      ]
     },
     "execution_count": 17,
     "metadata": {},
     "output_type": "execute_result"
    }
   ],
   "source": [
    "to_pil_transform(dataset[0][1])"
   ]
  },
  {
   "cell_type": "code",
   "execution_count": 18,
   "id": "615ad764",
   "metadata": {
    "id": "DYnLNynr1pNS",
    "outputId": "8ae787a8-8b99-4cf1-d65c-b626bd476382",
    "papermill": {
     "duration": 6147.754176,
     "end_time": "2022-09-22T16:45:06.596237",
     "exception": false,
     "start_time": "2022-09-22T15:02:38.842061",
     "status": "completed"
    },
    "tags": []
   },
   "outputs": [
    {
     "name": "stdout",
     "output_type": "stream",
     "text": [
      "lr: 0.001\n"
     ]
    },
    {
     "name": "stderr",
     "output_type": "stream",
     "text": [
      "Graph compilation: 100%|██████████| 100/100 [00:04<00:00]\n",
      "train 1/10: 100%|██████████| 3234/3234 [14:55<00:00,  3.61it/s] \n"
     ]
    },
    {
     "name": "stdout",
     "output_type": "stream",
     "text": [
      "loss: 0.4299753881385003\n"
     ]
    },
    {
     "name": "stderr",
     "output_type": "stream",
     "text": [
      "train 2/10: 100%|██████████| 3234/3234 [14:31<00:00,  3.71it/s]\n"
     ]
    },
    {
     "name": "stdout",
     "output_type": "stream",
     "text": [
      "loss: 0.3136008389253255\n"
     ]
    },
    {
     "name": "stderr",
     "output_type": "stream",
     "text": [
      "train 3/10: 100%|██████████| 3234/3234 [14:15<00:00,  3.78it/s]\n"
     ]
    },
    {
     "name": "stdout",
     "output_type": "stream",
     "text": [
      "loss: 0.2859849508701442\n"
     ]
    },
    {
     "name": "stderr",
     "output_type": "stream",
     "text": [
      "train 4/10: 100%|██████████| 3234/3234 [15:09<00:00,  3.56it/s]\n"
     ]
    },
    {
     "name": "stdout",
     "output_type": "stream",
     "text": [
      "loss: 0.2716339848188012\n"
     ]
    },
    {
     "name": "stderr",
     "output_type": "stream",
     "text": [
      "train 5/10: 100%|██████████| 3234/3234 [09:52<00:00,  5.46it/s] \n"
     ]
    },
    {
     "name": "stdout",
     "output_type": "stream",
     "text": [
      "loss: 0.2662211683974472\n",
      "lr: 0.0001\n"
     ]
    },
    {
     "name": "stderr",
     "output_type": "stream",
     "text": [
      "train 6/10: 100%|██████████| 3234/3234 [08:21<00:00,  6.45it/s]\n"
     ]
    },
    {
     "name": "stdout",
     "output_type": "stream",
     "text": [
      "loss: 0.23905641196529456\n"
     ]
    },
    {
     "name": "stderr",
     "output_type": "stream",
     "text": [
      "train 7/10: 100%|██████████| 3234/3234 [07:19<00:00,  7.36it/s]\n"
     ]
    },
    {
     "name": "stdout",
     "output_type": "stream",
     "text": [
      "loss: 0.230866713837554\n"
     ]
    },
    {
     "name": "stderr",
     "output_type": "stream",
     "text": [
      "train 8/10: 100%|██████████| 3234/3234 [07:10<00:00,  7.51it/s]\n"
     ]
    },
    {
     "name": "stdout",
     "output_type": "stream",
     "text": [
      "loss: 0.22618434321937014\n"
     ]
    },
    {
     "name": "stderr",
     "output_type": "stream",
     "text": [
      "train 9/10: 100%|██████████| 3234/3234 [06:39<00:00,  8.09it/s]\n"
     ]
    },
    {
     "name": "stdout",
     "output_type": "stream",
     "text": [
      "loss: 0.2260591560158586\n",
      "lr: 1e-05\n"
     ]
    },
    {
     "name": "stderr",
     "output_type": "stream",
     "text": [
      "train 10/10: 100%|██████████| 3234/3234 [07:11<00:00,  7.49it/s]\n"
     ]
    },
    {
     "name": "stdout",
     "output_type": "stream",
     "text": [
      "loss: 0.22162404277056097\n",
      "lr: 1.0000000000000002e-06\n"
     ]
    },
    {
     "data": {
      "image/png": "[encoded data removed]",
      "text/plain": [
       "<Figure size 432x288 with 1 Axes>"
      ]
     },
     "metadata": {
      "needs_background": "light"
     },
     "output_type": "display_data"
    }
   ],
   "source": [
    "loss_history = train_triplet_gc(model, dataset, 10, batch_size=16, replication_factor=16)\n",
    "plt.plot(loss_history)\n",
    "plt.title('loss');"
   ]
  },
  {
   "cell_type": "code",
   "execution_count": 19,
   "id": "6dc83236",
   "metadata": {
    "id": "PSoePnKbXp58",
    "outputId": "5e742904-b13e-4834-83a1-770707c17f8f",
    "papermill": {
     "duration": 2.112794,
     "end_time": "2022-09-22T16:45:09.679153",
     "exception": false,
     "start_time": "2022-09-22T16:45:07.566359",
     "status": "completed"
    },
    "tags": []
   },
   "outputs": [
    {
     "data": {
      "image/png": "[encoded data removed]",
      "text/plain": [
       "<Figure size 432x288 with 1 Axes>"
      ]
     },
     "metadata": {
      "needs_background": "light"
     },
     "output_type": "display_data"
    }
   ],
   "source": [
    "plt.hist(model.fc.weight.cpu().detach().reshape(-1), bins=100);"
   ]
  },
  {
   "cell_type": "code",
   "execution_count": 22,
   "id": "964b2e1e",
   "metadata": {
    "id": "GaluetAiclVn",
    "papermill": {
     "duration": 0.951564,
     "end_time": "2022-09-22T16:45:13.713349",
     "exception": false,
     "start_time": "2022-09-22T16:45:12.761785",
     "status": "completed"
    },
    "tags": []
   },
   "outputs": [],
   "source": [
    "def cos_similarity(v1, v2):\n",
    "    val = np.inner(v1,v2)/(np.linalg.norm(v1)*np.linalg.norm(v2))\n",
    "    return val.reshape(-1)[0]\n",
    "\n",
    "def euc_similarity(v1, v2):\n",
    "    return np.linalg.norm(v1-v2)"
   ]
  },
  {
   "cell_type": "code",
   "execution_count": 21,
   "id": "cc3b6cf7",
   "metadata": {
    "id": "fFtYrsKntNsX",
    "outputId": "7244266d-d69a-483e-bc4b-4853b3009e7d",
    "papermill": {
     "duration": 1.602186,
     "end_time": "2022-09-22T16:45:16.344910",
     "exception": false,
     "start_time": "2022-09-22T16:45:14.742724",
     "status": "completed"
    },
    "tags": []
   },
   "outputs": [
    {
     "name": "stdout",
     "output_type": "stream",
     "text": [
      "3.2529318 3.8360324 0.6588747 0.65548205 -2.6322155 2.40978\n",
      "4.010789 4.0341034 0.48082933 0.51239353 -2.064775 1.8652254\n",
      "3.1952808 4.3565083 0.69599235 0.1576229 -2.064775 1.5351313\n",
      "2.2649872 2.8628721 0.78827715 0.6600828 -2.0708542 1.5576448\n",
      "2.7618077 3.555385 0.7809363 0.6700994 -1.8769424 1.8467314\n",
      "1.9255853 3.1458266 0.7992458 0.7531776 -1.8767587 2.6318645\n",
      "3.329735 3.002532 0.5317099 0.6657578 -2.237504 1.2351674\n",
      "2.8228884 3.2502825 0.66545457 0.70012873 -1.7029358 1.7500315\n",
      "4.221588 2.7593355 0.50508374 0.69431376 -2.227441 1.9676038\n",
      "2.7421145 3.5227256 0.8036699 0.64784837 -2.1450548 1.8659843\n"
     ]
    }
   ],
   "source": [
    "for i in range(10):\n",
    "    v1 = model(dataset[42][0].reshape(1, 1, 224, 224)).cpu().detach().numpy()\n",
    "    v2 = model(dataset[42][1].reshape(1, 1, 224, 224)).cpu().detach().numpy()\n",
    "    v3 = model(dataset[42][2].reshape(1, 1, 224, 224)).cpu().detach().numpy()\n",
    "    print(euc_similarity(v1, v2), euc_similarity(v1, v3),\n",
    "          cos_similarity(v1, v2), cos_similarity(v1, v3),\n",
    "          np.vstack((v1, v2, v3)).min(), np.vstack((v1, v2, v3)).max())"
   ]
  },
  {
   "cell_type": "code",
   "execution_count": 22,
   "id": "ea24bf46-f0ca-4a79-a843-5ee27f39f509",
   "metadata": {},
   "outputs": [],
   "source": [
    "torch.save(model, f'faceid-model-{loss_history[-1]}.pt')"
   ]
  },
  {
   "cell_type": "code",
   "execution_count": 17,
   "id": "270dce8d-ad96-4b95-8e6e-c6db46fb24bf",
   "metadata": {},
   "outputs": [
    {
     "name": "stderr",
     "output_type": "stream",
     "text": [
      "Loading data: 100%|██████████| 828/828 [00:00<00:00, 1227.78it/s]\n",
      "Preprocessing: 100%|██████████| 2194/2194 [00:00<00:00, 276686.10it/s]\n",
      "Loading data: 100%|██████████| 2194/2194 [00:47<00:00, 46.62it/s]\n"
     ]
    },
    {
     "data": {
      "text/plain": [
       "103500"
      ]
     },
     "execution_count": 17,
     "metadata": {},
     "output_type": "execute_result"
    }
   ],
   "source": [
    "dataset = YouTubeFacesDataset(df, data_dir, anchor_set_len=5, positive_set_len=5, negative_set_len=5, preprocess=True)\n",
    "len(dataset)"
   ]
  },
  {
   "cell_type": "code",
   "execution_count": 18,
   "id": "3dd2d7d6-296e-417d-94df-12730b36e28c",
   "metadata": {},
   "outputs": [
    {
     "data": {
      "image/png": "[encoded data removed]",
      "text/plain": [
       "<PIL.Image.Image image mode=L size=224x224>"
      ]
     },
     "execution_count": 18,
     "metadata": {},
     "output_type": "execute_result"
    }
   ],
   "source": [
    "to_pil_transform(dataset[0][1])"
   ]
  },
  {
   "cell_type": "code",
   "execution_count": 30,
   "id": "eddc8525-29a2-4d42-9ecc-ef1d2460ac8c",
   "metadata": {},
   "outputs": [
    {
     "data": {
      "text/plain": [
       "<All keys matched successfully>"
      ]
     },
     "execution_count": 30,
     "metadata": {},
     "output_type": "execute_result"
    }
   ],
   "source": [
    "# reload - poptorch\n",
    "state = model.state_dict()\n",
    "model = create_faceid_model()\n",
    "model = grayscale_fix_model(model)\n",
    "model.load_state_dict(state)"
   ]
  },
  {
   "cell_type": "code",
   "execution_count": 19,
   "id": "0fb83031",
   "metadata": {
    "id": "FwJflhX1aeym",
    "outputId": "de38b2ce-ec38-4e20-b8af-29de96a53be4",
    "papermill": {
     "duration": 4373.356898,
     "end_time": "2022-09-22T17:58:10.734899",
     "exception": false,
     "start_time": "2022-09-22T16:45:17.378001",
     "status": "completed"
    },
    "tags": []
   },
   "outputs": [
    {
     "name": "stdout",
     "output_type": "stream",
     "text": [
      "lr: 1e-05\n"
     ]
    },
    {
     "name": "stderr",
     "output_type": "stream",
     "text": [
      "Graph compilation: 100%|██████████| 100/100 [00:22<00:00]\n",
      "train 1/10: 100%|██████████| 3234/3234 [13:47<00:00,  3.91it/s]\n"
     ]
    },
    {
     "name": "stdout",
     "output_type": "stream",
     "text": [
      "loss: 0.08018999544462453\n"
     ]
    },
    {
     "name": "stderr",
     "output_type": "stream",
     "text": [
      "train 2/10: 100%|██████████| 3234/3234 [11:53<00:00,  4.53it/s]\n"
     ]
    },
    {
     "name": "stdout",
     "output_type": "stream",
     "text": [
      "loss: 0.047406306099803196\n"
     ]
    },
    {
     "name": "stderr",
     "output_type": "stream",
     "text": [
      "train 3/10: 100%|██████████| 3234/3234 [11:35<00:00,  4.65it/s]\n"
     ]
    },
    {
     "name": "stdout",
     "output_type": "stream",
     "text": [
      "loss: 0.03577251440223972\n"
     ]
    },
    {
     "name": "stderr",
     "output_type": "stream",
     "text": [
      "train 4/10: 100%|██████████| 3234/3234 [10:43<00:00,  5.03it/s]\n"
     ]
    },
    {
     "name": "stdout",
     "output_type": "stream",
     "text": [
      "loss: 0.028265024952926824\n"
     ]
    },
    {
     "name": "stderr",
     "output_type": "stream",
     "text": [
      "train 5/10: 100%|██████████| 3234/3234 [09:08<00:00,  5.89it/s]\n"
     ]
    },
    {
     "name": "stdout",
     "output_type": "stream",
     "text": [
      "loss: 0.023272374629900644\n"
     ]
    },
    {
     "name": "stderr",
     "output_type": "stream",
     "text": [
      "train 6/10: 100%|██████████| 3234/3234 [09:37<00:00,  5.60it/s]\n"
     ]
    },
    {
     "name": "stdout",
     "output_type": "stream",
     "text": [
      "loss: 0.01823440508372119\n"
     ]
    },
    {
     "name": "stderr",
     "output_type": "stream",
     "text": [
      "train 7/10: 100%|██████████| 3234/3234 [08:28<00:00,  6.36it/s]\n"
     ]
    },
    {
     "name": "stdout",
     "output_type": "stream",
     "text": [
      "loss: 0.015715556218068246\n"
     ]
    },
    {
     "name": "stderr",
     "output_type": "stream",
     "text": [
      "train 8/10: 100%|██████████| 3234/3234 [08:37<00:00,  6.25it/s]\n"
     ]
    },
    {
     "name": "stdout",
     "output_type": "stream",
     "text": [
      "loss: 0.01355962976859393\n"
     ]
    },
    {
     "name": "stderr",
     "output_type": "stream",
     "text": [
      "train 9/10: 100%|██████████| 3234/3234 [09:08<00:00,  5.89it/s]\n"
     ]
    },
    {
     "name": "stdout",
     "output_type": "stream",
     "text": [
      "loss: 0.012492425560066562\n"
     ]
    },
    {
     "name": "stderr",
     "output_type": "stream",
     "text": [
      "train 10/10: 100%|██████████| 3234/3234 [09:36<00:00,  5.61it/s]\n"
     ]
    },
    {
     "name": "stdout",
     "output_type": "stream",
     "text": [
      "loss: 0.011796065969605762\n"
     ]
    },
    {
     "data": {
      "image/png": "[encoded data removed]",
      "text/plain": [
       "<Figure size 432x288 with 1 Axes>"
      ]
     },
     "metadata": {
      "needs_background": "light"
     },
     "output_type": "display_data"
    }
   ],
   "source": [
    "model.requires_grad_(True)\n",
    "loss_history = train_triplet_gc(model, dataset, 10, target_loss=0.001, lr=0.00001, batch_size=2, gradient_accumulation=4, replication_factor=4)\n",
    "plt.plot(loss_history)\n",
    "plt.title('loss');"
   ]
  },
  {
   "cell_type": "code",
   "execution_count": 20,
   "id": "cc66525d",
   "metadata": {
    "id": "awzalcn6bpTe",
    "outputId": "3926ea4f-f4d2-4902-d2d6-da44f976a256",
    "papermill": {
     "duration": 2.447524,
     "end_time": "2022-09-22T17:58:14.813972",
     "exception": false,
     "start_time": "2022-09-22T17:58:12.366448",
     "status": "completed"
    },
    "tags": []
   },
   "outputs": [
    {
     "data": {
      "image/png": "[encoded data removed]",
      "text/plain": [
       "<Figure size 432x288 with 1 Axes>"
      ]
     },
     "metadata": {
      "needs_background": "light"
     },
     "output_type": "display_data"
    }
   ],
   "source": [
    "plt.hist(model.fc.weight.cpu().detach().reshape(-1), bins=100);"
   ]
  },
  {
   "cell_type": "code",
   "execution_count": 23,
   "id": "e0a7ad75",
   "metadata": {
    "id": "e90luCJ3kZ9Q",
    "outputId": "1356b994-f4fb-47ec-da11-5fb86ae56262",
    "papermill": {
     "duration": 2.299878,
     "end_time": "2022-09-22T17:58:28.489114",
     "exception": false,
     "start_time": "2022-09-22T17:58:26.189236",
     "status": "completed"
    },
    "tags": []
   },
   "outputs": [
    {
     "name": "stdout",
     "output_type": "stream",
     "text": [
      "3.8423793 15.1687 0.96642125 0.0058312407 -5.897461 5.3650794\n",
      "2.1396565 10.18957 0.9848833 0.62802684 -5.271467 4.3875313\n",
      "4.4784775 16.991941 0.95497733 -0.25939974 -5.897461 5.3650794\n",
      "6.100739 9.303595 0.8799606 0.64180446 -5.275268 5.9477577\n",
      "1.0653862 9.7358055 0.9963846 0.7647239 -5.172458 4.6016254\n",
      "2.7755148 6.231544 0.9783563 0.8423152 -4.976847 3.798988\n",
      "4.072445 22.649738 0.9562999 -0.49936938 -6.848411 5.287854\n",
      "3.8653665 12.518927 0.9619965 0.38000607 -4.972152 4.5578427\n",
      "3.7481296 11.799179 0.9411853 0.28282917 -4.420597 4.8792253\n",
      "2.391952 8.678297 0.98101604 0.7185486 -5.3197045 4.1773663\n"
     ]
    }
   ],
   "source": [
    "for i in range(10):\n",
    "    v1 = model(dataset[42][0].reshape(1, 1, 224, 224)).cpu().detach().numpy()\n",
    "    v2 = model(dataset[42][1].reshape(1, 1, 224, 224)).cpu().detach().numpy()\n",
    "    v3 = model(dataset[42][2].reshape(1, 1, 224, 224)).cpu().detach().numpy()\n",
    "    print(euc_similarity(v1, v2), euc_similarity(v1, v3),\n",
    "          cos_similarity(v1, v2), cos_similarity(v1, v3),\n",
    "          np.vstack((v1, v2, v3)).min(), np.vstack((v1, v2, v3)).max())"
   ]
  },
  {
   "cell_type": "code",
   "execution_count": 24,
   "id": "385ad04a",
   "metadata": {
    "id": "37ox4WYL7-Tb",
    "outputId": "519ac00f-3b1a-4761-f2c7-802805940540",
    "papermill": {
     "duration": 2.889478,
     "end_time": "2022-09-22T17:58:32.874738",
     "exception": false,
     "start_time": "2022-09-22T17:58:29.985260",
     "status": "completed"
    },
    "tags": []
   },
   "outputs": [
    {
     "name": "stdout",
     "output_type": "stream",
     "text": [
      "-rw-r--r-- 1 root root 94473537 Sep 28 04:37 faceid-model-0.011796065969605762.pt\n",
      "-rw-r--r-- 1 root root 94473345 Sep 28 02:34 faceid-model-0.22162404277056097.pt\n"
     ]
    }
   ],
   "source": [
    "torch.save(model, f'faceid-model-{loss_history[-1]}.pt')\n",
    "!ls -l faceid-model-*.pt"
   ]
  }
 ],
 "metadata": {
  "kernelspec": {
   "display_name": "Python 3",
   "language": "python",
   "name": "python3"
  },
  "language_info": {
   "codemirror_mode": {
    "name": "ipython",
    "version": 3
   },
   "file_extension": ".py",
   "mimetype": "text/x-python",
   "name": "python",
   "nbconvert_exporter": "python",
   "pygments_lexer": "ipython3",
   "version": "3.8.10"
  },
  "papermill": {
   "default_parameters": {},
   "duration": 10600.005102,
   "end_time": "2022-09-22T17:58:37.073717",
   "environment_variables": {},
   "exception": null,
   "input_path": "__notebook__.ipynb",
   "output_path": "__notebook__.ipynb",
   "parameters": {},
   "start_time": "2022-09-22T15:01:57.068615",
   "version": "2.3.4"
  }
 },
 "nbformat": 4,
 "nbformat_minor": 5
}
