{
 "cells": [
  {
   "cell_type": "markdown",
   "id": "944c7792",
   "metadata": {
    "papermill": {
     "duration": 0.006943,
     "end_time": "2022-09-22T15:03:12.654625",
     "exception": false,
     "start_time": "2022-09-22T15:03:12.647682",
     "status": "completed"
    },
    "tags": []
   },
   "source": [
    "# Face Identification\n",
    "\n",
    "Output vector: **8** x float32  \n",
    "Dataset size: **50** / 2194  "
   ]
  },
  {
   "cell_type": "code",
   "execution_count": 1,
   "id": "a9b69390",
   "metadata": {
    "execution": {
     "iopub.execute_input": "2022-09-22T15:03:12.669048Z",
     "iopub.status.busy": "2022-09-22T15:03:12.667816Z",
     "iopub.status.idle": "2022-09-22T15:03:13.108452Z",
     "shell.execute_reply": "2022-09-22T15:03:13.106955Z"
    },
    "papermill": {
     "duration": 0.450505,
     "end_time": "2022-09-22T15:03:13.111082",
     "exception": false,
     "start_time": "2022-09-22T15:03:12.660577",
     "status": "completed"
    },
    "tags": []
   },
   "outputs": [
    {
     "name": "stdout",
     "output_type": "stream",
     "text": [
      "/kaggle/input/torchvision-resnet-pretrained/resnet18-f37072fd.pth\n",
      "/kaggle/input/torchvision-resnet-pretrained/resnet152-394f9c45.pth\n",
      "/kaggle/input/torchvision-resnet-pretrained/resnet50-11ad3fa6.pth\n",
      "/kaggle/input/torchvision-resnet-pretrained/resnet152-f82ba261.pth\n",
      "/kaggle/input/torchvision-resnet-pretrained/resnet101-63fe2227.pth\n",
      "/kaggle/input/torchvision-resnet-pretrained/resnet101-cd907fc2.pth\n",
      "/kaggle/input/torchvision-resnet-pretrained/resnet34-b627a593.pth\n",
      "/kaggle/input/torchvision-resnet-pretrained/resnet50-0676ba61.pth\n",
      "/kaggle/input/youtube-faces-with-facial-keypoints/youtube_faces_with_keypoints_full.csv\n",
      "/kaggle/input/youtube-faces-with-facial-keypoints/youtube_faces_with_keypoints_full_1/youtube_faces_with_keypoints_full_1/Benjamin_Netanyahu_1.npz\n",
      "/kaggle/input/youtube-faces-with-facial-keypoints/youtube_faces_with_keypoints_full_1/youtube_faces_with_keypoints_full_1/Clint_Howard_2.npz\n",
      "/kaggle/input/youtube-faces-with-facial-keypoints/youtube_faces_with_keypoints_full_1/youtube_faces_with_keypoints_full_1/Charles_Bronson_5.npz\n",
      "/kaggle/input/youtube-faces-with-facial-keypoints/youtube_faces_with_keypoints_full_1/youtube_faces_with_keypoints_full_1/Carrie-Anne_Moss_5.npz\n",
      "/kaggle/input/youtube-faces-with-facial-keypoints/youtube_faces_with_keypoints_full_1/youtube_faces_with_keypoints_full_1/Abdel_Aziz_Al-Hakim_1.npz\n",
      "/kaggle/input/youtube-faces-with-facial-keypoints/youtube_faces_with_keypoints_full_1/youtube_faces_with_keypoints_full_1/Alastair_Campbell_0.npz\n",
      "/kaggle/input/youtube-faces-with-facial-keypoints/youtube_faces_with_keypoints_full_1/youtube_faces_with_keypoints_full_1/Carlos_Iturgaitz_2.npz\n",
      "/kaggle/input/youtube-faces-with-facial-keypoints/youtube_faces_with_keypoints_full_1/youtube_faces_with_keypoints_full_1/Angela_Bassett_4.npz\n",
      "/kaggle/input/youtube-faces-with-facial-keypoints/youtube_faces_with_keypoints_full_1/youtube_faces_with_keypoints_full_1/Alberto_Ruiz_Gallardon_4.npz\n",
      "/kaggle/input/youtube-faces-with-facial-keypoints/youtube_faces_with_keypoints_full_1/youtube_faces_with_keypoints_full_1/Bill_Frist_0.npz\n",
      "2203\n"
     ]
    }
   ],
   "source": [
    "# This Python 3 environment comes with many helpful analytics libraries installed\n",
    "# It is defined by the kaggle/python Docker image: https://github.com/kaggle/docker-python\n",
    "# For example, here's several helpful packages to load\n",
    "\n",
    "import numpy as np # linear algebra\n",
    "import pandas as pd # data processing, CSV file I/O (e.g. pd.read_csv)\n",
    "\n",
    "# Input data files are available in the read-only \"../input/\" directory\n",
    "# For example, running this (by clicking run or pressing Shift+Enter) will list all files under the input directory\n",
    "\n",
    "import os\n",
    "fcnt = 0\n",
    "for dirname, _, filenames in os.walk('/kaggle/input'):\n",
    "    for filename in filenames:\n",
    "        fcnt += 1\n",
    "        if fcnt < 20:\n",
    "            print(os.path.join(dirname, filename))\n",
    "print(fcnt)\n",
    "\n",
    "# You can write up to 20GB to the current directory (/kaggle/working/) that gets preserved as output when you create a version using \"Save & Run All\" \n",
    "# You can also write temporary files to /kaggle/temp/, but they won't be saved outside of the current session"
   ]
  },
  {
   "cell_type": "code",
   "execution_count": 2,
   "id": "9117ae47",
   "metadata": {
    "execution": {
     "iopub.execute_input": "2022-09-22T15:03:13.126979Z",
     "iopub.status.busy": "2022-09-22T15:03:13.126144Z",
     "iopub.status.idle": "2022-09-22T15:03:14.064559Z",
     "shell.execute_reply": "2022-09-22T15:03:14.063311Z"
    },
    "papermill": {
     "duration": 0.948641,
     "end_time": "2022-09-22T15:03:14.066849",
     "exception": false,
     "start_time": "2022-09-22T15:03:13.118208",
     "status": "completed"
    },
    "tags": []
   },
   "outputs": [
    {
     "name": "stdout",
     "output_type": "stream",
     "text": [
      "Filesystem      1K-blocks       Used Available Use% Mounted on\r\n",
      "overlay        4226434984 4073009752 153408848  97% /\r\n"
     ]
    }
   ],
   "source": [
    "!df /kaggle/"
   ]
  },
  {
   "cell_type": "code",
   "execution_count": 3,
   "id": "a8577496",
   "metadata": {
    "execution": {
     "iopub.execute_input": "2022-09-22T15:03:14.080795Z",
     "iopub.status.busy": "2022-09-22T15:03:14.080466Z",
     "iopub.status.idle": "2022-09-22T15:03:20.286984Z",
     "shell.execute_reply": "2022-09-22T15:03:20.285843Z"
    },
    "papermill": {
     "duration": 6.216217,
     "end_time": "2022-09-22T15:03:20.289558",
     "exception": false,
     "start_time": "2022-09-22T15:03:14.073341",
     "status": "completed"
    },
    "tags": []
   },
   "outputs": [
    {
     "name": "stdout",
     "output_type": "stream",
     "text": [
      "mkdir: created directory '/kaggle/temp'\r\n",
      "   2199    2199   45153\r\n"
     ]
    }
   ],
   "source": [
    "!mkdir -pv /kaggle/temp\n",
    "!rm -Rf /kaggle/temp/*\n",
    "!cp -as /kaggle/input/youtube-faces-with-facial-keypoints /kaggle/temp/\n",
    "!mv /kaggle/temp/youtube-faces-with-facial-keypoints/*/*/*.npz /kaggle/temp/youtube-faces-with-facial-keypoints/\n",
    "!ls /kaggle/temp/youtube-faces-with-facial-keypoints/ | wc"
   ]
  },
  {
   "cell_type": "code",
   "execution_count": 4,
   "id": "93b9266d",
   "metadata": {
    "execution": {
     "iopub.execute_input": "2022-09-22T15:03:20.303382Z",
     "iopub.status.busy": "2022-09-22T15:03:20.303058Z",
     "iopub.status.idle": "2022-09-22T15:03:20.307710Z",
     "shell.execute_reply": "2022-09-22T15:03:20.306730Z"
    },
    "papermill": {
     "duration": 0.01389,
     "end_time": "2022-09-22T15:03:20.309730",
     "exception": false,
     "start_time": "2022-09-22T15:03:20.295840",
     "status": "completed"
    },
    "tags": []
   },
   "outputs": [],
   "source": [
    "data_dir = '/kaggle/temp/youtube-faces-with-facial-keypoints'"
   ]
  },
  {
   "cell_type": "code",
   "execution_count": 5,
   "id": "beb11f77",
   "metadata": {
    "execution": {
     "iopub.execute_input": "2022-09-22T15:03:20.323363Z",
     "iopub.status.busy": "2022-09-22T15:03:20.323103Z",
     "iopub.status.idle": "2022-09-22T15:03:27.239739Z",
     "shell.execute_reply": "2022-09-22T15:03:27.238616Z"
    },
    "papermill": {
     "duration": 6.926501,
     "end_time": "2022-09-22T15:03:27.242286",
     "exception": false,
     "start_time": "2022-09-22T15:03:20.315785",
     "status": "completed"
    },
    "tags": []
   },
   "outputs": [
    {
     "name": "stdout",
     "output_type": "stream",
     "text": [
      "mkdir: created directory '/root/.cache/torch'\r\n",
      "mkdir: created directory '/root/.cache/torch/hub'\r\n",
      "mkdir: created directory '/root/.cache/torch/hub/checkpoints/'\r\n",
      "'/kaggle/input/torchvision-resnet-pretrained/resnet101-63fe2227.pth' -> '/root/.cache/torch/hub/checkpoints/resnet101-63fe2227.pth'\r\n",
      "'/kaggle/input/torchvision-resnet-pretrained/resnet101-cd907fc2.pth' -> '/root/.cache/torch/hub/checkpoints/resnet101-cd907fc2.pth'\r\n",
      "'/kaggle/input/torchvision-resnet-pretrained/resnet152-394f9c45.pth' -> '/root/.cache/torch/hub/checkpoints/resnet152-394f9c45.pth'\r\n",
      "'/kaggle/input/torchvision-resnet-pretrained/resnet152-f82ba261.pth' -> '/root/.cache/torch/hub/checkpoints/resnet152-f82ba261.pth'\r\n",
      "'/kaggle/input/torchvision-resnet-pretrained/resnet18-f37072fd.pth' -> '/root/.cache/torch/hub/checkpoints/resnet18-f37072fd.pth'\r\n",
      "'/kaggle/input/torchvision-resnet-pretrained/resnet34-b627a593.pth' -> '/root/.cache/torch/hub/checkpoints/resnet34-b627a593.pth'\r\n",
      "'/kaggle/input/torchvision-resnet-pretrained/resnet50-0676ba61.pth' -> '/root/.cache/torch/hub/checkpoints/resnet50-0676ba61.pth'\r\n",
      "'/kaggle/input/torchvision-resnet-pretrained/resnet50-11ad3fa6.pth' -> '/root/.cache/torch/hub/checkpoints/resnet50-11ad3fa6.pth'\r\n",
      "renamed '/root/.cache/torch/hub/checkpoints/resnet50-11ad3fa6.pth' -> '/root/.cache/torch/hub/checkpoints/resnet50-0676ba61.pth'\r\n",
      "renamed '/root/.cache/torch/hub/checkpoints/resnet101-cd907fc2.pth' -> '/root/.cache/torch/hub/checkpoints/resnet101-63fe2227.pth'\r\n",
      "renamed '/root/.cache/torch/hub/checkpoints/resnet152-f82ba261.pth' -> '/root/.cache/torch/hub/checkpoints/resnet152-394f9c45.pth'\r\n",
      "total 20\r\n",
      "lrwxrwxrwx 1 root root 66 Sep 20 17:44 resnet101-63fe2227.pth -> /kaggle/input/torchvision-resnet-pretrained/resnet101-cd907fc2.pth\r\n",
      "lrwxrwxrwx 1 root root 66 Sep 20 17:44 resnet152-394f9c45.pth -> /kaggle/input/torchvision-resnet-pretrained/resnet152-f82ba261.pth\r\n",
      "lrwxrwxrwx 1 root root 65 Sep 20 17:44 resnet18-f37072fd.pth -> /kaggle/input/torchvision-resnet-pretrained/resnet18-f37072fd.pth\r\n",
      "lrwxrwxrwx 1 root root 65 Sep 20 17:44 resnet34-b627a593.pth -> /kaggle/input/torchvision-resnet-pretrained/resnet34-b627a593.pth\r\n",
      "lrwxrwxrwx 1 root root 65 Sep 20 17:44 resnet50-0676ba61.pth -> /kaggle/input/torchvision-resnet-pretrained/resnet50-11ad3fa6.pth\r\n"
     ]
    }
   ],
   "source": [
    "# Updating to the recent pretrained data\n",
    "!rm -Rf ~/.cache/torch/hub/checkpoints/\n",
    "!mkdir -pv ~/.cache/torch/hub/checkpoints/\n",
    "!cp -avs /kaggle/input/torchvision-resnet-pretrained/resnet*.pth ~/.cache/torch/hub/checkpoints/\n",
    "!mv -vf ~/.cache/torch/hub/checkpoints/resnet50-11ad3fa6.pth ~/.cache/torch/hub/checkpoints/resnet50-0676ba61.pth\n",
    "!mv -vf ~/.cache/torch/hub/checkpoints/resnet101-cd907fc2.pth ~/.cache/torch/hub/checkpoints/resnet101-63fe2227.pth\n",
    "!mv -vf ~/.cache/torch/hub/checkpoints/resnet152-f82ba261.pth ~/.cache/torch/hub/checkpoints/resnet152-394f9c45.pth\n",
    "!ls -l /root/.cache/torch/hub/checkpoints/"
   ]
  },
  {
   "cell_type": "code",
   "execution_count": 6,
   "id": "f51ba795",
   "metadata": {
    "execution": {
     "iopub.execute_input": "2022-09-22T15:03:27.257423Z",
     "iopub.status.busy": "2022-09-22T15:03:27.256458Z",
     "iopub.status.idle": "2022-09-22T15:03:27.261903Z",
     "shell.execute_reply": "2022-09-22T15:03:27.261046Z"
    },
    "id": "xcDdqMb8jWEY",
    "papermill": {
     "duration": 0.015007,
     "end_time": "2022-09-22T15:03:27.263856",
     "exception": false,
     "start_time": "2022-09-22T15:03:27.248849",
     "status": "completed"
    },
    "tags": []
   },
   "outputs": [],
   "source": [
    "import pandas as pd\n",
    "import numpy as np\n",
    "import matplotlib.pyplot as plt\n",
    "from tqdm import tqdm"
   ]
  },
  {
   "cell_type": "code",
   "execution_count": 7,
   "id": "d1355257",
   "metadata": {
    "execution": {
     "iopub.execute_input": "2022-09-22T15:03:27.278977Z",
     "iopub.status.busy": "2022-09-22T15:03:27.278149Z",
     "iopub.status.idle": "2022-09-22T15:03:27.335859Z",
     "shell.execute_reply": "2022-09-22T15:03:27.334842Z"
    },
    "id": "9Wpb5ohLj5VI",
    "outputId": "ca513529-baef-44a8-9825-ab8ac718af30",
    "papermill": {
     "duration": 0.067914,
     "end_time": "2022-09-22T15:03:27.338027",
     "exception": false,
     "start_time": "2022-09-22T15:03:27.270113",
     "status": "completed"
    },
    "tags": []
   },
   "outputs": [
    {
     "data": {
      "text/html": [
       "<div>\n",
       "<style scoped>\n",
       "    .dataframe tbody tr th:only-of-type {\n",
       "        vertical-align: middle;\n",
       "    }\n",
       "\n",
       "    .dataframe tbody tr th {\n",
       "        vertical-align: top;\n",
       "    }\n",
       "\n",
       "    .dataframe thead th {\n",
       "        text-align: right;\n",
       "    }\n",
       "</style>\n",
       "<table border=\"1\" class=\"dataframe\">\n",
       "  <thead>\n",
       "    <tr style=\"text-align: right;\">\n",
       "      <th></th>\n",
       "      <th>videoID</th>\n",
       "      <th>personName</th>\n",
       "      <th>imageHeight</th>\n",
       "      <th>imageWidth</th>\n",
       "      <th>videoDuration</th>\n",
       "      <th>averageFaceSize</th>\n",
       "      <th>numVideosForPerson</th>\n",
       "    </tr>\n",
       "  </thead>\n",
       "  <tbody>\n",
       "    <tr>\n",
       "      <th>0</th>\n",
       "      <td>Alison_Lohman_0</td>\n",
       "      <td>Alison_Lohman</td>\n",
       "      <td>228.0</td>\n",
       "      <td>213.0</td>\n",
       "      <td>240.0</td>\n",
       "      <td>90.150000</td>\n",
       "      <td>6.0</td>\n",
       "    </tr>\n",
       "    <tr>\n",
       "      <th>1</th>\n",
       "      <td>Alison_Lohman_1</td>\n",
       "      <td>Alison_Lohman</td>\n",
       "      <td>248.0</td>\n",
       "      <td>201.0</td>\n",
       "      <td>79.0</td>\n",
       "      <td>108.417722</td>\n",
       "      <td>6.0</td>\n",
       "    </tr>\n",
       "    <tr>\n",
       "      <th>2</th>\n",
       "      <td>Alison_Lohman_2</td>\n",
       "      <td>Alison_Lohman</td>\n",
       "      <td>335.0</td>\n",
       "      <td>308.0</td>\n",
       "      <td>136.0</td>\n",
       "      <td>122.161765</td>\n",
       "      <td>6.0</td>\n",
       "    </tr>\n",
       "    <tr>\n",
       "      <th>3</th>\n",
       "      <td>Alison_Lohman_3</td>\n",
       "      <td>Alison_Lohman</td>\n",
       "      <td>151.0</td>\n",
       "      <td>110.0</td>\n",
       "      <td>53.0</td>\n",
       "      <td>58.000000</td>\n",
       "      <td>6.0</td>\n",
       "    </tr>\n",
       "    <tr>\n",
       "      <th>4</th>\n",
       "      <td>Alison_Lohman_4</td>\n",
       "      <td>Alison_Lohman</td>\n",
       "      <td>236.0</td>\n",
       "      <td>228.0</td>\n",
       "      <td>147.0</td>\n",
       "      <td>91.680272</td>\n",
       "      <td>6.0</td>\n",
       "    </tr>\n",
       "    <tr>\n",
       "      <th>5</th>\n",
       "      <td>Alison_Lohman_5</td>\n",
       "      <td>Alison_Lohman</td>\n",
       "      <td>227.0</td>\n",
       "      <td>179.0</td>\n",
       "      <td>68.0</td>\n",
       "      <td>105.647059</td>\n",
       "      <td>6.0</td>\n",
       "    </tr>\n",
       "    <tr>\n",
       "      <th>6</th>\n",
       "      <td>Kevin_Spacey_0</td>\n",
       "      <td>Kevin_Spacey</td>\n",
       "      <td>196.0</td>\n",
       "      <td>264.0</td>\n",
       "      <td>91.0</td>\n",
       "      <td>99.912088</td>\n",
       "      <td>6.0</td>\n",
       "    </tr>\n",
       "    <tr>\n",
       "      <th>7</th>\n",
       "      <td>Kevin_Spacey_1</td>\n",
       "      <td>Kevin_Spacey</td>\n",
       "      <td>260.0</td>\n",
       "      <td>217.0</td>\n",
       "      <td>59.0</td>\n",
       "      <td>120.186441</td>\n",
       "      <td>6.0</td>\n",
       "    </tr>\n",
       "    <tr>\n",
       "      <th>8</th>\n",
       "      <td>Kevin_Spacey_2</td>\n",
       "      <td>Kevin_Spacey</td>\n",
       "      <td>186.0</td>\n",
       "      <td>175.0</td>\n",
       "      <td>71.0</td>\n",
       "      <td>86.746479</td>\n",
       "      <td>6.0</td>\n",
       "    </tr>\n",
       "    <tr>\n",
       "      <th>9</th>\n",
       "      <td>Kevin_Spacey_3</td>\n",
       "      <td>Kevin_Spacey</td>\n",
       "      <td>100.0</td>\n",
       "      <td>89.0</td>\n",
       "      <td>99.0</td>\n",
       "      <td>44.636364</td>\n",
       "      <td>6.0</td>\n",
       "    </tr>\n",
       "    <tr>\n",
       "      <th>10</th>\n",
       "      <td>Kevin_Spacey_4</td>\n",
       "      <td>Kevin_Spacey</td>\n",
       "      <td>212.0</td>\n",
       "      <td>207.0</td>\n",
       "      <td>240.0</td>\n",
       "      <td>99.025000</td>\n",
       "      <td>6.0</td>\n",
       "    </tr>\n",
       "    <tr>\n",
       "      <th>11</th>\n",
       "      <td>Kevin_Spacey_5</td>\n",
       "      <td>Kevin_Spacey</td>\n",
       "      <td>242.0</td>\n",
       "      <td>205.0</td>\n",
       "      <td>203.0</td>\n",
       "      <td>116.886700</td>\n",
       "      <td>6.0</td>\n",
       "    </tr>\n",
       "    <tr>\n",
       "      <th>12</th>\n",
       "      <td>Lauren_Hutton_0</td>\n",
       "      <td>Lauren_Hutton</td>\n",
       "      <td>223.0</td>\n",
       "      <td>202.0</td>\n",
       "      <td>127.0</td>\n",
       "      <td>96.086614</td>\n",
       "      <td>6.0</td>\n",
       "    </tr>\n",
       "    <tr>\n",
       "      <th>13</th>\n",
       "      <td>Lauren_Hutton_1</td>\n",
       "      <td>Lauren_Hutton</td>\n",
       "      <td>279.0</td>\n",
       "      <td>213.0</td>\n",
       "      <td>68.0</td>\n",
       "      <td>107.191176</td>\n",
       "      <td>6.0</td>\n",
       "    </tr>\n",
       "    <tr>\n",
       "      <th>14</th>\n",
       "      <td>Lauren_Hutton_2</td>\n",
       "      <td>Lauren_Hutton</td>\n",
       "      <td>320.0</td>\n",
       "      <td>361.0</td>\n",
       "      <td>55.0</td>\n",
       "      <td>193.781818</td>\n",
       "      <td>6.0</td>\n",
       "    </tr>\n",
       "    <tr>\n",
       "      <th>15</th>\n",
       "      <td>Lauren_Hutton_3</td>\n",
       "      <td>Lauren_Hutton</td>\n",
       "      <td>325.0</td>\n",
       "      <td>281.0</td>\n",
       "      <td>240.0</td>\n",
       "      <td>136.158333</td>\n",
       "      <td>6.0</td>\n",
       "    </tr>\n",
       "    <tr>\n",
       "      <th>16</th>\n",
       "      <td>Lauren_Hutton_4</td>\n",
       "      <td>Lauren_Hutton</td>\n",
       "      <td>222.0</td>\n",
       "      <td>208.0</td>\n",
       "      <td>51.0</td>\n",
       "      <td>103.431373</td>\n",
       "      <td>6.0</td>\n",
       "    </tr>\n",
       "    <tr>\n",
       "      <th>17</th>\n",
       "      <td>Lauren_Hutton_5</td>\n",
       "      <td>Lauren_Hutton</td>\n",
       "      <td>165.0</td>\n",
       "      <td>192.0</td>\n",
       "      <td>147.0</td>\n",
       "      <td>56.435374</td>\n",
       "      <td>6.0</td>\n",
       "    </tr>\n",
       "    <tr>\n",
       "      <th>18</th>\n",
       "      <td>Robert_F_Kennedy_Jr_0</td>\n",
       "      <td>Robert_F_Kennedy_Jr</td>\n",
       "      <td>192.0</td>\n",
       "      <td>169.0</td>\n",
       "      <td>240.0</td>\n",
       "      <td>84.812500</td>\n",
       "      <td>6.0</td>\n",
       "    </tr>\n",
       "    <tr>\n",
       "      <th>19</th>\n",
       "      <td>Robert_F_Kennedy_Jr_1</td>\n",
       "      <td>Robert_F_Kennedy_Jr</td>\n",
       "      <td>229.0</td>\n",
       "      <td>232.0</td>\n",
       "      <td>107.0</td>\n",
       "      <td>109.439252</td>\n",
       "      <td>6.0</td>\n",
       "    </tr>\n",
       "    <tr>\n",
       "      <th>20</th>\n",
       "      <td>Robert_F_Kennedy_Jr_2</td>\n",
       "      <td>Robert_F_Kennedy_Jr</td>\n",
       "      <td>259.0</td>\n",
       "      <td>211.0</td>\n",
       "      <td>83.0</td>\n",
       "      <td>110.289157</td>\n",
       "      <td>6.0</td>\n",
       "    </tr>\n",
       "    <tr>\n",
       "      <th>21</th>\n",
       "      <td>Robert_F_Kennedy_Jr_3</td>\n",
       "      <td>Robert_F_Kennedy_Jr</td>\n",
       "      <td>157.0</td>\n",
       "      <td>125.0</td>\n",
       "      <td>47.0</td>\n",
       "      <td>68.000000</td>\n",
       "      <td>6.0</td>\n",
       "    </tr>\n",
       "    <tr>\n",
       "      <th>22</th>\n",
       "      <td>Robert_F_Kennedy_Jr_4</td>\n",
       "      <td>Robert_F_Kennedy_Jr</td>\n",
       "      <td>240.0</td>\n",
       "      <td>211.0</td>\n",
       "      <td>87.0</td>\n",
       "      <td>109.333333</td>\n",
       "      <td>6.0</td>\n",
       "    </tr>\n",
       "    <tr>\n",
       "      <th>23</th>\n",
       "      <td>Robert_F_Kennedy_Jr_5</td>\n",
       "      <td>Robert_F_Kennedy_Jr</td>\n",
       "      <td>163.0</td>\n",
       "      <td>157.0</td>\n",
       "      <td>240.0</td>\n",
       "      <td>74.679167</td>\n",
       "      <td>6.0</td>\n",
       "    </tr>\n",
       "    <tr>\n",
       "      <th>24</th>\n",
       "      <td>Amanda_Beard_0</td>\n",
       "      <td>Amanda_Beard</td>\n",
       "      <td>369.0</td>\n",
       "      <td>325.0</td>\n",
       "      <td>83.0</td>\n",
       "      <td>184.036145</td>\n",
       "      <td>5.0</td>\n",
       "    </tr>\n",
       "    <tr>\n",
       "      <th>25</th>\n",
       "      <td>Amanda_Beard_1</td>\n",
       "      <td>Amanda_Beard</td>\n",
       "      <td>168.0</td>\n",
       "      <td>147.0</td>\n",
       "      <td>123.0</td>\n",
       "      <td>73.341463</td>\n",
       "      <td>5.0</td>\n",
       "    </tr>\n",
       "    <tr>\n",
       "      <th>26</th>\n",
       "      <td>Amanda_Beard_2</td>\n",
       "      <td>Amanda_Beard</td>\n",
       "      <td>180.0</td>\n",
       "      <td>144.0</td>\n",
       "      <td>79.0</td>\n",
       "      <td>83.189873</td>\n",
       "      <td>5.0</td>\n",
       "    </tr>\n",
       "    <tr>\n",
       "      <th>27</th>\n",
       "      <td>Amanda_Beard_3</td>\n",
       "      <td>Amanda_Beard</td>\n",
       "      <td>236.0</td>\n",
       "      <td>218.0</td>\n",
       "      <td>95.0</td>\n",
       "      <td>116.515789</td>\n",
       "      <td>5.0</td>\n",
       "    </tr>\n",
       "    <tr>\n",
       "      <th>28</th>\n",
       "      <td>Amanda_Beard_4</td>\n",
       "      <td>Amanda_Beard</td>\n",
       "      <td>136.0</td>\n",
       "      <td>132.0</td>\n",
       "      <td>115.0</td>\n",
       "      <td>54.947826</td>\n",
       "      <td>5.0</td>\n",
       "    </tr>\n",
       "    <tr>\n",
       "      <th>29</th>\n",
       "      <td>Andrew_Bernard_0</td>\n",
       "      <td>Andrew_Bernard</td>\n",
       "      <td>240.0</td>\n",
       "      <td>234.0</td>\n",
       "      <td>135.0</td>\n",
       "      <td>111.533333</td>\n",
       "      <td>5.0</td>\n",
       "    </tr>\n",
       "    <tr>\n",
       "      <th>30</th>\n",
       "      <td>Andrew_Bernard_1</td>\n",
       "      <td>Andrew_Bernard</td>\n",
       "      <td>303.0</td>\n",
       "      <td>271.0</td>\n",
       "      <td>211.0</td>\n",
       "      <td>133.151659</td>\n",
       "      <td>5.0</td>\n",
       "    </tr>\n",
       "    <tr>\n",
       "      <th>31</th>\n",
       "      <td>Andrew_Bernard_2</td>\n",
       "      <td>Andrew_Bernard</td>\n",
       "      <td>272.0</td>\n",
       "      <td>255.0</td>\n",
       "      <td>63.0</td>\n",
       "      <td>128.968254</td>\n",
       "      <td>5.0</td>\n",
       "    </tr>\n",
       "    <tr>\n",
       "      <th>32</th>\n",
       "      <td>Andrew_Bernard_3</td>\n",
       "      <td>Andrew_Bernard</td>\n",
       "      <td>199.0</td>\n",
       "      <td>217.0</td>\n",
       "      <td>75.0</td>\n",
       "      <td>103.653333</td>\n",
       "      <td>5.0</td>\n",
       "    </tr>\n",
       "    <tr>\n",
       "      <th>33</th>\n",
       "      <td>Andrew_Bernard_4</td>\n",
       "      <td>Andrew_Bernard</td>\n",
       "      <td>210.0</td>\n",
       "      <td>222.0</td>\n",
       "      <td>55.0</td>\n",
       "      <td>99.727273</td>\n",
       "      <td>5.0</td>\n",
       "    </tr>\n",
       "    <tr>\n",
       "      <th>34</th>\n",
       "      <td>Barbara_Brezigar_1</td>\n",
       "      <td>Barbara_Brezigar</td>\n",
       "      <td>231.0</td>\n",
       "      <td>197.0</td>\n",
       "      <td>131.0</td>\n",
       "      <td>102.297710</td>\n",
       "      <td>5.0</td>\n",
       "    </tr>\n",
       "    <tr>\n",
       "      <th>35</th>\n",
       "      <td>Barbara_Brezigar_2</td>\n",
       "      <td>Barbara_Brezigar</td>\n",
       "      <td>208.0</td>\n",
       "      <td>211.0</td>\n",
       "      <td>58.0</td>\n",
       "      <td>104.017241</td>\n",
       "      <td>5.0</td>\n",
       "    </tr>\n",
       "    <tr>\n",
       "      <th>36</th>\n",
       "      <td>Barbara_Brezigar_3</td>\n",
       "      <td>Barbara_Brezigar</td>\n",
       "      <td>242.0</td>\n",
       "      <td>227.0</td>\n",
       "      <td>240.0</td>\n",
       "      <td>116.050000</td>\n",
       "      <td>5.0</td>\n",
       "    </tr>\n",
       "    <tr>\n",
       "      <th>37</th>\n",
       "      <td>Barbara_Brezigar_4</td>\n",
       "      <td>Barbara_Brezigar</td>\n",
       "      <td>251.0</td>\n",
       "      <td>223.0</td>\n",
       "      <td>85.0</td>\n",
       "      <td>114.764706</td>\n",
       "      <td>5.0</td>\n",
       "    </tr>\n",
       "    <tr>\n",
       "      <th>38</th>\n",
       "      <td>Barbara_Brezigar_5</td>\n",
       "      <td>Barbara_Brezigar</td>\n",
       "      <td>219.0</td>\n",
       "      <td>216.0</td>\n",
       "      <td>63.0</td>\n",
       "      <td>97.349206</td>\n",
       "      <td>5.0</td>\n",
       "    </tr>\n",
       "    <tr>\n",
       "      <th>39</th>\n",
       "      <td>Daniel_Kurtzer_0</td>\n",
       "      <td>Daniel_Kurtzer</td>\n",
       "      <td>335.0</td>\n",
       "      <td>271.0</td>\n",
       "      <td>60.0</td>\n",
       "      <td>144.300000</td>\n",
       "      <td>5.0</td>\n",
       "    </tr>\n",
       "    <tr>\n",
       "      <th>40</th>\n",
       "      <td>Daniel_Kurtzer_1</td>\n",
       "      <td>Daniel_Kurtzer</td>\n",
       "      <td>190.0</td>\n",
       "      <td>158.0</td>\n",
       "      <td>177.0</td>\n",
       "      <td>70.163842</td>\n",
       "      <td>5.0</td>\n",
       "    </tr>\n",
       "    <tr>\n",
       "      <th>41</th>\n",
       "      <td>Daniel_Kurtzer_2</td>\n",
       "      <td>Daniel_Kurtzer</td>\n",
       "      <td>220.0</td>\n",
       "      <td>205.0</td>\n",
       "      <td>240.0</td>\n",
       "      <td>100.512500</td>\n",
       "      <td>5.0</td>\n",
       "    </tr>\n",
       "    <tr>\n",
       "      <th>42</th>\n",
       "      <td>Daniel_Kurtzer_3</td>\n",
       "      <td>Daniel_Kurtzer</td>\n",
       "      <td>171.0</td>\n",
       "      <td>152.0</td>\n",
       "      <td>240.0</td>\n",
       "      <td>73.870833</td>\n",
       "      <td>5.0</td>\n",
       "    </tr>\n",
       "    <tr>\n",
       "      <th>43</th>\n",
       "      <td>Daniel_Kurtzer_4</td>\n",
       "      <td>Daniel_Kurtzer</td>\n",
       "      <td>108.0</td>\n",
       "      <td>80.0</td>\n",
       "      <td>95.0</td>\n",
       "      <td>40.431579</td>\n",
       "      <td>5.0</td>\n",
       "    </tr>\n",
       "    <tr>\n",
       "      <th>44</th>\n",
       "      <td>Elizabeth_Berkeley_1</td>\n",
       "      <td>Elizabeth_Berkeley</td>\n",
       "      <td>360.0</td>\n",
       "      <td>372.0</td>\n",
       "      <td>47.0</td>\n",
       "      <td>230.744681</td>\n",
       "      <td>5.0</td>\n",
       "    </tr>\n",
       "    <tr>\n",
       "      <th>45</th>\n",
       "      <td>Elizabeth_Berkeley_2</td>\n",
       "      <td>Elizabeth_Berkeley</td>\n",
       "      <td>186.0</td>\n",
       "      <td>169.0</td>\n",
       "      <td>151.0</td>\n",
       "      <td>86.337748</td>\n",
       "      <td>5.0</td>\n",
       "    </tr>\n",
       "    <tr>\n",
       "      <th>46</th>\n",
       "      <td>Elizabeth_Berkeley_3</td>\n",
       "      <td>Elizabeth_Berkeley</td>\n",
       "      <td>134.0</td>\n",
       "      <td>105.0</td>\n",
       "      <td>60.0</td>\n",
       "      <td>53.616667</td>\n",
       "      <td>5.0</td>\n",
       "    </tr>\n",
       "    <tr>\n",
       "      <th>47</th>\n",
       "      <td>Elizabeth_Berkeley_4</td>\n",
       "      <td>Elizabeth_Berkeley</td>\n",
       "      <td>238.0</td>\n",
       "      <td>218.0</td>\n",
       "      <td>240.0</td>\n",
       "      <td>110.783333</td>\n",
       "      <td>5.0</td>\n",
       "    </tr>\n",
       "    <tr>\n",
       "      <th>48</th>\n",
       "      <td>Elizabeth_Berkeley_5</td>\n",
       "      <td>Elizabeth_Berkeley</td>\n",
       "      <td>209.0</td>\n",
       "      <td>189.0</td>\n",
       "      <td>127.0</td>\n",
       "      <td>88.496063</td>\n",
       "      <td>5.0</td>\n",
       "    </tr>\n",
       "    <tr>\n",
       "      <th>49</th>\n",
       "      <td>Fred_Eckhard_0</td>\n",
       "      <td>Fred_Eckhard</td>\n",
       "      <td>115.0</td>\n",
       "      <td>94.0</td>\n",
       "      <td>111.0</td>\n",
       "      <td>51.738739</td>\n",
       "      <td>5.0</td>\n",
       "    </tr>\n",
       "  </tbody>\n",
       "</table>\n",
       "</div>"
      ],
      "text/plain": [
       "                  videoID           personName  imageHeight  imageWidth  \\\n",
       "0         Alison_Lohman_0        Alison_Lohman        228.0       213.0   \n",
       "1         Alison_Lohman_1        Alison_Lohman        248.0       201.0   \n",
       "2         Alison_Lohman_2        Alison_Lohman        335.0       308.0   \n",
       "3         Alison_Lohman_3        Alison_Lohman        151.0       110.0   \n",
       "4         Alison_Lohman_4        Alison_Lohman        236.0       228.0   \n",
       "5         Alison_Lohman_5        Alison_Lohman        227.0       179.0   \n",
       "6          Kevin_Spacey_0         Kevin_Spacey        196.0       264.0   \n",
       "7          Kevin_Spacey_1         Kevin_Spacey        260.0       217.0   \n",
       "8          Kevin_Spacey_2         Kevin_Spacey        186.0       175.0   \n",
       "9          Kevin_Spacey_3         Kevin_Spacey        100.0        89.0   \n",
       "10         Kevin_Spacey_4         Kevin_Spacey        212.0       207.0   \n",
       "11         Kevin_Spacey_5         Kevin_Spacey        242.0       205.0   \n",
       "12        Lauren_Hutton_0        Lauren_Hutton        223.0       202.0   \n",
       "13        Lauren_Hutton_1        Lauren_Hutton        279.0       213.0   \n",
       "14        Lauren_Hutton_2        Lauren_Hutton        320.0       361.0   \n",
       "15        Lauren_Hutton_3        Lauren_Hutton        325.0       281.0   \n",
       "16        Lauren_Hutton_4        Lauren_Hutton        222.0       208.0   \n",
       "17        Lauren_Hutton_5        Lauren_Hutton        165.0       192.0   \n",
       "18  Robert_F_Kennedy_Jr_0  Robert_F_Kennedy_Jr        192.0       169.0   \n",
       "19  Robert_F_Kennedy_Jr_1  Robert_F_Kennedy_Jr        229.0       232.0   \n",
       "20  Robert_F_Kennedy_Jr_2  Robert_F_Kennedy_Jr        259.0       211.0   \n",
       "21  Robert_F_Kennedy_Jr_3  Robert_F_Kennedy_Jr        157.0       125.0   \n",
       "22  Robert_F_Kennedy_Jr_4  Robert_F_Kennedy_Jr        240.0       211.0   \n",
       "23  Robert_F_Kennedy_Jr_5  Robert_F_Kennedy_Jr        163.0       157.0   \n",
       "24         Amanda_Beard_0         Amanda_Beard        369.0       325.0   \n",
       "25         Amanda_Beard_1         Amanda_Beard        168.0       147.0   \n",
       "26         Amanda_Beard_2         Amanda_Beard        180.0       144.0   \n",
       "27         Amanda_Beard_3         Amanda_Beard        236.0       218.0   \n",
       "28         Amanda_Beard_4         Amanda_Beard        136.0       132.0   \n",
       "29       Andrew_Bernard_0       Andrew_Bernard        240.0       234.0   \n",
       "30       Andrew_Bernard_1       Andrew_Bernard        303.0       271.0   \n",
       "31       Andrew_Bernard_2       Andrew_Bernard        272.0       255.0   \n",
       "32       Andrew_Bernard_3       Andrew_Bernard        199.0       217.0   \n",
       "33       Andrew_Bernard_4       Andrew_Bernard        210.0       222.0   \n",
       "34     Barbara_Brezigar_1     Barbara_Brezigar        231.0       197.0   \n",
       "35     Barbara_Brezigar_2     Barbara_Brezigar        208.0       211.0   \n",
       "36     Barbara_Brezigar_3     Barbara_Brezigar        242.0       227.0   \n",
       "37     Barbara_Brezigar_4     Barbara_Brezigar        251.0       223.0   \n",
       "38     Barbara_Brezigar_5     Barbara_Brezigar        219.0       216.0   \n",
       "39       Daniel_Kurtzer_0       Daniel_Kurtzer        335.0       271.0   \n",
       "40       Daniel_Kurtzer_1       Daniel_Kurtzer        190.0       158.0   \n",
       "41       Daniel_Kurtzer_2       Daniel_Kurtzer        220.0       205.0   \n",
       "42       Daniel_Kurtzer_3       Daniel_Kurtzer        171.0       152.0   \n",
       "43       Daniel_Kurtzer_4       Daniel_Kurtzer        108.0        80.0   \n",
       "44   Elizabeth_Berkeley_1   Elizabeth_Berkeley        360.0       372.0   \n",
       "45   Elizabeth_Berkeley_2   Elizabeth_Berkeley        186.0       169.0   \n",
       "46   Elizabeth_Berkeley_3   Elizabeth_Berkeley        134.0       105.0   \n",
       "47   Elizabeth_Berkeley_4   Elizabeth_Berkeley        238.0       218.0   \n",
       "48   Elizabeth_Berkeley_5   Elizabeth_Berkeley        209.0       189.0   \n",
       "49         Fred_Eckhard_0         Fred_Eckhard        115.0        94.0   \n",
       "\n",
       "    videoDuration  averageFaceSize  numVideosForPerson  \n",
       "0           240.0        90.150000                 6.0  \n",
       "1            79.0       108.417722                 6.0  \n",
       "2           136.0       122.161765                 6.0  \n",
       "3            53.0        58.000000                 6.0  \n",
       "4           147.0        91.680272                 6.0  \n",
       "5            68.0       105.647059                 6.0  \n",
       "6            91.0        99.912088                 6.0  \n",
       "7            59.0       120.186441                 6.0  \n",
       "8            71.0        86.746479                 6.0  \n",
       "9            99.0        44.636364                 6.0  \n",
       "10          240.0        99.025000                 6.0  \n",
       "11          203.0       116.886700                 6.0  \n",
       "12          127.0        96.086614                 6.0  \n",
       "13           68.0       107.191176                 6.0  \n",
       "14           55.0       193.781818                 6.0  \n",
       "15          240.0       136.158333                 6.0  \n",
       "16           51.0       103.431373                 6.0  \n",
       "17          147.0        56.435374                 6.0  \n",
       "18          240.0        84.812500                 6.0  \n",
       "19          107.0       109.439252                 6.0  \n",
       "20           83.0       110.289157                 6.0  \n",
       "21           47.0        68.000000                 6.0  \n",
       "22           87.0       109.333333                 6.0  \n",
       "23          240.0        74.679167                 6.0  \n",
       "24           83.0       184.036145                 5.0  \n",
       "25          123.0        73.341463                 5.0  \n",
       "26           79.0        83.189873                 5.0  \n",
       "27           95.0       116.515789                 5.0  \n",
       "28          115.0        54.947826                 5.0  \n",
       "29          135.0       111.533333                 5.0  \n",
       "30          211.0       133.151659                 5.0  \n",
       "31           63.0       128.968254                 5.0  \n",
       "32           75.0       103.653333                 5.0  \n",
       "33           55.0        99.727273                 5.0  \n",
       "34          131.0       102.297710                 5.0  \n",
       "35           58.0       104.017241                 5.0  \n",
       "36          240.0       116.050000                 5.0  \n",
       "37           85.0       114.764706                 5.0  \n",
       "38           63.0        97.349206                 5.0  \n",
       "39           60.0       144.300000                 5.0  \n",
       "40          177.0        70.163842                 5.0  \n",
       "41          240.0       100.512500                 5.0  \n",
       "42          240.0        73.870833                 5.0  \n",
       "43           95.0        40.431579                 5.0  \n",
       "44           47.0       230.744681                 5.0  \n",
       "45          151.0        86.337748                 5.0  \n",
       "46           60.0        53.616667                 5.0  \n",
       "47          240.0       110.783333                 5.0  \n",
       "48          127.0        88.496063                 5.0  \n",
       "49          111.0        51.738739                 5.0  "
      ]
     },
     "execution_count": 7,
     "metadata": {},
     "output_type": "execute_result"
    }
   ],
   "source": [
    "df = pd.read_csv(f'{data_dir}/youtube_faces_with_keypoints_full.csv')\n",
    "df = df[:50]\n",
    "df"
   ]
  },
  {
   "cell_type": "code",
   "execution_count": 8,
   "id": "a970b10a",
   "metadata": {
    "execution": {
     "iopub.execute_input": "2022-09-22T15:03:27.355181Z",
     "iopub.status.busy": "2022-09-22T15:03:27.353793Z",
     "iopub.status.idle": "2022-09-22T15:03:29.394440Z",
     "shell.execute_reply": "2022-09-22T15:03:29.393524Z"
    },
    "id": "sJguPEzWihnZ",
    "papermill": {
     "duration": 2.050967,
     "end_time": "2022-09-22T15:03:29.396812",
     "exception": false,
     "start_time": "2022-09-22T15:03:27.345845",
     "status": "completed"
    },
    "tags": []
   },
   "outputs": [],
   "source": [
    "import torch\n",
    "import torch.nn as nn\n",
    "import torch.optim as optim\n",
    "import torchvision\n",
    "#from torchinfo import summary"
   ]
  },
  {
   "cell_type": "code",
   "execution_count": 9,
   "id": "7ed01e3a",
   "metadata": {
    "execution": {
     "iopub.execute_input": "2022-09-22T15:03:29.414644Z",
     "iopub.status.busy": "2022-09-22T15:03:29.412994Z",
     "iopub.status.idle": "2022-09-22T15:03:29.483509Z",
     "shell.execute_reply": "2022-09-22T15:03:29.482286Z"
    },
    "id": "dLXqSfVskgi9",
    "outputId": "ade42169-dfd1-4fdc-d231-e5b5a51c6561",
    "papermill": {
     "duration": 0.081815,
     "end_time": "2022-09-22T15:03:29.486272",
     "exception": false,
     "start_time": "2022-09-22T15:03:29.404457",
     "status": "completed"
    },
    "tags": []
   },
   "outputs": [
    {
     "data": {
      "text/plain": [
       "(device(type='cuda', index=0),\n",
       " _CudaDeviceProperties(name='Tesla P100-PCIE-16GB', major=6, minor=0, total_memory=16280MB, multi_processor_count=56))"
      ]
     },
     "execution_count": 9,
     "metadata": {},
     "output_type": "execute_result"
    }
   ],
   "source": [
    "device = torch.device(\"cuda:0\" if torch.cuda.is_available() else \"cpu\")\n",
    "device, torch.cuda.get_device_properties(device) if torch.cuda.is_available() else 'CPU'"
   ]
  },
  {
   "cell_type": "code",
   "execution_count": 10,
   "id": "64d0efc9",
   "metadata": {
    "execution": {
     "iopub.execute_input": "2022-09-22T15:03:29.503125Z",
     "iopub.status.busy": "2022-09-22T15:03:29.501592Z",
     "iopub.status.idle": "2022-09-22T15:03:29.702057Z",
     "shell.execute_reply": "2022-09-22T15:03:29.701155Z"
    },
    "id": "NfaI6TWnkpWw",
    "papermill": {
     "duration": 0.210953,
     "end_time": "2022-09-22T15:03:29.704392",
     "exception": false,
     "start_time": "2022-09-22T15:03:29.493439",
     "status": "completed"
    },
    "tags": []
   },
   "outputs": [],
   "source": [
    "import PIL\n",
    "import cv2\n",
    "\n",
    "class NormalizeTransform:\n",
    "    def __init__(self, ratio=0.333):\n",
    "        self.ratio = ratio\n",
    "\n",
    "        self.jawPoints                    = [ 0,17]\n",
    "        self.rigthEyebrowPoints = [17,22]\n",
    "        self.leftEyebrowPoints    = [22,27]\n",
    "        self.noseRidgePoints        = [27,31]\n",
    "        self.noseBasePoints         = [31,36]\n",
    "        self.rightEyePoints         = [36,42]\n",
    "        self.leftEyePoints            = [42,48]\n",
    "        self.outerMouthPoints     = [48,60]\n",
    "        self.innerMouthPoints     = [60,68]\n",
    "\n",
    "        self.norm_transform = torchvision.transforms.Compose([\n",
    "            torchvision.transforms.Resize((224, 224)),\n",
    "            torchvision.transforms.functional.autocontrast,\n",
    "            torchvision.transforms.functional.to_grayscale,\n",
    "            torchvision.transforms.ToTensor(),\n",
    "        ])\n",
    "\n",
    "    def __call__(self, data, landmarks):\n",
    "        data = self.face_transform(data, landmarks)\n",
    "        img = PIL.Image.fromarray(data)\n",
    "        data = self.norm_transform(img)\n",
    "        return data\n",
    "\n",
    "    def face_transform(self, data, landmarks):\n",
    "        # see FaceId-Normalization.ipynb\n",
    "        pt1 = self.avg(landmarks[self.leftEyePoints[0]:self.leftEyePoints[1]])\n",
    "        pt2 = self.avg(landmarks[self.outerMouthPoints[0]:self.outerMouthPoints[1]])\n",
    "        pt3 = self.avg(landmarks[self.rightEyePoints[0]:self.rightEyePoints[1]])\n",
    "        src_pts = np.float32([pt1, pt2, pt3])\n",
    "        dst_pts = np.float32([\n",
    "            [data.shape[0]*self.ratio, data.shape[1]*self.ratio],\n",
    "            [data.shape[0]/2, data.shape[1]*(1-self.ratio)],\n",
    "            [data.shape[0]*(1-self.ratio), data.shape[1]*self.ratio]\n",
    "        ])\n",
    "        M = cv2.getAffineTransform(src_pts, dst_pts)\n",
    "        data = cv2.warpAffine(data, M, data.shape[:2])\n",
    "        return data\n",
    "    \n",
    "    def avg(self, pts):\n",
    "        x = sum(x for x,y in pts) / len(pts)\n",
    "        y = sum(y for x,y in pts) / len(pts)\n",
    "        return x, y"
   ]
  },
  {
   "cell_type": "code",
   "execution_count": 11,
   "id": "6952b1a4",
   "metadata": {
    "execution": {
     "iopub.execute_input": "2022-09-22T15:03:29.721300Z",
     "iopub.status.busy": "2022-09-22T15:03:29.720655Z",
     "iopub.status.idle": "2022-09-22T15:03:40.103130Z",
     "shell.execute_reply": "2022-09-22T15:03:40.102067Z"
    },
    "id": "K6M-NqdtlvAN",
    "outputId": "7dba579b-5797-41d8-fdfb-4bbe6b901641",
    "papermill": {
     "duration": 10.393021,
     "end_time": "2022-09-22T15:03:40.105121",
     "exception": false,
     "start_time": "2022-09-22T15:03:29.712100",
     "status": "completed"
    },
    "tags": []
   },
   "outputs": [
    {
     "name": "stderr",
     "output_type": "stream",
     "text": [
      "Loading data: 100%|██████████| 10/10 [00:10<00:00,  1.03s/it]\n"
     ]
    },
    {
     "data": {
      "text/plain": [
       "(55233, 3, 3, 3)"
      ]
     },
     "execution_count": 11,
     "metadata": {},
     "output_type": "execute_result"
    }
   ],
   "source": [
    "import bisect\n",
    "import random\n",
    "\n",
    "class YouTubeFacesDataset(torch.utils.data.Dataset):\n",
    "    def __init__(self, df, folder='.', transform=NormalizeTransform(), cache_lim=200, preload=False):\n",
    "        self.transform = transform\n",
    "        self.cache = {}\n",
    "        self.cache_lim = 0 if preload else cache_lim\n",
    "        self.data = {}\n",
    "        for p in tqdm(df['personName'].unique(), desc='Loading data'):\n",
    "            self.data[p] = []\n",
    "            for fn, cnt in df[df['personName'] == p][['videoID', 'videoDuration']].values:\n",
    "                fp = f'{folder}/{fn}.npz'\n",
    "                cnt = int(cnt)\n",
    "                self.data[p] += [(fp, i) for i in range(cnt)]\n",
    "                if preload:\n",
    "                    self.cache_lim += 1\n",
    "                    self._cache_get(fp)\n",
    "        self.persons = list(self.data.keys())\n",
    "        self.neg_data = {}\n",
    "        for p in self.persons:\n",
    "            self.neg_data[p] = []\n",
    "            for p_neg in self.persons:\n",
    "                if p_neg == p:\n",
    "                    continue\n",
    "                self.neg_data[p] += self.data[p_neg]\n",
    "        self.pers_item_counter = []\n",
    "        for p in self.persons:\n",
    "            # random positive set\n",
    "            positive_set_len = 1\n",
    "            self.pers_item_counter += [positive_set_len * len(self.neg_data[p])]\n",
    "            if len(self.pers_item_counter) > 1:\n",
    "                self.pers_item_counter[-1] += self.pers_item_counter[-2]\n",
    "    \n",
    "    def __len__(self):\n",
    "        # random positive set\n",
    "        return sum(len(x) for x in self.neg_data.values())\n",
    "    \n",
    "    def __getitem__(self, index):\n",
    "        p_i = bisect.bisect_left(self.pers_item_counter, index + 1)\n",
    "        assert p_i >= 0\n",
    "        assert p_i < len(self.persons)\n",
    "        p = self.persons[p_i]\n",
    "        anchor_i = (self.pers_item_counter[p_i] - index) % len(self.data[p])\n",
    "        assert anchor_i >= 0\n",
    "        assert anchor_i < len(self.data[p])\n",
    "        positive_i = random.randint(0, len(self.data[p]) - 1)\n",
    "        while positive_i == anchor_i:\n",
    "            positive_i = random.randint(0, len(self.data[p]) - 1)\n",
    "        assert positive_i >= 0\n",
    "        assert positive_i < len(self.data[p])\n",
    "        # the order does not matter\n",
    "        negative_i = self.pers_item_counter[p_i] - index - 1\n",
    "        assert negative_i >= 0, (p_i, index, self.persons[p_i], self.pers_item_counter[p_i])\n",
    "        assert negative_i < len(self.neg_data[p])\n",
    "        return self._load(*self.data[p][anchor_i]), self._load(*self.data[p][positive_i]), self._load(*self.neg_data[p][negative_i])\n",
    "    \n",
    "    def _load(self, fp, i):\n",
    "        imgs, lms = self._cache_get(fp)\n",
    "        assert i < imgs.shape[-1], (fp, i, imgs.shape[-1])\n",
    "        data = imgs[:,:,:,i]\n",
    "        assert i < lms.shape[-1], (fp, i, lms.shape[-1])\n",
    "        lms = lms[:,:,i]\n",
    "        if self.transform:\n",
    "            data = self.transform(data, lms)\n",
    "        return data\n",
    "    \n",
    "    def _cache_get(self, fp):\n",
    "        if fp in self.cache:\n",
    "            return self.cache[fp]\n",
    "        if len(self.cache) > self.cache_lim:\n",
    "            idx = random.randint(0, len(self.cache) - 1)\n",
    "            key = list(self.cache.keys())[idx]\n",
    "            del self.cache[key]\n",
    "        d = np.load(fp)\n",
    "        # trigger lazy loading\n",
    "        self.cache[fp] = (d['colorImages'], d['landmarks2D'])\n",
    "        return self.cache[fp]\n",
    "\n",
    "dataset = YouTubeFacesDataset(df, data_dir, preload=True)\n",
    "len(dataset), len(dataset[42]), len(dataset[0]), len(dataset[len(dataset)-1])"
   ]
  },
  {
   "cell_type": "code",
   "execution_count": 12,
   "id": "c9ac8007",
   "metadata": {
    "execution": {
     "iopub.execute_input": "2022-09-22T15:03:40.123816Z",
     "iopub.status.busy": "2022-09-22T15:03:40.123293Z",
     "iopub.status.idle": "2022-09-22T15:03:40.157988Z",
     "shell.execute_reply": "2022-09-22T15:03:40.156449Z"
    },
    "id": "xl07IjbM8sh9",
    "outputId": "896090fd-3e14-4abb-b7f8-9488d94e2d11",
    "papermill": {
     "duration": 0.046028,
     "end_time": "2022-09-22T15:03:40.159957",
     "exception": false,
     "start_time": "2022-09-22T15:03:40.113929",
     "status": "completed"
    },
    "tags": []
   },
   "outputs": [
    {
     "data": {
      "image/png": "[encoded data removed]",
      "text/plain": [
       "<PIL.Image.Image image mode=L size=224x224>"
      ]
     },
     "execution_count": 12,
     "metadata": {},
     "output_type": "execute_result"
    }
   ],
   "source": [
    "to_pil_transform = torchvision.transforms.ToPILImage()\n",
    "to_pil_transform(dataset[42][1])"
   ]
  },
  {
   "cell_type": "code",
   "execution_count": 13,
   "id": "4d7860a8",
   "metadata": {
    "execution": {
     "iopub.execute_input": "2022-09-22T15:03:40.179223Z",
     "iopub.status.busy": "2022-09-22T15:03:40.177653Z",
     "iopub.status.idle": "2022-09-22T15:03:40.186673Z",
     "shell.execute_reply": "2022-09-22T15:03:40.185758Z"
    },
    "id": "4az7iXvujIux",
    "papermill": {
     "duration": 0.020574,
     "end_time": "2022-09-22T15:03:40.188677",
     "exception": false,
     "start_time": "2022-09-22T15:03:40.168103",
     "status": "completed"
    },
    "tags": []
   },
   "outputs": [],
   "source": [
    "def train_triplet(model, data_loader, num_epochs, lr=0.001):\n",
    "    model.train()\n",
    "    loss = torch.nn.TripletMarginLoss()\n",
    "    loss_history = []\n",
    "    print(f'lr: {lr}')\n",
    "    optimizer = optim.Adam(model.parameters(), lr=lr)\n",
    "    for epoch in range(1, num_epochs+1):\n",
    "        loss_accum = 0\n",
    "        loss_cnt = 0\n",
    "        for xa, xp, xn in tqdm(data_loader, desc=f'train {epoch}/{num_epochs}'):\n",
    "            ya = model(xa.to(device))\n",
    "            yp = model(xp.to(device))\n",
    "            yn = model(xn.to(device))\n",
    "            loss_data = loss(ya, yp, yn)\n",
    "            \n",
    "            optimizer.zero_grad()\n",
    "            loss_data.backward()\n",
    "            optimizer.step()\n",
    "            \n",
    "            loss_accum += float(loss_data)\n",
    "            loss_cnt += 1\n",
    "\n",
    "        loss_value = loss_accum / loss_cnt\n",
    "        loss_history.append(loss_value)\n",
    "        print(f'loss: {loss_value}')\n",
    "\n",
    "        if loss_value > loss_history[-1]:\n",
    "            lr *= 0.1\n",
    "            print(f'lr: {lr}')\n",
    "            optimizer = optim.Adam(model.parameters(), lr=lr)\n",
    "\n",
    "    return loss_history"
   ]
  },
  {
   "cell_type": "code",
   "execution_count": 14,
   "id": "25f41497",
   "metadata": {
    "execution": {
     "iopub.execute_input": "2022-09-22T15:03:40.206221Z",
     "iopub.status.busy": "2022-09-22T15:03:40.205950Z",
     "iopub.status.idle": "2022-09-22T15:03:40.212611Z",
     "shell.execute_reply": "2022-09-22T15:03:40.211718Z"
    },
    "id": "4ZbEaT2d048T",
    "outputId": "a6cfec9b-dd52-4c9e-b7da-d4b8f17df73a",
    "papermill": {
     "duration": 0.017433,
     "end_time": "2022-09-22T15:03:40.214556",
     "exception": false,
     "start_time": "2022-09-22T15:03:40.197123",
     "status": "completed"
    },
    "tags": []
   },
   "outputs": [
    {
     "data": {
      "text/plain": [
       "2"
      ]
     },
     "execution_count": 14,
     "metadata": {},
     "output_type": "execute_result"
    }
   ],
   "source": [
    "import psutil\n",
    "data_loader = torch.utils.data.DataLoader(dataset, batch_size=32, num_workers=psutil.cpu_count())\n",
    "psutil.cpu_count()"
   ]
  },
  {
   "cell_type": "code",
   "execution_count": 15,
   "id": "8eab37b9",
   "metadata": {
    "execution": {
     "iopub.execute_input": "2022-09-22T15:03:40.232381Z",
     "iopub.status.busy": "2022-09-22T15:03:40.232123Z",
     "iopub.status.idle": "2022-09-22T15:03:44.645383Z",
     "shell.execute_reply": "2022-09-22T15:03:44.644343Z"
    },
    "id": "PQ5MsTvD2Ifs",
    "outputId": "d0fc9abf-e1e4-4051-a659-6cdaae79f8a4",
    "papermill": {
     "duration": 4.424773,
     "end_time": "2022-09-22T15:03:44.647537",
     "exception": false,
     "start_time": "2022-09-22T15:03:40.222764",
     "status": "completed"
    },
    "tags": []
   },
   "outputs": [
    {
     "data": {
      "text/plain": [
       "(Conv2d(1, 64, kernel_size=(7, 7), stride=(2, 2), padding=(3, 3), bias=False),\n",
       " Linear(in_features=2048, out_features=8, bias=True))"
      ]
     },
     "execution_count": 15,
     "metadata": {},
     "output_type": "execute_result"
    }
   ],
   "source": [
    "def create_faceid_model():\n",
    "    model = torchvision.models.resnet50(pretrained=True)\n",
    "    model.fc = nn.Linear(model.fc.in_features, 8)\n",
    "    return model\n",
    "\n",
    "def grayscale_fix_model(model):\n",
    "    w = model.conv1.weight.data.sum(axis=1).reshape(64, 1, 7, 7)\n",
    "    model.conv1 = torch.nn.Conv2d(1, 64, kernel_size=(7, 7), stride=(2, 2), padding=(3, 3), bias=False)\n",
    "    model.conv1.weight.data = w\n",
    "    return model\n",
    "\n",
    "def set_trainable(model):\n",
    "    model.requires_grad_(False)\n",
    "    model.fc.requires_grad_(True)\n",
    "\n",
    "def bind_model2device(model):\n",
    "    model.to(device)\n",
    "\n",
    "model = create_faceid_model()\n",
    "model = grayscale_fix_model(model)\n",
    "set_trainable(model)\n",
    "bind_model2device(model)\n",
    "#summary(model)\n",
    "model.conv1, model.fc"
   ]
  },
  {
   "cell_type": "code",
   "execution_count": 16,
   "id": "eae88553",
   "metadata": {
    "execution": {
     "iopub.execute_input": "2022-09-22T15:03:44.665848Z",
     "iopub.status.busy": "2022-09-22T15:03:44.665557Z",
     "iopub.status.idle": "2022-09-22T16:40:11.673725Z",
     "shell.execute_reply": "2022-09-22T16:40:11.672751Z"
    },
    "id": "DYnLNynr1pNS",
    "outputId": "8ae787a8-8b99-4cf1-d65c-b626bd476382",
    "papermill": {
     "duration": 5787.020098,
     "end_time": "2022-09-22T16:40:11.676245",
     "exception": false,
     "start_time": "2022-09-22T15:03:44.656147",
     "status": "completed"
    },
    "tags": []
   },
   "outputs": [
    {
     "name": "stdout",
     "output_type": "stream",
     "text": [
      "lr: 0.001\n"
     ]
    },
    {
     "name": "stderr",
     "output_type": "stream",
     "text": [
      "train 1/10: 100%|██████████| 1727/1727 [09:33<00:00,  3.01it/s]\n"
     ]
    },
    {
     "name": "stdout",
     "output_type": "stream",
     "text": [
      "loss: 0.564625756091373\n"
     ]
    },
    {
     "name": "stderr",
     "output_type": "stream",
     "text": [
      "train 2/10: 100%|██████████| 1727/1727 [09:25<00:00,  3.05it/s]\n"
     ]
    },
    {
     "name": "stdout",
     "output_type": "stream",
     "text": [
      "loss: 0.2946033287355509\n"
     ]
    },
    {
     "name": "stderr",
     "output_type": "stream",
     "text": [
      "train 3/10: 100%|██████████| 1727/1727 [09:40<00:00,  2.98it/s]\n"
     ]
    },
    {
     "name": "stdout",
     "output_type": "stream",
     "text": [
      "loss: 0.21086071223693564\n"
     ]
    },
    {
     "name": "stderr",
     "output_type": "stream",
     "text": [
      "train 4/10: 100%|██████████| 1727/1727 [09:30<00:00,  3.02it/s]\n"
     ]
    },
    {
     "name": "stdout",
     "output_type": "stream",
     "text": [
      "loss: 0.16844984619178796\n"
     ]
    },
    {
     "name": "stderr",
     "output_type": "stream",
     "text": [
      "train 5/10: 100%|██████████| 1727/1727 [09:36<00:00,  2.99it/s]\n"
     ]
    },
    {
     "name": "stdout",
     "output_type": "stream",
     "text": [
      "loss: 0.14084799901151424\n"
     ]
    },
    {
     "name": "stderr",
     "output_type": "stream",
     "text": [
      "train 6/10: 100%|██████████| 1727/1727 [09:38<00:00,  2.99it/s]\n"
     ]
    },
    {
     "name": "stdout",
     "output_type": "stream",
     "text": [
      "loss: 0.12231032014514369\n"
     ]
    },
    {
     "name": "stderr",
     "output_type": "stream",
     "text": [
      "train 7/10: 100%|██████████| 1727/1727 [09:45<00:00,  2.95it/s]\n"
     ]
    },
    {
     "name": "stdout",
     "output_type": "stream",
     "text": [
      "loss: 0.11111729623146946\n"
     ]
    },
    {
     "name": "stderr",
     "output_type": "stream",
     "text": [
      "train 8/10: 100%|██████████| 1727/1727 [09:48<00:00,  2.93it/s]\n"
     ]
    },
    {
     "name": "stdout",
     "output_type": "stream",
     "text": [
      "loss: 0.10311045514912569\n"
     ]
    },
    {
     "name": "stderr",
     "output_type": "stream",
     "text": [
      "train 9/10: 100%|██████████| 1727/1727 [09:43<00:00,  2.96it/s]\n"
     ]
    },
    {
     "name": "stdout",
     "output_type": "stream",
     "text": [
      "loss: 0.09743136870305388\n"
     ]
    },
    {
     "name": "stderr",
     "output_type": "stream",
     "text": [
      "train 10/10: 100%|██████████| 1727/1727 [09:43<00:00,  2.96it/s]\n"
     ]
    },
    {
     "name": "stdout",
     "output_type": "stream",
     "text": [
      "loss: 0.09073147336457876\n"
     ]
    },
    {
     "data": {
      "image/png": "[encoded data removed]",
      "text/plain": [
       "<Figure size 432x288 with 1 Axes>"
      ]
     },
     "metadata": {
      "needs_background": "light"
     },
     "output_type": "display_data"
    }
   ],
   "source": [
    "loss_history = train_triplet(model, data_loader, 10)\n",
    "plt.plot(loss_history)\n",
    "plt.title('loss');"
   ]
  },
  {
   "cell_type": "code",
   "execution_count": 17,
   "id": "3d8b08b4",
   "metadata": {
    "execution": {
     "iopub.execute_input": "2022-09-22T16:40:13.493578Z",
     "iopub.status.busy": "2022-09-22T16:40:13.493181Z",
     "iopub.status.idle": "2022-09-22T16:40:14.086070Z",
     "shell.execute_reply": "2022-09-22T16:40:14.085119Z"
    },
    "id": "PSoePnKbXp58",
    "outputId": "5e742904-b13e-4834-83a1-770707c17f8f",
    "papermill": {
     "duration": 1.470541,
     "end_time": "2022-09-22T16:40:14.088385",
     "exception": false,
     "start_time": "2022-09-22T16:40:12.617844",
     "status": "completed"
    },
    "tags": []
   },
   "outputs": [
    {
     "data": {
      "image/png": "[encoded data removed]",
      "text/plain": [
       "<Figure size 432x288 with 1 Axes>"
      ]
     },
     "metadata": {
      "needs_background": "light"
     },
     "output_type": "display_data"
    }
   ],
   "source": [
    "plt.hist(model.fc.weight.cpu().detach().reshape(-1), bins=100);"
   ]
  },
  {
   "cell_type": "code",
   "execution_count": 18,
   "id": "71cc6c00",
   "metadata": {
    "execution": {
     "iopub.execute_input": "2022-09-22T16:40:16.160599Z",
     "iopub.status.busy": "2022-09-22T16:40:16.160220Z",
     "iopub.status.idle": "2022-09-22T16:40:16.207471Z",
     "shell.execute_reply": "2022-09-22T16:40:16.206352Z"
    },
    "id": "DmNlocWSW2Fa",
    "outputId": "438e2c13-ebd1-4219-afcf-5a9ef6529bd4",
    "papermill": {
     "duration": 0.919563,
     "end_time": "2022-09-22T16:40:16.209923",
     "exception": false,
     "start_time": "2022-09-22T16:40:15.290360",
     "status": "completed"
    },
    "tags": []
   },
   "outputs": [
    {
     "data": {
      "text/plain": [
       "tensor([[-1.8240, -0.5722, -0.2787, -0.9344, -1.4925, -0.7758, -0.0232, -0.5817]],\n",
       "       device='cuda:0', grad_fn=<AddmmBackward0>)"
      ]
     },
     "execution_count": 18,
     "metadata": {},
     "output_type": "execute_result"
    }
   ],
   "source": [
    "model(dataset[42][0].reshape(1, 1, 224, 224).to(device))"
   ]
  },
  {
   "cell_type": "code",
   "execution_count": 19,
   "id": "efcd275f",
   "metadata": {
    "execution": {
     "iopub.execute_input": "2022-09-22T16:40:18.094020Z",
     "iopub.status.busy": "2022-09-22T16:40:18.093605Z",
     "iopub.status.idle": "2022-09-22T16:40:18.101180Z",
     "shell.execute_reply": "2022-09-22T16:40:18.100211Z"
    },
    "id": "GaluetAiclVn",
    "papermill": {
     "duration": 0.95273,
     "end_time": "2022-09-22T16:40:18.103444",
     "exception": false,
     "start_time": "2022-09-22T16:40:17.150714",
     "status": "completed"
    },
    "tags": []
   },
   "outputs": [],
   "source": [
    "def cos_similarity(v1, v2):\n",
    "    val = np.inner(v1,v2)/(np.linalg.norm(v1)*np.linalg.norm(v2))\n",
    "    return val.reshape(-1)[0]\n",
    "\n",
    "def euc_similarity(v1, v2):\n",
    "    return np.linalg.norm(v1-v2)"
   ]
  },
  {
   "cell_type": "code",
   "execution_count": 20,
   "id": "a5e078a3",
   "metadata": {
    "execution": {
     "iopub.execute_input": "2022-09-22T16:40:19.922790Z",
     "iopub.status.busy": "2022-09-22T16:40:19.922426Z",
     "iopub.status.idle": "2022-09-22T16:40:20.473936Z",
     "shell.execute_reply": "2022-09-22T16:40:20.472382Z"
    },
    "id": "fFtYrsKntNsX",
    "outputId": "7244266d-d69a-483e-bc4b-4853b3009e7d",
    "papermill": {
     "duration": 1.489422,
     "end_time": "2022-09-22T16:40:20.476106",
     "exception": false,
     "start_time": "2022-09-22T16:40:18.986684",
     "status": "completed"
    },
    "tags": []
   },
   "outputs": [
    {
     "name": "stdout",
     "output_type": "stream",
     "text": [
      "2.8923573 5.8876915 0.5478932 0.37373722 -3.710769 2.8235137\n",
      "2.9899871 5.8876915 0.51053786 0.37373722 -3.710769 2.8235137\n",
      "1.921886 5.8876915 0.74508744 0.37373722 -3.710769 2.8235137\n",
      "1.3920078 5.8876915 0.90410286 0.37373722 -3.710769 2.8235137\n",
      "3.3205085 5.8876915 0.57907355 0.37373722 -3.710769 2.8235137\n",
      "2.5256448 5.8876915 0.8084993 0.37373722 -3.710769 2.8235137\n",
      "3.086289 5.8876915 0.5831784 0.37373722 -3.710769 2.8235137\n",
      "1.568643 5.8876915 0.83479697 0.37373722 -3.710769 2.8235137\n",
      "2.5045083 5.8876915 0.7752572 0.37373722 -3.710769 2.8235137\n",
      "2.7742145 5.8876915 0.59254074 0.37373722 -3.710769 2.8235137\n"
     ]
    }
   ],
   "source": [
    "for i in range(10):\n",
    "    v1 = model(dataset[42][0].reshape(1, 1, 224, 224).to(device)).cpu().detach().numpy()\n",
    "    v2 = model(dataset[42][1].reshape(1, 1, 224, 224).to(device)).cpu().detach().numpy()\n",
    "    v3 = model(dataset[42][2].reshape(1, 1, 224, 224).to(device)).cpu().detach().numpy()\n",
    "    print(euc_similarity(v1, v2), euc_similarity(v1, v3),\n",
    "          cos_similarity(v1, v2), cos_similarity(v1, v3),\n",
    "          np.vstack((v1, v2, v3)).min(), np.vstack((v1, v2, v3)).max())"
   ]
  },
  {
   "cell_type": "code",
   "execution_count": 21,
   "id": "3c7e615b",
   "metadata": {
    "execution": {
     "iopub.execute_input": "2022-09-22T16:40:22.290937Z",
     "iopub.status.busy": "2022-09-22T16:40:22.290231Z",
     "iopub.status.idle": "2022-09-22T17:50:19.338340Z",
     "shell.execute_reply": "2022-09-22T17:50:19.337266Z"
    },
    "id": "FwJflhX1aeym",
    "outputId": "de38b2ce-ec38-4e20-b8af-29de96a53be4",
    "papermill": {
     "duration": 4197.990796,
     "end_time": "2022-09-22T17:50:19.340702",
     "exception": false,
     "start_time": "2022-09-22T16:40:21.349906",
     "status": "completed"
    },
    "tags": []
   },
   "outputs": [
    {
     "name": "stdout",
     "output_type": "stream",
     "text": [
      "lr: 1e-05\n"
     ]
    },
    {
     "name": "stderr",
     "output_type": "stream",
     "text": [
      "train 1/5: 100%|██████████| 1727/1727 [14:00<00:00,  2.06it/s]\n"
     ]
    },
    {
     "name": "stdout",
     "output_type": "stream",
     "text": [
      "loss: 0.03372285902914313\n"
     ]
    },
    {
     "name": "stderr",
     "output_type": "stream",
     "text": [
      "train 2/5: 100%|██████████| 1727/1727 [14:00<00:00,  2.06it/s]\n"
     ]
    },
    {
     "name": "stdout",
     "output_type": "stream",
     "text": [
      "loss: 0.0038536190080656505\n"
     ]
    },
    {
     "name": "stderr",
     "output_type": "stream",
     "text": [
      "train 3/5: 100%|██████████| 1727/1727 [13:59<00:00,  2.06it/s]\n"
     ]
    },
    {
     "name": "stdout",
     "output_type": "stream",
     "text": [
      "loss: 0.0016732796612473396\n"
     ]
    },
    {
     "name": "stderr",
     "output_type": "stream",
     "text": [
      "train 4/5: 100%|██████████| 1727/1727 [13:58<00:00,  2.06it/s]\n"
     ]
    },
    {
     "name": "stdout",
     "output_type": "stream",
     "text": [
      "loss: 0.0018493753200538184\n"
     ]
    },
    {
     "name": "stderr",
     "output_type": "stream",
     "text": [
      "train 5/5: 100%|██████████| 1727/1727 [13:58<00:00,  2.06it/s]\n"
     ]
    },
    {
     "name": "stdout",
     "output_type": "stream",
     "text": [
      "loss: 0.0011369838715289877\n"
     ]
    },
    {
     "data": {
      "image/png": "[encoded data removed]",
      "text/plain": [
       "<Figure size 432x288 with 1 Axes>"
      ]
     },
     "metadata": {
      "needs_background": "light"
     },
     "output_type": "display_data"
    }
   ],
   "source": [
    "model.requires_grad_(True)\n",
    "loss_history = train_triplet(model, data_loader, 5, lr=0.00001)\n",
    "plt.plot(loss_history)\n",
    "plt.title('loss');"
   ]
  },
  {
   "cell_type": "code",
   "execution_count": 22,
   "id": "ede22531",
   "metadata": {
    "execution": {
     "iopub.execute_input": "2022-09-22T17:50:22.223491Z",
     "iopub.status.busy": "2022-09-22T17:50:22.223008Z",
     "iopub.status.idle": "2022-09-22T17:50:22.675767Z",
     "shell.execute_reply": "2022-09-22T17:50:22.674719Z"
    },
    "id": "awzalcn6bpTe",
    "outputId": "3926ea4f-f4d2-4902-d2d6-da44f976a256",
    "papermill": {
     "duration": 1.883296,
     "end_time": "2022-09-22T17:50:22.677739",
     "exception": false,
     "start_time": "2022-09-22T17:50:20.794443",
     "status": "completed"
    },
    "tags": []
   },
   "outputs": [
    {
     "data": {
      "image/png": "[encoded data removed]",
      "text/plain": [
       "<Figure size 432x288 with 1 Axes>"
      ]
     },
     "metadata": {
      "needs_background": "light"
     },
     "output_type": "display_data"
    }
   ],
   "source": [
    "plt.hist(model.fc.weight.cpu().detach().reshape(-1), bins=100);"
   ]
  },
  {
   "cell_type": "code",
   "execution_count": 23,
   "id": "f374edcf",
   "metadata": {
    "execution": {
     "iopub.execute_input": "2022-09-22T17:50:25.393357Z",
     "iopub.status.busy": "2022-09-22T17:50:25.392995Z",
     "iopub.status.idle": "2022-09-22T17:50:25.421821Z",
     "shell.execute_reply": "2022-09-22T17:50:25.420803Z"
    },
    "papermill": {
     "duration": 1.424746,
     "end_time": "2022-09-22T17:50:25.424016",
     "exception": false,
     "start_time": "2022-09-22T17:50:23.999270",
     "status": "completed"
    },
    "tags": []
   },
   "outputs": [
    {
     "data": {
      "text/plain": [
       "tensor([[-2.6675,  0.5659, -0.1642, -1.0723, -2.9218,  0.0882, -0.4896, -2.3587]],\n",
       "       device='cuda:0', grad_fn=<AddmmBackward0>)"
      ]
     },
     "execution_count": 23,
     "metadata": {},
     "output_type": "execute_result"
    }
   ],
   "source": [
    "model(dataset[42][0].reshape(1, 1, 224, 224).to(device))"
   ]
  },
  {
   "cell_type": "code",
   "execution_count": 24,
   "id": "97405caa",
   "metadata": {
    "execution": {
     "iopub.execute_input": "2022-09-22T17:50:28.365488Z",
     "iopub.status.busy": "2022-09-22T17:50:28.364422Z",
     "iopub.status.idle": "2022-09-22T17:50:28.392638Z",
     "shell.execute_reply": "2022-09-22T17:50:28.391573Z"
    },
    "papermill": {
     "duration": 1.573614,
     "end_time": "2022-09-22T17:50:28.394831",
     "exception": false,
     "start_time": "2022-09-22T17:50:26.821217",
     "status": "completed"
    },
    "tags": []
   },
   "outputs": [
    {
     "data": {
      "text/plain": [
       "tensor([[-3.4898,  0.6917,  0.5802, -0.7749, -2.6117, -0.7661, -0.3160, -1.5214]],\n",
       "       device='cuda:0', grad_fn=<AddmmBackward0>)"
      ]
     },
     "execution_count": 24,
     "metadata": {},
     "output_type": "execute_result"
    }
   ],
   "source": [
    "model(dataset[42][1].reshape(1, 1, 224, 224).to(device))"
   ]
  },
  {
   "cell_type": "code",
   "execution_count": 25,
   "id": "9f181cbd",
   "metadata": {
    "execution": {
     "iopub.execute_input": "2022-09-22T17:50:31.159129Z",
     "iopub.status.busy": "2022-09-22T17:50:31.158760Z",
     "iopub.status.idle": "2022-09-22T17:50:31.187676Z",
     "shell.execute_reply": "2022-09-22T17:50:31.186636Z"
    },
    "papermill": {
     "duration": 1.427138,
     "end_time": "2022-09-22T17:50:31.190305",
     "exception": false,
     "start_time": "2022-09-22T17:50:29.763167",
     "status": "completed"
    },
    "tags": []
   },
   "outputs": [
    {
     "data": {
      "text/plain": [
       "tensor([[-0.3040, -2.6864, -1.0652,  1.4910, -3.6802, -4.3181,  2.7326,  2.6025]],\n",
       "       device='cuda:0', grad_fn=<AddmmBackward0>)"
      ]
     },
     "execution_count": 25,
     "metadata": {},
     "output_type": "execute_result"
    }
   ],
   "source": [
    "model(dataset[42][2].reshape(1, 1, 224, 224).to(device))"
   ]
  },
  {
   "cell_type": "code",
   "execution_count": 26,
   "id": "df4296d3",
   "metadata": {
    "execution": {
     "iopub.execute_input": "2022-09-22T17:50:33.995144Z",
     "iopub.status.busy": "2022-09-22T17:50:33.994782Z",
     "iopub.status.idle": "2022-09-22T17:50:34.613636Z",
     "shell.execute_reply": "2022-09-22T17:50:34.612623Z"
    },
    "id": "e90luCJ3kZ9Q",
    "outputId": "1356b994-f4fb-47ec-da11-5fb86ae56262",
    "papermill": {
     "duration": 2.019092,
     "end_time": "2022-09-22T17:50:34.616124",
     "exception": false,
     "start_time": "2022-09-22T17:50:32.597032",
     "status": "completed"
    },
    "tags": []
   },
   "outputs": [
    {
     "name": "stdout",
     "output_type": "stream",
     "text": [
      "2.817287 8.861879 0.9018603 0.021055285 -4.318126 2.7325616\n",
      "4.161452 8.861879 0.5436525 0.021055285 -4.318126 2.7325616\n",
      "3.237363 8.861879 0.8881656 0.021055285 -4.318126 2.7325616\n",
      "2.4190495 8.861879 0.8664275 0.021055285 -4.318126 2.7325616\n",
      "1.5834093 8.861879 0.9500405 0.021055285 -4.318126 2.7325616\n",
      "1.8435807 8.861879 0.9282439 0.021055285 -4.318126 2.7325616\n",
      "2.4843812 8.861879 0.869065 0.021055285 -4.318126 2.7325616\n",
      "3.237363 8.861879 0.8881656 0.021055285 -4.318126 2.7325616\n",
      "2.817287 8.861879 0.9018603 0.021055285 -4.318126 2.7325616\n",
      "2.0133078 8.861879 0.9613884 0.021055285 -4.318126 2.7325616\n"
     ]
    }
   ],
   "source": [
    "for i in range(10):\n",
    "    v1 = model(dataset[42][0].reshape(1, 1, 224, 224).to(device)).cpu().detach().numpy()\n",
    "    v2 = model(dataset[42][1].reshape(1, 1, 224, 224).to(device)).cpu().detach().numpy()\n",
    "    v3 = model(dataset[42][2].reshape(1, 1, 224, 224).to(device)).cpu().detach().numpy()\n",
    "    print(euc_similarity(v1, v2), euc_similarity(v1, v3),\n",
    "          cos_similarity(v1, v2), cos_similarity(v1, v3),\n",
    "          np.vstack((v1, v2, v3)).min(), np.vstack((v1, v2, v3)).max())"
   ]
  },
  {
   "cell_type": "code",
   "execution_count": 27,
   "id": "ead46ee5",
   "metadata": {
    "execution": {
     "iopub.execute_input": "2022-09-22T17:50:37.330228Z",
     "iopub.status.busy": "2022-09-22T17:50:37.329819Z",
     "iopub.status.idle": "2022-09-22T17:50:38.552756Z",
     "shell.execute_reply": "2022-09-22T17:50:38.551571Z"
    },
    "id": "37ox4WYL7-Tb",
    "outputId": "519ac00f-3b1a-4761-f2c7-802805940540",
    "papermill": {
     "duration": 2.536846,
     "end_time": "2022-09-22T17:50:38.555110",
     "exception": false,
     "start_time": "2022-09-22T17:50:36.018264",
     "status": "completed"
    },
    "tags": []
   },
   "outputs": [
    {
     "name": "stdout",
     "output_type": "stream",
     "text": [
      "-rw-r--r-- 1 root root 94407681 Sep 22 17:50 faceid-model-0.0011369838715289877.pt\r\n"
     ]
    }
   ],
   "source": [
    "torch.save(model, f'faceid-model-{loss_history[-1]}.pt')\n",
    "!ls -l faceid-model-*.pt"
   ]
  }
 ],
 "metadata": {
  "kernelspec": {
   "display_name": "Python 3",
   "language": "python",
   "name": "python3"
  },
  "language_info": {
   "codemirror_mode": {
    "name": "ipython",
    "version": 3
   },
   "file_extension": ".py",
   "mimetype": "text/x-python",
   "name": "python",
   "nbconvert_exporter": "python",
   "pygments_lexer": "ipython3",
   "version": "3.7.12"
  },
  "papermill": {
   "default_parameters": {},
   "duration": 10057.659595,
   "end_time": "2022-09-22T17:50:42.375594",
   "environment_variables": {},
   "exception": null,
   "input_path": "__notebook__.ipynb",
   "output_path": "__notebook__.ipynb",
   "parameters": {},
   "start_time": "2022-09-22T15:03:04.715999",
   "version": "2.3.4"
  }
 },
 "nbformat": 4,
 "nbformat_minor": 5
}
