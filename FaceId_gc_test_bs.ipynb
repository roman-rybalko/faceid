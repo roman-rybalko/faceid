{
 "cells": [
  {
   "cell_type": "markdown",
   "id": "d38e8ac1",
   "metadata": {
    "papermill": {
     "duration": 0.007781,
     "end_time": "2022-09-22T15:02:05.384085",
     "exception": false,
     "start_time": "2022-09-22T15:02:05.376304",
     "status": "completed"
    },
    "tags": []
   },
   "source": [
    "# Face Identification\n",
    "\n",
    "Testing: **batch size** on fine-tuning  \n",
    "Output vector: **16** x float32  "
   ]
  },
  {
   "cell_type": "code",
   "execution_count": 1,
   "id": "e37b11c7",
   "metadata": {
    "papermill": {
     "duration": 0.598999,
     "end_time": "2022-09-22T15:02:05.989704",
     "exception": false,
     "start_time": "2022-09-22T15:02:05.390705",
     "status": "completed"
    },
    "tags": []
   },
   "outputs": [
    {
     "name": "stdout",
     "output_type": "stream",
     "text": [
      "/kaggle/input/torchvision-resnet-pretrained/resnet101-63fe2227.pth\n",
      "/kaggle/input/torchvision-resnet-pretrained/resnet101-cd907fc2.pth\n",
      "/kaggle/input/torchvision-resnet-pretrained/resnet152-394f9c45.pth\n",
      "/kaggle/input/torchvision-resnet-pretrained/resnet152-f82ba261.pth\n",
      "/kaggle/input/torchvision-resnet-pretrained/resnet18-f37072fd.pth\n",
      "/kaggle/input/torchvision-resnet-pretrained/resnet34-b627a593.pth\n",
      "/kaggle/input/torchvision-resnet-pretrained/resnet50-0676ba61.pth\n",
      "/kaggle/input/torchvision-resnet-pretrained/resnet50-11ad3fa6.pth\n",
      "/kaggle/input/faceid-preprocessed-small/youtube_faces_with_keypoints_full.csv\n",
      "/kaggle/input/faceid-preprocessed-small/Kevin_Spacey_5.npz.pkl\n",
      "/kaggle/input/faceid-preprocessed-small/Lauren_Hutton_0.npz.pkl\n",
      "/kaggle/input/faceid-preprocessed-small/Lauren_Hutton_1.npz.pkl\n",
      "/kaggle/input/faceid-preprocessed-small/Lauren_Hutton_2.npz.pkl\n",
      "/kaggle/input/faceid-preprocessed-small/Lauren_Hutton_3.npz.pkl\n",
      "/kaggle/input/faceid-preprocessed-small/Lauren_Hutton_4.npz.pkl\n",
      "/kaggle/input/faceid-preprocessed-small/Lauren_Hutton_5.npz.pkl\n",
      "/kaggle/input/faceid-preprocessed-small/Robert_F_Kennedy_Jr_0.npz.pkl\n",
      "/kaggle/input/faceid-preprocessed-small/Robert_F_Kennedy_Jr_1.npz.pkl\n",
      "29\n"
     ]
    }
   ],
   "source": [
    "# This Python 3 environment comes with many helpful analytics libraries installed\n",
    "# It is defined by the kaggle/python Docker image: https://github.com/kaggle/docker-python\n",
    "# For example, here's several helpful packages to load\n",
    "\n",
    "import numpy as np # linear algebra\n",
    "import pandas as pd # data processing, CSV file I/O (e.g. pd.read_csv)\n",
    "\n",
    "# Input data files are available in the read-only \"../input/\" directory\n",
    "# For example, running this (by clicking run or pressing Shift+Enter) will list all files under the input directory\n",
    "\n",
    "import os\n",
    "fcnt = 0\n",
    "for dirname, _, filenames in os.walk('/kaggle/input'):\n",
    "    for filename in filenames:\n",
    "        fcnt += 1\n",
    "        if fcnt < 10 or fcnt > 20:\n",
    "            print(os.path.join(dirname, filename))\n",
    "print(fcnt)\n",
    "\n",
    "# You can write up to 20GB to the current directory (/kaggle/working/) that gets preserved as output when you create a version using \"Save & Run All\" \n",
    "# You can also write temporary files to /kaggle/temp/, but they won't be saved outside of the current session"
   ]
  },
  {
   "cell_type": "code",
   "execution_count": 2,
   "id": "ff86304c",
   "metadata": {
    "papermill": {
     "duration": 1.12206,
     "end_time": "2022-09-22T15:02:07.118459",
     "exception": false,
     "start_time": "2022-09-22T15:02:05.996399",
     "status": "completed"
    },
    "tags": []
   },
   "outputs": [
    {
     "name": "stdout",
     "output_type": "stream",
     "text": [
      "Filesystem     1K-blocks     Used Available Use% Mounted on\n",
      "overlay        104802308 17004784  87797524  17% /\n"
     ]
    }
   ],
   "source": [
    "!df /kaggle/"
   ]
  },
  {
   "cell_type": "code",
   "execution_count": 3,
   "id": "72108e2e",
   "metadata": {
    "papermill": {
     "duration": 6.068463,
     "end_time": "2022-09-22T15:02:13.196940",
     "exception": false,
     "start_time": "2022-09-22T15:02:07.128477",
     "status": "completed"
    },
    "tags": []
   },
   "outputs": [],
   "source": [
    "#!mkdir -pv /kaggle/temp\n",
    "#!rm -Rf /kaggle/temp/*\n",
    "#!cp -as /kaggle/input/youtube-faces-with-facial-keypoints /kaggle/temp/\n",
    "#!mv /kaggle/temp/youtube-faces-with-facial-keypoints/*/*/*.npz /kaggle/temp/youtube-faces-with-facial-keypoints/\n",
    "#!ls /kaggle/temp/youtube-faces-with-facial-keypoints/ | wc"
   ]
  },
  {
   "cell_type": "code",
   "execution_count": 4,
   "id": "c8c0cb10",
   "metadata": {
    "papermill": {
     "duration": 0.015223,
     "end_time": "2022-09-22T15:02:13.218747",
     "exception": false,
     "start_time": "2022-09-22T15:02:13.203524",
     "status": "completed"
    },
    "tags": []
   },
   "outputs": [],
   "source": [
    "#data_dir = '/kaggle/temp/youtube-faces-with-facial-keypoints'\n",
    "data_dir = '/kaggle/input/faceid-preprocessed-small'"
   ]
  },
  {
   "cell_type": "code",
   "execution_count": 5,
   "id": "e87923a0",
   "metadata": {
    "papermill": {
     "duration": 7.350053,
     "end_time": "2022-09-22T15:02:20.575178",
     "exception": false,
     "start_time": "2022-09-22T15:02:13.225125",
     "status": "completed"
    },
    "tags": []
   },
   "outputs": [
    {
     "name": "stdout",
     "output_type": "stream",
     "text": [
      "mkdir: created directory '/root/.cache/torch/hub/checkpoints/'\n",
      "'/kaggle/input/torchvision-resnet-pretrained/resnet101-63fe2227.pth' -> '/root/.cache/torch/hub/checkpoints/resnet101-63fe2227.pth'\n",
      "'/kaggle/input/torchvision-resnet-pretrained/resnet101-cd907fc2.pth' -> '/root/.cache/torch/hub/checkpoints/resnet101-cd907fc2.pth'\n",
      "'/kaggle/input/torchvision-resnet-pretrained/resnet152-394f9c45.pth' -> '/root/.cache/torch/hub/checkpoints/resnet152-394f9c45.pth'\n",
      "'/kaggle/input/torchvision-resnet-pretrained/resnet152-f82ba261.pth' -> '/root/.cache/torch/hub/checkpoints/resnet152-f82ba261.pth'\n",
      "'/kaggle/input/torchvision-resnet-pretrained/resnet18-f37072fd.pth' -> '/root/.cache/torch/hub/checkpoints/resnet18-f37072fd.pth'\n",
      "'/kaggle/input/torchvision-resnet-pretrained/resnet34-b627a593.pth' -> '/root/.cache/torch/hub/checkpoints/resnet34-b627a593.pth'\n",
      "'/kaggle/input/torchvision-resnet-pretrained/resnet50-0676ba61.pth' -> '/root/.cache/torch/hub/checkpoints/resnet50-0676ba61.pth'\n",
      "'/kaggle/input/torchvision-resnet-pretrained/resnet50-11ad3fa6.pth' -> '/root/.cache/torch/hub/checkpoints/resnet50-11ad3fa6.pth'\n",
      "'/root/.cache/torch/hub/checkpoints/resnet50-11ad3fa6.pth' -> '/root/.cache/torch/hub/checkpoints/resnet50-0676ba61.pth'\n",
      "'/root/.cache/torch/hub/checkpoints/resnet101-cd907fc2.pth' -> '/root/.cache/torch/hub/checkpoints/resnet101-63fe2227.pth'\n",
      "'/root/.cache/torch/hub/checkpoints/resnet152-f82ba261.pth' -> '/root/.cache/torch/hub/checkpoints/resnet152-394f9c45.pth'\n",
      "total 0\n",
      "lrwxrwxrwx 1 root root 57 Sep 26 21:49 resnet101-63fe2227.pth -> /root/.cache/torch/hub/checkpoints/resnet101-cd907fc2.pth\n",
      "lrwxrwxrwx 1 root root 66 Sep 19 21:43 resnet101-cd907fc2.pth -> /kaggle/input/torchvision-resnet-pretrained/resnet101-cd907fc2.pth\n",
      "lrwxrwxrwx 1 root root 57 Sep 26 21:49 resnet152-394f9c45.pth -> /root/.cache/torch/hub/checkpoints/resnet152-f82ba261.pth\n",
      "lrwxrwxrwx 1 root root 66 Sep 19 21:44 resnet152-f82ba261.pth -> /kaggle/input/torchvision-resnet-pretrained/resnet152-f82ba261.pth\n",
      "lrwxrwxrwx 1 root root 65 Sep 19 21:44 resnet18-f37072fd.pth -> /kaggle/input/torchvision-resnet-pretrained/resnet18-f37072fd.pth\n",
      "lrwxrwxrwx 1 root root 65 Sep 19 21:44 resnet34-b627a593.pth -> /kaggle/input/torchvision-resnet-pretrained/resnet34-b627a593.pth\n",
      "lrwxrwxrwx 1 root root 56 Sep 26 21:49 resnet50-0676ba61.pth -> /root/.cache/torch/hub/checkpoints/resnet50-11ad3fa6.pth\n",
      "lrwxrwxrwx 1 root root 65 Sep 19 21:44 resnet50-11ad3fa6.pth -> /kaggle/input/torchvision-resnet-pretrained/resnet50-11ad3fa6.pth\n"
     ]
    }
   ],
   "source": [
    "# Updating to the recent pretrained data\n",
    "!rm -Rf ~/.cache/torch/hub/checkpoints/\n",
    "!mkdir -pv ~/.cache/torch/hub/checkpoints/\n",
    "!cp -avs /kaggle/input/torchvision-resnet-pretrained/resnet*.pth ~/.cache/torch/hub/checkpoints/\n",
    "!cp -vsf ~/.cache/torch/hub/checkpoints/resnet50-11ad3fa6.pth ~/.cache/torch/hub/checkpoints/resnet50-0676ba61.pth\n",
    "!cp -vsf ~/.cache/torch/hub/checkpoints/resnet101-cd907fc2.pth ~/.cache/torch/hub/checkpoints/resnet101-63fe2227.pth\n",
    "!cp -vsf ~/.cache/torch/hub/checkpoints/resnet152-f82ba261.pth ~/.cache/torch/hub/checkpoints/resnet152-394f9c45.pth\n",
    "!ls -l ~/.cache/torch/hub/checkpoints/"
   ]
  },
  {
   "cell_type": "code",
   "execution_count": 6,
   "id": "dc645013",
   "metadata": {
    "id": "xcDdqMb8jWEY",
    "papermill": {
     "duration": 0.016786,
     "end_time": "2022-09-22T15:02:20.611714",
     "exception": false,
     "start_time": "2022-09-22T15:02:20.594928",
     "status": "completed"
    },
    "tags": []
   },
   "outputs": [],
   "source": [
    "import pandas as pd\n",
    "import numpy as np\n",
    "import matplotlib.pyplot as plt\n",
    "from tqdm import tqdm"
   ]
  },
  {
   "cell_type": "code",
   "execution_count": 7,
   "id": "479e300d",
   "metadata": {
    "id": "9Wpb5ohLj5VI",
    "outputId": "ca513529-baef-44a8-9825-ab8ac718af30",
    "papermill": {
     "duration": 0.082417,
     "end_time": "2022-09-22T15:02:20.701294",
     "exception": false,
     "start_time": "2022-09-22T15:02:20.618877",
     "status": "completed"
    },
    "tags": []
   },
   "outputs": [
    {
     "data": {
      "text/html": [
       "<div>\n",
       "<style scoped>\n",
       "    .dataframe tbody tr th:only-of-type {\n",
       "        vertical-align: middle;\n",
       "    }\n",
       "\n",
       "    .dataframe tbody tr th {\n",
       "        vertical-align: top;\n",
       "    }\n",
       "\n",
       "    .dataframe thead th {\n",
       "        text-align: right;\n",
       "    }\n",
       "</style>\n",
       "<table border=\"1\" class=\"dataframe\">\n",
       "  <thead>\n",
       "    <tr style=\"text-align: right;\">\n",
       "      <th></th>\n",
       "      <th>videoID</th>\n",
       "      <th>personName</th>\n",
       "      <th>imageHeight</th>\n",
       "      <th>imageWidth</th>\n",
       "      <th>videoDuration</th>\n",
       "      <th>averageFaceSize</th>\n",
       "      <th>numVideosForPerson</th>\n",
       "    </tr>\n",
       "  </thead>\n",
       "  <tbody>\n",
       "    <tr>\n",
       "      <th>0</th>\n",
       "      <td>Alison_Lohman_0</td>\n",
       "      <td>Alison_Lohman</td>\n",
       "      <td>228.0</td>\n",
       "      <td>213.0</td>\n",
       "      <td>240.0</td>\n",
       "      <td>90.150000</td>\n",
       "      <td>6.0</td>\n",
       "    </tr>\n",
       "    <tr>\n",
       "      <th>1</th>\n",
       "      <td>Alison_Lohman_1</td>\n",
       "      <td>Alison_Lohman</td>\n",
       "      <td>248.0</td>\n",
       "      <td>201.0</td>\n",
       "      <td>79.0</td>\n",
       "      <td>108.417722</td>\n",
       "      <td>6.0</td>\n",
       "    </tr>\n",
       "    <tr>\n",
       "      <th>2</th>\n",
       "      <td>Alison_Lohman_2</td>\n",
       "      <td>Alison_Lohman</td>\n",
       "      <td>335.0</td>\n",
       "      <td>308.0</td>\n",
       "      <td>136.0</td>\n",
       "      <td>122.161765</td>\n",
       "      <td>6.0</td>\n",
       "    </tr>\n",
       "    <tr>\n",
       "      <th>3</th>\n",
       "      <td>Alison_Lohman_3</td>\n",
       "      <td>Alison_Lohman</td>\n",
       "      <td>151.0</td>\n",
       "      <td>110.0</td>\n",
       "      <td>53.0</td>\n",
       "      <td>58.000000</td>\n",
       "      <td>6.0</td>\n",
       "    </tr>\n",
       "    <tr>\n",
       "      <th>4</th>\n",
       "      <td>Alison_Lohman_4</td>\n",
       "      <td>Alison_Lohman</td>\n",
       "      <td>236.0</td>\n",
       "      <td>228.0</td>\n",
       "      <td>147.0</td>\n",
       "      <td>91.680272</td>\n",
       "      <td>6.0</td>\n",
       "    </tr>\n",
       "    <tr>\n",
       "      <th>5</th>\n",
       "      <td>Alison_Lohman_5</td>\n",
       "      <td>Alison_Lohman</td>\n",
       "      <td>227.0</td>\n",
       "      <td>179.0</td>\n",
       "      <td>68.0</td>\n",
       "      <td>105.647059</td>\n",
       "      <td>6.0</td>\n",
       "    </tr>\n",
       "    <tr>\n",
       "      <th>6</th>\n",
       "      <td>Kevin_Spacey_0</td>\n",
       "      <td>Kevin_Spacey</td>\n",
       "      <td>196.0</td>\n",
       "      <td>264.0</td>\n",
       "      <td>91.0</td>\n",
       "      <td>99.912088</td>\n",
       "      <td>6.0</td>\n",
       "    </tr>\n",
       "    <tr>\n",
       "      <th>7</th>\n",
       "      <td>Kevin_Spacey_1</td>\n",
       "      <td>Kevin_Spacey</td>\n",
       "      <td>260.0</td>\n",
       "      <td>217.0</td>\n",
       "      <td>59.0</td>\n",
       "      <td>120.186441</td>\n",
       "      <td>6.0</td>\n",
       "    </tr>\n",
       "    <tr>\n",
       "      <th>8</th>\n",
       "      <td>Kevin_Spacey_2</td>\n",
       "      <td>Kevin_Spacey</td>\n",
       "      <td>186.0</td>\n",
       "      <td>175.0</td>\n",
       "      <td>71.0</td>\n",
       "      <td>86.746479</td>\n",
       "      <td>6.0</td>\n",
       "    </tr>\n",
       "    <tr>\n",
       "      <th>9</th>\n",
       "      <td>Kevin_Spacey_3</td>\n",
       "      <td>Kevin_Spacey</td>\n",
       "      <td>100.0</td>\n",
       "      <td>89.0</td>\n",
       "      <td>99.0</td>\n",
       "      <td>44.636364</td>\n",
       "      <td>6.0</td>\n",
       "    </tr>\n",
       "    <tr>\n",
       "      <th>10</th>\n",
       "      <td>Kevin_Spacey_4</td>\n",
       "      <td>Kevin_Spacey</td>\n",
       "      <td>212.0</td>\n",
       "      <td>207.0</td>\n",
       "      <td>240.0</td>\n",
       "      <td>99.025000</td>\n",
       "      <td>6.0</td>\n",
       "    </tr>\n",
       "    <tr>\n",
       "      <th>11</th>\n",
       "      <td>Kevin_Spacey_5</td>\n",
       "      <td>Kevin_Spacey</td>\n",
       "      <td>242.0</td>\n",
       "      <td>205.0</td>\n",
       "      <td>203.0</td>\n",
       "      <td>116.886700</td>\n",
       "      <td>6.0</td>\n",
       "    </tr>\n",
       "    <tr>\n",
       "      <th>12</th>\n",
       "      <td>Lauren_Hutton_0</td>\n",
       "      <td>Lauren_Hutton</td>\n",
       "      <td>223.0</td>\n",
       "      <td>202.0</td>\n",
       "      <td>127.0</td>\n",
       "      <td>96.086614</td>\n",
       "      <td>6.0</td>\n",
       "    </tr>\n",
       "    <tr>\n",
       "      <th>13</th>\n",
       "      <td>Lauren_Hutton_1</td>\n",
       "      <td>Lauren_Hutton</td>\n",
       "      <td>279.0</td>\n",
       "      <td>213.0</td>\n",
       "      <td>68.0</td>\n",
       "      <td>107.191176</td>\n",
       "      <td>6.0</td>\n",
       "    </tr>\n",
       "    <tr>\n",
       "      <th>14</th>\n",
       "      <td>Lauren_Hutton_2</td>\n",
       "      <td>Lauren_Hutton</td>\n",
       "      <td>320.0</td>\n",
       "      <td>361.0</td>\n",
       "      <td>55.0</td>\n",
       "      <td>193.781818</td>\n",
       "      <td>6.0</td>\n",
       "    </tr>\n",
       "    <tr>\n",
       "      <th>15</th>\n",
       "      <td>Lauren_Hutton_3</td>\n",
       "      <td>Lauren_Hutton</td>\n",
       "      <td>325.0</td>\n",
       "      <td>281.0</td>\n",
       "      <td>240.0</td>\n",
       "      <td>136.158333</td>\n",
       "      <td>6.0</td>\n",
       "    </tr>\n",
       "    <tr>\n",
       "      <th>16</th>\n",
       "      <td>Lauren_Hutton_4</td>\n",
       "      <td>Lauren_Hutton</td>\n",
       "      <td>222.0</td>\n",
       "      <td>208.0</td>\n",
       "      <td>51.0</td>\n",
       "      <td>103.431373</td>\n",
       "      <td>6.0</td>\n",
       "    </tr>\n",
       "    <tr>\n",
       "      <th>17</th>\n",
       "      <td>Lauren_Hutton_5</td>\n",
       "      <td>Lauren_Hutton</td>\n",
       "      <td>165.0</td>\n",
       "      <td>192.0</td>\n",
       "      <td>147.0</td>\n",
       "      <td>56.435374</td>\n",
       "      <td>6.0</td>\n",
       "    </tr>\n",
       "    <tr>\n",
       "      <th>18</th>\n",
       "      <td>Robert_F_Kennedy_Jr_0</td>\n",
       "      <td>Robert_F_Kennedy_Jr</td>\n",
       "      <td>192.0</td>\n",
       "      <td>169.0</td>\n",
       "      <td>240.0</td>\n",
       "      <td>84.812500</td>\n",
       "      <td>6.0</td>\n",
       "    </tr>\n",
       "    <tr>\n",
       "      <th>19</th>\n",
       "      <td>Robert_F_Kennedy_Jr_1</td>\n",
       "      <td>Robert_F_Kennedy_Jr</td>\n",
       "      <td>229.0</td>\n",
       "      <td>232.0</td>\n",
       "      <td>107.0</td>\n",
       "      <td>109.439252</td>\n",
       "      <td>6.0</td>\n",
       "    </tr>\n",
       "  </tbody>\n",
       "</table>\n",
       "</div>"
      ],
      "text/plain": [
       "                  videoID           personName  imageHeight  imageWidth  \\\n",
       "0         Alison_Lohman_0        Alison_Lohman        228.0       213.0   \n",
       "1         Alison_Lohman_1        Alison_Lohman        248.0       201.0   \n",
       "2         Alison_Lohman_2        Alison_Lohman        335.0       308.0   \n",
       "3         Alison_Lohman_3        Alison_Lohman        151.0       110.0   \n",
       "4         Alison_Lohman_4        Alison_Lohman        236.0       228.0   \n",
       "5         Alison_Lohman_5        Alison_Lohman        227.0       179.0   \n",
       "6          Kevin_Spacey_0         Kevin_Spacey        196.0       264.0   \n",
       "7          Kevin_Spacey_1         Kevin_Spacey        260.0       217.0   \n",
       "8          Kevin_Spacey_2         Kevin_Spacey        186.0       175.0   \n",
       "9          Kevin_Spacey_3         Kevin_Spacey        100.0        89.0   \n",
       "10         Kevin_Spacey_4         Kevin_Spacey        212.0       207.0   \n",
       "11         Kevin_Spacey_5         Kevin_Spacey        242.0       205.0   \n",
       "12        Lauren_Hutton_0        Lauren_Hutton        223.0       202.0   \n",
       "13        Lauren_Hutton_1        Lauren_Hutton        279.0       213.0   \n",
       "14        Lauren_Hutton_2        Lauren_Hutton        320.0       361.0   \n",
       "15        Lauren_Hutton_3        Lauren_Hutton        325.0       281.0   \n",
       "16        Lauren_Hutton_4        Lauren_Hutton        222.0       208.0   \n",
       "17        Lauren_Hutton_5        Lauren_Hutton        165.0       192.0   \n",
       "18  Robert_F_Kennedy_Jr_0  Robert_F_Kennedy_Jr        192.0       169.0   \n",
       "19  Robert_F_Kennedy_Jr_1  Robert_F_Kennedy_Jr        229.0       232.0   \n",
       "\n",
       "    videoDuration  averageFaceSize  numVideosForPerson  \n",
       "0           240.0        90.150000                 6.0  \n",
       "1            79.0       108.417722                 6.0  \n",
       "2           136.0       122.161765                 6.0  \n",
       "3            53.0        58.000000                 6.0  \n",
       "4           147.0        91.680272                 6.0  \n",
       "5            68.0       105.647059                 6.0  \n",
       "6            91.0        99.912088                 6.0  \n",
       "7            59.0       120.186441                 6.0  \n",
       "8            71.0        86.746479                 6.0  \n",
       "9            99.0        44.636364                 6.0  \n",
       "10          240.0        99.025000                 6.0  \n",
       "11          203.0       116.886700                 6.0  \n",
       "12          127.0        96.086614                 6.0  \n",
       "13           68.0       107.191176                 6.0  \n",
       "14           55.0       193.781818                 6.0  \n",
       "15          240.0       136.158333                 6.0  \n",
       "16           51.0       103.431373                 6.0  \n",
       "17          147.0        56.435374                 6.0  \n",
       "18          240.0        84.812500                 6.0  \n",
       "19          107.0       109.439252                 6.0  "
      ]
     },
     "execution_count": 7,
     "metadata": {},
     "output_type": "execute_result"
    }
   ],
   "source": [
    "df = pd.read_csv(f'{data_dir}/youtube_faces_with_keypoints_full.csv')\n",
    "df"
   ]
  },
  {
   "cell_type": "code",
   "execution_count": 8,
   "id": "919d28fb-c843-4813-9a64-12c210533a46",
   "metadata": {},
   "outputs": [
    {
     "data": {
      "text/plain": [
       "(True, True, False)"
      ]
     },
     "execution_count": 8,
     "metadata": {},
     "output_type": "execute_result"
    }
   ],
   "source": [
    "import poptorch\n",
    "poptorch.ipuHardwareIsAvailable(num_ipus=1), poptorch.ipuHardwareIsAvailable(num_ipus=16), poptorch.ipuHardwareIsAvailable(num_ipus=32)"
   ]
  },
  {
   "cell_type": "code",
   "execution_count": 9,
   "id": "f40fd045-4ab6-4998-a921-3136cdd117eb",
   "metadata": {},
   "outputs": [],
   "source": [
    "!mkdir -p /tmp/work/popcache\n",
    "popcache_dir = '/tmp/work/popcache'\n",
    "hw_emulation = False\n",
    "#ipu_id = 16 # x2\n",
    "#ipu_id = 24 # x4\n",
    "#ipu_id = 28 # x8\n",
    "ipu_id = 30 # x16"
   ]
  },
  {
   "cell_type": "code",
   "execution_count": 10,
   "id": "d6eedcaa",
   "metadata": {
    "id": "sJguPEzWihnZ",
    "papermill": {
     "duration": 2.107764,
     "end_time": "2022-09-22T15:02:22.816205",
     "exception": false,
     "start_time": "2022-09-22T15:02:20.708441",
     "status": "completed"
    },
    "tags": []
   },
   "outputs": [],
   "source": [
    "import torch\n",
    "import torch.nn as nn\n",
    "#import torch.optim as optim\n",
    "import poptorch.optim as optim\n",
    "import torchvision\n",
    "from torchinfo import summary"
   ]
  },
  {
   "cell_type": "code",
   "execution_count": 11,
   "id": "cee41ad6",
   "metadata": {
    "id": "NfaI6TWnkpWw",
    "papermill": {
     "duration": 0.203356,
     "end_time": "2022-09-22T15:02:23.122384",
     "exception": false,
     "start_time": "2022-09-22T15:02:22.919028",
     "status": "completed"
    },
    "tags": []
   },
   "outputs": [],
   "source": [
    "import PIL\n",
    "import cv2\n",
    "\n",
    "class NormalizeTransform:\n",
    "    def __init__(self, ratio=0.333):\n",
    "        self.ratio = ratio\n",
    "\n",
    "        self.jawPoints          = [ 0,17]\n",
    "        self.rigthEyebrowPoints = [17,22]\n",
    "        self.leftEyebrowPoints  = [22,27]\n",
    "        self.noseRidgePoints    = [27,31]\n",
    "        self.noseBasePoints     = [31,36]\n",
    "        self.rightEyePoints     = [36,42]\n",
    "        self.leftEyePoints      = [42,48]\n",
    "        self.outerMouthPoints   = [48,60]\n",
    "        self.innerMouthPoints   = [60,68]\n",
    "\n",
    "        self.norm_transform = torchvision.transforms.Compose([\n",
    "            torchvision.transforms.Resize((224, 224)),\n",
    "            torchvision.transforms.functional.autocontrast,\n",
    "            torchvision.transforms.functional.to_grayscale,\n",
    "            torchvision.transforms.ToTensor(),\n",
    "        ])\n",
    "\n",
    "    def __call__(self, data, landmarks):\n",
    "        data = self.face_transform(data, landmarks)\n",
    "        img = PIL.Image.fromarray(data)\n",
    "        data = self.norm_transform(img)\n",
    "        return data\n",
    "\n",
    "    def face_transform(self, data, landmarks):\n",
    "        # see FaceId-Normalization.ipynb\n",
    "        pt1 = self.avg(landmarks[self.leftEyePoints[0]:self.leftEyePoints[1]])\n",
    "        pt2 = self.avg(landmarks[self.outerMouthPoints[0]:self.outerMouthPoints[1]])\n",
    "        pt3 = self.avg(landmarks[self.rightEyePoints[0]:self.rightEyePoints[1]])\n",
    "        src_pts = np.float32([pt1, pt2, pt3])\n",
    "        dst_pts = np.float32([\n",
    "            [data.shape[0]*self.ratio, data.shape[1]*self.ratio],\n",
    "            [data.shape[0]/2, data.shape[1]*(1-self.ratio)],\n",
    "            [data.shape[0]*(1-self.ratio), data.shape[1]*self.ratio]\n",
    "        ])\n",
    "        M = cv2.getAffineTransform(src_pts, dst_pts)\n",
    "        data = cv2.warpAffine(data, M, data.shape[:2])\n",
    "        return data\n",
    "    \n",
    "    def avg(self, pts):\n",
    "        x = sum(x for x,y in pts) / len(pts)\n",
    "        y = sum(y for x,y in pts) / len(pts)\n",
    "        return x, y"
   ]
  },
  {
   "cell_type": "code",
   "execution_count": 12,
   "id": "777a96cd",
   "metadata": {
    "id": "K6M-NqdtlvAN",
    "outputId": "7dba579b-5797-41d8-fdfb-4bbe6b901641",
    "papermill": {
     "duration": 10.813371,
     "end_time": "2022-09-22T15:02:33.943279",
     "exception": false,
     "start_time": "2022-09-22T15:02:23.129908",
     "status": "completed"
    },
    "tags": []
   },
   "outputs": [
    {
     "name": "stderr",
     "output_type": "stream",
     "text": [
      "Loading data: 100%|██████████| 4/4 [00:00<00:00, 889.61it/s]\n"
     ]
    },
    {
     "data": {
      "text/plain": [
       "4"
      ]
     },
     "execution_count": 12,
     "metadata": {},
     "output_type": "execute_result"
    }
   ],
   "source": [
    "import random\n",
    "import pickle\n",
    "\n",
    "class YouTubeFacesDataset(torch.utils.data.Dataset):\n",
    "    def __init__(self, df, folder = '.', transform = NormalizeTransform(),\n",
    "                 cache_lim = 200,\n",
    "                 preload = False, preprocess = False,\n",
    "                 anchor_set_len = 1, positive_set_len = 1, negative_set_len = 1,\n",
    "                 stochastic_set_fraction = 0.8):\n",
    "        self.transform = transform\n",
    "        self.cache = {}\n",
    "        self.cache_lim = 0 if preload else cache_lim\n",
    "        self.preprocessed_cache = {}\n",
    "        need_preprocessing = []\n",
    "        self.data = {}\n",
    "        for p in tqdm(df['personName'].unique(), desc='Loading data'):\n",
    "            self.data[p] = []\n",
    "            for fn, cnt in df[df['personName'] == p][['videoID', 'videoDuration']].values:\n",
    "                fp = f'{folder}/{fn}.npz'\n",
    "                cnt = int(cnt)\n",
    "                self.data[p] += [(fp, i) for i in range(cnt)]\n",
    "                if preload:\n",
    "                    self.cache_lim += 1\n",
    "                    imgs, lms = self._cache_get(fp)\n",
    "                    assert imgs.shape[-1] == cnt\n",
    "                    assert lms.shape[-1] == cnt\n",
    "                if preprocess:\n",
    "                    need_preprocessing += [fp]\n",
    "        if preprocess:\n",
    "            preprocessed = [self._preprocess(fp) for fp in tqdm(need_preprocessing, desc='Preprocessing')]\n",
    "            self.preprocessed_cache = dict((fp, self._load_preprocessed(pfp)) for fp, pfp in tqdm(preprocessed, desc='Loading data'))\n",
    "        self.persons = list(self.data.keys())\n",
    "        self.neg_data = {}\n",
    "        for p in self.persons:\n",
    "            self.neg_data[p] = []\n",
    "            for p_neg in self.persons:\n",
    "                if p_neg == p:\n",
    "                    continue\n",
    "                self.neg_data[p] += self.data[p_neg]\n",
    "        self.anchor_set_len = anchor_set_len\n",
    "        self.positive_set_len = positive_set_len\n",
    "        self.negative_set_len = negative_set_len\n",
    "        self.stochastic_set_fraction = stochastic_set_fraction\n",
    "    \n",
    "    def __len__(self):\n",
    "        return len(self.persons) * self.anchor_set_len * self.positive_set_len * self.negative_set_len\n",
    "    \n",
    "    def __getitem__(self, index):\n",
    "        p_i = index // self.negative_set_len // self.positive_set_len // self.anchor_set_len\n",
    "        assert p_i >= 0\n",
    "        assert p_i < len(self.persons)\n",
    "        p = self.persons[p_i]\n",
    "        if self.negative_set_len > len(self.neg_data[p]) * self.stochastic_set_fraction:\n",
    "            negative_i = index % self.negative_set_len\n",
    "            negative_i = negative_i % len(self.neg_data[p])\n",
    "        else:\n",
    "            negative_i = random.randint(0, len(self.neg_data[p]) - 1)\n",
    "        assert negative_i >= 0\n",
    "        assert negative_i < len(self.neg_data[p])\n",
    "        if self.positive_set_len > len(self.data[p]) * self.stochastic_set_fraction:\n",
    "            positive_i = (index // self.negative_set_len) % self.positive_set_len\n",
    "            positive_i = positive_i % len(self.data[p])\n",
    "        else:\n",
    "            positive_i = random.randint(0, len(self.data[p]) - 1)\n",
    "        assert positive_i >= 0\n",
    "        assert positive_i < len(self.data[p])\n",
    "        if self.anchor_set_len > len(self.data[p]) * self.stochastic_set_fraction:\n",
    "            anchor_i = (index // self.negative_set_len // self.positive_set_len) % self.anchor_set_len\n",
    "            anchor_i = anchor_i % len(self.data[p])\n",
    "        else:\n",
    "            anchor_i = random.randint(0, len(self.data[p]) - 1)\n",
    "        assert anchor_i >= 0\n",
    "        assert anchor_i < len(self.data[p])\n",
    "        return self._load(*self.data[p][anchor_i]), self._load(*self.data[p][positive_i]), self._load(*self.neg_data[p][negative_i])\n",
    "    \n",
    "    def _load(self, fp, i):\n",
    "        if fp in self.preprocessed_cache:\n",
    "            assert i < len(self.preprocessed_cache[fp]), (fp, i, len(self.preprocessed_cache[fp]))\n",
    "            if self.preprocessed_cache[fp][i] is not None:\n",
    "                return self.preprocessed_cache[fp][i]\n",
    "        imgs, lms = self._cache_get(fp)\n",
    "        assert i < imgs.shape[-1], (fp, i, imgs.shape[-1])\n",
    "        data = imgs[:,:,:,i]\n",
    "        assert i < lms.shape[-1], (fp, i, lms.shape[-1])\n",
    "        lms = lms[:,:,i]\n",
    "        if self.transform:\n",
    "            data = self.transform(data, lms)\n",
    "        return data\n",
    "    \n",
    "    def _cache_get(self, fp):\n",
    "        if fp in self.cache:\n",
    "            return self.cache[fp]\n",
    "        if len(self.cache) > self.cache_lim:\n",
    "            idx = random.randint(0, len(self.cache) - 1)\n",
    "            key = list(self.cache.keys())[idx]\n",
    "            del self.cache[key]\n",
    "        d = np.load(fp)\n",
    "        # trigger lazy loading\n",
    "        self.cache[fp] = (d['colorImages'], d['landmarks2D'])\n",
    "        return self.cache[fp]\n",
    "    \n",
    "    def _preprocess(self, fp):\n",
    "        pfp = f'{fp}.pkl'\n",
    "        if not os.path.exists(pfp):\n",
    "            imgs, lms = self._cache_get(fp)\n",
    "            d = [self._load(fp, i) for i in range(imgs.shape[-1])]\n",
    "            with open(pfp, 'wb') as f:\n",
    "                pickle.dump(d, f)\n",
    "        return (fp, pfp)\n",
    "    \n",
    "    def _load_preprocessed(self, pfp):\n",
    "        with open(pfp, 'rb') as f:\n",
    "            return pickle.load(f)\n",
    "\n",
    "dataset = YouTubeFacesDataset(df, data_dir)\n",
    "len(dataset)"
   ]
  },
  {
   "cell_type": "code",
   "execution_count": 13,
   "id": "8621d451",
   "metadata": {
    "id": "xl07IjbM8sh9",
    "outputId": "896090fd-3e14-4abb-b7f8-9488d94e2d11",
    "papermill": {
     "duration": 0.049366,
     "end_time": "2022-09-22T15:02:34.003155",
     "exception": false,
     "start_time": "2022-09-22T15:02:33.953789",
     "status": "completed"
    },
    "tags": []
   },
   "outputs": [],
   "source": [
    "to_pil_transform = torchvision.transforms.ToPILImage()\n",
    "#to_pil_transform(dataset[0][1])"
   ]
  },
  {
   "cell_type": "code",
   "execution_count": 14,
   "id": "7da9ae90",
   "metadata": {
    "id": "4az7iXvujIux",
    "papermill": {
     "duration": 0.022685,
     "end_time": "2022-09-22T15:02:34.035305",
     "exception": false,
     "start_time": "2022-09-22T15:02:34.012620",
     "status": "completed"
    },
    "tags": []
   },
   "outputs": [],
   "source": [
    "class PoptorchModel(nn.Module):\n",
    "    def __init__(self, model, loss):\n",
    "        super().__init__()\n",
    "        self.model = model\n",
    "        self.loss = loss\n",
    "\n",
    "    def forward(self, xa, xp, xn):\n",
    "        ya = self.model(xa)\n",
    "        yp = self.model(xp)\n",
    "        yn = self.model(xn)\n",
    "        loss_data = self.loss(ya, yp, yn)\n",
    "        return poptorch.identity_loss(loss_data, reduction='none')\n",
    "\n",
    "def train_triplet_gc(model, dataset, num_epochs,\n",
    "                     lr=0.001, batch_size=16, target_loss = 0,\n",
    "                     gradient_accumulation=1, replication_factor=1):\n",
    "    model.train()\n",
    "    \n",
    "    opts = poptorch.Options()\n",
    "    if hw_emulation:\n",
    "        opts.useIpuModel(True)\n",
    "    opts.enableExecutableCaching(popcache_dir)\n",
    "    opts.connectionType(poptorch.ConnectionType.OnDemand)\n",
    "    opts.useIpuId(ipu_id)\n",
    "    opts.Training.gradientAccumulation(gradient_accumulation)\n",
    "    opts.replicationFactor(replication_factor)\n",
    "    \n",
    "    loss = torch.nn.TripletMarginLoss()\n",
    "    loss_history = []\n",
    "    print(f'lr: {lr}')\n",
    "    optimizer = optim.Adam(model.parameters(), lr=lr)\n",
    "    \n",
    "    poptorch_model = poptorch.trainingModel(PoptorchModel(model, loss), options=opts, optimizer=optimizer)\n",
    "    data_loader = poptorch.DataLoader(opts, dataset, batch_size=batch_size)\n",
    "    \n",
    "    # run a batch to trigger compilation\n",
    "    for xa, xp, xn in data_loader:\n",
    "        poptorch_model(xa, xp, xn)\n",
    "        break\n",
    "\n",
    "    for epoch in range(1, num_epochs+1):\n",
    "        loss_accum = 0\n",
    "        loss_cnt = 0\n",
    "        for xa, xp, xn in tqdm(data_loader, desc=f'train {epoch}/{num_epochs}'):\n",
    "            loss_data = poptorch_model(xa, xp, xn)\n",
    "\n",
    "            loss_accum += float(loss_data.mean())\n",
    "            loss_cnt += 1\n",
    "    \n",
    "        loss_value = loss_accum / loss_cnt\n",
    "        print(f'loss: {loss_value}')\n",
    "\n",
    "        if loss_history and loss_value > loss_history[-1]:\n",
    "            lr *= 0.1\n",
    "            print(f'lr: {lr}')\n",
    "            optimizer = optim.Adam(model.parameters(), lr=lr)\n",
    "            poptorch_model.setOptimizer(optimizer)\n",
    "\n",
    "        loss_history.append(loss_value)\n",
    "        \n",
    "        if loss_value <= target_loss:\n",
    "            print(f'target loss {target_loss} reached')\n",
    "            break\n",
    "\n",
    "    poptorch_model.detachFromDevice()\n",
    "    return loss_history"
   ]
  },
  {
   "cell_type": "code",
   "execution_count": 15,
   "id": "edcf3bdc",
   "metadata": {
    "id": "PQ5MsTvD2Ifs",
    "outputId": "d0fc9abf-e1e4-4051-a659-6cdaae79f8a4",
    "papermill": {
     "duration": 4.759071,
     "end_time": "2022-09-22T15:02:38.832326",
     "exception": false,
     "start_time": "2022-09-22T15:02:34.073255",
     "status": "completed"
    },
    "tags": []
   },
   "outputs": [
    {
     "data": {
      "text/plain": [
       "(Conv2d(1, 64, kernel_size=(7, 7), stride=(2, 2), padding=(3, 3), bias=False),\n",
       " Linear(in_features=2048, out_features=16, bias=True))"
      ]
     },
     "execution_count": 15,
     "metadata": {},
     "output_type": "execute_result"
    }
   ],
   "source": [
    "def create_faceid_model():\n",
    "    model = torchvision.models.resnet50(pretrained=True)\n",
    "    model.fc = nn.Linear(model.fc.in_features, 16)\n",
    "    return model\n",
    "\n",
    "def grayscale_fix_model(model):\n",
    "    w = model.conv1.weight.data.sum(axis=1).reshape(64, 1, 7, 7)\n",
    "    model.conv1 = torch.nn.Conv2d(1, 64, kernel_size=(7, 7), stride=(2, 2), padding=(3, 3), bias=False)\n",
    "    model.conv1.weight.data = w\n",
    "    return model\n",
    "\n",
    "def set_trainable(model):\n",
    "    model.requires_grad_(False)\n",
    "    model.fc.requires_grad_(True)\n",
    "\n",
    "model = create_faceid_model()\n",
    "model = grayscale_fix_model(model)\n",
    "set_trainable(model)\n",
    "#summary(model)\n",
    "model.conv1, model.fc"
   ]
  },
  {
   "cell_type": "code",
   "execution_count": 16,
   "id": "ea813499-7939-46d6-b557-67cff8748f90",
   "metadata": {},
   "outputs": [
    {
     "name": "stderr",
     "output_type": "stream",
     "text": [
      "Loading data: 100%|██████████| 4/4 [00:00<00:00, 1070.59it/s]\n",
      "Preprocessing: 100%|██████████| 20/20 [00:00<00:00, 47825.59it/s]\n",
      "Loading data: 100%|██████████| 20/20 [00:00<00:00, 61.17it/s]\n"
     ]
    },
    {
     "data": {
      "text/plain": [
       "32000"
      ]
     },
     "execution_count": 16,
     "metadata": {},
     "output_type": "execute_result"
    }
   ],
   "source": [
    "dataset = YouTubeFacesDataset(df, data_dir, anchor_set_len=20, positive_set_len=20, negative_set_len=20, preprocess=True)\n",
    "len(dataset)"
   ]
  },
  {
   "cell_type": "code",
   "execution_count": 17,
   "id": "7b218081-942e-4468-9948-3792fe65dec8",
   "metadata": {},
   "outputs": [
    {
     "data": {
      "image/png": "[encoded data removed]",
      "text/plain": [
       "<PIL.Image.Image image mode=L size=224x224>"
      ]
     },
     "execution_count": 17,
     "metadata": {},
     "output_type": "execute_result"
    }
   ],
   "source": [
    "to_pil_transform(dataset[0][1])"
   ]
  },
  {
   "cell_type": "markdown",
   "id": "61d41042-c989-4e00-9d40-29bd72a630e9",
   "metadata": {},
   "source": [
    "---"
   ]
  },
  {
   "cell_type": "code",
   "execution_count": 18,
   "id": "dd71b849-036e-4fc3-834f-62996a16ec98",
   "metadata": {},
   "outputs": [
    {
     "name": "stdout",
     "output_type": "stream",
     "text": [
      "lr: 0.001\n"
     ]
    },
    {
     "name": "stderr",
     "output_type": "stream",
     "text": [
      "Graph compilation: 100%|██████████| 100/100 [22:29<00:00]\n",
      "train 1/1: 100%|██████████| 500/500 [02:50<00:00,  2.94it/s]\n"
     ]
    },
    {
     "name": "stdout",
     "output_type": "stream",
     "text": [
      "loss: 0.021292117908596992\n"
     ]
    }
   ],
   "source": [
    "model = create_faceid_model()\n",
    "model = grayscale_fix_model(model)\n",
    "model.requires_grad_(True)\n",
    "try:\n",
    "    skip = False\n",
    "    loss_history = train_triplet_gc(model, dataset, 1, batch_size=4, gradient_accumulation=8, replication_factor=2)\n",
    "except Exception as e:\n",
    "    print(f'Exception: {e}')\n",
    "    skip = True"
   ]
  },
  {
   "cell_type": "code",
   "execution_count": 19,
   "id": "54f2210d-948a-422c-8eb7-f3ec2ada42e8",
   "metadata": {},
   "outputs": [
    {
     "name": "stdout",
     "output_type": "stream",
     "text": [
      "lr: 0.001\n"
     ]
    },
    {
     "name": "stderr",
     "output_type": "stream",
     "text": [
      "Graph compilation: 100%|██████████| 100/100 [26:20<00:00]\n"
     ]
    },
    {
     "name": "stdout",
     "output_type": "stream",
     "text": [
      "Exception: In poptorch/poptorch_err/include/poptorch_err/ExceptionHandling.hpp:76: 'popart_exception': /opt/jenkins/workspace/poplar/poplar_ci_ubuntu_20_04_unprivileged/popart/willow/src/popx/irlowering.cpp:3515 Out of memory on tile 2944: 722416 bytes used but tiles only have 638976 bytes of memory\n",
      "Error raised in:\n",
      "  [0] popart::Session::prepareDevice: Poplar compilation\n",
      "  [1] Compiler::compileAndPrepareDevice\n",
      "  [2] LowerToPopart::compile\n",
      "  [3] compileWithTrace\n",
      "\n"
     ]
    }
   ],
   "source": [
    "model = create_faceid_model()\n",
    "model = grayscale_fix_model(model)\n",
    "model.requires_grad_(True)\n",
    "try:\n",
    "    if not skip:\n",
    "        loss_history = train_triplet_gc(model, dataset, 1, batch_size=8, gradient_accumulation=8, replication_factor=2)\n",
    "except Exception as e:\n",
    "    print(f'Exception: {e}')\n",
    "    skip = True"
   ]
  },
  {
   "cell_type": "code",
   "execution_count": 20,
   "id": "65c24097-d5cd-4ca6-8732-3dd39382b61a",
   "metadata": {},
   "outputs": [],
   "source": [
    "model = create_faceid_model()\n",
    "model = grayscale_fix_model(model)\n",
    "model.requires_grad_(True)\n",
    "try:\n",
    "    if not skip:\n",
    "        loss_history = train_triplet_gc(model, dataset, 1, batch_size=16, gradient_accumulation=8, replication_factor=2)\n",
    "except Exception as e:\n",
    "    print(f'Exception: {e}')\n",
    "    skip = True"
   ]
  },
  {
   "cell_type": "code",
   "execution_count": 21,
   "id": "13c59cc2-f903-4b50-8d25-6483aae13d19",
   "metadata": {},
   "outputs": [],
   "source": [
    "model = create_faceid_model()\n",
    "model = grayscale_fix_model(model)\n",
    "model.requires_grad_(True)\n",
    "try:\n",
    "    if not skip:\n",
    "        loss_history = train_triplet_gc(model, dataset, 1, batch_size=32, gradient_accumulation=8, replication_factor=2)\n",
    "except Exception as e:\n",
    "    print(f'Exception: {e}')\n",
    "    skip = True"
   ]
  },
  {
   "cell_type": "code",
   "execution_count": 22,
   "id": "214c7596-6216-4064-b323-9ad8e69c0616",
   "metadata": {},
   "outputs": [],
   "source": [
    "model = create_faceid_model()\n",
    "model = grayscale_fix_model(model)\n",
    "model.requires_grad_(True)\n",
    "try:\n",
    "    if not skip:\n",
    "        loss_history = train_triplet_gc(model, dataset, 1, batch_size=64, gradient_accumulation=8, replication_factor=2)\n",
    "except Exception as e:\n",
    "    print(f'Exception: {e}')\n",
    "    skip = True"
   ]
  },
  {
   "cell_type": "code",
   "execution_count": 23,
   "id": "14057652-0742-4553-9e14-a0c7c6878762",
   "metadata": {},
   "outputs": [],
   "source": [
    "model = create_faceid_model()\n",
    "model = grayscale_fix_model(model)\n",
    "model.requires_grad_(True)\n",
    "try:\n",
    "    if not skip:\n",
    "        loss_history = train_triplet_gc(model, dataset, 1, batch_size=128, gradient_accumulation=8, replication_factor=2)\n",
    "except Exception as e:\n",
    "    print(f'Exception: {e}')\n",
    "    skip = True"
   ]
  },
  {
   "cell_type": "markdown",
   "id": "cc617730-c0b5-4dec-b9b0-b82d58833206",
   "metadata": {},
   "source": [
    "---"
   ]
  },
  {
   "cell_type": "code",
   "execution_count": 24,
   "id": "50090206-b7e3-4b55-b4ca-6797d2241bc7",
   "metadata": {},
   "outputs": [
    {
     "name": "stdout",
     "output_type": "stream",
     "text": [
      "lr: 0.001\n"
     ]
    },
    {
     "name": "stderr",
     "output_type": "stream",
     "text": [
      "Graph compilation: 100%|██████████| 100/100 [34:01<00:00]\n",
      "train 1/1: 100%|██████████| 250/250 [03:52<00:00,  1.07it/s]\n"
     ]
    },
    {
     "name": "stdout",
     "output_type": "stream",
     "text": [
      "loss: 0.04505171275138855\n"
     ]
    }
   ],
   "source": [
    "model = create_faceid_model()\n",
    "model = grayscale_fix_model(model)\n",
    "model.requires_grad_(True)\n",
    "try:\n",
    "    skip = False\n",
    "    loss_history = train_triplet_gc(model, dataset, 1, batch_size=8, gradient_accumulation=16)\n",
    "except Exception as e:\n",
    "    print(f'Exception: {e}')\n",
    "    skip = True"
   ]
  },
  {
   "cell_type": "code",
   "execution_count": 25,
   "id": "8ebc3f0d-6d34-44ca-a059-ee07b0002639",
   "metadata": {},
   "outputs": [
    {
     "name": "stdout",
     "output_type": "stream",
     "text": [
      "lr: 0.001\n"
     ]
    },
    {
     "name": "stderr",
     "output_type": "stream",
     "text": [
      "Graph compilation: 100%|██████████| 100/100 [49:03<00:00] \n"
     ]
    },
    {
     "name": "stdout",
     "output_type": "stream",
     "text": [
      "Exception: In poptorch/poptorch_err/include/poptorch_err/ExceptionHandling.hpp:76: 'popart_exception': /opt/jenkins/workspace/poplar/poplar_ci_ubuntu_20_04_unprivileged/popart/willow/src/popx/irlowering.cpp:3515 Out of memory on tile 6526: 639888 bytes used but tiles only have 638976 bytes of memory\n",
      "Error raised in:\n",
      "  [0] popart::Session::prepareDevice: Poplar compilation\n",
      "  [1] Compiler::compileAndPrepareDevice\n",
      "  [2] LowerToPopart::compile\n",
      "  [3] compileWithTrace\n",
      "  [4] popart::popx::Devicex::prepare()\n",
      "  [5] popart::Session::prepareDevice(bool)\n",
      "  [6] poptorch::Compiler::compileAndPrepareDevice()\n",
      "  [7] poptorch::detail::LowerToPopartImpl::compile()\n",
      "  [8] poptorch::LowerToPopart::compile()\n",
      "\n"
     ]
    }
   ],
   "source": [
    "model = create_faceid_model()\n",
    "model = grayscale_fix_model(model)\n",
    "model.requires_grad_(True)\n",
    "try:\n",
    "    if not skip:\n",
    "        loss_history = train_triplet_gc(model, dataset, 1, batch_size=16, gradient_accumulation=16)\n",
    "except Exception as e:\n",
    "    print(f'Exception: {e}')\n",
    "    skip = True"
   ]
  },
  {
   "cell_type": "code",
   "execution_count": 26,
   "id": "fc4965c6-d3c8-4268-b1c7-0954786ce311",
   "metadata": {},
   "outputs": [],
   "source": [
    "model = create_faceid_model()\n",
    "model = grayscale_fix_model(model)\n",
    "model.requires_grad_(True)\n",
    "try:\n",
    "    if not skip:\n",
    "        loss_history = train_triplet_gc(model, dataset, 1, batch_size=32, gradient_accumulation=16)\n",
    "except Exception as e:\n",
    "    print(f'Exception: {e}')\n",
    "    skip = True"
   ]
  },
  {
   "cell_type": "code",
   "execution_count": 27,
   "id": "fbd2765d-95e0-4f0a-974b-c5e8f9f6a1c9",
   "metadata": {},
   "outputs": [],
   "source": [
    "model = create_faceid_model()\n",
    "model = grayscale_fix_model(model)\n",
    "model.requires_grad_(True)\n",
    "try:\n",
    "    if not skip:\n",
    "        loss_history = train_triplet_gc(model, dataset, 1, batch_size=64, gradient_accumulation=16)\n",
    "except Exception as e:\n",
    "    print(f'Exception: {e}')\n",
    "    skip = True"
   ]
  },
  {
   "cell_type": "code",
   "execution_count": 28,
   "id": "08072bf1-70c0-49b7-8a5f-d35a5e8b6f4b",
   "metadata": {},
   "outputs": [],
   "source": [
    "model = create_faceid_model()\n",
    "model = grayscale_fix_model(model)\n",
    "model.requires_grad_(True)\n",
    "try:\n",
    "    if not skip:\n",
    "        loss_history = train_triplet_gc(model, dataset, 1, batch_size=128, gradient_accumulation=16)\n",
    "except Exception as e:\n",
    "    print(f'Exception: {e}')\n",
    "    skip = True"
   ]
  },
  {
   "cell_type": "code",
   "execution_count": 29,
   "id": "e03061fd-10ac-419b-a1f6-99a3c151df77",
   "metadata": {},
   "outputs": [],
   "source": [
    "model = create_faceid_model()\n",
    "model = grayscale_fix_model(model)\n",
    "model.requires_grad_(True)\n",
    "try:\n",
    "    if not skip:\n",
    "        loss_history = train_triplet_gc(model, dataset, 1, batch_size=256, gradient_accumulation=16)\n",
    "except Exception as e:\n",
    "    print(f'Exception: {e}')\n",
    "    skip = True"
   ]
  }
 ],
 "metadata": {
  "kernelspec": {
   "display_name": "Python 3",
   "language": "python",
   "name": "python3"
  },
  "language_info": {
   "codemirror_mode": {
    "name": "ipython",
    "version": 3
   },
   "file_extension": ".py",
   "mimetype": "text/x-python",
   "name": "python",
   "nbconvert_exporter": "python",
   "pygments_lexer": "ipython3",
   "version": "3.8.10"
  },
  "papermill": {
   "default_parameters": {},
   "duration": 10600.005102,
   "end_time": "2022-09-22T17:58:37.073717",
   "environment_variables": {},
   "exception": null,
   "input_path": "__notebook__.ipynb",
   "output_path": "__notebook__.ipynb",
   "parameters": {},
   "start_time": "2022-09-22T15:01:57.068615",
   "version": "2.3.4"
  }
 },
 "nbformat": 4,
 "nbformat_minor": 5
}
