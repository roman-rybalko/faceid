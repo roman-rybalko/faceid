{
 "cells": [
  {
   "cell_type": "code",
   "execution_count": 1,
   "id": "c69b2d65-ff28-4de4-aed8-1a6b33ebe141",
   "metadata": {},
   "outputs": [],
   "source": [
    "import torch.distributed as dist\n",
    "import os"
   ]
  },
  {
   "cell_type": "raw",
   "id": "e52e2960-9e5e-49d1-8c35-97dffa79fd93",
   "metadata": {},
   "source": [
    "os.environ['MASTER_ADDR'] = '127.0.0.1'\n",
    "os.environ['MASTER_PORT'] = '12345'\n",
    "dist.init_process_group('gloo', rank=0, world_size=2)"
   ]
  },
  {
   "cell_type": "code",
   "execution_count": 2,
   "id": "d315dc63-c8ea-485e-a2b9-c29bfd872a84",
   "metadata": {},
   "outputs": [],
   "source": [
    "!rm -vf /tmp/torch_dist"
   ]
  },
  {
   "cell_type": "raw",
   "id": "159c0d74-b07b-4181-824f-20acf718e6d7",
   "metadata": {},
   "source": [
    "dist.init_process_group('gloo', rank=0, world_size=2, init_method='file:///tmp/torch_dist')"
   ]
  },
  {
   "cell_type": "code",
   "execution_count": 2,
   "id": "b3a952a8-e63e-49dc-b072-596698d0fc4f",
   "metadata": {},
   "outputs": [],
   "source": [
    "import multiprocessing"
   ]
  },
  {
   "cell_type": "code",
   "execution_count": 3,
   "id": "402def93-f7bf-4258-993a-569ddd0291b2",
   "metadata": {},
   "outputs": [],
   "source": [
    "dif = '/tmp/torch_dist'\n",
    "!rm -vf {dif}\n",
    "ws = 10"
   ]
  },
  {
   "cell_type": "code",
   "execution_count": 13,
   "id": "459d1d2a-2dfd-4f91-afa9-61f057c88b80",
   "metadata": {},
   "outputs": [],
   "source": [
    "def worker(rank):\n",
    "    dist.init_process_group('gloo', rank=rank, world_size=ws, init_method=f'file://{dif}')\n",
    "    #dist.init_process_group('gloo', rank=rank, world_size=ws, init_method='tcp://127.0.0.1:12345')\n",
    "    dist.destroy_process_group()\n",
    "    return rank"
   ]
  },
  {
   "cell_type": "code",
   "execution_count": 8,
   "id": "7d192181-29b3-4845-9fdc-cceed139c5d8",
   "metadata": {},
   "outputs": [
    {
     "data": {
      "text/plain": [
       "[0, 1, 2, 3, 4, 5, 6, 7, 8, 9]"
      ]
     },
     "execution_count": 8,
     "metadata": {},
     "output_type": "execute_result"
    }
   ],
   "source": [
    "multiprocessing.Pool(processes=ws).map(worker, range(ws))"
   ]
  },
  {
   "cell_type": "code",
   "execution_count": 12,
   "id": "8d8a99b5-35d7-4a77-aa56-105a3ecb36da",
   "metadata": {},
   "outputs": [
    {
     "data": {
      "text/plain": [
       "[0, 1, 2, 3, 4, 5, 6, 7, 8, 9]"
      ]
     },
     "execution_count": 12,
     "metadata": {},
     "output_type": "execute_result"
    }
   ],
   "source": [
    "pool = multiprocessing.Pool(processes=ws)\n",
    "r = pool.map_async(worker, range(ws))\n",
    "r.wait()\n",
    "pool.terminate()\n",
    "pool.join()\n",
    "r.get()"
   ]
  },
  {
   "cell_type": "code",
   "execution_count": 10,
   "id": "d549eb91-8e77-43d0-a28f-df4531fabca5",
   "metadata": {},
   "outputs": [
    {
     "data": {
      "text/plain": [
       "3806"
      ]
     },
     "execution_count": 10,
     "metadata": {},
     "output_type": "execute_result"
    }
   ],
   "source": [
    "import os\n",
    "os.getpid()"
   ]
  },
  {
   "cell_type": "code",
   "execution_count": 16,
   "id": "5c12ca28-f5c9-48aa-bdb7-2bd841f03796",
   "metadata": {},
   "outputs": [],
   "source": [
    "from tqdm import tqdm"
   ]
  },
  {
   "cell_type": "code",
   "execution_count": 18,
   "id": "071b5caa-fef7-40e3-b459-b3670a35f121",
   "metadata": {},
   "outputs": [
    {
     "name": "stderr",
     "output_type": "stream",
     "text": [
      "100%|████████████████████████████████████████████████████████████████████████████████████████████████████████████████████████████████████████████████████████████████████████████████| 100/100 [00:34<00:00,  2.86it/s]\n"
     ]
    }
   ],
   "source": [
    "pool = multiprocessing.Pool(processes=ws)\n",
    "for i in tqdm(range(100)):\n",
    "    r = pool.map_async(worker, range(1, ws))\n",
    "    worker(0)\n",
    "    r.get()\n",
    "pool.terminate()\n",
    "pool.join()"
   ]
  }
 ],
 "metadata": {
  "kernelspec": {
   "display_name": "Python 3 (ipykernel)",
   "language": "python",
   "name": "python3"
  },
  "language_info": {
   "codemirror_mode": {
    "name": "ipython",
    "version": 3
   },
   "file_extension": ".py",
   "mimetype": "text/x-python",
   "name": "python",
   "nbconvert_exporter": "python",
   "pygments_lexer": "ipython3",
   "version": "3.9.7"
  }
 },
 "nbformat": 4,
 "nbformat_minor": 5
}
