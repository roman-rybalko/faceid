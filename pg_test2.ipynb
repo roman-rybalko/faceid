{
 "cells": [
  {
   "cell_type": "code",
   "execution_count": 1,
   "id": "f1bb31eb-02ce-4eac-93a5-3441858db86c",
   "metadata": {},
   "outputs": [],
   "source": [
    "import torch.distributed as dist\n",
    "import os"
   ]
  },
  {
   "cell_type": "code",
   "execution_count": null,
   "id": "d44c185f-3749-4a63-8d46-c088b8fa77e7",
   "metadata": {},
   "outputs": [],
   "source": [
    "os.environ['MASTER_ADDR'] = '127.0.0.1'\n",
    "os.environ['MASTER_PORT'] = '12345'\n",
    "dist.init_process_group('gloo', rank=1, world_size=2)"
   ]
  },
  {
   "cell_type": "code",
   "execution_count": 2,
   "id": "a2a157c9-508d-4a89-95d9-23b25387c2da",
   "metadata": {},
   "outputs": [],
   "source": [
    "dist.init_process_group('gloo', rank=1, world_size=2, init_method='file:///tmp/torch_dist')"
   ]
  }
 ],
 "metadata": {
  "kernelspec": {
   "display_name": "Python 3 (ipykernel)",
   "language": "python",
   "name": "python3"
  },
  "language_info": {
   "codemirror_mode": {
    "name": "ipython",
    "version": 3
   },
   "file_extension": ".py",
   "mimetype": "text/x-python",
   "name": "python",
   "nbconvert_exporter": "python",
   "pygments_lexer": "ipython3",
   "version": "3.9.10"
  }
 },
 "nbformat": 4,
 "nbformat_minor": 5
}
