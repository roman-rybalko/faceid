{
 "cells": [
  {
   "cell_type": "markdown",
   "id": "d38e8ac1",
   "metadata": {
    "papermill": {
     "duration": 0.007781,
     "end_time": "2022-09-22T15:02:05.384085",
     "exception": false,
     "start_time": "2022-09-22T15:02:05.376304",
     "status": "completed"
    },
    "tags": []
   },
   "source": [
    "# Face Identification\n",
    "\n",
    "Output vector: **16** x float32  \n",
    "Dataset size: **20** / 2194  "
   ]
  },
  {
   "cell_type": "code",
   "execution_count": 1,
   "id": "e37b11c7",
   "metadata": {
    "papermill": {
     "duration": 0.598999,
     "end_time": "2022-09-22T15:02:05.989704",
     "exception": false,
     "start_time": "2022-09-22T15:02:05.390705",
     "status": "completed"
    },
    "tags": []
   },
   "outputs": [
    {
     "name": "stdout",
     "output_type": "stream",
     "text": [
      "/kaggle/input/torchvision-resnet-pretrained/resnet50-0676ba61.pth\n",
      "/kaggle/input/torchvision-resnet-pretrained/resnet34-b627a593.pth\n",
      "/kaggle/input/torchvision-resnet-pretrained/resnet101-63fe2227.pth\n",
      "/kaggle/input/torchvision-resnet-pretrained/resnet18-f37072fd.pth\n",
      "/kaggle/input/torchvision-resnet-pretrained/resnet152-f82ba261.pth\n",
      "/kaggle/input/torchvision-resnet-pretrained/resnet152-394f9c45.pth\n",
      "/kaggle/input/torchvision-resnet-pretrained/resnet101-cd907fc2.pth\n",
      "/kaggle/input/torchvision-resnet-pretrained/resnet50-11ad3fa6.pth\n",
      "/kaggle/input/faceid-preprocessed-small/youtube_faces_with_keypoints_full.csv\n",
      "29\n"
     ]
    }
   ],
   "source": [
    "# This Python 3 environment comes with many helpful analytics libraries installed\n",
    "# It is defined by the kaggle/python Docker image: https://github.com/kaggle/docker-python\n",
    "# For example, here's several helpful packages to load\n",
    "\n",
    "import numpy as np # linear algebra\n",
    "import pandas as pd # data processing, CSV file I/O (e.g. pd.read_csv)\n",
    "\n",
    "# Input data files are available in the read-only \"../input/\" directory\n",
    "# For example, running this (by clicking run or pressing Shift+Enter) will list all files under the input directory\n",
    "\n",
    "import os\n",
    "fcnt = 0\n",
    "for dirname, _, filenames in os.walk('/kaggle/input'):\n",
    "    for filename in filenames:\n",
    "        fcnt += 1\n",
    "        if fcnt < 10 or fcnt > 2190:\n",
    "            print(os.path.join(dirname, filename))\n",
    "print(fcnt)\n",
    "\n",
    "# You can write up to 20GB to the current directory (/kaggle/working/) that gets preserved as output when you create a version using \"Save & Run All\" \n",
    "# You can also write temporary files to /kaggle/temp/, but they won't be saved outside of the current session"
   ]
  },
  {
   "cell_type": "code",
   "execution_count": 2,
   "id": "ff86304c",
   "metadata": {
    "papermill": {
     "duration": 1.12206,
     "end_time": "2022-09-22T15:02:07.118459",
     "exception": false,
     "start_time": "2022-09-22T15:02:05.996399",
     "status": "completed"
    },
    "tags": []
   },
   "outputs": [
    {
     "name": "stdout",
     "output_type": "stream",
     "text": [
      "Filesystem     1K-blocks     Used Available Use% Mounted on\n",
      "/dev/vda1      162420480 23098100 139305996  15% /\n"
     ]
    }
   ],
   "source": [
    "!df /kaggle/"
   ]
  },
  {
   "cell_type": "code",
   "execution_count": 3,
   "id": "874d9b12-3949-466f-8d86-b159803b1117",
   "metadata": {
    "papermill": {
     "duration": 6.068463,
     "end_time": "2022-09-22T15:02:13.196940",
     "exception": false,
     "start_time": "2022-09-22T15:02:07.128477",
     "status": "completed"
    },
    "tags": []
   },
   "outputs": [],
   "source": [
    "#!mkdir -pv /kaggle/temp\n",
    "#!rm -Rf /kaggle/temp/*\n",
    "#!cp -as /kaggle/input/youtube-faces-with-facial-keypoints /kaggle/temp/\n",
    "#!mv /kaggle/temp/youtube-faces-with-facial-keypoints/*/*/*.npz /kaggle/temp/youtube-faces-with-facial-keypoints/\n",
    "#!ls /kaggle/temp/youtube-faces-with-facial-keypoints/ | wc"
   ]
  },
  {
   "cell_type": "code",
   "execution_count": 4,
   "id": "c8c0cb10",
   "metadata": {
    "papermill": {
     "duration": 0.015223,
     "end_time": "2022-09-22T15:02:13.218747",
     "exception": false,
     "start_time": "2022-09-22T15:02:13.203524",
     "status": "completed"
    },
    "tags": []
   },
   "outputs": [],
   "source": [
    "#data_dir = '/kaggle/temp/youtube-faces-with-facial-keypoints'\n",
    "data_dir = '/kaggle/input/faceid-preprocessed-small'"
   ]
  },
  {
   "cell_type": "code",
   "execution_count": 5,
   "id": "9ce8059a-76d4-43fe-b0c8-ef0525a1beaf",
   "metadata": {
    "papermill": {
     "duration": 7.350053,
     "end_time": "2022-09-22T15:02:20.575178",
     "exception": false,
     "start_time": "2022-09-22T15:02:13.225125",
     "status": "completed"
    },
    "tags": []
   },
   "outputs": [
    {
     "name": "stdout",
     "output_type": "stream",
     "text": [
      "mkdir: created directory '/home/ubuntu/.cache/torch/hub/checkpoints/'\n",
      "'/kaggle/input/torchvision-resnet-pretrained/resnet101-63fe2227.pth' -> '/home/ubuntu/.cache/torch/hub/checkpoints/resnet101-63fe2227.pth'\n",
      "'/kaggle/input/torchvision-resnet-pretrained/resnet101-cd907fc2.pth' -> '/home/ubuntu/.cache/torch/hub/checkpoints/resnet101-cd907fc2.pth'\n",
      "'/kaggle/input/torchvision-resnet-pretrained/resnet152-394f9c45.pth' -> '/home/ubuntu/.cache/torch/hub/checkpoints/resnet152-394f9c45.pth'\n",
      "'/kaggle/input/torchvision-resnet-pretrained/resnet152-f82ba261.pth' -> '/home/ubuntu/.cache/torch/hub/checkpoints/resnet152-f82ba261.pth'\n",
      "'/kaggle/input/torchvision-resnet-pretrained/resnet18-f37072fd.pth' -> '/home/ubuntu/.cache/torch/hub/checkpoints/resnet18-f37072fd.pth'\n",
      "'/kaggle/input/torchvision-resnet-pretrained/resnet34-b627a593.pth' -> '/home/ubuntu/.cache/torch/hub/checkpoints/resnet34-b627a593.pth'\n",
      "'/kaggle/input/torchvision-resnet-pretrained/resnet50-0676ba61.pth' -> '/home/ubuntu/.cache/torch/hub/checkpoints/resnet50-0676ba61.pth'\n",
      "'/kaggle/input/torchvision-resnet-pretrained/resnet50-11ad3fa6.pth' -> '/home/ubuntu/.cache/torch/hub/checkpoints/resnet50-11ad3fa6.pth'\n",
      "'/home/ubuntu/.cache/torch/hub/checkpoints/resnet50-11ad3fa6.pth' -> '/home/ubuntu/.cache/torch/hub/checkpoints/resnet50-0676ba61.pth'\n",
      "'/home/ubuntu/.cache/torch/hub/checkpoints/resnet101-cd907fc2.pth' -> '/home/ubuntu/.cache/torch/hub/checkpoints/resnet101-63fe2227.pth'\n",
      "'/home/ubuntu/.cache/torch/hub/checkpoints/resnet152-f82ba261.pth' -> '/home/ubuntu/.cache/torch/hub/checkpoints/resnet152-394f9c45.pth'\n",
      "total 32\n",
      "lrwxrwxrwx 1 ubuntu ubuntu 64 Sep 28 08:43 resnet101-63fe2227.pth -> /home/ubuntu/.cache/torch/hub/checkpoints/resnet101-cd907fc2.pth\n",
      "lrwxrwxrwx 1 ubuntu ubuntu 66 Sep 19 21:43 resnet101-cd907fc2.pth -> /kaggle/input/torchvision-resnet-pretrained/resnet101-cd907fc2.pth\n",
      "lrwxrwxrwx 1 ubuntu ubuntu 64 Sep 28 08:43 resnet152-394f9c45.pth -> /home/ubuntu/.cache/torch/hub/checkpoints/resnet152-f82ba261.pth\n",
      "lrwxrwxrwx 1 ubuntu ubuntu 66 Sep 19 21:44 resnet152-f82ba261.pth -> /kaggle/input/torchvision-resnet-pretrained/resnet152-f82ba261.pth\n",
      "lrwxrwxrwx 1 ubuntu ubuntu 65 Sep 19 21:44 resnet18-f37072fd.pth -> /kaggle/input/torchvision-resnet-pretrained/resnet18-f37072fd.pth\n",
      "lrwxrwxrwx 1 ubuntu ubuntu 65 Sep 19 21:44 resnet34-b627a593.pth -> /kaggle/input/torchvision-resnet-pretrained/resnet34-b627a593.pth\n",
      "lrwxrwxrwx 1 ubuntu ubuntu 63 Sep 28 08:43 resnet50-0676ba61.pth -> /home/ubuntu/.cache/torch/hub/checkpoints/resnet50-11ad3fa6.pth\n",
      "lrwxrwxrwx 1 ubuntu ubuntu 65 Sep 19 21:44 resnet50-11ad3fa6.pth -> /kaggle/input/torchvision-resnet-pretrained/resnet50-11ad3fa6.pth\n"
     ]
    }
   ],
   "source": [
    "# Updating to the recent pretrained data\n",
    "!rm -Rf ~/.cache/torch/hub/checkpoints/\n",
    "!mkdir -pv ~/.cache/torch/hub/checkpoints/\n",
    "!cp -avs /kaggle/input/torchvision-resnet-pretrained/resnet*.pth ~/.cache/torch/hub/checkpoints/\n",
    "!cp -vsf ~/.cache/torch/hub/checkpoints/resnet50-11ad3fa6.pth ~/.cache/torch/hub/checkpoints/resnet50-0676ba61.pth\n",
    "!cp -vsf ~/.cache/torch/hub/checkpoints/resnet101-cd907fc2.pth ~/.cache/torch/hub/checkpoints/resnet101-63fe2227.pth\n",
    "!cp -vsf ~/.cache/torch/hub/checkpoints/resnet152-f82ba261.pth ~/.cache/torch/hub/checkpoints/resnet152-394f9c45.pth\n",
    "!ls -l ~/.cache/torch/hub/checkpoints/"
   ]
  },
  {
   "cell_type": "code",
   "execution_count": 6,
   "id": "dc645013",
   "metadata": {
    "id": "xcDdqMb8jWEY",
    "papermill": {
     "duration": 0.016786,
     "end_time": "2022-09-22T15:02:20.611714",
     "exception": false,
     "start_time": "2022-09-22T15:02:20.594928",
     "status": "completed"
    },
    "tags": []
   },
   "outputs": [],
   "source": [
    "import pandas as pd\n",
    "import numpy as np\n",
    "import matplotlib.pyplot as plt\n",
    "from tqdm import tqdm"
   ]
  },
  {
   "cell_type": "code",
   "execution_count": 7,
   "id": "479e300d",
   "metadata": {
    "id": "9Wpb5ohLj5VI",
    "outputId": "ca513529-baef-44a8-9825-ab8ac718af30",
    "papermill": {
     "duration": 0.082417,
     "end_time": "2022-09-22T15:02:20.701294",
     "exception": false,
     "start_time": "2022-09-22T15:02:20.618877",
     "status": "completed"
    },
    "tags": []
   },
   "outputs": [
    {
     "data": {
      "text/html": [
       "<div>\n",
       "<style scoped>\n",
       "    .dataframe tbody tr th:only-of-type {\n",
       "        vertical-align: middle;\n",
       "    }\n",
       "\n",
       "    .dataframe tbody tr th {\n",
       "        vertical-align: top;\n",
       "    }\n",
       "\n",
       "    .dataframe thead th {\n",
       "        text-align: right;\n",
       "    }\n",
       "</style>\n",
       "<table border=\"1\" class=\"dataframe\">\n",
       "  <thead>\n",
       "    <tr style=\"text-align: right;\">\n",
       "      <th></th>\n",
       "      <th>videoID</th>\n",
       "      <th>personName</th>\n",
       "      <th>imageHeight</th>\n",
       "      <th>imageWidth</th>\n",
       "      <th>videoDuration</th>\n",
       "      <th>averageFaceSize</th>\n",
       "      <th>numVideosForPerson</th>\n",
       "    </tr>\n",
       "  </thead>\n",
       "  <tbody>\n",
       "    <tr>\n",
       "      <th>0</th>\n",
       "      <td>Alison_Lohman_0</td>\n",
       "      <td>Alison_Lohman</td>\n",
       "      <td>228.0</td>\n",
       "      <td>213.0</td>\n",
       "      <td>240.0</td>\n",
       "      <td>90.150000</td>\n",
       "      <td>6.0</td>\n",
       "    </tr>\n",
       "    <tr>\n",
       "      <th>1</th>\n",
       "      <td>Alison_Lohman_1</td>\n",
       "      <td>Alison_Lohman</td>\n",
       "      <td>248.0</td>\n",
       "      <td>201.0</td>\n",
       "      <td>79.0</td>\n",
       "      <td>108.417722</td>\n",
       "      <td>6.0</td>\n",
       "    </tr>\n",
       "    <tr>\n",
       "      <th>2</th>\n",
       "      <td>Alison_Lohman_2</td>\n",
       "      <td>Alison_Lohman</td>\n",
       "      <td>335.0</td>\n",
       "      <td>308.0</td>\n",
       "      <td>136.0</td>\n",
       "      <td>122.161765</td>\n",
       "      <td>6.0</td>\n",
       "    </tr>\n",
       "    <tr>\n",
       "      <th>3</th>\n",
       "      <td>Alison_Lohman_3</td>\n",
       "      <td>Alison_Lohman</td>\n",
       "      <td>151.0</td>\n",
       "      <td>110.0</td>\n",
       "      <td>53.0</td>\n",
       "      <td>58.000000</td>\n",
       "      <td>6.0</td>\n",
       "    </tr>\n",
       "    <tr>\n",
       "      <th>4</th>\n",
       "      <td>Alison_Lohman_4</td>\n",
       "      <td>Alison_Lohman</td>\n",
       "      <td>236.0</td>\n",
       "      <td>228.0</td>\n",
       "      <td>147.0</td>\n",
       "      <td>91.680272</td>\n",
       "      <td>6.0</td>\n",
       "    </tr>\n",
       "    <tr>\n",
       "      <th>5</th>\n",
       "      <td>Alison_Lohman_5</td>\n",
       "      <td>Alison_Lohman</td>\n",
       "      <td>227.0</td>\n",
       "      <td>179.0</td>\n",
       "      <td>68.0</td>\n",
       "      <td>105.647059</td>\n",
       "      <td>6.0</td>\n",
       "    </tr>\n",
       "    <tr>\n",
       "      <th>6</th>\n",
       "      <td>Kevin_Spacey_0</td>\n",
       "      <td>Kevin_Spacey</td>\n",
       "      <td>196.0</td>\n",
       "      <td>264.0</td>\n",
       "      <td>91.0</td>\n",
       "      <td>99.912088</td>\n",
       "      <td>6.0</td>\n",
       "    </tr>\n",
       "    <tr>\n",
       "      <th>7</th>\n",
       "      <td>Kevin_Spacey_1</td>\n",
       "      <td>Kevin_Spacey</td>\n",
       "      <td>260.0</td>\n",
       "      <td>217.0</td>\n",
       "      <td>59.0</td>\n",
       "      <td>120.186441</td>\n",
       "      <td>6.0</td>\n",
       "    </tr>\n",
       "    <tr>\n",
       "      <th>8</th>\n",
       "      <td>Kevin_Spacey_2</td>\n",
       "      <td>Kevin_Spacey</td>\n",
       "      <td>186.0</td>\n",
       "      <td>175.0</td>\n",
       "      <td>71.0</td>\n",
       "      <td>86.746479</td>\n",
       "      <td>6.0</td>\n",
       "    </tr>\n",
       "    <tr>\n",
       "      <th>9</th>\n",
       "      <td>Kevin_Spacey_3</td>\n",
       "      <td>Kevin_Spacey</td>\n",
       "      <td>100.0</td>\n",
       "      <td>89.0</td>\n",
       "      <td>99.0</td>\n",
       "      <td>44.636364</td>\n",
       "      <td>6.0</td>\n",
       "    </tr>\n",
       "    <tr>\n",
       "      <th>10</th>\n",
       "      <td>Kevin_Spacey_4</td>\n",
       "      <td>Kevin_Spacey</td>\n",
       "      <td>212.0</td>\n",
       "      <td>207.0</td>\n",
       "      <td>240.0</td>\n",
       "      <td>99.025000</td>\n",
       "      <td>6.0</td>\n",
       "    </tr>\n",
       "    <tr>\n",
       "      <th>11</th>\n",
       "      <td>Kevin_Spacey_5</td>\n",
       "      <td>Kevin_Spacey</td>\n",
       "      <td>242.0</td>\n",
       "      <td>205.0</td>\n",
       "      <td>203.0</td>\n",
       "      <td>116.886700</td>\n",
       "      <td>6.0</td>\n",
       "    </tr>\n",
       "    <tr>\n",
       "      <th>12</th>\n",
       "      <td>Lauren_Hutton_0</td>\n",
       "      <td>Lauren_Hutton</td>\n",
       "      <td>223.0</td>\n",
       "      <td>202.0</td>\n",
       "      <td>127.0</td>\n",
       "      <td>96.086614</td>\n",
       "      <td>6.0</td>\n",
       "    </tr>\n",
       "    <tr>\n",
       "      <th>13</th>\n",
       "      <td>Lauren_Hutton_1</td>\n",
       "      <td>Lauren_Hutton</td>\n",
       "      <td>279.0</td>\n",
       "      <td>213.0</td>\n",
       "      <td>68.0</td>\n",
       "      <td>107.191176</td>\n",
       "      <td>6.0</td>\n",
       "    </tr>\n",
       "    <tr>\n",
       "      <th>14</th>\n",
       "      <td>Lauren_Hutton_2</td>\n",
       "      <td>Lauren_Hutton</td>\n",
       "      <td>320.0</td>\n",
       "      <td>361.0</td>\n",
       "      <td>55.0</td>\n",
       "      <td>193.781818</td>\n",
       "      <td>6.0</td>\n",
       "    </tr>\n",
       "    <tr>\n",
       "      <th>15</th>\n",
       "      <td>Lauren_Hutton_3</td>\n",
       "      <td>Lauren_Hutton</td>\n",
       "      <td>325.0</td>\n",
       "      <td>281.0</td>\n",
       "      <td>240.0</td>\n",
       "      <td>136.158333</td>\n",
       "      <td>6.0</td>\n",
       "    </tr>\n",
       "    <tr>\n",
       "      <th>16</th>\n",
       "      <td>Lauren_Hutton_4</td>\n",
       "      <td>Lauren_Hutton</td>\n",
       "      <td>222.0</td>\n",
       "      <td>208.0</td>\n",
       "      <td>51.0</td>\n",
       "      <td>103.431373</td>\n",
       "      <td>6.0</td>\n",
       "    </tr>\n",
       "    <tr>\n",
       "      <th>17</th>\n",
       "      <td>Lauren_Hutton_5</td>\n",
       "      <td>Lauren_Hutton</td>\n",
       "      <td>165.0</td>\n",
       "      <td>192.0</td>\n",
       "      <td>147.0</td>\n",
       "      <td>56.435374</td>\n",
       "      <td>6.0</td>\n",
       "    </tr>\n",
       "    <tr>\n",
       "      <th>18</th>\n",
       "      <td>Robert_F_Kennedy_Jr_0</td>\n",
       "      <td>Robert_F_Kennedy_Jr</td>\n",
       "      <td>192.0</td>\n",
       "      <td>169.0</td>\n",
       "      <td>240.0</td>\n",
       "      <td>84.812500</td>\n",
       "      <td>6.0</td>\n",
       "    </tr>\n",
       "    <tr>\n",
       "      <th>19</th>\n",
       "      <td>Robert_F_Kennedy_Jr_1</td>\n",
       "      <td>Robert_F_Kennedy_Jr</td>\n",
       "      <td>229.0</td>\n",
       "      <td>232.0</td>\n",
       "      <td>107.0</td>\n",
       "      <td>109.439252</td>\n",
       "      <td>6.0</td>\n",
       "    </tr>\n",
       "  </tbody>\n",
       "</table>\n",
       "</div>"
      ],
      "text/plain": [
       "                  videoID           personName  imageHeight  imageWidth  \\\n",
       "0         Alison_Lohman_0        Alison_Lohman        228.0       213.0   \n",
       "1         Alison_Lohman_1        Alison_Lohman        248.0       201.0   \n",
       "2         Alison_Lohman_2        Alison_Lohman        335.0       308.0   \n",
       "3         Alison_Lohman_3        Alison_Lohman        151.0       110.0   \n",
       "4         Alison_Lohman_4        Alison_Lohman        236.0       228.0   \n",
       "5         Alison_Lohman_5        Alison_Lohman        227.0       179.0   \n",
       "6          Kevin_Spacey_0         Kevin_Spacey        196.0       264.0   \n",
       "7          Kevin_Spacey_1         Kevin_Spacey        260.0       217.0   \n",
       "8          Kevin_Spacey_2         Kevin_Spacey        186.0       175.0   \n",
       "9          Kevin_Spacey_3         Kevin_Spacey        100.0        89.0   \n",
       "10         Kevin_Spacey_4         Kevin_Spacey        212.0       207.0   \n",
       "11         Kevin_Spacey_5         Kevin_Spacey        242.0       205.0   \n",
       "12        Lauren_Hutton_0        Lauren_Hutton        223.0       202.0   \n",
       "13        Lauren_Hutton_1        Lauren_Hutton        279.0       213.0   \n",
       "14        Lauren_Hutton_2        Lauren_Hutton        320.0       361.0   \n",
       "15        Lauren_Hutton_3        Lauren_Hutton        325.0       281.0   \n",
       "16        Lauren_Hutton_4        Lauren_Hutton        222.0       208.0   \n",
       "17        Lauren_Hutton_5        Lauren_Hutton        165.0       192.0   \n",
       "18  Robert_F_Kennedy_Jr_0  Robert_F_Kennedy_Jr        192.0       169.0   \n",
       "19  Robert_F_Kennedy_Jr_1  Robert_F_Kennedy_Jr        229.0       232.0   \n",
       "\n",
       "    videoDuration  averageFaceSize  numVideosForPerson  \n",
       "0           240.0        90.150000                 6.0  \n",
       "1            79.0       108.417722                 6.0  \n",
       "2           136.0       122.161765                 6.0  \n",
       "3            53.0        58.000000                 6.0  \n",
       "4           147.0        91.680272                 6.0  \n",
       "5            68.0       105.647059                 6.0  \n",
       "6            91.0        99.912088                 6.0  \n",
       "7            59.0       120.186441                 6.0  \n",
       "8            71.0        86.746479                 6.0  \n",
       "9            99.0        44.636364                 6.0  \n",
       "10          240.0        99.025000                 6.0  \n",
       "11          203.0       116.886700                 6.0  \n",
       "12          127.0        96.086614                 6.0  \n",
       "13           68.0       107.191176                 6.0  \n",
       "14           55.0       193.781818                 6.0  \n",
       "15          240.0       136.158333                 6.0  \n",
       "16           51.0       103.431373                 6.0  \n",
       "17          147.0        56.435374                 6.0  \n",
       "18          240.0        84.812500                 6.0  \n",
       "19          107.0       109.439252                 6.0  "
      ]
     },
     "execution_count": 7,
     "metadata": {},
     "output_type": "execute_result"
    }
   ],
   "source": [
    "df = pd.read_csv(f'{data_dir}/youtube_faces_with_keypoints_full.csv')\n",
    "df"
   ]
  },
  {
   "cell_type": "code",
   "execution_count": 8,
   "id": "d6eedcaa",
   "metadata": {
    "id": "sJguPEzWihnZ",
    "papermill": {
     "duration": 2.107764,
     "end_time": "2022-09-22T15:02:22.816205",
     "exception": false,
     "start_time": "2022-09-22T15:02:20.708441",
     "status": "completed"
    },
    "tags": []
   },
   "outputs": [],
   "source": [
    "import torch\n",
    "import torch.nn as nn\n",
    "import torch.optim as optim\n",
    "import torchvision\n",
    "#from torchinfo import summary"
   ]
  },
  {
   "cell_type": "code",
   "execution_count": 9,
   "id": "cee41ad6",
   "metadata": {
    "id": "NfaI6TWnkpWw",
    "papermill": {
     "duration": 0.203356,
     "end_time": "2022-09-22T15:02:23.122384",
     "exception": false,
     "start_time": "2022-09-22T15:02:22.919028",
     "status": "completed"
    },
    "tags": []
   },
   "outputs": [],
   "source": [
    "import PIL\n",
    "import cv2\n",
    "\n",
    "class NormalizeTransform:\n",
    "    def __init__(self, ratio=0.333):\n",
    "        self.ratio = ratio\n",
    "\n",
    "        self.jawPoints          = [ 0,17]\n",
    "        self.rigthEyebrowPoints = [17,22]\n",
    "        self.leftEyebrowPoints  = [22,27]\n",
    "        self.noseRidgePoints    = [27,31]\n",
    "        self.noseBasePoints     = [31,36]\n",
    "        self.rightEyePoints     = [36,42]\n",
    "        self.leftEyePoints      = [42,48]\n",
    "        self.outerMouthPoints   = [48,60]\n",
    "        self.innerMouthPoints   = [60,68]\n",
    "\n",
    "        self.norm_transform = torchvision.transforms.Compose([\n",
    "            torchvision.transforms.Resize((224, 224)),\n",
    "            torchvision.transforms.functional.autocontrast,\n",
    "            torchvision.transforms.functional.to_grayscale,\n",
    "            torchvision.transforms.ToTensor(),\n",
    "        ])\n",
    "\n",
    "    def __call__(self, data, landmarks):\n",
    "        data = self.face_transform(data, landmarks)\n",
    "        img = PIL.Image.fromarray(data)\n",
    "        data = self.norm_transform(img)\n",
    "        return data\n",
    "\n",
    "    def face_transform(self, data, landmarks):\n",
    "        # see FaceId-Normalization.ipynb\n",
    "        pt1 = self.avg(landmarks[self.leftEyePoints[0]:self.leftEyePoints[1]])\n",
    "        pt2 = self.avg(landmarks[self.outerMouthPoints[0]:self.outerMouthPoints[1]])\n",
    "        pt3 = self.avg(landmarks[self.rightEyePoints[0]:self.rightEyePoints[1]])\n",
    "        src_pts = np.float32([pt1, pt2, pt3])\n",
    "        dst_pts = np.float32([\n",
    "            [data.shape[0]*self.ratio, data.shape[1]*self.ratio],\n",
    "            [data.shape[0]/2, data.shape[1]*(1-self.ratio)],\n",
    "            [data.shape[0]*(1-self.ratio), data.shape[1]*self.ratio]\n",
    "        ])\n",
    "        M = cv2.getAffineTransform(src_pts, dst_pts)\n",
    "        data = cv2.warpAffine(data, M, data.shape[:2])\n",
    "        return data\n",
    "    \n",
    "    def avg(self, pts):\n",
    "        x = sum(x for x,y in pts) / len(pts)\n",
    "        y = sum(y for x,y in pts) / len(pts)\n",
    "        return x, y"
   ]
  },
  {
   "cell_type": "code",
   "execution_count": 10,
   "id": "777a96cd",
   "metadata": {
    "id": "K6M-NqdtlvAN",
    "outputId": "7dba579b-5797-41d8-fdfb-4bbe6b901641",
    "papermill": {
     "duration": 10.813371,
     "end_time": "2022-09-22T15:02:33.943279",
     "exception": false,
     "start_time": "2022-09-22T15:02:23.129908",
     "status": "completed"
    },
    "tags": []
   },
   "outputs": [
    {
     "name": "stderr",
     "output_type": "stream",
     "text": [
      "Loading data: 100%|█████████████████████████████████████████████████████████████████████| 4/4 [00:00<00:00, 800.67it/s]\n"
     ]
    },
    {
     "data": {
      "text/plain": [
       "4"
      ]
     },
     "execution_count": 10,
     "metadata": {},
     "output_type": "execute_result"
    }
   ],
   "source": [
    "import random\n",
    "import pickle\n",
    "\n",
    "class YouTubeFacesDataset(torch.utils.data.Dataset):\n",
    "    def __init__(self, df, folder = '.', transform = NormalizeTransform(),\n",
    "                 cache_lim = 200,\n",
    "                 preload = False, preprocess = False,\n",
    "                 anchor_set_len = 1, positive_set_len = 1, negative_set_len = 1,\n",
    "                 stochastic_set_fraction = 0.8):\n",
    "        self.transform = transform\n",
    "        self.cache = {}\n",
    "        self.cache_lim = 0 if preload else cache_lim\n",
    "        self.preprocessed_cache = {}\n",
    "        need_preprocessing = []\n",
    "        self.data = {}\n",
    "        for p in tqdm(df['personName'].unique(), desc='Loading data'):\n",
    "            self.data[p] = []\n",
    "            for fn, cnt in df[df['personName'] == p][['videoID', 'videoDuration']].values:\n",
    "                fp = f'{folder}/{fn}.npz'\n",
    "                cnt = int(cnt)\n",
    "                self.data[p] += [(fp, i) for i in range(cnt)]\n",
    "                if preload:\n",
    "                    self.cache_lim += 1\n",
    "                    imgs, lms = self._cache_get(fp)\n",
    "                    assert imgs.shape[-1] == cnt\n",
    "                    assert lms.shape[-1] == cnt\n",
    "                if preprocess:\n",
    "                    need_preprocessing += [fp]\n",
    "        if preprocess:\n",
    "            preprocessed = [self._preprocess(fp) for fp in tqdm(need_preprocessing, desc='Preprocessing')]\n",
    "            self.preprocessed_cache = dict((fp, self._load_preprocessed(pfp)) for fp, pfp in tqdm(preprocessed, desc='Loading data'))\n",
    "        self.persons = list(self.data.keys())\n",
    "        self.neg_data = {}\n",
    "        for p in self.persons:\n",
    "            self.neg_data[p] = []\n",
    "            for p_neg in self.persons:\n",
    "                if p_neg == p:\n",
    "                    continue\n",
    "                self.neg_data[p] += self.data[p_neg]\n",
    "        self.anchor_set_len = anchor_set_len\n",
    "        self.positive_set_len = positive_set_len\n",
    "        self.negative_set_len = negative_set_len\n",
    "        self.stochastic_set_fraction = stochastic_set_fraction\n",
    "    \n",
    "    def __len__(self):\n",
    "        return len(self.persons) * self.anchor_set_len * self.positive_set_len * self.negative_set_len\n",
    "    \n",
    "    def __getitem__(self, index):\n",
    "        p_i = index // self.negative_set_len // self.positive_set_len // self.anchor_set_len\n",
    "        assert p_i >= 0\n",
    "        assert p_i < len(self.persons)\n",
    "        p = self.persons[p_i]\n",
    "        if self.negative_set_len > len(self.neg_data[p]) * self.stochastic_set_fraction:\n",
    "            negative_i = index % self.negative_set_len\n",
    "            negative_i = negative_i % len(self.neg_data[p])\n",
    "        else:\n",
    "            negative_i = random.randint(0, len(self.neg_data[p]) - 1)\n",
    "        assert negative_i >= 0\n",
    "        assert negative_i < len(self.neg_data[p])\n",
    "        if self.positive_set_len > len(self.data[p]) * self.stochastic_set_fraction:\n",
    "            positive_i = (index // self.negative_set_len) % self.positive_set_len\n",
    "            positive_i = positive_i % len(self.data[p])\n",
    "        else:\n",
    "            positive_i = random.randint(0, len(self.data[p]) - 1)\n",
    "        assert positive_i >= 0\n",
    "        assert positive_i < len(self.data[p])\n",
    "        if self.anchor_set_len > len(self.data[p]) * self.stochastic_set_fraction:\n",
    "            anchor_i = (index // self.negative_set_len // self.positive_set_len) % self.anchor_set_len\n",
    "            anchor_i = anchor_i % len(self.data[p])\n",
    "        else:\n",
    "            anchor_i = random.randint(0, len(self.data[p]) - 1)\n",
    "        assert anchor_i >= 0\n",
    "        assert anchor_i < len(self.data[p])\n",
    "        return self._load(*self.data[p][anchor_i]), self._load(*self.data[p][positive_i]), self._load(*self.neg_data[p][negative_i])\n",
    "    \n",
    "    def _load(self, fp, i):\n",
    "        if fp in self.preprocessed_cache:\n",
    "            assert i < len(self.preprocessed_cache[fp]), (fp, i, len(self.preprocessed_cache[fp]))\n",
    "            if self.preprocessed_cache[fp][i] is not None:\n",
    "                return self.preprocessed_cache[fp][i]\n",
    "        imgs, lms = self._cache_get(fp)\n",
    "        assert i < imgs.shape[-1], (fp, i, imgs.shape[-1])\n",
    "        data = imgs[:,:,:,i]\n",
    "        assert i < lms.shape[-1], (fp, i, lms.shape[-1])\n",
    "        lms = lms[:,:,i]\n",
    "        if self.transform:\n",
    "            data = self.transform(data, lms)\n",
    "        return data\n",
    "    \n",
    "    def _cache_get(self, fp):\n",
    "        if fp in self.cache:\n",
    "            return self.cache[fp]\n",
    "        if len(self.cache) > self.cache_lim:\n",
    "            idx = random.randint(0, len(self.cache) - 1)\n",
    "            key = list(self.cache.keys())[idx]\n",
    "            del self.cache[key]\n",
    "        d = np.load(fp)\n",
    "        # trigger lazy loading\n",
    "        self.cache[fp] = (d['colorImages'], d['landmarks2D'])\n",
    "        return self.cache[fp]\n",
    "    \n",
    "    def _preprocess(self, fp):\n",
    "        pfp = f'{fp}.pkl'\n",
    "        if not os.path.exists(pfp):\n",
    "            imgs, lms = self._cache_get(fp)\n",
    "            d = [self._load(fp, i) for i in range(imgs.shape[-1])]\n",
    "            with open(pfp, 'wb') as f:\n",
    "                pickle.dump(d, f)\n",
    "        return (fp, pfp)\n",
    "    \n",
    "    def _load_preprocessed(self, pfp):\n",
    "        with open(pfp, 'rb') as f:\n",
    "            return pickle.load(f)\n",
    "\n",
    "dataset = YouTubeFacesDataset(df, data_dir)\n",
    "len(dataset)"
   ]
  },
  {
   "cell_type": "code",
   "execution_count": 11,
   "id": "8621d451",
   "metadata": {
    "id": "xl07IjbM8sh9",
    "outputId": "896090fd-3e14-4abb-b7f8-9488d94e2d11",
    "papermill": {
     "duration": 0.049366,
     "end_time": "2022-09-22T15:02:34.003155",
     "exception": false,
     "start_time": "2022-09-22T15:02:33.953789",
     "status": "completed"
    },
    "tags": []
   },
   "outputs": [],
   "source": [
    "to_pil_transform = torchvision.transforms.ToPILImage()\n",
    "#to_pil_transform(dataset[0][1])"
   ]
  },
  {
   "cell_type": "code",
   "execution_count": 12,
   "id": "b29fda80-f986-4a3d-a259-7a6eff4aee18",
   "metadata": {},
   "outputs": [],
   "source": [
    "def dev_list():\n",
    "    #return [torch.cuda.get_device_properties(torch.device(f'cuda:{i}')) for i in range(torch.cuda.device_count())]\n",
    "    return [torch.cuda.get_device_properties(torch.device(f'cuda:{i}')) for i in range(1)]\n",
    "\n",
    "def train_triplet_multigpu(model, dataset, num_epochs,\n",
    "                           lr = 0.001, batch_size = 16,\n",
    "                           target_loss = 0, lr_reduct_loss_threshold = 0.02):\n",
    "    model.train()\n",
    "    #model = nn.DataParallel(model)\n",
    "    model = nn.DataParallel(model, device_ids=[0])\n",
    "    #model.to(torch.device('cuda'))\n",
    "    model.to(torch.device('cuda:0'))\n",
    "    \n",
    "    loss = nn.TripletMarginLoss()\n",
    "    loss_history = []\n",
    "    \n",
    "    data_loader = torch.utils.data.DataLoader(dataset, batch_size=batch_size)\n",
    "    optimizer = optim.Adam(model.parameters(), lr=lr)\n",
    "    \n",
    "    print(f'lr: {lr}')\n",
    "    for epoch in range(1, num_epochs+1):\n",
    "        loss_accum = 0\n",
    "        loss_cnt = 0\n",
    "        for xa, xp, xn in tqdm(data_loader, desc=f'train {epoch}/{num_epochs}'):\n",
    "            ya = model(xa)\n",
    "            yp = model(xp)\n",
    "            yn = model(xn)\n",
    "            loss_data = loss(ya, yp, yn)\n",
    "            \n",
    "            optimizer.zero_grad()\n",
    "            loss_data.backward()\n",
    "            optimizer.step()\n",
    "            \n",
    "            loss_accum += float(loss_data)\n",
    "            loss_cnt += 1\n",
    "\n",
    "        loss_value = loss_accum / loss_cnt\n",
    "        print(f'loss: {loss_value}')\n",
    "\n",
    "        if loss_history and loss_value > loss_history[-1] * (1 - lr_reduct_loss_threshold):\n",
    "            lr *= 0.1\n",
    "            print(f'lr: {lr}')\n",
    "            optimizer = optim.Adam(model.parameters(), lr=lr)\n",
    "        \n",
    "        loss_history.append(loss_value)\n",
    "        \n",
    "        if loss_value <= target_loss:\n",
    "            print(f'target loss {target_loss} reached')\n",
    "            break\n",
    "\n",
    "    return loss_history"
   ]
  },
  {
   "cell_type": "code",
   "execution_count": 13,
   "id": "edcf3bdc",
   "metadata": {
    "id": "PQ5MsTvD2Ifs",
    "outputId": "d0fc9abf-e1e4-4051-a659-6cdaae79f8a4",
    "papermill": {
     "duration": 4.759071,
     "end_time": "2022-09-22T15:02:38.832326",
     "exception": false,
     "start_time": "2022-09-22T15:02:34.073255",
     "status": "completed"
    },
    "tags": []
   },
   "outputs": [
    {
     "data": {
      "text/plain": [
       "(Conv2d(1, 64, kernel_size=(7, 7), stride=(2, 2), padding=(3, 3), bias=False),\n",
       " Linear(in_features=2048, out_features=16, bias=True))"
      ]
     },
     "execution_count": 13,
     "metadata": {},
     "output_type": "execute_result"
    }
   ],
   "source": [
    "def create_faceid_model():\n",
    "    model = torchvision.models.resnet50(weights='DEFAULT')\n",
    "    model.fc = nn.Linear(model.fc.in_features, 16)\n",
    "    return model\n",
    "\n",
    "def grayscale_fix_model(model):\n",
    "    w = model.conv1.weight.data.sum(axis=1).reshape(64, 1, 7, 7)\n",
    "    model.conv1 = torch.nn.Conv2d(1, 64, kernel_size=(7, 7), stride=(2, 2), padding=(3, 3), bias=False)\n",
    "    model.conv1.weight.data = w\n",
    "    return model\n",
    "\n",
    "def set_trainable(model):\n",
    "    model.requires_grad_(False)\n",
    "    model.fc.requires_grad_(True)\n",
    "\n",
    "model = create_faceid_model()\n",
    "model = grayscale_fix_model(model)\n",
    "set_trainable(model)\n",
    "#summary(model)\n",
    "model.conv1, model.fc"
   ]
  },
  {
   "cell_type": "code",
   "execution_count": 14,
   "id": "1dcec84c-5abf-48eb-bcd8-5d678a5de5c8",
   "metadata": {},
   "outputs": [
    {
     "name": "stderr",
     "output_type": "stream",
     "text": [
      "Loading data: 100%|████████████████████████████████████████████████████████████████████| 4/4 [00:00<00:00, 1039.80it/s]\n",
      "Preprocessing: 100%|███████████████████████████████████████████████████████████████| 20/20 [00:00<00:00, 114130.72it/s]\n",
      "Loading data: 100%|████████████████████████████████████████████████████████████████████| 20/20 [00:00<00:00, 30.12it/s]\n"
     ]
    },
    {
     "data": {
      "text/plain": [
       "4000"
      ]
     },
     "execution_count": 14,
     "metadata": {},
     "output_type": "execute_result"
    }
   ],
   "source": [
    "dataset = YouTubeFacesDataset(df, data_dir, anchor_set_len=10, positive_set_len=10, negative_set_len=10, preprocess=True)\n",
    "len(dataset)"
   ]
  },
  {
   "cell_type": "code",
   "execution_count": 15,
   "id": "c38a129e-f9e9-42f5-9ecc-0618636c04ed",
   "metadata": {},
   "outputs": [
    {
     "data": {
      "image/png": "[encoded data removed]",
      "text/plain": [
       "<PIL.Image.Image image mode=L size=224x224 at 0x7F8115AE6D60>"
      ]
     },
     "execution_count": 15,
     "metadata": {},
     "output_type": "execute_result"
    }
   ],
   "source": [
    "to_pil_transform(dataset[0][1])"
   ]
  },
  {
   "cell_type": "code",
   "execution_count": 16,
   "id": "45c1bfbe-6f1c-4fb8-9f50-bbf94838c25c",
   "metadata": {},
   "outputs": [
    {
     "data": {
      "text/plain": [
       "[_CudaDeviceProperties(name='NVIDIA GeForce RTX 2080 Ti', major=7, minor=5, total_memory=11019MB, multi_processor_count=68)]"
      ]
     },
     "execution_count": 16,
     "metadata": {},
     "output_type": "execute_result"
    }
   ],
   "source": [
    "dev_list()"
   ]
  },
  {
   "cell_type": "code",
   "execution_count": 17,
   "id": "615ad764",
   "metadata": {
    "id": "DYnLNynr1pNS",
    "outputId": "8ae787a8-8b99-4cf1-d65c-b626bd476382",
    "papermill": {
     "duration": 6147.754176,
     "end_time": "2022-09-22T16:45:06.596237",
     "exception": false,
     "start_time": "2022-09-22T15:02:38.842061",
     "status": "completed"
    },
    "tags": []
   },
   "outputs": [
    {
     "name": "stdout",
     "output_type": "stream",
     "text": [
      "lr: 0.001\n"
     ]
    },
    {
     "name": "stderr",
     "output_type": "stream",
     "text": [
      "train 1/10: 100%|██████████████████████████████████████████████████████████████████████| 16/16 [00:15<00:00,  1.07it/s]\n"
     ]
    },
    {
     "name": "stdout",
     "output_type": "stream",
     "text": [
      "loss: 0.8687521629035473\n"
     ]
    },
    {
     "name": "stderr",
     "output_type": "stream",
     "text": [
      "train 2/10: 100%|██████████████████████████████████████████████████████████████████████| 16/16 [00:14<00:00,  1.09it/s]\n"
     ]
    },
    {
     "name": "stdout",
     "output_type": "stream",
     "text": [
      "loss: 0.4468033416196704\n"
     ]
    },
    {
     "name": "stderr",
     "output_type": "stream",
     "text": [
      "train 3/10: 100%|██████████████████████████████████████████████████████████████████████| 16/16 [00:14<00:00,  1.08it/s]\n"
     ]
    },
    {
     "name": "stdout",
     "output_type": "stream",
     "text": [
      "loss: 0.19780613016337156\n"
     ]
    },
    {
     "name": "stderr",
     "output_type": "stream",
     "text": [
      "train 4/10: 100%|██████████████████████████████████████████████████████████████████████| 16/16 [00:14<00:00,  1.09it/s]\n"
     ]
    },
    {
     "name": "stdout",
     "output_type": "stream",
     "text": [
      "loss: 0.105026243487373\n"
     ]
    },
    {
     "name": "stderr",
     "output_type": "stream",
     "text": [
      "train 5/10: 100%|██████████████████████████████████████████████████████████████████████| 16/16 [00:14<00:00,  1.08it/s]\n"
     ]
    },
    {
     "name": "stdout",
     "output_type": "stream",
     "text": [
      "loss: 0.07021495059598237\n"
     ]
    },
    {
     "name": "stderr",
     "output_type": "stream",
     "text": [
      "train 6/10: 100%|██████████████████████████████████████████████████████████████████████| 16/16 [00:14<00:00,  1.08it/s]\n"
     ]
    },
    {
     "name": "stdout",
     "output_type": "stream",
     "text": [
      "loss: 0.04655457392800599\n"
     ]
    },
    {
     "name": "stderr",
     "output_type": "stream",
     "text": [
      "train 7/10: 100%|██████████████████████████████████████████████████████████████████████| 16/16 [00:14<00:00,  1.08it/s]\n"
     ]
    },
    {
     "name": "stdout",
     "output_type": "stream",
     "text": [
      "loss: 0.03915114491246641\n"
     ]
    },
    {
     "name": "stderr",
     "output_type": "stream",
     "text": [
      "train 8/10: 100%|██████████████████████████████████████████████████████████████████████| 16/16 [00:15<00:00,  1.06it/s]\n"
     ]
    },
    {
     "name": "stdout",
     "output_type": "stream",
     "text": [
      "loss: 0.02516529883723706\n"
     ]
    },
    {
     "name": "stderr",
     "output_type": "stream",
     "text": [
      "train 9/10: 100%|██████████████████████████████████████████████████████████████████████| 16/16 [00:14<00:00,  1.08it/s]\n"
     ]
    },
    {
     "name": "stdout",
     "output_type": "stream",
     "text": [
      "loss: 0.023135094612371176\n"
     ]
    },
    {
     "name": "stderr",
     "output_type": "stream",
     "text": [
      "train 10/10: 100%|█████████████████████████████████████████████████████████████████████| 16/16 [00:14<00:00,  1.08it/s]"
     ]
    },
    {
     "name": "stdout",
     "output_type": "stream",
     "text": [
      "loss: 0.018410530901746824\n"
     ]
    },
    {
     "name": "stderr",
     "output_type": "stream",
     "text": [
      "\n"
     ]
    },
    {
     "data": {
      "image/png": "[encoded data removed]",
      "text/plain": [
       "<Figure size 432x288 with 1 Axes>"
      ]
     },
     "metadata": {
      "needs_background": "light"
     },
     "output_type": "display_data"
    }
   ],
   "source": [
    "loss_history = train_triplet_multigpu(model, dataset, 10, batch_size=256)\n",
    "plt.plot(loss_history)\n",
    "plt.title('loss');"
   ]
  },
  {
   "cell_type": "code",
   "execution_count": 18,
   "id": "727209cd-b77b-4e38-bdb3-6fbb1b736653",
   "metadata": {},
   "outputs": [],
   "source": [
    "model.to(torch.device('cpu'));"
   ]
  },
  {
   "cell_type": "code",
   "execution_count": 19,
   "id": "6dc83236",
   "metadata": {
    "id": "PSoePnKbXp58",
    "outputId": "5e742904-b13e-4834-83a1-770707c17f8f",
    "papermill": {
     "duration": 2.112794,
     "end_time": "2022-09-22T16:45:09.679153",
     "exception": false,
     "start_time": "2022-09-22T16:45:07.566359",
     "status": "completed"
    },
    "tags": []
   },
   "outputs": [
    {
     "data": {
      "image/png": "[encoded data removed]",
      "text/plain": [
       "<Figure size 432x288 with 1 Axes>"
      ]
     },
     "metadata": {
      "needs_background": "light"
     },
     "output_type": "display_data"
    }
   ],
   "source": [
    "plt.hist(model.fc.weight.detach().reshape(-1).numpy(), bins=100);"
   ]
  },
  {
   "cell_type": "code",
   "execution_count": 20,
   "id": "964b2e1e",
   "metadata": {
    "id": "GaluetAiclVn",
    "papermill": {
     "duration": 0.951564,
     "end_time": "2022-09-22T16:45:13.713349",
     "exception": false,
     "start_time": "2022-09-22T16:45:12.761785",
     "status": "completed"
    },
    "tags": []
   },
   "outputs": [],
   "source": [
    "def cos_similarity(v1, v2):\n",
    "    val = np.inner(v1,v2)/(np.linalg.norm(v1)*np.linalg.norm(v2))\n",
    "    return val.reshape(-1)[0]\n",
    "\n",
    "def euc_similarity(v1, v2):\n",
    "    return np.linalg.norm(v1-v2)"
   ]
  },
  {
   "cell_type": "code",
   "execution_count": 21,
   "id": "cc3b6cf7",
   "metadata": {
    "id": "fFtYrsKntNsX",
    "outputId": "7244266d-d69a-483e-bc4b-4853b3009e7d",
    "papermill": {
     "duration": 1.602186,
     "end_time": "2022-09-22T16:45:16.344910",
     "exception": false,
     "start_time": "2022-09-22T16:45:14.742724",
     "status": "completed"
    },
    "tags": []
   },
   "outputs": [
    {
     "name": "stdout",
     "output_type": "stream",
     "text": [
      "0.24975967 0.5298686 0.97950214 0.92662513 -0.6738864 0.7012128\n",
      "0.6692254 0.4585554 0.94240034 0.91054046 -0.57201874 0.7019598\n",
      "0.60717106 0.5738429 0.9104913 0.90237415 -0.593049 0.6595352\n",
      "0.56803495 0.7648294 0.9247672 0.796149 -0.42910573 0.4876334\n",
      "0.4344869 0.44214782 0.93663484 0.8606243 -0.5187832 0.44611797\n",
      "0.348586 0.600323 0.96133715 0.8316842 -0.43466255 0.46046034\n",
      "0.7283824 0.71371114 0.76284343 0.7508701 -0.53539836 0.58902377\n",
      "0.7767778 1.2516214 0.8710607 0.59117365 -0.50023425 0.6320219\n",
      "0.47255903 1.0184641 0.98701674 0.8456442 -0.5096902 0.72213554\n",
      "0.6524679 0.9321641 0.953397 0.614279 -0.62872404 0.7357619\n"
     ]
    }
   ],
   "source": [
    "for i in range(10):\n",
    "    v1 = model(dataset[42][0].reshape(1, 1, 224, 224)).detach().numpy()\n",
    "    v2 = model(dataset[42][1].reshape(1, 1, 224, 224)).detach().numpy()\n",
    "    v3 = model(dataset[42][2].reshape(1, 1, 224, 224)).detach().numpy()\n",
    "    print(euc_similarity(v1, v2), euc_similarity(v1, v3),\n",
    "          cos_similarity(v1, v2), cos_similarity(v1, v3),\n",
    "          np.vstack((v1, v2, v3)).min(), np.vstack((v1, v2, v3)).max())"
   ]
  },
  {
   "cell_type": "code",
   "execution_count": 22,
   "id": "ea24bf46-f0ca-4a79-a843-5ee27f39f509",
   "metadata": {},
   "outputs": [],
   "source": [
    "torch.save(model, f'faceid-model-{loss_history[-1]}.pt')"
   ]
  },
  {
   "cell_type": "code",
   "execution_count": 23,
   "id": "270dce8d-ad96-4b95-8e6e-c6db46fb24bf",
   "metadata": {},
   "outputs": [
    {
     "name": "stderr",
     "output_type": "stream",
     "text": [
      "Loading data: 100%|█████████████████████████████████████████████████████████████████████| 4/4 [00:00<00:00, 853.67it/s]\n",
      "Preprocessing: 100%|████████████████████████████████████████████████████████████████| 20/20 [00:00<00:00, 33434.07it/s]\n",
      "Loading data: 100%|████████████████████████████████████████████████████████████████████| 20/20 [00:00<00:00, 31.48it/s]\n"
     ]
    },
    {
     "data": {
      "text/plain": [
       "500"
      ]
     },
     "execution_count": 23,
     "metadata": {},
     "output_type": "execute_result"
    }
   ],
   "source": [
    "dataset = YouTubeFacesDataset(df, data_dir, anchor_set_len=5, positive_set_len=5, negative_set_len=5, preprocess=True)\n",
    "len(dataset)"
   ]
  },
  {
   "cell_type": "code",
   "execution_count": 24,
   "id": "3dd2d7d6-296e-417d-94df-12730b36e28c",
   "metadata": {},
   "outputs": [
    {
     "data": {
      "image/png": "[encoded data removed]",
      "text/plain": [
       "<PIL.Image.Image image mode=L size=224x224 at 0x7F81159E30A0>"
      ]
     },
     "execution_count": 24,
     "metadata": {},
     "output_type": "execute_result"
    }
   ],
   "source": [
    "to_pil_transform(dataset[0][1])"
   ]
  },
  {
   "cell_type": "code",
   "execution_count": 25,
   "id": "0fb83031",
   "metadata": {
    "id": "FwJflhX1aeym",
    "outputId": "de38b2ce-ec38-4e20-b8af-29de96a53be4",
    "papermill": {
     "duration": 4373.356898,
     "end_time": "2022-09-22T17:58:10.734899",
     "exception": false,
     "start_time": "2022-09-22T16:45:17.378001",
     "status": "completed"
    },
    "tags": []
   },
   "outputs": [
    {
     "name": "stdout",
     "output_type": "stream",
     "text": [
      "lr: 1e-05\n"
     ]
    },
    {
     "name": "stderr",
     "output_type": "stream",
     "text": [
      "train 1/10: 100%|██████████████████████████████████████████████████████████████████████| 16/16 [00:05<00:00,  2.75it/s]\n"
     ]
    },
    {
     "name": "stdout",
     "output_type": "stream",
     "text": [
      "loss: 0.02982696075923741\n"
     ]
    },
    {
     "name": "stderr",
     "output_type": "stream",
     "text": [
      "train 2/10: 100%|██████████████████████████████████████████████████████████████████████| 16/16 [00:05<00:00,  2.76it/s]\n"
     ]
    },
    {
     "name": "stdout",
     "output_type": "stream",
     "text": [
      "loss: 0.02285007736645639\n"
     ]
    },
    {
     "name": "stderr",
     "output_type": "stream",
     "text": [
      "train 3/10: 100%|██████████████████████████████████████████████████████████████████████| 16/16 [00:05<00:00,  2.76it/s]\n"
     ]
    },
    {
     "name": "stdout",
     "output_type": "stream",
     "text": [
      "loss: 0.027937470702454448\n",
      "lr: 1.0000000000000002e-06\n"
     ]
    },
    {
     "name": "stderr",
     "output_type": "stream",
     "text": [
      "train 4/10: 100%|██████████████████████████████████████████████████████████████████████| 16/16 [00:05<00:00,  2.76it/s]\n"
     ]
    },
    {
     "name": "stdout",
     "output_type": "stream",
     "text": [
      "loss: 0.013426618999801576\n"
     ]
    },
    {
     "name": "stderr",
     "output_type": "stream",
     "text": [
      "train 5/10: 100%|██████████████████████████████████████████████████████████████████████| 16/16 [00:05<00:00,  2.76it/s]\n"
     ]
    },
    {
     "name": "stdout",
     "output_type": "stream",
     "text": [
      "loss: 0.014874718472128734\n",
      "lr: 1.0000000000000002e-07\n"
     ]
    },
    {
     "name": "stderr",
     "output_type": "stream",
     "text": [
      "train 6/10: 100%|██████████████████████████████████████████████████████████████████████| 16/16 [00:05<00:00,  2.76it/s]\n"
     ]
    },
    {
     "name": "stdout",
     "output_type": "stream",
     "text": [
      "loss: 0.026691887178458273\n",
      "lr: 1.0000000000000004e-08\n"
     ]
    },
    {
     "name": "stderr",
     "output_type": "stream",
     "text": [
      "train 7/10: 100%|██████████████████████████████████████████████████████████████████████| 16/16 [00:05<00:00,  2.76it/s]\n"
     ]
    },
    {
     "name": "stdout",
     "output_type": "stream",
     "text": [
      "loss: 0.016093005426228046\n"
     ]
    },
    {
     "name": "stderr",
     "output_type": "stream",
     "text": [
      "train 8/10: 100%|██████████████████████████████████████████████████████████████████████| 16/16 [00:05<00:00,  2.76it/s]\n"
     ]
    },
    {
     "name": "stdout",
     "output_type": "stream",
     "text": [
      "loss: 0.020163275068625808\n",
      "lr: 1.0000000000000005e-09\n"
     ]
    },
    {
     "name": "stderr",
     "output_type": "stream",
     "text": [
      "train 9/10: 100%|██████████████████████████████████████████████████████████████████████| 16/16 [00:05<00:00,  2.76it/s]\n"
     ]
    },
    {
     "name": "stdout",
     "output_type": "stream",
     "text": [
      "loss: 0.026398250018246472\n",
      "lr: 1.0000000000000006e-10\n"
     ]
    },
    {
     "name": "stderr",
     "output_type": "stream",
     "text": [
      "train 10/10: 100%|█████████████████████████████████████████████████████████████████████| 16/16 [00:05<00:00,  2.76it/s]"
     ]
    },
    {
     "name": "stdout",
     "output_type": "stream",
     "text": [
      "loss: 0.02554230042733252\n"
     ]
    },
    {
     "name": "stderr",
     "output_type": "stream",
     "text": [
      "\n"
     ]
    },
    {
     "data": {
      "image/png": "[encoded data removed]",
      "text/plain": [
       "<Figure size 432x288 with 1 Axes>"
      ]
     },
     "metadata": {
      "needs_background": "light"
     },
     "output_type": "display_data"
    }
   ],
   "source": [
    "model.requires_grad_(True)\n",
    "loss_history = train_triplet_multigpu(model, dataset, 10, target_loss=0.01, lr=0.00001, batch_size=32)\n",
    "plt.plot(loss_history)\n",
    "plt.title('loss');"
   ]
  },
  {
   "cell_type": "code",
   "execution_count": 26,
   "id": "f6bb41fd-be1f-49e3-aea4-60225dc01e34",
   "metadata": {},
   "outputs": [],
   "source": [
    "model.to(torch.device('cpu'));"
   ]
  },
  {
   "cell_type": "code",
   "execution_count": 27,
   "id": "cc66525d",
   "metadata": {
    "id": "awzalcn6bpTe",
    "outputId": "3926ea4f-f4d2-4902-d2d6-da44f976a256",
    "papermill": {
     "duration": 2.447524,
     "end_time": "2022-09-22T17:58:14.813972",
     "exception": false,
     "start_time": "2022-09-22T17:58:12.366448",
     "status": "completed"
    },
    "tags": []
   },
   "outputs": [
    {
     "data": {
      "image/png": "[encoded data removed]",
      "text/plain": [
       "<Figure size 432x288 with 1 Axes>"
      ]
     },
     "metadata": {
      "needs_background": "light"
     },
     "output_type": "display_data"
    }
   ],
   "source": [
    "plt.hist(model.fc.weight.detach().reshape(-1).numpy(), bins=100);"
   ]
  },
  {
   "cell_type": "code",
   "execution_count": 28,
   "id": "e0a7ad75",
   "metadata": {
    "id": "e90luCJ3kZ9Q",
    "outputId": "1356b994-f4fb-47ec-da11-5fb86ae56262",
    "papermill": {
     "duration": 2.299878,
     "end_time": "2022-09-22T17:58:28.489114",
     "exception": false,
     "start_time": "2022-09-22T17:58:26.189236",
     "status": "completed"
    },
    "tags": []
   },
   "outputs": [
    {
     "name": "stdout",
     "output_type": "stream",
     "text": [
      "0.3190138 0.90826267 0.98136246 0.6486297 -0.4710482 0.5907847\n",
      "1.0409225 0.7846079 0.6828908 0.48492584 -0.53144187 0.60209674\n",
      "0.17038804 0.6218529 0.9929247 0.9315441 -0.5374187 0.52898216\n",
      "0.6555578 1.3048271 0.9462758 0.48387426 -0.5945958 0.5320406\n",
      "0.4799788 0.7728003 0.93091667 0.7867497 -0.51719654 0.5990698\n",
      "0.8968773 1.1655442 0.8253143 0.53209305 -0.6774463 0.7571176\n",
      "0.5919203 0.8251918 0.91165775 0.78767794 -0.45928827 0.51814175\n",
      "0.33669087 0.36817834 0.9422048 0.9283315 -0.52765185 0.4540573\n",
      "0.46306333 1.3384129 0.9788638 0.22828302 -0.55761147 0.5528474\n",
      "1.0698085 1.0534985 0.7919358 0.34397885 -0.5310399 0.6026312\n"
     ]
    }
   ],
   "source": [
    "for i in range(10):\n",
    "    v1 = model(dataset[42][0].reshape(1, 1, 224, 224)).detach().numpy()\n",
    "    v2 = model(dataset[42][1].reshape(1, 1, 224, 224)).detach().numpy()\n",
    "    v3 = model(dataset[42][2].reshape(1, 1, 224, 224)).detach().numpy()\n",
    "    print(euc_similarity(v1, v2), euc_similarity(v1, v3),\n",
    "          cos_similarity(v1, v2), cos_similarity(v1, v3),\n",
    "          np.vstack((v1, v2, v3)).min(), np.vstack((v1, v2, v3)).max())"
   ]
  },
  {
   "cell_type": "code",
   "execution_count": 29,
   "id": "385ad04a",
   "metadata": {
    "id": "37ox4WYL7-Tb",
    "outputId": "519ac00f-3b1a-4761-f2c7-802805940540",
    "papermill": {
     "duration": 2.889478,
     "end_time": "2022-09-22T17:58:32.874738",
     "exception": false,
     "start_time": "2022-09-22T17:58:29.985260",
     "status": "completed"
    },
    "tags": []
   },
   "outputs": [
    {
     "name": "stdout",
     "output_type": "stream",
     "text": [
      "-rw-rw-r-- 1 ubuntu ubuntu 94470465 Sep 28 08:45 faceid-model-0.018410530901746824.pt\n",
      "-rw-rw-r-- 1 ubuntu ubuntu 94470465 Sep 28 08:46 faceid-model-0.02554230042733252.pt\n"
     ]
    }
   ],
   "source": [
    "torch.save(model, f'faceid-model-{loss_history[-1]}.pt')\n",
    "!ls -l faceid-model-*.pt"
   ]
  }
 ],
 "metadata": {
  "kernelspec": {
   "display_name": "Python 3",
   "language": "python",
   "name": "python3"
  },
  "language_info": {
   "codemirror_mode": {
    "name": "ipython",
    "version": 3
   },
   "file_extension": ".py",
   "mimetype": "text/x-python",
   "name": "python",
   "nbconvert_exporter": "python",
   "pygments_lexer": "ipython3",
   "version": "3.6.9"
  },
  "papermill": {
   "default_parameters": {},
   "duration": 10600.005102,
   "end_time": "2022-09-22T17:58:37.073717",
   "environment_variables": {},
   "exception": null,
   "input_path": "__notebook__.ipynb",
   "output_path": "__notebook__.ipynb",
   "parameters": {},
   "start_time": "2022-09-22T15:01:57.068615",
   "version": "2.3.4"
  }
 },
 "nbformat": 4,
 "nbformat_minor": 5
}
