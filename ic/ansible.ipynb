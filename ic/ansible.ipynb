{
 "cells": [
  {
   "cell_type": "code",
   "execution_count": 23,
   "id": "27b331de-7de1-426e-a461-95c32754e91d",
   "metadata": {},
   "outputs": [
    {
     "data": {
      "text/plain": [
       "('~/work/key', 'ansible_hosts.yaml', '176.99.135.42')"
      ]
     },
     "execution_count": 23,
     "metadata": {},
     "output_type": "execute_result"
    }
   ],
   "source": [
    "key = '~/work/key'\n",
    "user = 'ubuntu'\n",
    "\n",
    "with open('ansible_hosts.txt', 'r') as f:\n",
    "    hosts = [l.strip() for l in f.readlines()]\n",
    "master = hosts[0]\n",
    "hosts_name = 'ansible_hosts.yaml'\n",
    "with open(hosts_name, 'w') as f:\n",
    "    f.write(f'all:\\n')\n",
    "    f.write(f'  vars:\\n')\n",
    "    f.write(f'    dist_master_addr: {master}\\n')\n",
    "    f.write(f'    dist_world_size: {len(hosts)}\\n')\n",
    "    f.write(f'  hosts:\\n')\n",
    "    for i, h in enumerate(hosts):\n",
    "        f.write(f'    {h}:\\n')\n",
    "        f.write(f'      ansible_host: {h}\\n')\n",
    "        f.write(f'      dist_rank: {i}\\n')\n",
    "hosts = hosts_name\n",
    "\n",
    "key, hosts, master"
   ]
  },
  {
   "cell_type": "code",
   "execution_count": 2,
   "id": "30e1c4fa-70fb-461b-8725-3ba94fb55428",
   "metadata": {},
   "outputs": [],
   "source": [
    "import os\n",
    "os.environ['ANSIBLE_FORKS'] = '42'"
   ]
  },
  {
   "cell_type": "code",
   "execution_count": 38,
   "id": "5318cc1e-51fe-4bbf-8f6c-f4976546ba45",
   "metadata": {
    "tags": []
   },
   "outputs": [
    {
     "name": "stdout",
     "output_type": "stream",
     "text": [
      "removed '/home/jovyan/.ssh/known_hosts'\n",
      "\u001b[0;33m176.99.135.42 | CHANGED | rc=0 >>\u001b[0m\n",
      "\u001b[0;33mLinux data-srv-test 5.4.0-81-generic #91-Ubuntu SMP Thu Jul 15 19:09:17 UTC 2021 x86_64 x86_64 x86_64 GNU/Linux\u001b[0m\n",
      "\u001b[0;33mFilesystem     1K-blocks    Used Available Use% Mounted on\u001b[0m\n",
      "\u001b[0;33m/dev/vda1       60795672 1967280  58812008   4% /\u001b[0m\n"
     ]
    }
   ],
   "source": [
    "!rm -vf ~/.ssh/known_hosts\n",
    "!ansible --private-key {key} --ssh-common-args='-o StrictHostKeyChecking=accept-new' -i {hosts} -u {user} all -m shell -a 'uname -a; df /'"
   ]
  },
  {
   "cell_type": "code",
   "execution_count": 4,
   "id": "8e3b85f1-1e07-4b5f-b0b5-c554469ddf88",
   "metadata": {},
   "outputs": [
    {
     "name": "stdout",
     "output_type": "stream",
     "text": [
      "\u001b[0;32m176.99.135.61 | SUCCESS => {\u001b[0m\n",
      "\u001b[0;32m    \"dist_rank\": 0\u001b[0m\n",
      "\u001b[0;32m}\u001b[0m\n",
      "\u001b[0;32m176.99.135.97 | SUCCESS => {\u001b[0m\n",
      "\u001b[0;32m    \"dist_rank\": 1\u001b[0m\n",
      "\u001b[0;32m}\u001b[0m\n",
      "\u001b[0;32m176.99.135.94 | SUCCESS => {\u001b[0m\n",
      "\u001b[0;32m    \"dist_rank\": 3\u001b[0m\n",
      "\u001b[0;32m}\u001b[0m\n",
      "\u001b[0;32m176.99.135.121 | SUCCESS => {\u001b[0m\n",
      "\u001b[0;32m    \"dist_rank\": 4\u001b[0m\n",
      "\u001b[0;32m}\u001b[0m\n",
      "\u001b[0;32m176.99.135.60 | SUCCESS => {\u001b[0m\n",
      "\u001b[0;32m    \"dist_rank\": 2\u001b[0m\n",
      "\u001b[0;32m}\u001b[0m\n",
      "\u001b[0;32m176.99.135.115 | SUCCESS => {\u001b[0m\n",
      "\u001b[0;32m    \"dist_rank\": 5\u001b[0m\n",
      "\u001b[0;32m}\u001b[0m\n",
      "\u001b[0;32m176.99.135.40 | SUCCESS => {\u001b[0m\n",
      "\u001b[0;32m    \"dist_rank\": 6\u001b[0m\n",
      "\u001b[0;32m}\u001b[0m\n",
      "\u001b[0;32m176.99.135.38 | SUCCESS => {\u001b[0m\n",
      "\u001b[0;32m    \"dist_rank\": 7\u001b[0m\n",
      "\u001b[0;32m}\u001b[0m\n"
     ]
    }
   ],
   "source": [
    "!ansible --private-key {key} -i {hosts} -u {user} all -m debug -a 'var=dist_rank'"
   ]
  },
  {
   "cell_type": "code",
   "execution_count": 26,
   "id": "66486a8e-077a-46d1-9141-d2a84fe4d93b",
   "metadata": {},
   "outputs": [],
   "source": [
    "#!ansible --private-key {key} -i {hosts} -u {user} all -m script -a setup-ic.sh"
   ]
  },
  {
   "cell_type": "markdown",
   "id": "12a289b3-ec7a-4c99-9ad4-260ccef2a9a0",
   "metadata": {},
   "source": [
    "---"
   ]
  },
  {
   "cell_type": "code",
   "execution_count": 39,
   "id": "4f81dfc0-ed7c-4c2c-b8e1-3abcf43aa191",
   "metadata": {},
   "outputs": [
    {
     "name": "stdout",
     "output_type": "stream",
     "text": [
      "\n",
      "PLAY [all] *********************************************************************\n",
      "\n",
      "TASK [setup-ic.sh] *************************************************************\n",
      "\u001b[0;33mchanged: [176.99.135.42]\u001b[0m\n",
      "\n",
      "TASK [chmod /var/www/fileserver] ***********************************************\n",
      "\u001b[0;33mchanged: [176.99.135.42]\u001b[0m\n",
      "\n",
      "TASK [download.sh] *************************************************************\n",
      "\u001b[0;33mchanged: [176.99.135.42]\u001b[0m\n",
      "\n",
      "PLAY RECAP *********************************************************************\n",
      "\u001b[0;33m176.99.135.42\u001b[0m              : \u001b[0;32mok=3   \u001b[0m \u001b[0;33mchanged=3   \u001b[0m unreachable=0    failed=0    skipped=0    rescued=0    ignored=0   \n",
      "\n"
     ]
    }
   ],
   "source": [
    "!ansible-playbook --private-key {key} -i {hosts} -u {user} data-srv.yaml"
   ]
  },
  {
   "cell_type": "code",
   "execution_count": 30,
   "id": "b36501ff-3775-41b5-9a5f-0fc220da5b02",
   "metadata": {},
   "outputs": [],
   "source": [
    "#!ansible --private-key {key} -i {hosts} -u {user} all -m shell -a 'rm -Rvf /kaggle /tmp/work'"
   ]
  },
  {
   "cell_type": "code",
   "execution_count": 5,
   "id": "7f204ce6-460a-4f74-b448-b096bb2d0267",
   "metadata": {},
   "outputs": [
    {
     "name": "stdout",
     "output_type": "stream",
     "text": [
      "\n",
      "PLAY [all] *********************************************************************\n",
      "\n",
      "TASK [setup-ic.sh] *************************************************************\n",
      "\u001b[0;33mchanged: [176.99.135.97]\u001b[0m\n",
      "\u001b[0;33mchanged: [176.99.135.38]\u001b[0m\n",
      "\u001b[0;33mchanged: [176.99.135.94]\u001b[0m\n",
      "\u001b[0;33mchanged: [176.99.135.115]\u001b[0m\n",
      "\u001b[0;33mchanged: [176.99.135.40]\u001b[0m\n",
      "\u001b[0;33mchanged: [176.99.135.121]\u001b[0m\n",
      "\u001b[0;33mchanged: [176.99.135.60]\u001b[0m\n",
      "\u001b[0;33mchanged: [176.99.135.61]\u001b[0m\n",
      "\n",
      "TASK [setup.sh] ****************************************************************\n",
      "\u001b[0;33mchanged: [176.99.135.121]\u001b[0m\n",
      "\u001b[0;33mchanged: [176.99.135.94]\u001b[0m\n",
      "\u001b[0;33mchanged: [176.99.135.38]\u001b[0m\n",
      "\u001b[0;33mchanged: [176.99.135.97]\u001b[0m\n",
      "\u001b[0;33mchanged: [176.99.135.115]\u001b[0m\n",
      "\u001b[0;33mchanged: [176.99.135.40]\u001b[0m\n",
      "\u001b[0;33mchanged: [176.99.135.61]\u001b[0m\n",
      "\u001b[0;33mchanged: [176.99.135.60]\u001b[0m\n",
      "\n",
      "TASK [download.sh] *************************************************************\n",
      "\u001b[0;33mchanged: [176.99.135.38]\u001b[0m\n",
      "\u001b[0;33mchanged: [176.99.135.94]\u001b[0m\n",
      "\u001b[0;33mchanged: [176.99.135.97]\u001b[0m\n",
      "\u001b[0;33mchanged: [176.99.135.121]\u001b[0m\n",
      "\u001b[0;33mchanged: [176.99.135.40]\u001b[0m\n",
      "\u001b[0;33mchanged: [176.99.135.115]\u001b[0m\n",
      "\u001b[0;33mchanged: [176.99.135.60]\u001b[0m\n",
      "\u001b[0;33mchanged: [176.99.135.61]\u001b[0m\n",
      "\n",
      "TASK [check /tmp/work] *********************************************************\n",
      "\u001b[0;33mchanged: [176.99.135.61]\u001b[0m\n",
      "\u001b[0;33mchanged: [176.99.135.60]\u001b[0m\n",
      "\u001b[0;33mchanged: [176.99.135.94]\u001b[0m\n",
      "\u001b[0;33mchanged: [176.99.135.97]\u001b[0m\n",
      "\u001b[0;33mchanged: [176.99.135.121]\u001b[0m\n",
      "\u001b[0;33mchanged: [176.99.135.115]\u001b[0m\n",
      "\u001b[0;33mchanged: [176.99.135.38]\u001b[0m\n",
      "\u001b[0;33mchanged: [176.99.135.40]\u001b[0m\n",
      "\n",
      "TASK [check /kaggle/input] *****************************************************\n",
      "\u001b[0;33mchanged: [176.99.135.61]\u001b[0m\n",
      "\u001b[0;33mchanged: [176.99.135.94]\u001b[0m\n",
      "\u001b[0;33mchanged: [176.99.135.97]\u001b[0m\n",
      "\u001b[0;33mchanged: [176.99.135.60]\u001b[0m\n",
      "\u001b[0;33mchanged: [176.99.135.121]\u001b[0m\n",
      "\u001b[0;33mchanged: [176.99.135.115]\u001b[0m\n",
      "\u001b[0;33mchanged: [176.99.135.40]\u001b[0m\n",
      "\u001b[0;33mchanged: [176.99.135.38]\u001b[0m\n",
      "\n",
      "PLAY RECAP *********************************************************************\n",
      "\u001b[0;33m176.99.135.115\u001b[0m             : \u001b[0;32mok=5   \u001b[0m \u001b[0;33mchanged=5   \u001b[0m unreachable=0    failed=0    skipped=0    rescued=0    ignored=0   \n",
      "\u001b[0;33m176.99.135.121\u001b[0m             : \u001b[0;32mok=5   \u001b[0m \u001b[0;33mchanged=5   \u001b[0m unreachable=0    failed=0    skipped=0    rescued=0    ignored=0   \n",
      "\u001b[0;33m176.99.135.38\u001b[0m              : \u001b[0;32mok=5   \u001b[0m \u001b[0;33mchanged=5   \u001b[0m unreachable=0    failed=0    skipped=0    rescued=0    ignored=0   \n",
      "\u001b[0;33m176.99.135.40\u001b[0m              : \u001b[0;32mok=5   \u001b[0m \u001b[0;33mchanged=5   \u001b[0m unreachable=0    failed=0    skipped=0    rescued=0    ignored=0   \n",
      "\u001b[0;33m176.99.135.60\u001b[0m              : \u001b[0;32mok=5   \u001b[0m \u001b[0;33mchanged=5   \u001b[0m unreachable=0    failed=0    skipped=0    rescued=0    ignored=0   \n",
      "\u001b[0;33m176.99.135.61\u001b[0m              : \u001b[0;32mok=5   \u001b[0m \u001b[0;33mchanged=5   \u001b[0m unreachable=0    failed=0    skipped=0    rescued=0    ignored=0   \n",
      "\u001b[0;33m176.99.135.94\u001b[0m              : \u001b[0;32mok=5   \u001b[0m \u001b[0;33mchanged=5   \u001b[0m unreachable=0    failed=0    skipped=0    rescued=0    ignored=0   \n",
      "\u001b[0;33m176.99.135.97\u001b[0m              : \u001b[0;32mok=5   \u001b[0m \u001b[0;33mchanged=5   \u001b[0m unreachable=0    failed=0    skipped=0    rescued=0    ignored=0   \n",
      "\n"
     ]
    }
   ],
   "source": [
    "os.environ['DATA_SRV'] = '176.99.135.45'\n",
    "!ansible-playbook --private-key {key} -i {hosts} -u {user} data-srv-cli.yaml"
   ]
  },
  {
   "cell_type": "code",
   "execution_count": 6,
   "id": "4e738093-437b-47b4-b88c-7eddefbeada5",
   "metadata": {},
   "outputs": [],
   "source": [
    "#!ansible-playbook --private-key {key} -i {hosts} -u {user} data.yaml"
   ]
  },
  {
   "cell_type": "markdown",
   "id": "1f7ce685-9e87-4c2c-81dc-4ed4e5f474d2",
   "metadata": {},
   "source": [
    "---"
   ]
  },
  {
   "cell_type": "code",
   "execution_count": 8,
   "id": "de0917b0-f30e-4d73-a861-1efcb3a4be50",
   "metadata": {},
   "outputs": [
    {
     "name": "stdout",
     "output_type": "stream",
     "text": [
      "\n",
      "PLAY [all] *********************************************************************\n",
      "\n",
      "TASK [prepare] *****************************************************************\n",
      "\u001b[0;33mchanged: [176.99.135.40]\u001b[0m\n",
      "\u001b[0;33mchanged: [176.99.135.115]\u001b[0m\n",
      "\u001b[0;33mchanged: [176.99.135.94]\u001b[0m\n",
      "\u001b[0;33mchanged: [176.99.135.121]\u001b[0m\n",
      "\u001b[0;33mchanged: [176.99.135.97]\u001b[0m\n",
      "\u001b[0;33mchanged: [176.99.135.38]\u001b[0m\n",
      "\u001b[0;33mchanged: [176.99.135.60]\u001b[0m\n",
      "\u001b[0;33mchanged: [176.99.135.61]\u001b[0m\n",
      "\n",
      "TASK [start] *******************************************************************\n",
      "\u001b[0;33mchanged: [176.99.135.94]\u001b[0m\n",
      "\u001b[0;33mchanged: [176.99.135.61]\u001b[0m\n",
      "\u001b[0;33mchanged: [176.99.135.97]\u001b[0m\n",
      "\u001b[0;33mchanged: [176.99.135.60]\u001b[0m\n",
      "\u001b[0;33mchanged: [176.99.135.121]\u001b[0m\n",
      "\u001b[0;33mchanged: [176.99.135.115]\u001b[0m\n",
      "\u001b[0;33mchanged: [176.99.135.40]\u001b[0m\n",
      "\u001b[0;33mchanged: [176.99.135.38]\u001b[0m\n",
      "\n",
      "PLAY RECAP *********************************************************************\n",
      "\u001b[0;33m176.99.135.115\u001b[0m             : \u001b[0;32mok=2   \u001b[0m \u001b[0;33mchanged=2   \u001b[0m unreachable=0    failed=0    skipped=0    rescued=0    ignored=0   \n",
      "\u001b[0;33m176.99.135.121\u001b[0m             : \u001b[0;32mok=2   \u001b[0m \u001b[0;33mchanged=2   \u001b[0m unreachable=0    failed=0    skipped=0    rescued=0    ignored=0   \n",
      "\u001b[0;33m176.99.135.38\u001b[0m              : \u001b[0;32mok=2   \u001b[0m \u001b[0;33mchanged=2   \u001b[0m unreachable=0    failed=0    skipped=0    rescued=0    ignored=0   \n",
      "\u001b[0;33m176.99.135.40\u001b[0m              : \u001b[0;32mok=2   \u001b[0m \u001b[0;33mchanged=2   \u001b[0m unreachable=0    failed=0    skipped=0    rescued=0    ignored=0   \n",
      "\u001b[0;33m176.99.135.60\u001b[0m              : \u001b[0;32mok=2   \u001b[0m \u001b[0;33mchanged=2   \u001b[0m unreachable=0    failed=0    skipped=0    rescued=0    ignored=0   \n",
      "\u001b[0;33m176.99.135.61\u001b[0m              : \u001b[0;32mok=2   \u001b[0m \u001b[0;33mchanged=2   \u001b[0m unreachable=0    failed=0    skipped=0    rescued=0    ignored=0   \n",
      "\u001b[0;33m176.99.135.94\u001b[0m              : \u001b[0;32mok=2   \u001b[0m \u001b[0;33mchanged=2   \u001b[0m unreachable=0    failed=0    skipped=0    rescued=0    ignored=0   \n",
      "\u001b[0;33m176.99.135.97\u001b[0m              : \u001b[0;32mok=2   \u001b[0m \u001b[0;33mchanged=2   \u001b[0m unreachable=0    failed=0    skipped=0    rescued=0    ignored=0   \n",
      "\n"
     ]
    }
   ],
   "source": [
    "!ansible-playbook --private-key {key} -i {hosts} -u {user} jupyter.yaml"
   ]
  },
  {
   "cell_type": "code",
   "execution_count": 9,
   "id": "2c8b715d-0af8-44b0-aae7-c87ce8e5ecc3",
   "metadata": {},
   "outputs": [
    {
     "name": "stdout",
     "output_type": "stream",
     "text": [
      "\n",
      "PLAY [all] *********************************************************************\n",
      "\n",
      "TASK [check screen] ************************************************************\n",
      "\u001b[0;33mchanged: [176.99.135.94]\u001b[0m\n",
      "\u001b[0;33mchanged: [176.99.135.38]\u001b[0m\n",
      "\u001b[0;33mchanged: [176.99.135.60]\u001b[0m\n",
      "\u001b[0;33mchanged: [176.99.135.115]\u001b[0m\n",
      "\u001b[0;33mchanged: [176.99.135.40]\u001b[0m\n",
      "\u001b[0;33mchanged: [176.99.135.97]\u001b[0m\n",
      "\u001b[0;33mchanged: [176.99.135.121]\u001b[0m\n",
      "\u001b[0;33mchanged: [176.99.135.61]\u001b[0m\n",
      "\n",
      "TASK [find url] ****************************************************************\n",
      "\u001b[0;33mchanged: [176.99.135.94]\u001b[0m\n",
      "\u001b[0;33mchanged: [176.99.135.97]\u001b[0m\n",
      "\u001b[0;33mchanged: [176.99.135.121]\u001b[0m\n",
      "\u001b[0;33mchanged: [176.99.135.61]\u001b[0m\n",
      "\u001b[0;33mchanged: [176.99.135.40]\u001b[0m\n",
      "\u001b[0;33mchanged: [176.99.135.115]\u001b[0m\n",
      "\u001b[0;33mchanged: [176.99.135.38]\u001b[0m\n",
      "\u001b[0;33mchanged: [176.99.135.60]\u001b[0m\n",
      "\n",
      "TASK [url] *********************************************************************\n",
      "\u001b[0;32mok: [176.99.135.61] => {\u001b[0m\n",
      "\u001b[0;32m    \"jupyter_url.stdout\": \"[I 2022-10-06 10:35:19.232 ServerApp]  or http://176.99.135.61:8888/lab?token=27e14725d61bd3c109b073ebbec2f361155c15bd46ed07ed\"\u001b[0m\n",
      "\u001b[0;32m}\u001b[0m\n",
      "\u001b[0;32mok: [176.99.135.97] => {\u001b[0m\n",
      "\u001b[0;32m    \"jupyter_url.stdout\": \"[I 2022-10-06 10:35:17.253 ServerApp]  or http://176.99.135.97:8888/lab?token=ba33daf5fdd41fa1049bd43cb79ecf21257537b9878d2005\"\u001b[0m\n",
      "\u001b[0;32m}\u001b[0m\n",
      "\u001b[0;32mok: [176.99.135.60] => {\u001b[0m\n",
      "\u001b[0;32m    \"jupyter_url.stdout\": \"[I 2022-10-06 10:35:17.604 ServerApp]  or http://176.99.135.60:8888/lab?token=3d6c4aef917ff5c4b22ccf51fe958c9603268b3aabefefb1\"\u001b[0m\n",
      "\u001b[0;32m}\u001b[0m\n",
      "\u001b[0;32mok: [176.99.135.94] => {\u001b[0m\n",
      "\u001b[0;32m    \"jupyter_url.stdout\": \"[I 2022-10-06 10:35:17.121 ServerApp]  or http://176.99.135.94:8888/lab?token=581c099d83164c4eb086e1878b205f848a6ee37e276b2516\"\u001b[0m\n",
      "\u001b[0;32m}\u001b[0m\n",
      "\u001b[0;32mok: [176.99.135.121] => {\u001b[0m\n",
      "\u001b[0;32m    \"jupyter_url.stdout\": \"[I 2022-10-06 10:35:17.342 ServerApp]  or http://176.99.135.121:8888/lab?token=36a84c6c9c5230b5d22c5ede336e68ee17862b0e09afe54b\"\u001b[0m\n",
      "\u001b[0;32m}\u001b[0m\n",
      "\u001b[0;32mok: [176.99.135.115] => {\u001b[0m\n",
      "\u001b[0;32m    \"jupyter_url.stdout\": \"[I 2022-10-06 10:35:17.410 ServerApp]  or http://176.99.135.115:8888/lab?token=b32537d82f6bb5c280655b6d96c24ca618d6b7da33d2ffdc\"\u001b[0m\n",
      "\u001b[0;32m}\u001b[0m\n",
      "\u001b[0;32mok: [176.99.135.40] => {\u001b[0m\n",
      "\u001b[0;32m    \"jupyter_url.stdout\": \"[I 2022-10-06 10:35:17.451 ServerApp]  or http://176.99.135.40:8888/lab?token=15f7a4bb1fafe536f76358b5c09537a5d03785b902b55d22\"\u001b[0m\n",
      "\u001b[0;32m}\u001b[0m\n",
      "\u001b[0;32mok: [176.99.135.38] => {\u001b[0m\n",
      "\u001b[0;32m    \"jupyter_url.stdout\": \"[I 2022-10-06 10:35:17.352 ServerApp]  or http://176.99.135.38:8888/lab?token=0a6d25cb6f601309f53fe95f545835a8bfd7cfc4b2fd60dd\"\u001b[0m\n",
      "\u001b[0;32m}\u001b[0m\n",
      "\n",
      "PLAY RECAP *********************************************************************\n",
      "\u001b[0;33m176.99.135.115\u001b[0m             : \u001b[0;32mok=3   \u001b[0m \u001b[0;33mchanged=2   \u001b[0m unreachable=0    failed=0    skipped=0    rescued=0    ignored=0   \n",
      "\u001b[0;33m176.99.135.121\u001b[0m             : \u001b[0;32mok=3   \u001b[0m \u001b[0;33mchanged=2   \u001b[0m unreachable=0    failed=0    skipped=0    rescued=0    ignored=0   \n",
      "\u001b[0;33m176.99.135.38\u001b[0m              : \u001b[0;32mok=3   \u001b[0m \u001b[0;33mchanged=2   \u001b[0m unreachable=0    failed=0    skipped=0    rescued=0    ignored=0   \n",
      "\u001b[0;33m176.99.135.40\u001b[0m              : \u001b[0;32mok=3   \u001b[0m \u001b[0;33mchanged=2   \u001b[0m unreachable=0    failed=0    skipped=0    rescued=0    ignored=0   \n",
      "\u001b[0;33m176.99.135.60\u001b[0m              : \u001b[0;32mok=3   \u001b[0m \u001b[0;33mchanged=2   \u001b[0m unreachable=0    failed=0    skipped=0    rescued=0    ignored=0   \n",
      "\u001b[0;33m176.99.135.61\u001b[0m              : \u001b[0;32mok=3   \u001b[0m \u001b[0;33mchanged=2   \u001b[0m unreachable=0    failed=0    skipped=0    rescued=0    ignored=0   \n",
      "\u001b[0;33m176.99.135.94\u001b[0m              : \u001b[0;32mok=3   \u001b[0m \u001b[0;33mchanged=2   \u001b[0m unreachable=0    failed=0    skipped=0    rescued=0    ignored=0   \n",
      "\u001b[0;33m176.99.135.97\u001b[0m              : \u001b[0;32mok=3   \u001b[0m \u001b[0;33mchanged=2   \u001b[0m unreachable=0    failed=0    skipped=0    rescued=0    ignored=0   \n",
      "\n"
     ]
    }
   ],
   "source": [
    "!ansible-playbook --private-key {key} -i {hosts} -u {user} jupyter-status.yaml"
   ]
  },
  {
   "cell_type": "code",
   "execution_count": 7,
   "id": "8c3e4dd1-bd39-4a23-a4cb-4d9385cf304e",
   "metadata": {},
   "outputs": [],
   "source": [
    "#!ansible --private-key {key} -i {hosts} -u {user} all -m shell -a 'cat /tmp/work/jupyter.log'"
   ]
  },
  {
   "cell_type": "code",
   "execution_count": 11,
   "id": "bac9db73-5457-4edb-af3c-91cf0f650010",
   "metadata": {},
   "outputs": [
    {
     "name": "stdout",
     "output_type": "stream",
     "text": [
      "\u001b[0;33m176.99.135.94 | CHANGED | rc=0 >>\u001b[0m\n",
      "\u001b[0m33mThere is a screen on:\n",
      "\u001b[0;33m\t5487.jupyter\t(10/06/2022 10:35:15 AM)\t(Detached)\u001b[0m\n",
      "\u001b[0;33m1 Socket in /run/screen/S-ubuntu.\u001b[0m\n",
      "\u001b[0;33m176.99.135.38 | CHANGED | rc=0 >>\u001b[0m\n",
      "\u001b[0m33mThere is a screen on:\n",
      "\u001b[0;33m\t5630.jupyter\t(10/06/2022 10:35:15 AM)\t(Detached)\u001b[0m\n",
      "\u001b[0;33m1 Socket in /run/screen/S-ubuntu.\u001b[0m\n",
      "\u001b[0;33m176.99.135.121 | CHANGED | rc=0 >>\u001b[0m\n",
      "\u001b[0m33mThere is a screen on:\n",
      "\u001b[0;33m\t5537.jupyter\t(10/06/2022 10:35:15 AM)\t(Detached)\u001b[0m\n",
      "\u001b[0;33m1 Socket in /run/screen/S-ubuntu.\u001b[0m\n",
      "\u001b[0;33m176.99.135.97 | CHANGED | rc=0 >>\u001b[0m\n",
      "\u001b[0m33mThere is a screen on:\n",
      "\u001b[0;33m\t5568.jupyter\t(10/06/2022 10:35:15 AM)\t(Detached)\u001b[0m\n",
      "\u001b[0;33m1 Socket in /run/screen/S-ubuntu.\u001b[0m\n",
      "\u001b[0;33m176.99.135.40 | CHANGED | rc=0 >>\u001b[0m\n",
      "\u001b[0m33mThere is a screen on:\n",
      "\u001b[0;33m\t5553.jupyter\t(10/06/2022 10:35:16 AM)\t(Detached)\u001b[0m\n",
      "\u001b[0;33m1 Socket in /run/screen/S-ubuntu.\u001b[0m\n",
      "\u001b[0;33m176.99.135.115 | CHANGED | rc=0 >>\u001b[0m\n",
      "\u001b[0m33mThere is a screen on:\n",
      "\u001b[0;33m\t5519.jupyter\t(10/06/2022 10:35:15 AM)\t(Detached)\u001b[0m\n",
      "\u001b[0;33m1 Socket in /run/screen/S-ubuntu.\u001b[0m\n",
      "\u001b[0;33m176.99.135.61 | CHANGED | rc=0 >>\u001b[0m\n",
      "\u001b[0m33mThere is a screen on:\n",
      "\u001b[0;33m\t5379.jupyter\t(10/06/2022 10:35:15 AM)\t(Detached)\u001b[0m\n",
      "\u001b[0;33m1 Socket in /run/screen/S-ubuntu.\u001b[0m\n",
      "\u001b[0;33m176.99.135.60 | CHANGED | rc=0 >>\u001b[0m\n",
      "\u001b[0m33mThere is a screen on:\n",
      "\u001b[0;33m\t5225.jupyter\t(10/06/2022 10:35:16 AM)\t(Detached)\u001b[0m\n",
      "\u001b[0;33m1 Socket in /run/screen/S-ubuntu.\u001b[0m\n"
     ]
    }
   ],
   "source": [
    "#!ansible --private-key {key} -i {hosts} -u {user} all -m shell -a 'screen -ls jupyter; ps -Af | grep jupyter'\n",
    "!ansible --private-key {key} -i {hosts} -u {user} all -m shell -a 'screen -ls jupyter'"
   ]
  },
  {
   "cell_type": "markdown",
   "id": "f50c0203-347c-4583-8e25-75de69b4180b",
   "metadata": {},
   "source": [
    "---"
   ]
  },
  {
   "cell_type": "code",
   "execution_count": 17,
   "id": "4472da71-9f8e-4ade-ad3c-e242f1219b43",
   "metadata": {
    "tags": []
   },
   "outputs": [
    {
     "name": "stdout",
     "output_type": "stream",
     "text": [
      "\u001b[0;33m176.99.135.38 | CHANGED | rc=0 >>\u001b[0m\n",
      "\u001b[0;33m\u001b[0m\n",
      "\u001b[0;31m176.99.135.40 | FAILED | rc=1 >>\u001b[0m\n",
      "\u001b[0m31mThere is a screen on:\n",
      "\u001b[0;31m\t4308.jupyter\t(10/06/2022 05:26:20 AM)\t(Dead ???)\u001b[0m\n",
      "\u001b[0m31mRemove dead screens with 'screen -wipe'.\n",
      "\u001b[0;31mNo screen session found.non-zero return code\u001b[0m\n",
      "\u001b[0;33m176.99.135.11 | CHANGED | rc=0 >>\u001b[0m\n",
      "\u001b[0;33m\u001b[0m\n",
      "\u001b[0;33m176.99.135.108 | CHANGED | rc=0 >>\u001b[0m\n",
      "\u001b[0;33m\u001b[0m\n",
      "\u001b[0;33m176.99.135.115 | CHANGED | rc=0 >>\u001b[0m\n",
      "\u001b[0;33m\u001b[0m\n",
      "\u001b[0;33m176.99.135.27 | CHANGED | rc=0 >>\u001b[0m\n",
      "\u001b[0;33m\u001b[0m\n",
      "\u001b[0;33m176.99.135.42 | CHANGED | rc=0 >>\u001b[0m\n",
      "\u001b[0;33m\u001b[0m\n",
      "\u001b[0;33m176.99.135.123 | CHANGED | rc=0 >>\u001b[0m\n",
      "\u001b[0;33m\u001b[0m\n"
     ]
    }
   ],
   "source": [
    "!ansible --private-key {key} -i {hosts} -u {user} all -m shell -a 'screen -S jupyter -X quit'"
   ]
  },
  {
   "cell_type": "code",
   "execution_count": 18,
   "id": "3a1372b9-88fa-4c50-a9f3-e0db454f0fe9",
   "metadata": {},
   "outputs": [
    {
     "name": "stdout",
     "output_type": "stream",
     "text": [
      "\u001b[0;33m176.99.135.27 | CHANGED | rc=0 >>\u001b[0m\n",
      "\u001b[0;33mNo Sockets found in /run/screen/S-ubuntu.\u001b[0m\n",
      "\u001b[0m33m\n",
      "\u001b[0;33mubuntu      4597    4595  0 05:50 pts/0    00:00:00 /bin/sh -c screen -ls; ps -Af|grep jupyter\u001b[0m\n",
      "\u001b[0;33mubuntu      4600    4597  0 05:50 pts/0    00:00:00 grep jupyter\u001b[0m\n",
      "\u001b[0;33m176.99.135.40 | CHANGED | rc=0 >>\u001b[0m\n",
      "\u001b[0m33mThere is a screen on:\n",
      "\u001b[0;33m\t4308.jupyter\t(10/06/2022 05:26:20 AM)\t(Dead ???)\u001b[0m\n",
      "\u001b[0m33mRemove dead screens with 'screen -wipe'.\n",
      "\u001b[0m33m1 Socket in /run/screen/S-ubuntu.\n",
      "\u001b[0;33mubuntu      4501    4499  0 05:50 pts/0    00:00:00 /bin/sh -c screen -ls; ps -Af|grep jupyter\u001b[0m\n",
      "\u001b[0;33mubuntu      4504    4501  0 05:50 pts/0    00:00:00 grep jupyter\u001b[0m\n",
      "\u001b[0;33m176.99.135.115 | CHANGED | rc=0 >>\u001b[0m\n",
      "\u001b[0;33mNo Sockets found in /run/screen/S-ubuntu.\u001b[0m\n",
      "\u001b[0m33m\n",
      "\u001b[0;33mubuntu      4410    4408  0 05:50 pts/0    00:00:00 /bin/sh -c screen -ls; ps -Af|grep jupyter\u001b[0m\n",
      "\u001b[0;33mubuntu      4413    4410  0 05:50 pts/0    00:00:00 grep jupyter\u001b[0m\n",
      "\u001b[0;33m176.99.135.42 | CHANGED | rc=0 >>\u001b[0m\n",
      "\u001b[0;33mNo Sockets found in /run/screen/S-ubuntu.\u001b[0m\n",
      "\u001b[0m33m\n",
      "\u001b[0;33mubuntu      4496    4494  0 05:50 pts/0    00:00:00 /bin/sh -c screen -ls; ps -Af|grep jupyter\u001b[0m\n",
      "\u001b[0;33mubuntu      4499    4496  0 05:50 pts/0    00:00:00 grep jupyter\u001b[0m\n",
      "\u001b[0;33m176.99.135.123 | CHANGED | rc=0 >>\u001b[0m\n",
      "\u001b[0;33mNo Sockets found in /run/screen/S-ubuntu.\u001b[0m\n",
      "\u001b[0m33m\n",
      "\u001b[0;33mubuntu      4554    4552  0 05:50 pts/0    00:00:00 /bin/sh -c screen -ls; ps -Af|grep jupyter\u001b[0m\n",
      "\u001b[0;33mubuntu      4557    4554  0 05:50 pts/0    00:00:00 grep jupyter\u001b[0m\n",
      "\u001b[0;33m176.99.135.11 | CHANGED | rc=0 >>\u001b[0m\n",
      "\u001b[0;33mNo Sockets found in /run/screen/S-ubuntu.\u001b[0m\n",
      "\u001b[0m33m\n",
      "\u001b[0;33mubuntu      4477    4475  0 05:50 pts/0    00:00:00 /bin/sh -c screen -ls; ps -Af|grep jupyter\u001b[0m\n",
      "\u001b[0;33mubuntu      4480    4477  0 05:50 pts/0    00:00:00 grep jupyter\u001b[0m\n",
      "\u001b[0;33m176.99.135.108 | CHANGED | rc=0 >>\u001b[0m\n",
      "\u001b[0;33mNo Sockets found in /run/screen/S-ubuntu.\u001b[0m\n",
      "\u001b[0m33m\n",
      "\u001b[0;33mubuntu      4678    4676  0 05:50 pts/0    00:00:00 /bin/sh -c screen -ls; ps -Af|grep jupyter\u001b[0m\n",
      "\u001b[0;33mubuntu      4681    4678  0 05:50 pts/0    00:00:00 grep jupyter\u001b[0m\n",
      "\u001b[0;33m176.99.135.38 | CHANGED | rc=0 >>\u001b[0m\n",
      "\u001b[0;33mNo Sockets found in /run/screen/S-ubuntu.\u001b[0m\n",
      "\u001b[0m33m\n",
      "\u001b[0;33mubuntu      4643    4641  0 05:50 pts/0    00:00:00 /bin/sh -c screen -ls; ps -Af|grep jupyter\u001b[0m\n",
      "\u001b[0;33mubuntu      4646    4643  0 05:50 pts/0    00:00:00 grep jupyter\u001b[0m\n"
     ]
    }
   ],
   "source": [
    "!ansible --private-key {key} -i {hosts} -u {user} all -m shell -a 'screen -ls; ps -Af|grep jupyter'"
   ]
  },
  {
   "cell_type": "code",
   "execution_count": 34,
   "id": "20392e14-9dbf-4595-930c-fdbaec70cbf2",
   "metadata": {},
   "outputs": [
    {
     "name": "stdout",
     "output_type": "stream",
     "text": [
      "\u001b[0;31m176.99.135.27 | FAILED | rc=1 >>\u001b[0m\n",
      "\u001b[0;31mNo Sockets found in /run/screen/S-ubuntu.non-zero return code\u001b[0m\n"
     ]
    }
   ],
   "source": [
    "!ansible --private-key {key} -i {hosts} -u {user} all -m shell -a 'screen -ls jupyter'"
   ]
  },
  {
   "cell_type": "markdown",
   "id": "78e9d740-f5ba-43f3-b13e-1d1e4eada86d",
   "metadata": {},
   "source": [
    "---"
   ]
  },
  {
   "cell_type": "code",
   "execution_count": 21,
   "id": "eee9a5df-9f23-416e-b764-b83584e7adb4",
   "metadata": {},
   "outputs": [
    {
     "name": "stdout",
     "output_type": "stream",
     "text": [
      "\u001b[0;33m176.99.135.61 | CHANGED | rc=0 >>\u001b[0m\n",
      "\u001b[0;33mNo screen session found.\u001b[0m\n",
      "\u001b[0;33m176.99.135.94 | CHANGED | rc=0 >>\u001b[0m\n",
      "\u001b[0;33m\u001b[0m\n",
      "\u001b[0;33m176.99.135.40 | CHANGED | rc=0 >>\u001b[0m\n",
      "\u001b[0;33m\u001b[0m\n",
      "\u001b[0;33m176.99.135.121 | CHANGED | rc=0 >>\u001b[0m\n",
      "\u001b[0;33m\u001b[0m\n",
      "\u001b[0;33m176.99.135.97 | CHANGED | rc=0 >>\u001b[0m\n",
      "\u001b[0;33m\u001b[0m\n",
      "\u001b[0;33m176.99.135.38 | CHANGED | rc=0 >>\u001b[0m\n",
      "\u001b[0;33m\u001b[0m\n",
      "\u001b[0;33m176.99.135.60 | CHANGED | rc=0 >>\u001b[0m\n",
      "\u001b[0;33m\u001b[0m\n",
      "\u001b[0;33m176.99.135.115 | CHANGED | rc=0 >>\u001b[0m\n",
      "\u001b[0;33m\u001b[0m\n"
     ]
    }
   ],
   "source": [
    "!ansible --private-key {key} -i {hosts} -u {user} all -m shell -a 'screen -S run -X quit; rm -f ~/work/*-log.txt ~/work/*_out.ipynb'"
   ]
  },
  {
   "cell_type": "code",
   "execution_count": 22,
   "id": "914d1474-feba-46f7-af14-212b4c48397f",
   "metadata": {},
   "outputs": [
    {
     "name": "stdout",
     "output_type": "stream",
     "text": [
      "\n",
      "PLAY [all] *********************************************************************\n",
      "\n",
      "TASK [copy] ********************************************************************\n",
      "\u001b[0;32mok: [176.99.135.97] => (item=run.sh)\u001b[0m\n",
      "\u001b[0;32mok: [176.99.135.94] => (item=run.sh)\u001b[0m\n",
      "\u001b[0;32mok: [176.99.135.38] => (item=run.sh)\u001b[0m\n",
      "\u001b[0;32mok: [176.99.135.40] => (item=run.sh)\u001b[0m\n",
      "\u001b[0;32mok: [176.99.135.115] => (item=run.sh)\u001b[0m\n",
      "\u001b[0;32mok: [176.99.135.121] => (item=run.sh)\u001b[0m\n",
      "\u001b[0;32mok: [176.99.135.60] => (item=run.sh)\u001b[0m\n",
      "\u001b[0;32mok: [176.99.135.61] => (item=run.sh)\u001b[0m\n",
      "\u001b[0;32mok: [176.99.135.94] => (item=run.py)\u001b[0m\n",
      "\u001b[0;32mok: [176.99.135.97] => (item=run.py)\u001b[0m\n",
      "\u001b[0;32mok: [176.99.135.38] => (item=run.py)\u001b[0m\n",
      "\u001b[0;32mok: [176.99.135.121] => (item=run.py)\u001b[0m\n",
      "\u001b[0;32mok: [176.99.135.40] => (item=run.py)\u001b[0m\n",
      "\u001b[0;32mok: [176.99.135.115] => (item=run.py)\u001b[0m\n",
      "\u001b[0;32mok: [176.99.135.60] => (item=run.py)\u001b[0m\n",
      "\u001b[0;32mok: [176.99.135.61] => (item=run.py)\u001b[0m\n",
      "\u001b[0;33mchanged: [176.99.135.115] => (item=FaceId_multigpu_distributed.ipynb)\u001b[0m\n",
      "\u001b[0;33mchanged: [176.99.135.94] => (item=FaceId_multigpu_distributed.ipynb)\u001b[0m\n",
      "\u001b[0;33mchanged: [176.99.135.121] => (item=FaceId_multigpu_distributed.ipynb)\u001b[0m\n",
      "\u001b[0;33mchanged: [176.99.135.97] => (item=FaceId_multigpu_distributed.ipynb)\u001b[0m\n",
      "\u001b[0;33mchanged: [176.99.135.38] => (item=FaceId_multigpu_distributed.ipynb)\u001b[0m\n",
      "\u001b[0;33mchanged: [176.99.135.40] => (item=FaceId_multigpu_distributed.ipynb)\u001b[0m\n",
      "\u001b[0;33mchanged: [176.99.135.61] => (item=FaceId_multigpu_distributed.ipynb)\u001b[0m\n",
      "\u001b[0;33mchanged: [176.99.135.60] => (item=FaceId_multigpu_distributed.ipynb)\u001b[0m\n",
      "\n",
      "TASK [run] *********************************************************************\n",
      "\u001b[0;36mskipping: [176.99.135.61]\u001b[0m\n",
      "\u001b[0;33mchanged: [176.99.135.94]\u001b[0m\n",
      "\u001b[0;33mchanged: [176.99.135.97]\u001b[0m\n",
      "\u001b[0;33mchanged: [176.99.135.115]\u001b[0m\n",
      "\u001b[0;33mchanged: [176.99.135.40]\u001b[0m\n",
      "\u001b[0;33mchanged: [176.99.135.121]\u001b[0m\n",
      "\u001b[0;33mchanged: [176.99.135.38]\u001b[0m\n",
      "\u001b[0;33mchanged: [176.99.135.60]\u001b[0m\n",
      "\n",
      "PLAY RECAP *********************************************************************\n",
      "\u001b[0;33m176.99.135.115\u001b[0m             : \u001b[0;32mok=2   \u001b[0m \u001b[0;33mchanged=2   \u001b[0m unreachable=0    failed=0    skipped=0    rescued=0    ignored=0   \n",
      "\u001b[0;33m176.99.135.121\u001b[0m             : \u001b[0;32mok=2   \u001b[0m \u001b[0;33mchanged=2   \u001b[0m unreachable=0    failed=0    skipped=0    rescued=0    ignored=0   \n",
      "\u001b[0;33m176.99.135.38\u001b[0m              : \u001b[0;32mok=2   \u001b[0m \u001b[0;33mchanged=2   \u001b[0m unreachable=0    failed=0    skipped=0    rescued=0    ignored=0   \n",
      "\u001b[0;33m176.99.135.40\u001b[0m              : \u001b[0;32mok=2   \u001b[0m \u001b[0;33mchanged=2   \u001b[0m unreachable=0    failed=0    skipped=0    rescued=0    ignored=0   \n",
      "\u001b[0;33m176.99.135.60\u001b[0m              : \u001b[0;32mok=2   \u001b[0m \u001b[0;33mchanged=2   \u001b[0m unreachable=0    failed=0    skipped=0    rescued=0    ignored=0   \n",
      "\u001b[0;33m176.99.135.61\u001b[0m              : \u001b[0;32mok=1   \u001b[0m \u001b[0;33mchanged=1   \u001b[0m unreachable=0    failed=0    \u001b[0;36mskipped=1   \u001b[0m rescued=0    ignored=0   \n",
      "\u001b[0;33m176.99.135.94\u001b[0m              : \u001b[0;32mok=2   \u001b[0m \u001b[0;33mchanged=2   \u001b[0m unreachable=0    failed=0    skipped=0    rescued=0    ignored=0   \n",
      "\u001b[0;33m176.99.135.97\u001b[0m              : \u001b[0;32mok=2   \u001b[0m \u001b[0;33mchanged=2   \u001b[0m unreachable=0    failed=0    skipped=0    rescued=0    ignored=0   \n",
      "\n"
     ]
    }
   ],
   "source": [
    "#os.environ['RUN_NB'] = 'test.ipynb'\n",
    "os.environ['RUN_NB'] = 'FaceId_multigpu_distributed.ipynb'\n",
    "os.environ['RUN_WD'] = 'work'\n",
    "!ansible-playbook --private-key {key} -i {hosts} -u {user} run.yaml"
   ]
  },
  {
   "cell_type": "code",
   "execution_count": 13,
   "id": "f9a93581-7a95-4270-9098-4b493d0f8a20",
   "metadata": {},
   "outputs": [
    {
     "name": "stdout",
     "output_type": "stream",
     "text": [
      "\u001b[0;33m176.99.135.94 | CHANGED | rc=0 >>\u001b[0m\n",
      "\u001b[0m33mThere is a screen on:\n",
      "\u001b[0;33m\t5704.run\t(10/06/2022 10:36:33 AM)\t(Detached)\u001b[0m\n",
      "\u001b[0;33m1 Socket in /run/screen/S-ubuntu.\u001b[0m\n",
      "\u001b[0;33m176.99.135.121 | CHANGED | rc=0 >>\u001b[0m\n",
      "\u001b[0m33mThere is a screen on:\n",
      "\u001b[0;33m\t5754.run\t(10/06/2022 10:36:33 AM)\t(Detached)\u001b[0m\n",
      "\u001b[0;33m1 Socket in /run/screen/S-ubuntu.\u001b[0m\n",
      "\u001b[0;33m176.99.135.38 | CHANGED | rc=0 >>\u001b[0m\n",
      "\u001b[0m33mThere is a screen on:\n",
      "\u001b[0;33m\t5855.run\t(10/06/2022 10:36:33 AM)\t(Detached)\u001b[0m\n",
      "\u001b[0;33m1 Socket in /run/screen/S-ubuntu.\u001b[0m\n",
      "\u001b[0;33m176.99.135.97 | CHANGED | rc=0 >>\u001b[0m\n",
      "\u001b[0m33mThere is a screen on:\n",
      "\u001b[0;33m\t5785.run\t(10/06/2022 10:36:33 AM)\t(Detached)\u001b[0m\n",
      "\u001b[0;33m1 Socket in /run/screen/S-ubuntu.\u001b[0m\n",
      "\u001b[0;33m176.99.135.115 | CHANGED | rc=0 >>\u001b[0m\n",
      "\u001b[0m33mThere is a screen on:\n",
      "\u001b[0;33m\t5736.run\t(10/06/2022 10:36:33 AM)\t(Detached)\u001b[0m\n",
      "\u001b[0;33m1 Socket in /run/screen/S-ubuntu.\u001b[0m\n",
      "\u001b[0;33m176.99.135.60 | CHANGED | rc=0 >>\u001b[0m\n",
      "\u001b[0m33mThere is a screen on:\n",
      "\u001b[0;33m\t5446.run\t(10/06/2022 10:36:34 AM)\t(Detached)\u001b[0m\n",
      "\u001b[0;33m1 Socket in /run/screen/S-ubuntu.\u001b[0m\n",
      "\u001b[0;33m176.99.135.40 | CHANGED | rc=0 >>\u001b[0m\n",
      "\u001b[0m33mThere is a screen on:\n",
      "\u001b[0;33m\t5772.run\t(10/06/2022 10:36:33 AM)\t(Detached)\u001b[0m\n",
      "\u001b[0;33m1 Socket in /run/screen/S-ubuntu.\u001b[0m\n",
      "\u001b[0;31m176.99.135.61 | FAILED | rc=1 >>\u001b[0m\n",
      "\u001b[0;31mNo Sockets found in /run/screen/S-ubuntu.non-zero return code\u001b[0m\n"
     ]
    }
   ],
   "source": [
    "!ansible --private-key {key} -i {hosts} -u {user} all -m shell -a 'screen -ls run'"
   ]
  },
  {
   "cell_type": "code",
   "execution_count": 16,
   "id": "8b4529f0-7feb-4b37-8fb1-f6c54cbbe3ca",
   "metadata": {},
   "outputs": [
    {
     "name": "stdout",
     "output_type": "stream",
     "text": [
      "\u001b[0;33m176.99.135.94 | CHANGED | rc=0 >>\u001b[0m\n",
      "\u001b[0;33m+ out=\u001b[0m\n",
      "\u001b[0;33m+ [ -n  ]\u001b[0m\n",
      "\u001b[0;33m+ basename FaceId_multigpu_distributed.ipynb .ipynb\u001b[0m\n",
      "\u001b[0;33m+ out=FaceId_multigpu_distributed_out.ipynb\u001b[0m\n",
      "\u001b[0;33m+ [ -z 1 ]\u001b[0m\n",
      "\u001b[0;33m+ python run.py FaceId_multigpu_distributed.ipynb FaceId_multigpu_distributed_out.ipynb .\u001b[0m\n",
      "\u001b[0;33m[IPKernelApp] WARNING | Parent appears to have exited, shutting down.\u001b[0m\n",
      "\u001b[0;33m176.99.135.115 | CHANGED | rc=0 >>\u001b[0m\n",
      "\u001b[0;33m+ out=\u001b[0m\n",
      "\u001b[0;33m+ [ -n  ]\u001b[0m\n",
      "\u001b[0;33m+ basename FaceId_multigpu_distributed.ipynb .ipynb\u001b[0m\n",
      "\u001b[0;33m+ out=FaceId_multigpu_distributed_out.ipynb\u001b[0m\n",
      "\u001b[0;33m+ [ -z 1 ]\u001b[0m\n",
      "\u001b[0;33m+ python run.py FaceId_multigpu_distributed.ipynb FaceId_multigpu_distributed_out.ipynb .\u001b[0m\n",
      "\u001b[0;33m[IPKernelApp] WARNING | Parent appears to have exited, shutting down.\u001b[0m\n",
      "\u001b[0;33m176.99.135.97 | CHANGED | rc=0 >>\u001b[0m\n",
      "\u001b[0;33m+ out=\u001b[0m\n",
      "\u001b[0;33m+ [ -n  ]\u001b[0m\n",
      "\u001b[0;33m+ basename FaceId_multigpu_distributed.ipynb .ipynb\u001b[0m\n",
      "\u001b[0;33m+ out=FaceId_multigpu_distributed_out.ipynb\u001b[0m\n",
      "\u001b[0;33m+ [ -z 1 ]\u001b[0m\n",
      "\u001b[0;33m+ python run.py FaceId_multigpu_distributed.ipynb FaceId_multigpu_distributed_out.ipynb .\u001b[0m\n",
      "\u001b[0;33m[IPKernelApp] WARNING | Parent appears to have exited, shutting down.\u001b[0m\n",
      "\u001b[0;33m176.99.135.38 | CHANGED | rc=0 >>\u001b[0m\n",
      "\u001b[0;33m+ out=\u001b[0m\n",
      "\u001b[0;33m+ [ -n  ]\u001b[0m\n",
      "\u001b[0;33m+ basename FaceId_multigpu_distributed.ipynb .ipynb\u001b[0m\n",
      "\u001b[0;33m+ out=FaceId_multigpu_distributed_out.ipynb\u001b[0m\n",
      "\u001b[0;33m+ [ -z 1 ]\u001b[0m\n",
      "\u001b[0;33m+ python run.py FaceId_multigpu_distributed.ipynb FaceId_multigpu_distributed_out.ipynb .\u001b[0m\n",
      "\u001b[0;33m[IPKernelApp] WARNING | Parent appears to have exited, shutting down.\u001b[0m\n",
      "\u001b[0;33m176.99.135.40 | CHANGED | rc=0 >>\u001b[0m\n",
      "\u001b[0;33m+ out=\u001b[0m\n",
      "\u001b[0;33m+ [ -n  ]\u001b[0m\n",
      "\u001b[0;33m+ basename FaceId_multigpu_distributed.ipynb .ipynb\u001b[0m\n",
      "\u001b[0;33m+ out=FaceId_multigpu_distributed_out.ipynb\u001b[0m\n",
      "\u001b[0;33m+ [ -z 1 ]\u001b[0m\n",
      "\u001b[0;33m+ python run.py FaceId_multigpu_distributed.ipynb FaceId_multigpu_distributed_out.ipynb .\u001b[0m\n",
      "\u001b[0;33m[IPKernelApp] WARNING | Parent appears to have exited, shutting down.\u001b[0m\n",
      "\u001b[0;33m176.99.135.60 | CHANGED | rc=0 >>\u001b[0m\n",
      "\u001b[0;33m+ out=\u001b[0m\n",
      "\u001b[0;33m+ [ -n  ]\u001b[0m\n",
      "\u001b[0;33m+ basename FaceId_multigpu_distributed.ipynb .ipynb\u001b[0m\n",
      "\u001b[0;33m+ out=FaceId_multigpu_distributed_out.ipynb\u001b[0m\n",
      "\u001b[0;33m+ [ -z 1 ]\u001b[0m\n",
      "\u001b[0;33m+ python run.py FaceId_multigpu_distributed.ipynb FaceId_multigpu_distributed_out.ipynb .\u001b[0m\n",
      "\u001b[0;33m[IPKernelApp] WARNING | Parent appears to have exited, shutting down.\u001b[0m\n",
      "\u001b[0;33m176.99.135.121 | CHANGED | rc=0 >>\u001b[0m\n",
      "\u001b[0;33m+ out=\u001b[0m\n",
      "\u001b[0;33m+ [ -n  ]\u001b[0m\n",
      "\u001b[0;33m+ basename FaceId_multigpu_distributed.ipynb .ipynb\u001b[0m\n",
      "\u001b[0;33m+ out=FaceId_multigpu_distributed_out.ipynb\u001b[0m\n",
      "\u001b[0;33m+ [ -z 1 ]\u001b[0m\n",
      "\u001b[0;33m+ python run.py FaceId_multigpu_distributed.ipynb FaceId_multigpu_distributed_out.ipynb .\u001b[0m\n",
      "\u001b[0;33m[IPKernelApp] WARNING | Parent appears to have exited, shutting down.\u001b[0m\n",
      "\u001b[0;31m176.99.135.61 | FAILED | rc=1 >>\u001b[0m\n",
      "\u001b[0;31mtail: cannot open '/home/ubuntu/work/*-log.txt' for reading: No such file or directorynon-zero return code\u001b[0m\n"
     ]
    }
   ],
   "source": [
    "!ansible --private-key {key} -i {hosts} -u {user} all -m shell -a 'tail ~/work/*-log.txt'"
   ]
  },
  {
   "cell_type": "code",
   "execution_count": 17,
   "id": "96b7f4ea-a2b7-42e8-8d2c-8be715b424ee",
   "metadata": {},
   "outputs": [
    {
     "name": "stdout",
     "output_type": "stream",
     "text": [
      "\u001b[0;33m176.99.135.94 | CHANGED | rc=0 >>\u001b[0m\n",
      "\u001b[0;33mtotal 112\u001b[0m\n",
      "\u001b[0;33m-rwxr-xr-x 1 ubuntu ubuntu 104876 Oct  6 10:36 FaceId_multigpu_distributed.ipynb\u001b[0m\n",
      "\u001b[0;33m-rwxr-xr-x 1 ubuntu ubuntu    713 Oct  6 10:36 run.py\u001b[0m\n",
      "\u001b[0;33m-rwxr-xr-x 1 ubuntu ubuntu    219 Oct  6 10:36 run.sh\u001b[0m\n",
      "\u001b[0;33m176.99.135.40 | CHANGED | rc=0 >>\u001b[0m\n",
      "\u001b[0;33mtotal 112\u001b[0m\n",
      "\u001b[0;33m-rwxr-xr-x 1 ubuntu ubuntu 104876 Oct  6 10:36 FaceId_multigpu_distributed.ipynb\u001b[0m\n",
      "\u001b[0;33m-rwxr-xr-x 1 ubuntu ubuntu    713 Oct  6 10:36 run.py\u001b[0m\n",
      "\u001b[0;33m-rwxr-xr-x 1 ubuntu ubuntu    219 Oct  6 10:36 run.sh\u001b[0m\n",
      "\u001b[0;33m176.99.135.60 | CHANGED | rc=0 >>\u001b[0m\n",
      "\u001b[0;33mtotal 112\u001b[0m\n",
      "\u001b[0;33m-rwxr-xr-x 1 ubuntu ubuntu 104876 Oct  6 10:36 FaceId_multigpu_distributed.ipynb\u001b[0m\n",
      "\u001b[0;33m-rwxr-xr-x 1 ubuntu ubuntu    713 Oct  6 10:36 run.py\u001b[0m\n",
      "\u001b[0;33m-rwxr-xr-x 1 ubuntu ubuntu    219 Oct  6 10:36 run.sh\u001b[0m\n",
      "\u001b[0;33m176.99.135.115 | CHANGED | rc=0 >>\u001b[0m\n",
      "\u001b[0;33mtotal 112\u001b[0m\n",
      "\u001b[0;33m-rwxr-xr-x 1 ubuntu ubuntu 104876 Oct  6 10:36 FaceId_multigpu_distributed.ipynb\u001b[0m\n",
      "\u001b[0;33m-rwxr-xr-x 1 ubuntu ubuntu    713 Oct  6 10:36 run.py\u001b[0m\n",
      "\u001b[0;33m-rwxr-xr-x 1 ubuntu ubuntu    219 Oct  6 10:36 run.sh\u001b[0m\n",
      "\u001b[0;33m176.99.135.61 | CHANGED | rc=0 >>\u001b[0m\n",
      "\u001b[0;33mtotal 100\u001b[0m\n",
      "\u001b[0;33m-rwxr-xr-x 1 ubuntu ubuntu 94064 Oct  6 10:45 FaceId_multigpu_distributed.ipynb\u001b[0m\n",
      "\u001b[0;33m-rwxr-xr-x 1 ubuntu ubuntu   713 Oct  6 10:36 run.py\u001b[0m\n",
      "\u001b[0;33m-rwxr-xr-x 1 ubuntu ubuntu   219 Oct  6 10:36 run.sh\u001b[0m\n",
      "\u001b[0;33m176.99.135.121 | CHANGED | rc=0 >>\u001b[0m\n",
      "\u001b[0;33mtotal 112\u001b[0m\n",
      "\u001b[0;33m-rwxr-xr-x 1 ubuntu ubuntu 104876 Oct  6 10:36 FaceId_multigpu_distributed.ipynb\u001b[0m\n",
      "\u001b[0;33m-rwxr-xr-x 1 ubuntu ubuntu    713 Oct  6 10:36 run.py\u001b[0m\n",
      "\u001b[0;33m-rwxr-xr-x 1 ubuntu ubuntu    219 Oct  6 10:36 run.sh\u001b[0m\n",
      "\u001b[0;33m176.99.135.38 | CHANGED | rc=0 >>\u001b[0m\n",
      "\u001b[0;33mtotal 112\u001b[0m\n",
      "\u001b[0;33m-rwxr-xr-x 1 ubuntu ubuntu 104876 Oct  6 10:36 FaceId_multigpu_distributed.ipynb\u001b[0m\n",
      "\u001b[0;33m-rwxr-xr-x 1 ubuntu ubuntu    713 Oct  6 10:36 run.py\u001b[0m\n",
      "\u001b[0;33m-rwxr-xr-x 1 ubuntu ubuntu    219 Oct  6 10:36 run.sh\u001b[0m\n",
      "\u001b[0;33m176.99.135.97 | CHANGED | rc=0 >>\u001b[0m\n",
      "\u001b[0;33mtotal 112\u001b[0m\n",
      "\u001b[0;33m-rwxr-xr-x 1 ubuntu ubuntu 104876 Oct  6 10:36 FaceId_multigpu_distributed.ipynb\u001b[0m\n",
      "\u001b[0;33m-rwxr-xr-x 1 ubuntu ubuntu    713 Oct  6 10:36 run.py\u001b[0m\n",
      "\u001b[0;33m-rwxr-xr-x 1 ubuntu ubuntu    219 Oct  6 10:36 run.sh\u001b[0m\n"
     ]
    }
   ],
   "source": [
    "!ansible --private-key {key} -i {hosts} -u {user} all -m shell -a 'rm -f ~/work/*-log.txt ~/work/*_out.ipynb; ls -l ~/work/'"
   ]
  },
  {
   "cell_type": "code",
   "execution_count": 15,
   "id": "a865c844-5304-498a-85c6-ddb967b8149f",
   "metadata": {},
   "outputs": [
    {
     "name": "stdout",
     "output_type": "stream",
     "text": [
      "\u001b[0;33m176.99.135.94 | CHANGED | rc=0 >>\u001b[0m\n",
      "\u001b[0;33m\u001b[0m\n",
      "\u001b[0;33m176.99.135.60 | CHANGED | rc=0 >>\u001b[0m\n",
      "\u001b[0;33m\u001b[0m\n",
      "\u001b[0;31m176.99.135.61 | FAILED | rc=1 >>\u001b[0m\n",
      "\u001b[0;31mNo screen session found.non-zero return code\u001b[0m\n",
      "\u001b[0;33m176.99.135.121 | CHANGED | rc=0 >>\u001b[0m\n",
      "\u001b[0;33m\u001b[0m\n",
      "\u001b[0;33m176.99.135.115 | CHANGED | rc=0 >>\u001b[0m\n",
      "\u001b[0;33m\u001b[0m\n",
      "\u001b[0;33m176.99.135.40 | CHANGED | rc=0 >>\u001b[0m\n",
      "\u001b[0;33m\u001b[0m\n",
      "\u001b[0;33m176.99.135.97 | CHANGED | rc=0 >>\u001b[0m\n",
      "\u001b[0;33m\u001b[0m\n",
      "\u001b[0;33m176.99.135.38 | CHANGED | rc=0 >>\u001b[0m\n",
      "\u001b[0;33m\u001b[0m\n"
     ]
    }
   ],
   "source": [
    "!ansible --private-key {key} -i {hosts} -u {user} all -m shell -a 'screen -S run -X quit'"
   ]
  },
  {
   "cell_type": "markdown",
   "id": "e53a63e1-2665-45cd-aeb8-e22977bc593f",
   "metadata": {},
   "source": [
    "---"
   ]
  }
 ],
 "metadata": {
  "kernelspec": {
   "display_name": "Python 3 (ipykernel)",
   "language": "python",
   "name": "python3"
  },
  "language_info": {
   "codemirror_mode": {
    "name": "ipython",
    "version": 3
   },
   "file_extension": ".py",
   "mimetype": "text/x-python",
   "name": "python",
   "nbconvert_exporter": "python",
   "pygments_lexer": "ipython3",
   "version": "3.9.10"
  }
 },
 "nbformat": 4,
 "nbformat_minor": 5
}
