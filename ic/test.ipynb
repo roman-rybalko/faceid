{
 "cells": [
  {
   "cell_type": "code",
   "execution_count": 3,
   "id": "4802fb64-f2e3-42b1-8f51-0ddb31f7fbc5",
   "metadata": {},
   "outputs": [
    {
     "data": {
      "text/plain": [
       "environ{'SHELL': '/bin/bash',\n",
       "        'HOSTNAME': '22ffb7416628',\n",
       "        'LANGUAGE': 'en_US.UTF-8',\n",
       "        'NB_UID': '1000',\n",
       "        'JULIA_PKGDIR': '/opt/julia',\n",
       "        'PWD': '/home/jovyan',\n",
       "        'HOME': '/home/jovyan',\n",
       "        'LANG': 'en_US.UTF-8',\n",
       "        'NB_GID': '100',\n",
       "        'JULIA_VERSION': '1.7.2',\n",
       "        'XDG_CACHE_HOME': '/home/jovyan/.cache',\n",
       "        'TERM': 'xterm-color',\n",
       "        'SHLVL': '0',\n",
       "        'CONDA_DIR': '/opt/conda',\n",
       "        'JULIA_DEPOT_PATH': '/opt/julia',\n",
       "        'NB_USER': 'jovyan',\n",
       "        'LC_ALL': 'en_US.UTF-8',\n",
       "        'PATH': '/opt/conda/bin:/usr/local/sbin:/usr/local/bin:/usr/sbin:/usr/bin:/sbin:/bin',\n",
       "        'DEBIAN_FRONTEND': 'noninteractive',\n",
       "        'LOGNAME': 'jovyan',\n",
       "        'USER': 'jovyan',\n",
       "        'SUDO_COMMAND': '/opt/conda/bin/jupyter lab',\n",
       "        'SUDO_USER': 'root',\n",
       "        'SUDO_UID': '0',\n",
       "        'SUDO_GID': '0',\n",
       "        'PYTHONPATH': '',\n",
       "        'PYDEVD_USE_FRAME_EVAL': 'NO',\n",
       "        'JPY_PARENT_PID': '17',\n",
       "        'CLICOLOR': '1',\n",
       "        'PAGER': 'cat',\n",
       "        'GIT_PAGER': 'cat',\n",
       "        'MPLBACKEND': 'module://matplotlib_inline.backend_inline'}"
      ]
     },
     "execution_count": 3,
     "metadata": {},
     "output_type": "execute_result"
    }
   ],
   "source": [
    "import os\n",
    "os.environ"
   ]
  },
  {
   "cell_type": "code",
   "execution_count": null,
   "id": "218d08de-bc75-4f38-a50f-958c6c90ef0a",
   "metadata": {},
   "outputs": [],
   "source": [
    "os.environ['RANK']"
   ]
  },
  {
   "cell_type": "code",
   "execution_count": null,
   "id": "75dc6d20-274f-4d82-b024-d255d616e294",
   "metadata": {},
   "outputs": [],
   "source": [
    "os.environ['WORLD_SIZE']"
   ]
  },
  {
   "cell_type": "code",
   "execution_count": null,
   "id": "f59f9591-59f8-48db-9849-6b852a8d739a",
   "metadata": {},
   "outputs": [],
   "source": [
    "os.environ['MASTER_ADDR']"
   ]
  },
  {
   "cell_type": "code",
   "execution_count": null,
   "id": "7b2a0e9f-e796-4791-a2b2-2dded569bb7f",
   "metadata": {},
   "outputs": [],
   "source": [
    "import time\n",
    "#time.sleep(100)"
   ]
  }
 ],
 "metadata": {
  "kernelspec": {
   "display_name": "Python 3 (ipykernel)",
   "language": "python",
   "name": "python3"
  },
  "language_info": {
   "codemirror_mode": {
    "name": "ipython",
    "version": 3
   },
   "file_extension": ".py",
   "mimetype": "text/x-python",
   "name": "python",
   "nbconvert_exporter": "python",
   "pygments_lexer": "ipython3",
   "version": "3.9.10"
  }
 },
 "nbformat": 4,
 "nbformat_minor": 5
}
