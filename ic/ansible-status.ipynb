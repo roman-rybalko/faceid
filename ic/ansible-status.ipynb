{
 "cells": [
  {
   "cell_type": "code",
   "execution_count": 2,
   "id": "c1a74a68-1bf4-473e-ae93-dae4c2a4c794",
   "metadata": {},
   "outputs": [
    {
     "data": {
      "text/plain": [
       "('~/work/key', '176.99.135.38,')"
      ]
     },
     "execution_count": 2,
     "metadata": {},
     "output_type": "execute_result"
    }
   ],
   "source": [
    "key = '~/work/key'\n",
    "with open('ansible_hosts.txt', 'r') as f:\n",
    "    hosts = [l.strip() for l in f.readlines()]\n",
    "user = 'ubuntu'\n",
    "hosts = ','.join(hosts) if len(hosts) > 1 else f'{hosts[0]},'\n",
    "key, hosts"
   ]
  },
  {
   "cell_type": "code",
   "execution_count": 3,
   "id": "7c2c9812-41f1-43d3-8c02-261406f43323",
   "metadata": {},
   "outputs": [],
   "source": [
    "import os\n",
    "os.environ['ANSIBLE_GATHERING'] = 'explicit'"
   ]
  },
  {
   "cell_type": "code",
   "execution_count": 20,
   "id": "e1ef4fae-5be7-4888-be99-e2db27a1bb8f",
   "metadata": {},
   "outputs": [],
   "source": [
    "#!ansible --private-key {key} -i {hosts} -u {user} all -m script -a setup-net-tools.sh"
   ]
  },
  {
   "cell_type": "code",
   "execution_count": 4,
   "id": "fbda2f0e-2d10-4045-8891-fae512423b97",
   "metadata": {},
   "outputs": [
    {
     "name": "stdout",
     "output_type": "stream",
     "text": [
      "\u001b[0;33m176.99.135.38 | CHANGED | rc=0 >>\u001b[0m\n",
      "\u001b[0;33m 10:37:17 up 9 min,  2 users,  load average: 0.66, 0.87, 0.51\u001b[0m\n"
     ]
    }
   ],
   "source": [
    "!ansible --private-key {key} -i {hosts} -u {user} all -m shell -a uptime"
   ]
  },
  {
   "cell_type": "code",
   "execution_count": 26,
   "id": "ca3b0ddb-b815-4797-80a1-2f743b24231a",
   "metadata": {},
   "outputs": [
    {
     "name": "stdout",
     "output_type": "stream",
     "text": [
      "\u001b[0;33m176.99.135.88 | CHANGED | rc=0 >>\u001b[0m\n",
      "\u001b[0;33mFilesystem     1K-blocks     Used Available Use% Mounted on\u001b[0m\n",
      "\u001b[0;33m/dev/vda1      162420480 82802224  79601872  51% /\u001b[0m\n",
      "\u001b[0;33m176.99.135.111 | CHANGED | rc=0 >>\u001b[0m\n",
      "\u001b[0;33mFilesystem     1K-blocks     Used Available Use% Mounted on\u001b[0m\n",
      "\u001b[0;33m/dev/vda1      162420480 82802056  79602040  51% /\u001b[0m\n",
      "\u001b[0;33m176.99.135.123 | CHANGED | rc=0 >>\u001b[0m\n",
      "\u001b[0;33mFilesystem     1K-blocks     Used Available Use% Mounted on\u001b[0m\n",
      "\u001b[0;33m/dev/vda1      162420480 82801984  79602112  51% /\u001b[0m\n",
      "\u001b[0;33m176.99.135.61 | CHANGED | rc=0 >>\u001b[0m\n",
      "\u001b[0;33mFilesystem     1K-blocks     Used Available Use% Mounted on\u001b[0m\n",
      "\u001b[0;33m/dev/vda1      162420480 82802040  79602056  51% /\u001b[0m\n",
      "\u001b[0;33m176.99.135.28 | CHANGED | rc=0 >>\u001b[0m\n",
      "\u001b[0;33mFilesystem     1K-blocks     Used Available Use% Mounted on\u001b[0m\n",
      "\u001b[0;33m/dev/vda1      162420480 82802136  79601960  51% /\u001b[0m\n",
      "\u001b[0;33m176.99.135.24 | CHANGED | rc=0 >>\u001b[0m\n",
      "\u001b[0;33mFilesystem     1K-blocks     Used Available Use% Mounted on\u001b[0m\n",
      "\u001b[0;33m/dev/vda1      162420480 82801852  79602244  51% /\u001b[0m\n",
      "\u001b[0;33m176.99.135.95 | CHANGED | rc=0 >>\u001b[0m\n",
      "\u001b[0;33mFilesystem     1K-blocks     Used Available Use% Mounted on\u001b[0m\n",
      "\u001b[0;33m/dev/vda1      162420480 82801944  79602152  51% /\u001b[0m\n",
      "\u001b[0;33m176.99.135.117 | CHANGED | rc=0 >>\u001b[0m\n",
      "\u001b[0;33mFilesystem     1K-blocks     Used Available Use% Mounted on\u001b[0m\n",
      "\u001b[0;33m/dev/vda1      162420480 82801724  79602372  51% /\u001b[0m\n"
     ]
    }
   ],
   "source": [
    "!ansible --private-key {key} -i {hosts} -u {user} all -m shell -a 'df /'"
   ]
  },
  {
   "cell_type": "code",
   "execution_count": 7,
   "id": "5eeedf05-dc70-4e3a-be3f-9a94b8705837",
   "metadata": {},
   "outputs": [
    {
     "name": "stdout",
     "output_type": "stream",
     "text": [
      "\u001b[0;33m176.99.135.38 | CHANGED | rc=0 >>\u001b[0m\n",
      "\u001b[0;33m  inflating: /kaggle/input/faceid-preprocessed/kaggle/temp/youtube-faces-with-facial-keypoints/Jaouad_Gharib_0.npz.pkl  \u001b[0m\n",
      "\u001b[0;33m  inflating: /kaggle/input/faceid-preprocessed/kaggle/temp/youtube-faces-with-facial-keypoints/Jaouad_Gharib_3.npz.pkl  \u001b[0m\n",
      "\u001b[0;33m  inflating: /kaggle/input/faceid-preprocessed/kaggle/temp/youtube-faces-with-facial-keypoints/Jason_Biggs_0.npz.pkl  \u001b[0m\n",
      "\u001b[0;33m  inflating: /kaggle/input/faceid-preprocessed/kaggle/temp/youtube-faces-with-facial-keypoints/Jason_Biggs_1.npz.pkl  \u001b[0m\n",
      "\u001b[0;33m  inflating: /kaggle/input/faceid-preprocessed/kaggle/temp/youtube-faces-with-facial-keypoints/Karin_Viard_1.npz.pkl  \u001b[0m\n",
      "\u001b[0;33m  inflating: /kaggle/input/faceid-preprocessed/kaggle/temp/youtube-faces-with-facial-keypoints/Karin_Viard_3.npz.pkl  \u001b[0m\n",
      "\u001b[0;33m  inflating: /kaggle/input/faceid-preprocessed/kaggle/temp/youtube-faces-with-facial-keypoints/Katalin_Kollat_2.npz.pkl  \u001b[0m\n",
      "\u001b[0;33m  inflating: /kaggle/input/faceid-preprocessed/kaggle/temp/youtube-faces-with-facial-keypoints/Katalin_Kollat_4.npz.pkl  \u001b[0m\n",
      "\u001b[0;33m  inflating: /kaggle/input/faceid-preprocessed/kaggle/temp/youtube-faces-with-facial-keypoints/Kate_Capshaw_1.npz.pkl  \u001b[0m\n",
      "\u001b[0;33m  inflating: /kaggle/input/faceid-preprocessed/kaggle/temp/youtube-faces-with-facial-keypoints/Kate_Capshaw_2.npz.pkl  \u001b[0m\n"
     ]
    }
   ],
   "source": [
    "!ansible --private-key {key} -i {hosts} -u {user} all -m shell -a 'tail /tmp/work/download.log'"
   ]
  },
  {
   "cell_type": "code",
   "execution_count": 5,
   "id": "54eb26c8-ba62-4a74-b987-d0902618237d",
   "metadata": {},
   "outputs": [
    {
     "name": "stdout",
     "output_type": "stream",
     "text": [
      "\u001b[0;33m176.99.135.38 | CHANGED | rc=0 >>\u001b[0m\n",
      "\u001b[0;33m==> /tmp/work/setup-cuda.log <==\u001b[0m\n",
      "\u001b[0;33m  libcudnn8\u001b[0m\n",
      "\u001b[0;33m0 upgraded, 1 newly installed, 0 to remove and 211 not upgraded.\u001b[0m\n",
      "\u001b[0;33mNeed to get 0 B/446 MB of archives.\u001b[0m\n",
      "\u001b[0;33mAfter this operation, 1,140 MB of additional disk space will be used.\u001b[0m\n",
      "\u001b[0;33mGet:1 file:/var/cudnn-local-repo-ubuntu2004-8.6.0.163  libcudnn8 8.6.0.163-1+cuda11.8 [446 MB]\u001b[0m\n",
      "\u001b[0m33mSelecting previously unselected package libcudnn8.\n",
      "\u001b[0mding database ... 133766 files and directories currently installed.)\n",
      "\u001b[0m33mPreparing to unpack .../libcudnn8_8.6.0.163-1+cuda11.8_amd64.deb ...\n",
      "\u001b[0m33mUnpacking libcudnn8 (8.6.0.163-1+cuda11.8) ...\n",
      "\u001b[0m33mSetting up libcudnn8 (8.6.0.163-1+cuda11.8) ...\n",
      "\u001b[0;33m\u001b[0m\n",
      "\u001b[0;33m==> /tmp/work/setup-torch.log <==\u001b[0m\n",
      "\u001b[0;33mRequirement already satisfied: numpy in /home/ubuntu/anaconda/lib/python3.9/site-packages (from torchvision==0.15.0a0+0610b13) (1.20.3)\u001b[0m\n",
      "\u001b[0;33mRequirement already satisfied: pillow!=8.3.*,>=5.3.0 in /home/ubuntu/anaconda/lib/python3.9/site-packages (from torchvision==0.15.0a0+0610b13) (8.4.0)\u001b[0m\n",
      "\u001b[0;33mRequirement already satisfied: requests in /home/ubuntu/anaconda/lib/python3.9/site-packages (from torchvision==0.15.0a0+0610b13) (2.26.0)\u001b[0m\n",
      "\u001b[0;33mRequirement already satisfied: charset-normalizer~=2.0.0 in /home/ubuntu/anaconda/lib/python3.9/site-packages (from requests->torchvision==0.15.0a0+0610b13) (2.0.4)\u001b[0m\n",
      "\u001b[0;33mRequirement already satisfied: idna<4,>=2.5 in /home/ubuntu/anaconda/lib/python3.9/site-packages (from requests->torchvision==0.15.0a0+0610b13) (3.2)\u001b[0m\n",
      "\u001b[0;33mRequirement already satisfied: urllib3<1.27,>=1.21.1 in /home/ubuntu/anaconda/lib/python3.9/site-packages (from requests->torchvision==0.15.0a0+0610b13) (1.26.7)\u001b[0m\n",
      "\u001b[0;33mRequirement already satisfied: certifi>=2017.4.17 in /home/ubuntu/anaconda/lib/python3.9/site-packages (from requests->torchvision==0.15.0a0+0610b13) (2021.10.8)\u001b[0m\n",
      "\u001b[0;33mRequirement already satisfied: mpmath>=0.19 in /home/ubuntu/anaconda/lib/python3.9/site-packages (from sympy->torch==cudnn) (1.2.1)\u001b[0m\n",
      "\u001b[0;33mInstalling collected packages: torch, torchvision\u001b[0m\n",
      "\u001b[0;33mSuccessfully installed torch-1.14.0a0+git66658e1 torchvision-0.15.0a0+0610b13\u001b[0m\n",
      "\u001b[0;33m\u001b[0m\n",
      "\u001b[0;33m==> /tmp/work/setup.log <==\u001b[0m\n",
      "\u001b[0;33mLooking in links: faceid_wheel_cp39\u001b[0m\n",
      "\u001b[0;33mProcessing ./faceid_wheel_cp39/opencv_python-4.6.0.66-cp36-abi3-manylinux_2_17_x86_64.manylinux2014_x86_64.whl\u001b[0m\n",
      "\u001b[0;33mRequirement already satisfied: numpy>=1.17.3 in /home/ubuntu/anaconda/lib/python3.9/site-packages (from opencv-python==4.6.0.66) (1.20.3)\u001b[0m\n",
      "\u001b[0;33mInstalling collected packages: opencv-python\u001b[0m\n",
      "\u001b[0;33mSuccessfully installed opencv-python-4.6.0.66\u001b[0m\n",
      "\u001b[0;33m+ pip install --no-input torchinfo\u001b[0m\n",
      "\u001b[0;33mCollecting torchinfo\u001b[0m\n",
      "\u001b[0;33m  Downloading torchinfo-1.7.1-py3-none-any.whl (22 kB)\u001b[0m\n",
      "\u001b[0;33mInstalling collected packages: torchinfo\u001b[0m\n",
      "\u001b[0;33mSuccessfully installed torchinfo-1.7.1\u001b[0m\n"
     ]
    }
   ],
   "source": [
    "!ansible --private-key {key} -i {hosts} -u {user} all -m shell -a 'tail /tmp/work/setup*.log'"
   ]
  }
 ],
 "metadata": {
  "kernelspec": {
   "display_name": "Python 3 (ipykernel)",
   "language": "python",
   "name": "python3"
  },
  "language_info": {
   "codemirror_mode": {
    "name": "ipython",
    "version": 3
   },
   "file_extension": ".py",
   "mimetype": "text/x-python",
   "name": "python",
   "nbconvert_exporter": "python",
   "pygments_lexer": "ipython3",
   "version": "3.9.10"
  }
 },
 "nbformat": 4,
 "nbformat_minor": 5
}
