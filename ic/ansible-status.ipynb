{
 "cells": [
  {
   "cell_type": "code",
   "execution_count": 11,
   "id": "c1a74a68-1bf4-473e-ae93-dae4c2a4c794",
   "metadata": {},
   "outputs": [
    {
     "data": {
      "text/plain": [
       "('~/work/key',\n",
       " '176.99.135.88,176.99.135.111,176.99.135.61,176.99.135.28,176.99.135.123,176.99.135.24,176.99.135.95,176.99.135.117')"
      ]
     },
     "execution_count": 11,
     "metadata": {},
     "output_type": "execute_result"
    }
   ],
   "source": [
    "key = '~/work/key'\n",
    "with open('ansible_hosts.txt', 'r') as f:\n",
    "    hosts = [l.strip() for l in f.readlines()]\n",
    "user = 'ubuntu'\n",
    "hosts = ','.join(hosts) if len(hosts) > 1 else f'{hosts[0]},'\n",
    "key, hosts"
   ]
  },
  {
   "cell_type": "code",
   "execution_count": 9,
   "id": "7c2c9812-41f1-43d3-8c02-261406f43323",
   "metadata": {},
   "outputs": [],
   "source": [
    "import os\n",
    "os.environ['ANSIBLE_GATHERING'] = 'explicit'"
   ]
  },
  {
   "cell_type": "code",
   "execution_count": 20,
   "id": "e1ef4fae-5be7-4888-be99-e2db27a1bb8f",
   "metadata": {},
   "outputs": [],
   "source": [
    "#!ansible --private-key {key} -i {hosts} -u {user} all -m script -a setup-net-tools.sh"
   ]
  },
  {
   "cell_type": "code",
   "execution_count": 28,
   "id": "fbda2f0e-2d10-4045-8891-fae512423b97",
   "metadata": {},
   "outputs": [
    {
     "name": "stdout",
     "output_type": "stream",
     "text": [
      "\u001b[0;33m176.99.135.111 | CHANGED | rc=0 >>\u001b[0m\n",
      "\u001b[0;33m 13:45:49 up  1:15,  1 user,  load average: 1.38, 1.08, 0.89\u001b[0m\n",
      "\u001b[0;33m176.99.135.88 | CHANGED | rc=0 >>\u001b[0m\n",
      "\u001b[0;33m 13:45:49 up  1:15,  1 user,  load average: 0.98, 1.02, 0.92\u001b[0m\n",
      "\u001b[0;33m176.99.135.61 | CHANGED | rc=0 >>\u001b[0m\n",
      "\u001b[0;33m 13:45:49 up  1:16,  1 user,  load average: 0.89, 0.93, 0.89\u001b[0m\n",
      "\u001b[0;33m176.99.135.123 | CHANGED | rc=0 >>\u001b[0m\n",
      "\u001b[0;33m 13:45:49 up  1:16,  1 user,  load average: 1.12, 1.11, 0.96\u001b[0m\n",
      "\u001b[0;33m176.99.135.28 | CHANGED | rc=0 >>\u001b[0m\n",
      "\u001b[0;33m 13:45:49 up  1:16,  1 user,  load average: 1.10, 1.32, 1.14\u001b[0m\n",
      "\u001b[0;33m176.99.135.95 | CHANGED | rc=0 >>\u001b[0m\n",
      "\u001b[0;33m 13:45:53 up  1:15,  1 user,  load average: 1.10, 1.21, 1.13\u001b[0m\n",
      "\u001b[0;33m176.99.135.117 | CHANGED | rc=0 >>\u001b[0m\n",
      "\u001b[0;33m 13:45:55 up  1:15,  1 user,  load average: 0.70, 0.96, 0.91\u001b[0m\n",
      "\u001b[0;33m176.99.135.24 | CHANGED | rc=0 >>\u001b[0m\n",
      "\u001b[0;33m 13:45:54 up  1:15,  1 user,  load average: 1.53, 1.03, 0.87\u001b[0m\n"
     ]
    }
   ],
   "source": [
    "!ansible --private-key {key} -i {hosts} -u {user} all -m shell -a uptime"
   ]
  },
  {
   "cell_type": "code",
   "execution_count": 26,
   "id": "ca3b0ddb-b815-4797-80a1-2f743b24231a",
   "metadata": {},
   "outputs": [
    {
     "name": "stdout",
     "output_type": "stream",
     "text": [
      "\u001b[0;33m176.99.135.88 | CHANGED | rc=0 >>\u001b[0m\n",
      "\u001b[0;33mFilesystem     1K-blocks     Used Available Use% Mounted on\u001b[0m\n",
      "\u001b[0;33m/dev/vda1      162420480 82802224  79601872  51% /\u001b[0m\n",
      "\u001b[0;33m176.99.135.111 | CHANGED | rc=0 >>\u001b[0m\n",
      "\u001b[0;33mFilesystem     1K-blocks     Used Available Use% Mounted on\u001b[0m\n",
      "\u001b[0;33m/dev/vda1      162420480 82802056  79602040  51% /\u001b[0m\n",
      "\u001b[0;33m176.99.135.123 | CHANGED | rc=0 >>\u001b[0m\n",
      "\u001b[0;33mFilesystem     1K-blocks     Used Available Use% Mounted on\u001b[0m\n",
      "\u001b[0;33m/dev/vda1      162420480 82801984  79602112  51% /\u001b[0m\n",
      "\u001b[0;33m176.99.135.61 | CHANGED | rc=0 >>\u001b[0m\n",
      "\u001b[0;33mFilesystem     1K-blocks     Used Available Use% Mounted on\u001b[0m\n",
      "\u001b[0;33m/dev/vda1      162420480 82802040  79602056  51% /\u001b[0m\n",
      "\u001b[0;33m176.99.135.28 | CHANGED | rc=0 >>\u001b[0m\n",
      "\u001b[0;33mFilesystem     1K-blocks     Used Available Use% Mounted on\u001b[0m\n",
      "\u001b[0;33m/dev/vda1      162420480 82802136  79601960  51% /\u001b[0m\n",
      "\u001b[0;33m176.99.135.24 | CHANGED | rc=0 >>\u001b[0m\n",
      "\u001b[0;33mFilesystem     1K-blocks     Used Available Use% Mounted on\u001b[0m\n",
      "\u001b[0;33m/dev/vda1      162420480 82801852  79602244  51% /\u001b[0m\n",
      "\u001b[0;33m176.99.135.95 | CHANGED | rc=0 >>\u001b[0m\n",
      "\u001b[0;33mFilesystem     1K-blocks     Used Available Use% Mounted on\u001b[0m\n",
      "\u001b[0;33m/dev/vda1      162420480 82801944  79602152  51% /\u001b[0m\n",
      "\u001b[0;33m176.99.135.117 | CHANGED | rc=0 >>\u001b[0m\n",
      "\u001b[0;33mFilesystem     1K-blocks     Used Available Use% Mounted on\u001b[0m\n",
      "\u001b[0;33m/dev/vda1      162420480 82801724  79602372  51% /\u001b[0m\n"
     ]
    }
   ],
   "source": [
    "!ansible --private-key {key} -i {hosts} -u {user} all -m shell -a 'df /'"
   ]
  },
  {
   "cell_type": "code",
   "execution_count": 22,
   "id": "5eeedf05-dc70-4e3a-be3f-9a94b8705837",
   "metadata": {},
   "outputs": [
    {
     "name": "stdout",
     "output_type": "stream",
     "text": [
      "\u001b[0;33m176.99.135.61 | CHANGED | rc=0 >>\u001b[0m\n",
      "\u001b[0;33m  inflating: /kaggle/input/faceid-preprocessed/kaggle/temp/youtube-faces-with-facial-keypoints/Olene_Walker_4.npz.pkl  \u001b[0m\n",
      "\u001b[0;33m  inflating: /kaggle/input/faceid-preprocessed/kaggle/temp/youtube-faces-with-facial-keypoints/Oliver_Phelps_0.npz.pkl  \u001b[0m\n",
      "\u001b[0;33m  inflating: /kaggle/input/faceid-preprocessed/kaggle/temp/youtube-faces-with-facial-keypoints/Oliver_Phelps_2.npz.pkl  \u001b[0m\n",
      "\u001b[0;33m  inflating: /kaggle/input/faceid-preprocessed/kaggle/temp/youtube-faces-with-facial-keypoints/Olivia_Newton-John_0.npz.pkl  \u001b[0m\n",
      "\u001b[0;33m  inflating: /kaggle/input/faceid-preprocessed/kaggle/temp/youtube-faces-with-facial-keypoints/Olivia_Newton-John_1.npz.pkl  \u001b[0m\n",
      "\u001b[0;33m  inflating: /kaggle/input/faceid-preprocessed/kaggle/temp/youtube-faces-with-facial-keypoints/Olivia_Newton-John_4.npz.pkl  \u001b[0m\n",
      "\u001b[0;33m  inflating: /kaggle/input/faceid-preprocessed/kaggle/temp/youtube-faces-with-facial-keypoints/Olympia_Dukakis_1.npz.pkl  \u001b[0m\n",
      "\u001b[0;33m  inflating: /kaggle/input/faceid-preprocessed/kaggle/temp/youtube-faces-with-facial-keypoints/Olympia_Dukakis_4.npz.pkl  \u001b[0m\n",
      "\u001b[0;33m  inflating: /kaggle/input/faceid-preprocessed/kaggle/temp/youtube-faces-with-facial-keypoints/Orlando_Bloom_0.npz.pkl  \u001b[0m\n",
      "\u001b[0;33m  inflating: /kaggle/input/faceid-preprocessed/kaggle/temp/youtube-faces-with-facial-keypoints/Orlando_Bloom_3.npz.pkl  \u001b[0m\n",
      "\u001b[0;33m176.99.135.28 | CHANGED | rc=0 >>\u001b[0m\n",
      "\u001b[0;33m  inflating: /kaggle/input/faceid-preprocessed/kaggle/temp/youtube-faces-with-facial-keypoints/Kevin_Satterfield_2.npz.pkl  \u001b[0m\n",
      "\u001b[0;33m  inflating: /kaggle/input/faceid-preprocessed/kaggle/temp/youtube-faces-with-facial-keypoints/Kevin_Spacey_0.npz.pkl  \u001b[0m\n",
      "\u001b[0;33m  inflating: /kaggle/input/faceid-preprocessed/kaggle/temp/youtube-faces-with-facial-keypoints/Kevin_Spacey_1.npz.pkl  \u001b[0m\n",
      "\u001b[0;33m  inflating: /kaggle/input/faceid-preprocessed/kaggle/temp/youtube-faces-with-facial-keypoints/Kevin_Spacey_2.npz.pkl  \u001b[0m\n",
      "\u001b[0;33m  inflating: /kaggle/input/faceid-preprocessed/kaggle/temp/youtube-faces-with-facial-keypoints/Kevin_Spacey_3.npz.pkl  \u001b[0m\n",
      "\u001b[0;33m  inflating: /kaggle/input/faceid-preprocessed/kaggle/temp/youtube-faces-with-facial-keypoints/Kevin_Spacey_4.npz.pkl  \u001b[0m\n",
      "\u001b[0;33m  inflating: /kaggle/input/faceid-preprocessed/kaggle/temp/youtube-faces-with-facial-keypoints/Kevin_Spacey_5.npz.pkl  \u001b[0m\n",
      "\u001b[0;33m  inflating: /kaggle/input/faceid-preprocessed/kaggle/temp/youtube-faces-with-facial-keypoints/Kieran_Culkin_0.npz.pkl  \u001b[0m\n",
      "\u001b[0;33m  inflating: /kaggle/input/faceid-preprocessed/kaggle/temp/youtube-faces-with-facial-keypoints/Kieran_Culkin_1.npz.pkl  \u001b[0m\n",
      "\u001b[0;33m  inflating: /kaggle/input/faceid-preprocessed/kaggle/temp/youtube-faces-with-facial-keypoints/Kieran_Culkin_2.npz.pkl  \u001b[0m\n",
      "\u001b[0;33m176.99.135.88 | CHANGED | rc=0 >>\u001b[0m\n",
      "\u001b[0;33m  inflating: /kaggle/input/faceid-preprocessed/kaggle/temp/youtube-faces-with-facial-keypoints/Nanni_Moretti_1.npz.pkl  \u001b[0m\n",
      "\u001b[0;33m  inflating: /kaggle/input/faceid-preprocessed/kaggle/temp/youtube-faces-with-facial-keypoints/Nanni_Moretti_2.npz.pkl  \u001b[0m\n",
      "\u001b[0;33m  inflating: /kaggle/input/faceid-preprocessed/kaggle/temp/youtube-faces-with-facial-keypoints/Nanni_Moretti_4.npz.pkl  \u001b[0m\n",
      "\u001b[0;33m  inflating: /kaggle/input/faceid-preprocessed/kaggle/temp/youtube-faces-with-facial-keypoints/Narendra_Modi_0.npz.pkl  \u001b[0m\n",
      "\u001b[0;33m  inflating: /kaggle/input/faceid-preprocessed/kaggle/temp/youtube-faces-with-facial-keypoints/Narendra_Modi_1.npz.pkl  \u001b[0m\n",
      "\u001b[0;33m  inflating: /kaggle/input/faceid-preprocessed/kaggle/temp/youtube-faces-with-facial-keypoints/Narendra_Modi_2.npz.pkl  \u001b[0m\n",
      "\u001b[0;33m  inflating: /kaggle/input/faceid-preprocessed/kaggle/temp/youtube-faces-with-facial-keypoints/Narendra_Modi_3.npz.pkl  \u001b[0m\n",
      "\u001b[0;33m  inflating: /kaggle/input/faceid-preprocessed/kaggle/temp/youtube-faces-with-facial-keypoints/Narendra_Modi_4.npz.pkl  \u001b[0m\n",
      "\u001b[0;33m  inflating: /kaggle/input/faceid-preprocessed/kaggle/temp/youtube-faces-with-facial-keypoints/Natalia_Verbeke_3.npz.pkl  \u001b[0m\n",
      "\u001b[0;33m  inflating: /kaggle/input/faceid-preprocessed/kaggle/temp/youtube-faces-with-facial-keypoints/Natalia_Verbeke_5.npz.pkl  \u001b[0m\n",
      "\u001b[0;33m176.99.135.111 | CHANGED | rc=0 >>\u001b[0m\n",
      "\u001b[0;33m  inflating: /kaggle/input/faceid-preprocessed/kaggle/temp/youtube-faces-with-facial-keypoints/Natalia_Vodonova_2.npz.pkl  \u001b[0m\n",
      "\u001b[0;33m  inflating: /kaggle/input/faceid-preprocessed/kaggle/temp/youtube-faces-with-facial-keypoints/Natalie_Cole_2.npz.pkl  \u001b[0m\n",
      "\u001b[0;33m  inflating: /kaggle/input/faceid-preprocessed/kaggle/temp/youtube-faces-with-facial-keypoints/Natalie_Cole_5.npz.pkl  \u001b[0m\n",
      "\u001b[0;33m  inflating: /kaggle/input/faceid-preprocessed/kaggle/temp/youtube-faces-with-facial-keypoints/Natalie_Coughlin_2.npz.pkl  \u001b[0m\n",
      "\u001b[0;33m  inflating: /kaggle/input/faceid-preprocessed/kaggle/temp/youtube-faces-with-facial-keypoints/Natalie_Coughlin_5.npz.pkl  \u001b[0m\n",
      "\u001b[0;33m  inflating: /kaggle/input/faceid-preprocessed/kaggle/temp/youtube-faces-with-facial-keypoints/Natalie_Imbruglia_1.npz.pkl  \u001b[0m\n",
      "\u001b[0;33m  inflating: /kaggle/input/faceid-preprocessed/kaggle/temp/youtube-faces-with-facial-keypoints/Natalie_Imbruglia_2.npz.pkl  \u001b[0m\n",
      "\u001b[0;33m  inflating: /kaggle/input/faceid-preprocessed/kaggle/temp/youtube-faces-with-facial-keypoints/Natalie_Stewart_2.npz.pkl  \u001b[0m\n",
      "\u001b[0;33m  inflating: /kaggle/input/faceid-preprocessed/kaggle/temp/youtube-faces-with-facial-keypoints/Natalie_Stewart_3.npz.pkl  \u001b[0m\n",
      "\u001b[0;33m  inflating: /kaggle/input/faceid-preprocessed/kaggle/temp/youtube-faces-with-facial-keypoints/Natasa_Micic_0.npz.pkl  \u001b[0m\n",
      "\u001b[0;33m176.99.135.123 | CHANGED | rc=0 >>\u001b[0m\n",
      "\u001b[0;33m  inflating: /kaggle/input/faceid-preprocessed/kaggle/temp/youtube-faces-with-facial-keypoints/Mary_Landrieu_2.npz.pkl  \u001b[0m\n",
      "\u001b[0;33m  inflating: /kaggle/input/faceid-preprocessed/kaggle/temp/youtube-faces-with-facial-keypoints/Mary_Landrieu_3.npz.pkl  \u001b[0m\n",
      "\u001b[0;33m  inflating: /kaggle/input/faceid-preprocessed/kaggle/temp/youtube-faces-with-facial-keypoints/Mary_Matalin_0.npz.pkl  \u001b[0m\n",
      "\u001b[0;33m  inflating: /kaggle/input/faceid-preprocessed/kaggle/temp/youtube-faces-with-facial-keypoints/Mary_Matalin_1.npz.pkl  \u001b[0m\n",
      "\u001b[0;33m  inflating: /kaggle/input/faceid-preprocessed/kaggle/temp/youtube-faces-with-facial-keypoints/Mary_Matalin_2.npz.pkl  \u001b[0m\n",
      "\u001b[0;33m  inflating: /kaggle/input/faceid-preprocessed/kaggle/temp/youtube-faces-with-facial-keypoints/Mary_Matalin_3.npz.pkl  \u001b[0m\n",
      "\u001b[0;33m  inflating: /kaggle/input/faceid-preprocessed/kaggle/temp/youtube-faces-with-facial-keypoints/Mary_Matalin_5.npz.pkl  \u001b[0m\n",
      "\u001b[0;33m  inflating: /kaggle/input/faceid-preprocessed/kaggle/temp/youtube-faces-with-facial-keypoints/Mary_Robinson_1.npz.pkl  \u001b[0m\n",
      "\u001b[0;33m  inflating: /kaggle/input/faceid-preprocessed/kaggle/temp/youtube-faces-with-facial-keypoints/Mary_Robinson_2.npz.pkl  \u001b[0m\n",
      "\u001b[0;33m  inflating: /kaggle/input/faceid-preprocessed/kaggle/temp/youtube-faces-with-facial-keypoints/Mary_Robinson_4.npz.pkl  \u001b[0m\n",
      "\u001b[0;33m176.99.135.24 | CHANGED | rc=0 >>\u001b[0m\n",
      "\u001b[0;33m  inflating: /kaggle/input/faceid-preprocessed/kaggle/temp/youtube-faces-with-facial-keypoints/Wes_Craven_5.npz.pkl  \u001b[0m\n",
      "\u001b[0;33m  inflating: /kaggle/input/faceid-preprocessed/kaggle/temp/youtube-faces-with-facial-keypoints/Wesley_Clark_0.npz.pkl  \u001b[0m\n",
      "\u001b[0;33m  inflating: /kaggle/input/faceid-preprocessed/kaggle/temp/youtube-faces-with-facial-keypoints/Wesley_Clark_2.npz.pkl  \u001b[0m\n",
      "\u001b[0;33m  inflating: /kaggle/input/faceid-preprocessed/kaggle/temp/youtube-faces-with-facial-keypoints/Wesley_Clark_3.npz.pkl  \u001b[0m\n",
      "\u001b[0;33m  inflating: /kaggle/input/faceid-preprocessed/kaggle/temp/youtube-faces-with-facial-keypoints/Wesley_Clark_4.npz.pkl  \u001b[0m\n",
      "\u001b[0;33m  inflating: /kaggle/input/faceid-preprocessed/kaggle/temp/youtube-faces-with-facial-keypoints/Whoopi_Goldberg_0.npz.pkl  \u001b[0m\n",
      "\u001b[0;33m  inflating: /kaggle/input/faceid-preprocessed/kaggle/temp/youtube-faces-with-facial-keypoints/Whoopi_Goldberg_4.npz.pkl  \u001b[0m\n",
      "\u001b[0;33m  inflating: /kaggle/input/faceid-preprocessed/kaggle/temp/youtube-faces-with-facial-keypoints/Whoopi_Goldberg_5.npz.pkl  \u001b[0m\n",
      "\u001b[0;33m  inflating: /kaggle/input/faceid-preprocessed/kaggle/temp/youtube-faces-with-facial-keypoints/William_Bratton_0.npz.pkl  \u001b[0m\n",
      "\u001b[0;33m  inflating: /kaggle/input/faceid-preprocessed/kaggle/temp/youtube-faces-with-facial-keypoints/William_Bratton_1.npz.pkl  \u001b[0m\n",
      "\u001b[0;33m176.99.135.95 | CHANGED | rc=0 >>\u001b[0m\n",
      "\u001b[0;33m  inflating: /kaggle/input/faceid-preprocessed/kaggle/temp/youtube-faces-with-facial-keypoints/Louis_Van_Gaal_4.npz.pkl  \u001b[0m\n",
      "\u001b[0;33m  inflating: /kaggle/input/faceid-preprocessed/kaggle/temp/youtube-faces-with-facial-keypoints/Louisa_Baileche_0.npz.pkl  \u001b[0m\n",
      "\u001b[0;33m  inflating: /kaggle/input/faceid-preprocessed/kaggle/temp/youtube-faces-with-facial-keypoints/Louisa_Baileche_1.npz.pkl  \u001b[0m\n",
      "\u001b[0;33m  inflating: /kaggle/input/faceid-preprocessed/kaggle/temp/youtube-faces-with-facial-keypoints/Louisa_Baileche_2.npz.pkl  \u001b[0m\n",
      "\u001b[0;33m  inflating: /kaggle/input/faceid-preprocessed/kaggle/temp/youtube-faces-with-facial-keypoints/Lubomir_Zaoralek_2.npz.pkl  \u001b[0m\n",
      "\u001b[0;33m  inflating: /kaggle/input/faceid-preprocessed/kaggle/temp/youtube-faces-with-facial-keypoints/Lubomir_Zaoralek_5.npz.pkl  \u001b[0m\n",
      "\u001b[0;33m  inflating: /kaggle/input/faceid-preprocessed/kaggle/temp/youtube-faces-with-facial-keypoints/Luc_Montagnier_2.npz.pkl  \u001b[0m\n",
      "\u001b[0;33m  inflating: /kaggle/input/faceid-preprocessed/kaggle/temp/youtube-faces-with-facial-keypoints/Luc_Montagnier_4.npz.pkl  \u001b[0m\n",
      "\u001b[0;33m  inflating: /kaggle/input/faceid-preprocessed/kaggle/temp/youtube-faces-with-facial-keypoints/Luc_Montagnier_5.npz.pkl  \u001b[0m\n",
      "\u001b[0;33m  inflating: /kaggle/input/faceid-preprocessed/kaggle/temp/youtube-faces-with-facial-keypoints/Lucia_Kenny_Anthony_0.npz.pkl  \u001b[0m\n",
      "\u001b[0;33m176.99.135.117 | CHANGED | rc=0 >>\u001b[0m\n",
      "\u001b[0;33m  inflating: /kaggle/input/faceid-preprocessed/kaggle/temp/youtube-faces-with-facial-keypoints/Paul_Crane_5.npz.pkl  \u001b[0m\n",
      "\u001b[0;33m  inflating: /kaggle/input/faceid-preprocessed/kaggle/temp/youtube-faces-with-facial-keypoints/Paul_Farley_0.npz.pkl  \u001b[0m\n",
      "\u001b[0;33m  inflating: /kaggle/input/faceid-preprocessed/kaggle/temp/youtube-faces-with-facial-keypoints/Paul_Farley_3.npz.pkl  \u001b[0m\n",
      "\u001b[0;33m  inflating: /kaggle/input/faceid-preprocessed/kaggle/temp/youtube-faces-with-facial-keypoints/Paul_Greengrass_0.npz.pkl  \u001b[0m\n",
      "\u001b[0;33m  inflating: /kaggle/input/faceid-preprocessed/kaggle/temp/youtube-faces-with-facial-keypoints/Paul_Greengrass_3.npz.pkl  \u001b[0m\n",
      "\u001b[0;33m  inflating: /kaggle/input/faceid-preprocessed/kaggle/temp/youtube-faces-with-facial-keypoints/Paul_Kagame_2.npz.pkl  \u001b[0m\n",
      "\u001b[0;33m  inflating: /kaggle/input/faceid-preprocessed/kaggle/temp/youtube-faces-with-facial-keypoints/Paul_Kagame_3.npz.pkl  \u001b[0m\n",
      "\u001b[0;33m  inflating: /kaggle/input/faceid-preprocessed/kaggle/temp/youtube-faces-with-facial-keypoints/Paul_Krueger_1.npz.pkl  \u001b[0m\n",
      "\u001b[0;33m  inflating: /kaggle/input/faceid-preprocessed/kaggle/temp/youtube-faces-with-facial-keypoints/Paul_Krueger_4.npz.pkl  \u001b[0m\n",
      "\u001b[0;33m  inflating: /kaggle/input/faceid-preprocessed/kaggle/temp/youtube-faces-with-facial-keypoints/Paul_Otellini_0.npz.pkl  \u001b[0m\n"
     ]
    }
   ],
   "source": [
    "!ansible --private-key {key} -i {hosts} -u {user} all -m shell -a 'tail /tmp/work/download.log'"
   ]
  },
  {
   "cell_type": "code",
   "execution_count": 15,
   "id": "54eb26c8-ba62-4a74-b987-d0902618237d",
   "metadata": {},
   "outputs": [
    {
     "name": "stdout",
     "output_type": "stream",
     "text": [
      "\u001b[0;33m176.99.135.123 | CHANGED | rc=0 >>\u001b[0m\n",
      "\u001b[0;33mERROR: pip's dependency resolver does not currently take into account all the packages that are installed. This behaviour is the source of the following dependency conflicts.\u001b[0m\n",
      "\u001b[0;33mdaal4py 2021.3.0 requires daal==2021.2.3, which is not installed.\u001b[0m\n",
      "\u001b[0;33mscipy 1.7.1 requires numpy<1.23.0,>=1.16.5, but you have numpy 1.23.3 which is incompatible.\u001b[0m\n",
      "\u001b[0;33mnumba 0.54.1 requires numpy<1.21,>=1.17, but you have numpy 1.23.3 which is incompatible.\u001b[0m\n",
      "\u001b[0;33mSuccessfully installed contourpy-1.0.5 matplotlib-3.6.0 numpy-1.23.3 opencv-python-4.6.0.66 pandas-1.5.0 torch-1.12.1 torchvision-0.13.1\u001b[0m\n",
      "\u001b[0;33m+ pip install torchinfo\u001b[0m\n",
      "\u001b[0;33mCollecting torchinfo\u001b[0m\n",
      "\u001b[0;33m  Downloading torchinfo-1.7.1-py3-none-any.whl (22 kB)\u001b[0m\n",
      "\u001b[0;33mInstalling collected packages: torchinfo\u001b[0m\n",
      "\u001b[0;33mSuccessfully installed torchinfo-1.7.1\u001b[0m\n",
      "\u001b[0;33m176.99.135.111 | CHANGED | rc=0 >>\u001b[0m\n",
      "\u001b[0;33mERROR: pip's dependency resolver does not currently take into account all the packages that are installed. This behaviour is the source of the following dependency conflicts.\u001b[0m\n",
      "\u001b[0;33mdaal4py 2021.3.0 requires daal==2021.2.3, which is not installed.\u001b[0m\n",
      "\u001b[0;33mscipy 1.7.1 requires numpy<1.23.0,>=1.16.5, but you have numpy 1.23.3 which is incompatible.\u001b[0m\n",
      "\u001b[0;33mnumba 0.54.1 requires numpy<1.21,>=1.17, but you have numpy 1.23.3 which is incompatible.\u001b[0m\n",
      "\u001b[0;33mSuccessfully installed contourpy-1.0.5 matplotlib-3.6.0 numpy-1.23.3 opencv-python-4.6.0.66 pandas-1.5.0 torch-1.12.1 torchvision-0.13.1\u001b[0m\n",
      "\u001b[0;33m+ pip install torchinfo\u001b[0m\n",
      "\u001b[0;33mCollecting torchinfo\u001b[0m\n",
      "\u001b[0;33m  Downloading torchinfo-1.7.1-py3-none-any.whl (22 kB)\u001b[0m\n",
      "\u001b[0;33mInstalling collected packages: torchinfo\u001b[0m\n",
      "\u001b[0;33mSuccessfully installed torchinfo-1.7.1\u001b[0m\n",
      "\u001b[0;33m176.99.135.28 | CHANGED | rc=0 >>\u001b[0m\n",
      "\u001b[0;33mERROR: pip's dependency resolver does not currently take into account all the packages that are installed. This behaviour is the source of the following dependency conflicts.\u001b[0m\n",
      "\u001b[0;33mdaal4py 2021.3.0 requires daal==2021.2.3, which is not installed.\u001b[0m\n",
      "\u001b[0;33mscipy 1.7.1 requires numpy<1.23.0,>=1.16.5, but you have numpy 1.23.3 which is incompatible.\u001b[0m\n",
      "\u001b[0;33mnumba 0.54.1 requires numpy<1.21,>=1.17, but you have numpy 1.23.3 which is incompatible.\u001b[0m\n",
      "\u001b[0;33mSuccessfully installed contourpy-1.0.5 matplotlib-3.6.0 numpy-1.23.3 opencv-python-4.6.0.66 pandas-1.5.0 torch-1.12.1 torchvision-0.13.1\u001b[0m\n",
      "\u001b[0;33m+ pip install torchinfo\u001b[0m\n",
      "\u001b[0;33mCollecting torchinfo\u001b[0m\n",
      "\u001b[0;33m  Downloading torchinfo-1.7.1-py3-none-any.whl (22 kB)\u001b[0m\n",
      "\u001b[0;33mInstalling collected packages: torchinfo\u001b[0m\n",
      "\u001b[0;33mSuccessfully installed torchinfo-1.7.1\u001b[0m\n",
      "\u001b[0;33m176.99.135.88 | CHANGED | rc=0 >>\u001b[0m\n",
      "\u001b[0;33mERROR: pip's dependency resolver does not currently take into account all the packages that are installed. This behaviour is the source of the following dependency conflicts.\u001b[0m\n",
      "\u001b[0;33mdaal4py 2021.3.0 requires daal==2021.2.3, which is not installed.\u001b[0m\n",
      "\u001b[0;33mscipy 1.7.1 requires numpy<1.23.0,>=1.16.5, but you have numpy 1.23.3 which is incompatible.\u001b[0m\n",
      "\u001b[0;33mnumba 0.54.1 requires numpy<1.21,>=1.17, but you have numpy 1.23.3 which is incompatible.\u001b[0m\n",
      "\u001b[0;33mSuccessfully installed contourpy-1.0.5 matplotlib-3.6.0 numpy-1.23.3 opencv-python-4.6.0.66 pandas-1.5.0 torch-1.12.1 torchvision-0.13.1\u001b[0m\n",
      "\u001b[0;33m+ pip install torchinfo\u001b[0m\n",
      "\u001b[0;33mCollecting torchinfo\u001b[0m\n",
      "\u001b[0;33m  Downloading torchinfo-1.7.1-py3-none-any.whl (22 kB)\u001b[0m\n",
      "\u001b[0;33mInstalling collected packages: torchinfo\u001b[0m\n",
      "\u001b[0;33mSuccessfully installed torchinfo-1.7.1\u001b[0m\n",
      "\u001b[0;33m176.99.135.61 | CHANGED | rc=0 >>\u001b[0m\n",
      "\u001b[0;33mERROR: pip's dependency resolver does not currently take into account all the packages that are installed. This behaviour is the source of the following dependency conflicts.\u001b[0m\n",
      "\u001b[0;33mdaal4py 2021.3.0 requires daal==2021.2.3, which is not installed.\u001b[0m\n",
      "\u001b[0;33mscipy 1.7.1 requires numpy<1.23.0,>=1.16.5, but you have numpy 1.23.3 which is incompatible.\u001b[0m\n",
      "\u001b[0;33mnumba 0.54.1 requires numpy<1.21,>=1.17, but you have numpy 1.23.3 which is incompatible.\u001b[0m\n",
      "\u001b[0;33mSuccessfully installed contourpy-1.0.5 matplotlib-3.6.0 numpy-1.23.3 opencv-python-4.6.0.66 pandas-1.5.0 torch-1.12.1 torchvision-0.13.1\u001b[0m\n",
      "\u001b[0;33m+ pip install torchinfo\u001b[0m\n",
      "\u001b[0;33mCollecting torchinfo\u001b[0m\n",
      "\u001b[0;33m  Downloading torchinfo-1.7.1-py3-none-any.whl (22 kB)\u001b[0m\n",
      "\u001b[0;33mInstalling collected packages: torchinfo\u001b[0m\n",
      "\u001b[0;33mSuccessfully installed torchinfo-1.7.1\u001b[0m\n",
      "\u001b[0;33m176.99.135.95 | CHANGED | rc=0 >>\u001b[0m\n",
      "\u001b[0;33m    Uninstalling matplotlib-3.4.3:\u001b[0m\n",
      "\u001b[0;33m      Successfully uninstalled matplotlib-3.4.3\u001b[0m\n",
      "\u001b[0;33mERROR: pip's dependency resolver does not currently take into account all the packages that are installed. This behaviour is the source of the following dependency conflicts.\u001b[0m\n",
      "\u001b[0;33mdaal4py 2021.3.0 requires daal==2021.2.3, which is not installed.\u001b[0m\n",
      "\u001b[0;33mscipy 1.7.1 requires numpy<1.23.0,>=1.16.5, but you have numpy 1.23.3 which is incompatible.\u001b[0m\n",
      "\u001b[0;33mnumba 0.54.1 requires numpy<1.21,>=1.17, but you have numpy 1.23.3 which is incompatible.\u001b[0m\n",
      "\u001b[0;33mSuccessfully installed contourpy-1.0.5 matplotlib-3.6.0 numpy-1.23.3 opencv-python-4.6.0.66 pandas-1.5.0 torch-1.12.1 torchvision-0.13.1\u001b[0m\n",
      "\u001b[0;33m+ pip install torchinfo\u001b[0m\n",
      "\u001b[0;33mCollecting torchinfo\u001b[0m\n",
      "\u001b[0;33m  Downloading torchinfo-1.7.1-py3-none-any.whl (22 kB)\u001b[0m\n",
      "\u001b[0;33m176.99.135.24 | CHANGED | rc=0 >>\u001b[0m\n",
      "\u001b[0;33mERROR: pip's dependency resolver does not currently take into account all the packages that are installed. This behaviour is the source of the following dependency conflicts.\u001b[0m\n",
      "\u001b[0;33mdaal4py 2021.3.0 requires daal==2021.2.3, which is not installed.\u001b[0m\n",
      "\u001b[0;33mscipy 1.7.1 requires numpy<1.23.0,>=1.16.5, but you have numpy 1.23.3 which is incompatible.\u001b[0m\n",
      "\u001b[0;33mnumba 0.54.1 requires numpy<1.21,>=1.17, but you have numpy 1.23.3 which is incompatible.\u001b[0m\n",
      "\u001b[0;33mSuccessfully installed contourpy-1.0.5 matplotlib-3.6.0 numpy-1.23.3 opencv-python-4.6.0.66 pandas-1.5.0 torch-1.12.1 torchvision-0.13.1\u001b[0m\n",
      "\u001b[0;33m+ pip install torchinfo\u001b[0m\n",
      "\u001b[0;33mCollecting torchinfo\u001b[0m\n",
      "\u001b[0;33m  Downloading torchinfo-1.7.1-py3-none-any.whl (22 kB)\u001b[0m\n",
      "\u001b[0;33mInstalling collected packages: torchinfo\u001b[0m\n",
      "\u001b[0;33mSuccessfully installed torchinfo-1.7.1\u001b[0m\n",
      "\u001b[0;33m176.99.135.117 | CHANGED | rc=0 >>\u001b[0m\n",
      "\u001b[0;33mERROR: pip's dependency resolver does not currently take into account all the packages that are installed. This behaviour is the source of the following dependency conflicts.\u001b[0m\n",
      "\u001b[0;33mdaal4py 2021.3.0 requires daal==2021.2.3, which is not installed.\u001b[0m\n",
      "\u001b[0;33mscipy 1.7.1 requires numpy<1.23.0,>=1.16.5, but you have numpy 1.23.3 which is incompatible.\u001b[0m\n",
      "\u001b[0;33mnumba 0.54.1 requires numpy<1.21,>=1.17, but you have numpy 1.23.3 which is incompatible.\u001b[0m\n",
      "\u001b[0;33mSuccessfully installed contourpy-1.0.5 matplotlib-3.6.0 numpy-1.23.3 opencv-python-4.6.0.66 pandas-1.5.0 torch-1.12.1 torchvision-0.13.1\u001b[0m\n",
      "\u001b[0;33m+ pip install torchinfo\u001b[0m\n",
      "\u001b[0;33mCollecting torchinfo\u001b[0m\n",
      "\u001b[0;33m  Downloading torchinfo-1.7.1-py3-none-any.whl (22 kB)\u001b[0m\n",
      "\u001b[0;33mInstalling collected packages: torchinfo\u001b[0m\n",
      "\u001b[0;33mSuccessfully installed torchinfo-1.7.1\u001b[0m\n"
     ]
    }
   ],
   "source": [
    "!ansible --private-key {key} -i {hosts} -u {user} all -m shell -a 'tail /tmp/work/setup.log'"
   ]
  }
 ],
 "metadata": {
  "kernelspec": {
   "display_name": "Python 3 (ipykernel)",
   "language": "python",
   "name": "python3"
  },
  "language_info": {
   "codemirror_mode": {
    "name": "ipython",
    "version": 3
   },
   "file_extension": ".py",
   "mimetype": "text/x-python",
   "name": "python",
   "nbconvert_exporter": "python",
   "pygments_lexer": "ipython3",
   "version": "3.9.10"
  }
 },
 "nbformat": 4,
 "nbformat_minor": 5
}
