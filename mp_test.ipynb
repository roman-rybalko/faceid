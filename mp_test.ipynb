{
 "cells": [
  {
   "cell_type": "code",
   "execution_count": 1,
   "id": "e9a37ecb-048a-4383-ae27-3556f029ed66",
   "metadata": {},
   "outputs": [],
   "source": [
    "import multiprocessing"
   ]
  },
  {
   "cell_type": "code",
   "execution_count": 3,
   "id": "db521381-8926-44e1-9f74-411b1deb27b7",
   "metadata": {},
   "outputs": [
    {
     "name": "stdout",
     "output_type": "stream",
     "text": [
      "mkdir: cannot create directory ‘tmp’: File exists\n"
     ]
    }
   ],
   "source": [
    "import numpy as np\n",
    "!mkdir tmp\n",
    "def task(x):\n",
    "    d = np.random.rand(1024) * np.random.rand(1024)\n",
    "    np.save(f'tmp/{x}', d)"
   ]
  },
  {
   "cell_type": "code",
   "execution_count": 4,
   "id": "85f05dcf-30c5-4a3b-b31c-cbcbb573a33c",
   "metadata": {},
   "outputs": [],
   "source": [
    "pool = multiprocessing.get_context('fork').Pool()"
   ]
  },
  {
   "cell_type": "code",
   "execution_count": 6,
   "id": "895ee63a-c9dc-4060-8117-f17ede5c3a7b",
   "metadata": {},
   "outputs": [
    {
     "data": {
      "text/plain": [
       "<multiprocessing.pool.MapResult at 0x7f230a5bba90>"
      ]
     },
     "execution_count": 6,
     "metadata": {},
     "output_type": "execute_result"
    }
   ],
   "source": [
    "r = pool.map_async(task, range(1000000))\n",
    "r"
   ]
  },
  {
   "cell_type": "code",
   "execution_count": 18,
   "id": "a9b14618-db0e-4ff8-951d-55831c8c0d3c",
   "metadata": {},
   "outputs": [
    {
     "data": {
      "text/plain": [
       "True"
      ]
     },
     "execution_count": 18,
     "metadata": {},
     "output_type": "execute_result"
    }
   ],
   "source": [
    "r.ready()"
   ]
  },
  {
   "cell_type": "code",
   "execution_count": 17,
   "id": "6d0b3245-110b-4641-8647-deb384ce3f6b",
   "metadata": {},
   "outputs": [],
   "source": [
    "r.wait(3)"
   ]
  },
  {
   "cell_type": "code",
   "execution_count": 16,
   "id": "336ba112-b6a9-43bb-87bf-9b152375298c",
   "metadata": {},
   "outputs": [
    {
     "data": {
      "text/plain": [
       "True"
      ]
     },
     "execution_count": 16,
     "metadata": {},
     "output_type": "execute_result"
    }
   ],
   "source": [
    "r.successful()"
   ]
  },
  {
   "cell_type": "code",
   "execution_count": 20,
   "id": "571dee54-00be-476b-b338-0a6b637c9b60",
   "metadata": {},
   "outputs": [
    {
     "data": {
      "text/plain": [
       "1000000"
      ]
     },
     "execution_count": 20,
     "metadata": {},
     "output_type": "execute_result"
    }
   ],
   "source": [
    "len(r.get())"
   ]
  }
 ],
 "metadata": {
  "kernelspec": {
   "display_name": "Python 3",
   "language": "python",
   "name": "python3"
  },
  "language_info": {
   "codemirror_mode": {
    "name": "ipython",
    "version": 3
   },
   "file_extension": ".py",
   "mimetype": "text/x-python",
   "name": "python",
   "nbconvert_exporter": "python",
   "pygments_lexer": "ipython3",
   "version": "3.8.10"
  }
 },
 "nbformat": 4,
 "nbformat_minor": 5
}
