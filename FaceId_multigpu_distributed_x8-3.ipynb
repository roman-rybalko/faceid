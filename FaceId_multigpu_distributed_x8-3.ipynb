{
 "cells": [
  {
   "cell_type": "markdown",
   "id": "d38e8ac1",
   "metadata": {
    "papermill": {
     "duration": 0.007781,
     "end_time": "2022-09-22T15:02:05.384085",
     "exception": false,
     "start_time": "2022-09-22T15:02:05.376304",
     "status": "completed"
    },
    "tags": []
   },
   "source": [
    "# Face Identification\n",
    "\n",
    "Output vector: **16** x float32  "
   ]
  },
  {
   "cell_type": "code",
   "execution_count": 1,
   "id": "058750a9-335f-4d48-b22f-938e39d8f0df",
   "metadata": {},
   "outputs": [],
   "source": [
    "import os\n",
    "\n",
    "os.environ['MASTER_ADDR'] = '176.99.135.11'\n",
    "os.environ['MASTER_PORT'] = '12345'\n",
    "os.environ['WORLD_SIZE'] = '8'\n",
    "os.environ['RANK'] = '3'"
   ]
  },
  {
   "cell_type": "code",
   "execution_count": 2,
   "id": "e37b11c7",
   "metadata": {
    "papermill": {
     "duration": 0.598999,
     "end_time": "2022-09-22T15:02:05.989704",
     "exception": false,
     "start_time": "2022-09-22T15:02:05.390705",
     "status": "completed"
    },
    "tags": []
   },
   "outputs": [
    {
     "name": "stdout",
     "output_type": "stream",
     "text": [
      "/kaggle/input/torchvision-resnet-pretrained/resnet50-0676ba61.pth\n",
      "/kaggle/input/torchvision-resnet-pretrained/resnet34-b627a593.pth\n",
      "/kaggle/input/torchvision-resnet-pretrained/resnet101-63fe2227.pth\n",
      "/kaggle/input/torchvision-resnet-pretrained/resnet18-f37072fd.pth\n",
      "/kaggle/input/torchvision-resnet-pretrained/resnet152-f82ba261.pth\n",
      "/kaggle/input/torchvision-resnet-pretrained/resnet152-394f9c45.pth\n",
      "/kaggle/input/torchvision-resnet-pretrained/resnet101-cd907fc2.pth\n",
      "/kaggle/input/torchvision-resnet-pretrained/resnet50-11ad3fa6.pth\n",
      "/kaggle/input/faceid-preprocessed/Felicity_Huffman_2.npz.pkl\n",
      "/kaggle/input/faceid-preprocessed/Leticia_Van_de_Putte_1.npz.pkl\n",
      "/kaggle/input/faceid-preprocessed/George_Galloway_4.npz.pkl\n",
      "/kaggle/input/faceid-preprocessed/Prince_Harry_1.npz.pkl\n",
      "/kaggle/input/faceid-preprocessed/Emmanuel_Milingo_4.npz.pkl\n",
      "/kaggle/input/faceid-preprocessed/Eve_Ensler_2.npz.pkl\n",
      "/kaggle/input/faceid-preprocessed/Carolina_Kluft_5.npz.pkl\n",
      "/kaggle/input/faceid-preprocessed/Ally_Sheedy_4.npz.pkl\n",
      "/kaggle/input/faceid-preprocessed/Aidan_Quinn_0.npz.pkl\n",
      "/kaggle/input/faceid-preprocessed/Paul_Celluci_5.npz.pkl\n",
      "/kaggle/input/faceid-preprocessed/Alastair_Campbell_3.npz.pkl\n",
      "/kaggle/input/faceid-preprocessed/George_P_Bush_0.npz.pkl\n",
      "/kaggle/input/faceid-preprocessed/Matt_LeBlanc_0.npz.pkl\n",
      "/kaggle/input/faceid-preprocessed/Warren_Beatty_5.npz.pkl\n",
      "2203\n"
     ]
    }
   ],
   "source": [
    "# This Python 3 environment comes with many helpful analytics libraries installed\n",
    "# It is defined by the kaggle/python Docker image: https://github.com/kaggle/docker-python\n",
    "# For example, here's several helpful packages to load\n",
    "\n",
    "import numpy as np # linear algebra\n",
    "import pandas as pd # data processing, CSV file I/O (e.g. pd.read_csv)\n",
    "\n",
    "# Input data files are available in the read-only \"../input/\" directory\n",
    "# For example, running this (by clicking run or pressing Shift+Enter) will list all files under the input directory\n",
    "\n",
    "import os\n",
    "fcnt = 0\n",
    "for dirname, _, filenames in os.walk('/kaggle/input'):\n",
    "    for filename in filenames:\n",
    "        fcnt += 1\n",
    "        if fcnt < 10 or fcnt > 2190:\n",
    "            print(os.path.join(dirname, filename))\n",
    "print(fcnt)\n",
    "\n",
    "# You can write up to 20GB to the current directory (/kaggle/working/) that gets preserved as output when you create a version using \"Save & Run All\" \n",
    "# You can also write temporary files to /kaggle/temp/, but they won't be saved outside of the current session"
   ]
  },
  {
   "cell_type": "code",
   "execution_count": 3,
   "id": "ff86304c",
   "metadata": {
    "papermill": {
     "duration": 1.12206,
     "end_time": "2022-09-22T15:02:07.118459",
     "exception": false,
     "start_time": "2022-09-22T15:02:05.996399",
     "status": "completed"
    },
    "tags": []
   },
   "outputs": [
    {
     "name": "stdout",
     "output_type": "stream",
     "text": [
      "Filesystem     1K-blocks     Used Available Use% Mounted on\n",
      "/dev/vda1      162420480 82783220  79620876  51% /\n"
     ]
    }
   ],
   "source": [
    "!df /kaggle/"
   ]
  },
  {
   "cell_type": "code",
   "execution_count": 4,
   "id": "874d9b12-3949-466f-8d86-b159803b1117",
   "metadata": {
    "papermill": {
     "duration": 6.068463,
     "end_time": "2022-09-22T15:02:13.196940",
     "exception": false,
     "start_time": "2022-09-22T15:02:07.128477",
     "status": "completed"
    },
    "tags": []
   },
   "outputs": [],
   "source": [
    "#!mkdir -pv /kaggle/temp\n",
    "#!rm -Rf /kaggle/temp/*\n",
    "#!cp -as /kaggle/input/youtube-faces-with-facial-keypoints /kaggle/temp/\n",
    "#!mv /kaggle/temp/youtube-faces-with-facial-keypoints/*/*/*.npz /kaggle/temp/youtube-faces-with-facial-keypoints/\n",
    "#!ls /kaggle/temp/youtube-faces-with-facial-keypoints/ | wc"
   ]
  },
  {
   "cell_type": "code",
   "execution_count": 5,
   "id": "c8c0cb10",
   "metadata": {
    "papermill": {
     "duration": 0.015223,
     "end_time": "2022-09-22T15:02:13.218747",
     "exception": false,
     "start_time": "2022-09-22T15:02:13.203524",
     "status": "completed"
    },
    "tags": []
   },
   "outputs": [],
   "source": [
    "#data_dir = '/kaggle/temp/youtube-faces-with-facial-keypoints'\n",
    "#data_dir = '/kaggle/input/faceid-preprocessed-small'\n",
    "data_dir = '/kaggle/input/faceid-preprocessed'"
   ]
  },
  {
   "cell_type": "code",
   "execution_count": 6,
   "id": "9ce8059a-76d4-43fe-b0c8-ef0525a1beaf",
   "metadata": {
    "papermill": {
     "duration": 7.350053,
     "end_time": "2022-09-22T15:02:20.575178",
     "exception": false,
     "start_time": "2022-09-22T15:02:13.225125",
     "status": "completed"
    },
    "tags": []
   },
   "outputs": [
    {
     "name": "stdout",
     "output_type": "stream",
     "text": [
      "mkdir: created directory '/home/ubuntu/.cache/torch'\n",
      "mkdir: created directory '/home/ubuntu/.cache/torch/hub'\n",
      "mkdir: created directory '/home/ubuntu/.cache/torch/hub/checkpoints/'\n",
      "'/kaggle/input/torchvision-resnet-pretrained/resnet101-63fe2227.pth' -> '/home/ubuntu/.cache/torch/hub/checkpoints/resnet101-63fe2227.pth'\n",
      "'/kaggle/input/torchvision-resnet-pretrained/resnet101-cd907fc2.pth' -> '/home/ubuntu/.cache/torch/hub/checkpoints/resnet101-cd907fc2.pth'\n",
      "'/kaggle/input/torchvision-resnet-pretrained/resnet152-394f9c45.pth' -> '/home/ubuntu/.cache/torch/hub/checkpoints/resnet152-394f9c45.pth'\n",
      "'/kaggle/input/torchvision-resnet-pretrained/resnet152-f82ba261.pth' -> '/home/ubuntu/.cache/torch/hub/checkpoints/resnet152-f82ba261.pth'\n",
      "'/kaggle/input/torchvision-resnet-pretrained/resnet18-f37072fd.pth' -> '/home/ubuntu/.cache/torch/hub/checkpoints/resnet18-f37072fd.pth'\n",
      "'/kaggle/input/torchvision-resnet-pretrained/resnet34-b627a593.pth' -> '/home/ubuntu/.cache/torch/hub/checkpoints/resnet34-b627a593.pth'\n",
      "'/kaggle/input/torchvision-resnet-pretrained/resnet50-0676ba61.pth' -> '/home/ubuntu/.cache/torch/hub/checkpoints/resnet50-0676ba61.pth'\n",
      "'/kaggle/input/torchvision-resnet-pretrained/resnet50-11ad3fa6.pth' -> '/home/ubuntu/.cache/torch/hub/checkpoints/resnet50-11ad3fa6.pth'\n",
      "'/home/ubuntu/.cache/torch/hub/checkpoints/resnet50-11ad3fa6.pth' -> '/home/ubuntu/.cache/torch/hub/checkpoints/resnet50-0676ba61.pth'\n",
      "'/home/ubuntu/.cache/torch/hub/checkpoints/resnet101-cd907fc2.pth' -> '/home/ubuntu/.cache/torch/hub/checkpoints/resnet101-63fe2227.pth'\n",
      "'/home/ubuntu/.cache/torch/hub/checkpoints/resnet152-f82ba261.pth' -> '/home/ubuntu/.cache/torch/hub/checkpoints/resnet152-394f9c45.pth'\n",
      "total 32\n",
      "lrwxrwxrwx 1 ubuntu ubuntu 64 Oct  6 05:55 resnet101-63fe2227.pth -> /home/ubuntu/.cache/torch/hub/checkpoints/resnet101-cd907fc2.pth\n",
      "lrwxrwxrwx 1 ubuntu ubuntu 66 Sep 19 21:43 resnet101-cd907fc2.pth -> /kaggle/input/torchvision-resnet-pretrained/resnet101-cd907fc2.pth\n",
      "lrwxrwxrwx 1 ubuntu ubuntu 64 Oct  6 05:55 resnet152-394f9c45.pth -> /home/ubuntu/.cache/torch/hub/checkpoints/resnet152-f82ba261.pth\n",
      "lrwxrwxrwx 1 ubuntu ubuntu 66 Sep 19 21:44 resnet152-f82ba261.pth -> /kaggle/input/torchvision-resnet-pretrained/resnet152-f82ba261.pth\n",
      "lrwxrwxrwx 1 ubuntu ubuntu 65 Sep 19 21:44 resnet18-f37072fd.pth -> /kaggle/input/torchvision-resnet-pretrained/resnet18-f37072fd.pth\n",
      "lrwxrwxrwx 1 ubuntu ubuntu 65 Sep 19 21:44 resnet34-b627a593.pth -> /kaggle/input/torchvision-resnet-pretrained/resnet34-b627a593.pth\n",
      "lrwxrwxrwx 1 ubuntu ubuntu 63 Oct  6 05:55 resnet50-0676ba61.pth -> /home/ubuntu/.cache/torch/hub/checkpoints/resnet50-11ad3fa6.pth\n",
      "lrwxrwxrwx 1 ubuntu ubuntu 65 Sep 19 21:44 resnet50-11ad3fa6.pth -> /kaggle/input/torchvision-resnet-pretrained/resnet50-11ad3fa6.pth\n"
     ]
    }
   ],
   "source": [
    "# Updating to the recent pretrained data\n",
    "!rm -Rf ~/.cache/torch/hub/checkpoints/\n",
    "!mkdir -pv ~/.cache/torch/hub/checkpoints/\n",
    "!cp -avs /kaggle/input/torchvision-resnet-pretrained/resnet*.pth ~/.cache/torch/hub/checkpoints/\n",
    "!cp -vsf ~/.cache/torch/hub/checkpoints/resnet50-11ad3fa6.pth ~/.cache/torch/hub/checkpoints/resnet50-0676ba61.pth\n",
    "!cp -vsf ~/.cache/torch/hub/checkpoints/resnet101-cd907fc2.pth ~/.cache/torch/hub/checkpoints/resnet101-63fe2227.pth\n",
    "!cp -vsf ~/.cache/torch/hub/checkpoints/resnet152-f82ba261.pth ~/.cache/torch/hub/checkpoints/resnet152-394f9c45.pth\n",
    "!ls -l ~/.cache/torch/hub/checkpoints/"
   ]
  },
  {
   "cell_type": "code",
   "execution_count": 7,
   "id": "dc645013",
   "metadata": {
    "id": "xcDdqMb8jWEY",
    "papermill": {
     "duration": 0.016786,
     "end_time": "2022-09-22T15:02:20.611714",
     "exception": false,
     "start_time": "2022-09-22T15:02:20.594928",
     "status": "completed"
    },
    "tags": []
   },
   "outputs": [],
   "source": [
    "import pandas as pd\n",
    "import numpy as np\n",
    "import matplotlib.pyplot as plt\n",
    "from tqdm import tqdm"
   ]
  },
  {
   "cell_type": "code",
   "execution_count": 8,
   "id": "479e300d",
   "metadata": {
    "id": "9Wpb5ohLj5VI",
    "outputId": "ca513529-baef-44a8-9825-ab8ac718af30",
    "papermill": {
     "duration": 0.082417,
     "end_time": "2022-09-22T15:02:20.701294",
     "exception": false,
     "start_time": "2022-09-22T15:02:20.618877",
     "status": "completed"
    },
    "tags": []
   },
   "outputs": [
    {
     "data": {
      "text/html": [
       "<div>\n",
       "<style scoped>\n",
       "    .dataframe tbody tr th:only-of-type {\n",
       "        vertical-align: middle;\n",
       "    }\n",
       "\n",
       "    .dataframe tbody tr th {\n",
       "        vertical-align: top;\n",
       "    }\n",
       "\n",
       "    .dataframe thead th {\n",
       "        text-align: right;\n",
       "    }\n",
       "</style>\n",
       "<table border=\"1\" class=\"dataframe\">\n",
       "  <thead>\n",
       "    <tr style=\"text-align: right;\">\n",
       "      <th></th>\n",
       "      <th>videoID</th>\n",
       "      <th>personName</th>\n",
       "      <th>imageHeight</th>\n",
       "      <th>imageWidth</th>\n",
       "      <th>videoDuration</th>\n",
       "      <th>averageFaceSize</th>\n",
       "      <th>numVideosForPerson</th>\n",
       "    </tr>\n",
       "  </thead>\n",
       "  <tbody>\n",
       "    <tr>\n",
       "      <th>0</th>\n",
       "      <td>Alison_Lohman_0</td>\n",
       "      <td>Alison_Lohman</td>\n",
       "      <td>228.0</td>\n",
       "      <td>213.0</td>\n",
       "      <td>240.0</td>\n",
       "      <td>90.150000</td>\n",
       "      <td>6.0</td>\n",
       "    </tr>\n",
       "    <tr>\n",
       "      <th>1</th>\n",
       "      <td>Alison_Lohman_1</td>\n",
       "      <td>Alison_Lohman</td>\n",
       "      <td>248.0</td>\n",
       "      <td>201.0</td>\n",
       "      <td>79.0</td>\n",
       "      <td>108.417722</td>\n",
       "      <td>6.0</td>\n",
       "    </tr>\n",
       "    <tr>\n",
       "      <th>2</th>\n",
       "      <td>Alison_Lohman_2</td>\n",
       "      <td>Alison_Lohman</td>\n",
       "      <td>335.0</td>\n",
       "      <td>308.0</td>\n",
       "      <td>136.0</td>\n",
       "      <td>122.161765</td>\n",
       "      <td>6.0</td>\n",
       "    </tr>\n",
       "    <tr>\n",
       "      <th>3</th>\n",
       "      <td>Alison_Lohman_3</td>\n",
       "      <td>Alison_Lohman</td>\n",
       "      <td>151.0</td>\n",
       "      <td>110.0</td>\n",
       "      <td>53.0</td>\n",
       "      <td>58.000000</td>\n",
       "      <td>6.0</td>\n",
       "    </tr>\n",
       "    <tr>\n",
       "      <th>4</th>\n",
       "      <td>Alison_Lohman_4</td>\n",
       "      <td>Alison_Lohman</td>\n",
       "      <td>236.0</td>\n",
       "      <td>228.0</td>\n",
       "      <td>147.0</td>\n",
       "      <td>91.680272</td>\n",
       "      <td>6.0</td>\n",
       "    </tr>\n",
       "    <tr>\n",
       "      <th>...</th>\n",
       "      <td>...</td>\n",
       "      <td>...</td>\n",
       "      <td>...</td>\n",
       "      <td>...</td>\n",
       "      <td>...</td>\n",
       "      <td>...</td>\n",
       "      <td>...</td>\n",
       "    </tr>\n",
       "    <tr>\n",
       "      <th>2189</th>\n",
       "      <td>Yossi_Beilin_3</td>\n",
       "      <td>Yossi_Beilin</td>\n",
       "      <td>240.0</td>\n",
       "      <td>243.0</td>\n",
       "      <td>240.0</td>\n",
       "      <td>110.258333</td>\n",
       "      <td>2.0</td>\n",
       "    </tr>\n",
       "    <tr>\n",
       "      <th>2190</th>\n",
       "      <td>Zahir_Shah_0</td>\n",
       "      <td>Zahir_Shah</td>\n",
       "      <td>196.0</td>\n",
       "      <td>200.0</td>\n",
       "      <td>143.0</td>\n",
       "      <td>93.944056</td>\n",
       "      <td>2.0</td>\n",
       "    </tr>\n",
       "    <tr>\n",
       "      <th>2191</th>\n",
       "      <td>Zahir_Shah_1</td>\n",
       "      <td>Zahir_Shah</td>\n",
       "      <td>240.0</td>\n",
       "      <td>293.0</td>\n",
       "      <td>240.0</td>\n",
       "      <td>155.495833</td>\n",
       "      <td>2.0</td>\n",
       "    </tr>\n",
       "    <tr>\n",
       "      <th>2192</th>\n",
       "      <td>Zoran_Djindjic_0</td>\n",
       "      <td>Zoran_Djindjic</td>\n",
       "      <td>230.0</td>\n",
       "      <td>237.0</td>\n",
       "      <td>240.0</td>\n",
       "      <td>98.908333</td>\n",
       "      <td>2.0</td>\n",
       "    </tr>\n",
       "    <tr>\n",
       "      <th>2193</th>\n",
       "      <td>Zoran_Djindjic_2</td>\n",
       "      <td>Zoran_Djindjic</td>\n",
       "      <td>131.0</td>\n",
       "      <td>115.0</td>\n",
       "      <td>240.0</td>\n",
       "      <td>59.554167</td>\n",
       "      <td>2.0</td>\n",
       "    </tr>\n",
       "  </tbody>\n",
       "</table>\n",
       "<p>2194 rows × 7 columns</p>\n",
       "</div>"
      ],
      "text/plain": [
       "               videoID      personName  imageHeight  imageWidth  \\\n",
       "0      Alison_Lohman_0   Alison_Lohman        228.0       213.0   \n",
       "1      Alison_Lohman_1   Alison_Lohman        248.0       201.0   \n",
       "2      Alison_Lohman_2   Alison_Lohman        335.0       308.0   \n",
       "3      Alison_Lohman_3   Alison_Lohman        151.0       110.0   \n",
       "4      Alison_Lohman_4   Alison_Lohman        236.0       228.0   \n",
       "...                ...             ...          ...         ...   \n",
       "2189    Yossi_Beilin_3    Yossi_Beilin        240.0       243.0   \n",
       "2190      Zahir_Shah_0      Zahir_Shah        196.0       200.0   \n",
       "2191      Zahir_Shah_1      Zahir_Shah        240.0       293.0   \n",
       "2192  Zoran_Djindjic_0  Zoran_Djindjic        230.0       237.0   \n",
       "2193  Zoran_Djindjic_2  Zoran_Djindjic        131.0       115.0   \n",
       "\n",
       "      videoDuration  averageFaceSize  numVideosForPerson  \n",
       "0             240.0        90.150000                 6.0  \n",
       "1              79.0       108.417722                 6.0  \n",
       "2             136.0       122.161765                 6.0  \n",
       "3              53.0        58.000000                 6.0  \n",
       "4             147.0        91.680272                 6.0  \n",
       "...             ...              ...                 ...  \n",
       "2189          240.0       110.258333                 2.0  \n",
       "2190          143.0        93.944056                 2.0  \n",
       "2191          240.0       155.495833                 2.0  \n",
       "2192          240.0        98.908333                 2.0  \n",
       "2193          240.0        59.554167                 2.0  \n",
       "\n",
       "[2194 rows x 7 columns]"
      ]
     },
     "execution_count": 8,
     "metadata": {},
     "output_type": "execute_result"
    }
   ],
   "source": [
    "df = pd.read_csv(f'{data_dir}/youtube_faces_with_keypoints_full.csv')\n",
    "df"
   ]
  },
  {
   "cell_type": "code",
   "execution_count": 9,
   "id": "d6eedcaa",
   "metadata": {
    "id": "sJguPEzWihnZ",
    "papermill": {
     "duration": 2.107764,
     "end_time": "2022-09-22T15:02:22.816205",
     "exception": false,
     "start_time": "2022-09-22T15:02:20.708441",
     "status": "completed"
    },
    "tags": []
   },
   "outputs": [],
   "source": [
    "import torch\n",
    "import torch.nn as nn\n",
    "import torch.optim as optim\n",
    "import torchvision\n",
    "#from torchinfo import summary"
   ]
  },
  {
   "cell_type": "code",
   "execution_count": 10,
   "id": "cee41ad6",
   "metadata": {
    "id": "NfaI6TWnkpWw",
    "papermill": {
     "duration": 0.203356,
     "end_time": "2022-09-22T15:02:23.122384",
     "exception": false,
     "start_time": "2022-09-22T15:02:22.919028",
     "status": "completed"
    },
    "tags": []
   },
   "outputs": [],
   "source": [
    "import PIL\n",
    "import cv2\n",
    "\n",
    "class NormalizeTransform:\n",
    "    def __init__(self, ratio=0.333):\n",
    "        self.ratio = ratio\n",
    "\n",
    "        self.jawPoints          = [ 0,17]\n",
    "        self.rigthEyebrowPoints = [17,22]\n",
    "        self.leftEyebrowPoints  = [22,27]\n",
    "        self.noseRidgePoints    = [27,31]\n",
    "        self.noseBasePoints     = [31,36]\n",
    "        self.rightEyePoints     = [36,42]\n",
    "        self.leftEyePoints      = [42,48]\n",
    "        self.outerMouthPoints   = [48,60]\n",
    "        self.innerMouthPoints   = [60,68]\n",
    "\n",
    "        self.norm_transform = torchvision.transforms.Compose([\n",
    "            torchvision.transforms.Resize((224, 224)),\n",
    "            torchvision.transforms.functional.autocontrast,\n",
    "            torchvision.transforms.functional.to_grayscale,\n",
    "            torchvision.transforms.ToTensor(),\n",
    "        ])\n",
    "\n",
    "    def __call__(self, data, landmarks):\n",
    "        data = self.face_transform(data, landmarks)\n",
    "        img = PIL.Image.fromarray(data)\n",
    "        data = self.norm_transform(img)\n",
    "        return data\n",
    "\n",
    "    def face_transform(self, data, landmarks):\n",
    "        # see FaceId-Normalization.ipynb\n",
    "        pt1 = self.avg(landmarks[self.leftEyePoints[0]:self.leftEyePoints[1]])\n",
    "        pt2 = self.avg(landmarks[self.outerMouthPoints[0]:self.outerMouthPoints[1]])\n",
    "        pt3 = self.avg(landmarks[self.rightEyePoints[0]:self.rightEyePoints[1]])\n",
    "        src_pts = np.float32([pt1, pt2, pt3])\n",
    "        dst_pts = np.float32([\n",
    "            [data.shape[0]*self.ratio, data.shape[1]*self.ratio],\n",
    "            [data.shape[0]/2, data.shape[1]*(1-self.ratio)],\n",
    "            [data.shape[0]*(1-self.ratio), data.shape[1]*self.ratio]\n",
    "        ])\n",
    "        M = cv2.getAffineTransform(src_pts, dst_pts)\n",
    "        data = cv2.warpAffine(data, M, data.shape[:2])\n",
    "        return data\n",
    "    \n",
    "    def avg(self, pts):\n",
    "        x = sum(x for x,y in pts) / len(pts)\n",
    "        y = sum(y for x,y in pts) / len(pts)\n",
    "        return x, y"
   ]
  },
  {
   "cell_type": "code",
   "execution_count": 11,
   "id": "777a96cd",
   "metadata": {
    "id": "K6M-NqdtlvAN",
    "outputId": "7dba579b-5797-41d8-fdfb-4bbe6b901641",
    "papermill": {
     "duration": 10.813371,
     "end_time": "2022-09-22T15:02:33.943279",
     "exception": false,
     "start_time": "2022-09-22T15:02:23.129908",
     "status": "completed"
    },
    "tags": []
   },
   "outputs": [
    {
     "name": "stderr",
     "output_type": "stream",
     "text": [
      "Loading data: 100%|██████████| 828/828 [01:04<00:00, 12.88it/s]\n"
     ]
    },
    {
     "data": {
      "text/plain": [
       "828"
      ]
     },
     "execution_count": 11,
     "metadata": {},
     "output_type": "execute_result"
    }
   ],
   "source": [
    "import random\n",
    "import pickle\n",
    "\n",
    "random.seed()\n",
    "\n",
    "class YouTubeFacesDataset(torch.utils.data.Dataset):\n",
    "    def __init__(self, df, folder = '.', transform = NormalizeTransform(),\n",
    "                 cache_lim = 200,\n",
    "                 preload = False, preprocess = False,\n",
    "                 anchor_set_len = 1, positive_set_len = 1, negative_set_len = 1,\n",
    "                 stochastic_set_fraction = 0.8):\n",
    "        self.transform = transform\n",
    "        self.cache = {}\n",
    "        self.cache_lim = 0 if preload else cache_lim\n",
    "        self.preprocessed_cache = {}\n",
    "        self.data = {}\n",
    "        for p in tqdm(df['personName'].unique(), desc='Loading data'):\n",
    "            self.data[p] = []\n",
    "            for fn, cnt in df[df['personName'] == p][['videoID', 'videoDuration']].values:\n",
    "                fp = f'{folder}/{fn}.npz'\n",
    "                cnt = int(cnt)\n",
    "                self.data[p] += [(fp, i) for i in range(cnt)]\n",
    "                if preload:\n",
    "                    self.cache_lim += 1\n",
    "                    imgs, lms = self._cache_get(fp)\n",
    "                    assert imgs.shape[-1] == cnt\n",
    "                    assert lms.shape[-1] == cnt\n",
    "                if preprocess:\n",
    "                    pfp = self._preprocess(fp)\n",
    "                    imgs = self._load_preprocessed(pfp)\n",
    "                    assert len(imgs) == cnt\n",
    "                    self.preprocessed_cache[fp] = imgs\n",
    "        self.persons = list(self.data.keys())\n",
    "        self.neg_data = {}\n",
    "        for p in self.persons:\n",
    "            self.neg_data[p] = []\n",
    "            for p_neg in self.persons:\n",
    "                if p_neg == p:\n",
    "                    continue\n",
    "                self.neg_data[p] += self.data[p_neg]\n",
    "        self.anchor_set_len = anchor_set_len\n",
    "        self.positive_set_len = positive_set_len\n",
    "        self.negative_set_len = negative_set_len\n",
    "        self.stochastic_set_fraction = stochastic_set_fraction\n",
    "    \n",
    "    def resize(self, anchor_set_len = 1, positive_set_len = 1, negative_set_len = 1, stochastic_set_fraction = 0.8):\n",
    "        self.anchor_set_len = anchor_set_len\n",
    "        self.positive_set_len = positive_set_len\n",
    "        self.negative_set_len = negative_set_len\n",
    "        self.stochastic_set_fraction = stochastic_set_fraction\n",
    "    \n",
    "    def __len__(self):\n",
    "        return len(self.persons) * self.anchor_set_len * self.positive_set_len * self.negative_set_len\n",
    "    \n",
    "    def __getitem__(self, index):\n",
    "        p_i = index // self.negative_set_len // self.positive_set_len // self.anchor_set_len\n",
    "        assert p_i >= 0\n",
    "        assert p_i < len(self.persons)\n",
    "        p = self.persons[p_i]\n",
    "        if self.negative_set_len > len(self.neg_data[p]) * self.stochastic_set_fraction:\n",
    "            negative_i = index % self.negative_set_len\n",
    "            negative_i = negative_i % len(self.neg_data[p])\n",
    "        else:\n",
    "            negative_i = random.randint(0, len(self.neg_data[p]) - 1)\n",
    "        assert negative_i >= 0\n",
    "        assert negative_i < len(self.neg_data[p])\n",
    "        if self.positive_set_len > len(self.data[p]) * self.stochastic_set_fraction:\n",
    "            positive_i = (index // self.negative_set_len) % self.positive_set_len\n",
    "            positive_i = positive_i % len(self.data[p])\n",
    "        else:\n",
    "            positive_i = random.randint(0, len(self.data[p]) - 1)\n",
    "        assert positive_i >= 0\n",
    "        assert positive_i < len(self.data[p])\n",
    "        if self.anchor_set_len > len(self.data[p]) * self.stochastic_set_fraction:\n",
    "            anchor_i = (index // self.negative_set_len // self.positive_set_len) % self.anchor_set_len\n",
    "            anchor_i = anchor_i % len(self.data[p])\n",
    "        else:\n",
    "            anchor_i = random.randint(0, len(self.data[p]) - 1)\n",
    "        assert anchor_i >= 0\n",
    "        assert anchor_i < len(self.data[p])\n",
    "        return self._load(*self.data[p][anchor_i]), self._load(*self.data[p][positive_i]), self._load(*self.neg_data[p][negative_i])\n",
    "    \n",
    "    def _load(self, fp, i):\n",
    "        if fp in self.preprocessed_cache:\n",
    "            assert i < len(self.preprocessed_cache[fp]), (fp, i, len(self.preprocessed_cache[fp]))\n",
    "            if self.preprocessed_cache[fp][i] is not None:\n",
    "                return self.preprocessed_cache[fp][i]\n",
    "        imgs, lms = self._cache_get(fp)\n",
    "        assert i < imgs.shape[-1], (fp, i, imgs.shape[-1])\n",
    "        data = imgs[:,:,:,i]\n",
    "        assert i < lms.shape[-1], (fp, i, lms.shape[-1])\n",
    "        lms = lms[:,:,i]\n",
    "        if self.transform:\n",
    "            data = self.transform(data, lms)\n",
    "        return data\n",
    "    \n",
    "    def _cache_get(self, fp):\n",
    "        if fp in self.cache:\n",
    "            return self.cache[fp]\n",
    "        if len(self.cache) > self.cache_lim:\n",
    "            idx = random.randint(0, len(self.cache) - 1)\n",
    "            key = list(self.cache.keys())[idx]\n",
    "            del self.cache[key]\n",
    "        d = np.load(fp)\n",
    "        # trigger lazy loading\n",
    "        self.cache[fp] = (d['colorImages'], d['landmarks2D'])\n",
    "        return self.cache[fp]\n",
    "    \n",
    "    def _preprocess(self, fp):\n",
    "        pfp = f'{fp}.pkl'\n",
    "        if not os.path.exists(pfp):\n",
    "            imgs, lms = self._cache_get(fp)\n",
    "            d = [self._load(fp, i) for i in range(imgs.shape[-1])]\n",
    "            with open(pfp, 'wb') as f:\n",
    "                pickle.dump(d, f)\n",
    "        return pfp\n",
    "    \n",
    "    def _load_preprocessed(self, pfp):\n",
    "        with open(pfp, 'rb') as f:\n",
    "            return pickle.load(f)\n",
    "\n",
    "dataset = YouTubeFacesDataset(df, data_dir, preprocess = True)\n",
    "len(dataset)"
   ]
  },
  {
   "cell_type": "code",
   "execution_count": 12,
   "id": "8621d451",
   "metadata": {
    "id": "xl07IjbM8sh9",
    "outputId": "896090fd-3e14-4abb-b7f8-9488d94e2d11",
    "papermill": {
     "duration": 0.049366,
     "end_time": "2022-09-22T15:02:34.003155",
     "exception": false,
     "start_time": "2022-09-22T15:02:33.953789",
     "status": "completed"
    },
    "tags": []
   },
   "outputs": [
    {
     "data": {
      "image/png": "[encoded data removed]",
      "text/plain": [
       "<PIL.Image.Image image mode=L size=224x224 at 0x7F7F0F0811C0>"
      ]
     },
     "execution_count": 12,
     "metadata": {},
     "output_type": "execute_result"
    }
   ],
   "source": [
    "to_pil_transform = torchvision.transforms.ToPILImage()\n",
    "to_pil_transform(dataset[0][1])"
   ]
  },
  {
   "cell_type": "code",
   "execution_count": 13,
   "id": "b29fda80-f986-4a3d-a259-7a6eff4aee18",
   "metadata": {},
   "outputs": [],
   "source": [
    "def dev_list():\n",
    "    return [torch.cuda.get_device_properties(torch.device(f'cuda:{i}')) for i in range(torch.cuda.device_count())]\n",
    "\n",
    "def train_triplet_multigpu_distributed(model, dataset, num_epochs, lr = 0.001, batch_size = 16):\n",
    "    model.train()\n",
    "    \n",
    "    model = nn.DataParallel(model)\n",
    "    model.to(torch.device('cuda'))\n",
    "    \n",
    "    model = torch.nn.parallel.DistributedDataParallel(model)\n",
    "    \n",
    "    loss = nn.TripletMarginLoss()\n",
    "    loss_history = []\n",
    "    \n",
    "    data_sampler = torch.utils.data.distributed.DistributedSampler(dataset)\n",
    "    data_loader = torch.utils.data.DataLoader(dataset, batch_size=batch_size, sampler=data_sampler)\n",
    "    \n",
    "    # not using ZeroRedundancyOptimizer - slow\n",
    "    optimizer = optim.Adam(model.parameters(), lr=lr)\n",
    "    \n",
    "    print(f'lr: {lr}')\n",
    "    for epoch in range(1, num_epochs+1):\n",
    "        loss_accum = 0\n",
    "        loss_cnt = 0\n",
    "        for xa, xp, xn in tqdm(data_loader, desc=f'train {epoch}/{num_epochs}'):\n",
    "            ya = model(xa)\n",
    "            yp = model(xp)\n",
    "            yn = model(xn)\n",
    "            loss_data = loss(ya, yp, yn)\n",
    "            \n",
    "            optimizer.zero_grad()\n",
    "            loss_data.backward()\n",
    "            optimizer.step()\n",
    "            \n",
    "            loss_accum += float(loss_data)\n",
    "            loss_cnt += 1\n",
    "\n",
    "        loss_value = loss_accum / loss_cnt\n",
    "        print(f'loss: {loss_value}')\n",
    "        \n",
    "        loss_history.append(loss_value)\n",
    "        \n",
    "        # can't change optimizer because loss can be out of sync on distributed nodes\n",
    "\n",
    "    return loss_history"
   ]
  },
  {
   "cell_type": "code",
   "execution_count": 14,
   "id": "edcf3bdc",
   "metadata": {
    "id": "PQ5MsTvD2Ifs",
    "outputId": "d0fc9abf-e1e4-4051-a659-6cdaae79f8a4",
    "papermill": {
     "duration": 4.759071,
     "end_time": "2022-09-22T15:02:38.832326",
     "exception": false,
     "start_time": "2022-09-22T15:02:34.073255",
     "status": "completed"
    },
    "tags": []
   },
   "outputs": [
    {
     "data": {
      "text/plain": [
       "(Conv2d(1, 64, kernel_size=(7, 7), stride=(2, 2), padding=(3, 3), bias=False),\n",
       " Linear(in_features=2048, out_features=16, bias=True))"
      ]
     },
     "execution_count": 14,
     "metadata": {},
     "output_type": "execute_result"
    }
   ],
   "source": [
    "def create_faceid_model():\n",
    "    model = torchvision.models.resnet50(weights='DEFAULT')\n",
    "    model.fc = nn.Linear(model.fc.in_features, 16)\n",
    "    return model\n",
    "\n",
    "def grayscale_fix_model(model):\n",
    "    w = model.conv1.weight.data.sum(axis=1).reshape(64, 1, 7, 7)\n",
    "    model.conv1 = torch.nn.Conv2d(1, 64, kernel_size=(7, 7), stride=(2, 2), padding=(3, 3), bias=False)\n",
    "    model.conv1.weight.data = w\n",
    "    return model\n",
    "\n",
    "def set_trainable(model):\n",
    "    model.requires_grad_(False)\n",
    "    model.fc.requires_grad_(True)\n",
    "\n",
    "model = create_faceid_model()\n",
    "model = grayscale_fix_model(model)\n",
    "set_trainable(model)\n",
    "#summary(model)\n",
    "model.conv1, model.fc"
   ]
  },
  {
   "cell_type": "code",
   "execution_count": 15,
   "id": "1dcec84c-5abf-48eb-bcd8-5d678a5de5c8",
   "metadata": {},
   "outputs": [
    {
     "data": {
      "text/plain": [
       "828000"
      ]
     },
     "execution_count": 15,
     "metadata": {},
     "output_type": "execute_result"
    }
   ],
   "source": [
    "dataset.resize(anchor_set_len=10, positive_set_len=10, negative_set_len=10)\n",
    "len(dataset)"
   ]
  },
  {
   "cell_type": "code",
   "execution_count": 16,
   "id": "c38a129e-f9e9-42f5-9ecc-0618636c04ed",
   "metadata": {},
   "outputs": [
    {
     "data": {
      "image/png": "[encoded data removed]",
      "text/plain": [
       "<PIL.Image.Image image mode=L size=224x224 at 0x7F7F0EC67A60>"
      ]
     },
     "execution_count": 16,
     "metadata": {},
     "output_type": "execute_result"
    }
   ],
   "source": [
    "to_pil_transform(dataset[0][1])"
   ]
  },
  {
   "cell_type": "code",
   "execution_count": 17,
   "id": "45c1bfbe-6f1c-4fb8-9f50-bbf94838c25c",
   "metadata": {},
   "outputs": [
    {
     "data": {
      "text/plain": [
       "[_CudaDeviceProperties(name='NVIDIA GeForce RTX 2080 Ti', major=7, minor=5, total_memory=11019MB, multi_processor_count=68),\n",
       " _CudaDeviceProperties(name='NVIDIA GeForce RTX 2080 Ti', major=7, minor=5, total_memory=11019MB, multi_processor_count=68),\n",
       " _CudaDeviceProperties(name='NVIDIA GeForce RTX 2080 Ti', major=7, minor=5, total_memory=11019MB, multi_processor_count=68),\n",
       " _CudaDeviceProperties(name='NVIDIA GeForce RTX 2080 Ti', major=7, minor=5, total_memory=11019MB, multi_processor_count=68)]"
      ]
     },
     "execution_count": 17,
     "metadata": {},
     "output_type": "execute_result"
    }
   ],
   "source": [
    "dev_list()"
   ]
  },
  {
   "cell_type": "code",
   "execution_count": 18,
   "id": "919bc545-1e05-4ed7-9b3d-502fe87b6d25",
   "metadata": {},
   "outputs": [
    {
     "data": {
      "text/plain": [
       "(8, 3)"
      ]
     },
     "execution_count": 18,
     "metadata": {},
     "output_type": "execute_result"
    }
   ],
   "source": [
    "os.environ['TORCH_CPP_LOG_LEVEL'] = 'INFO'\n",
    "os.environ['TORCH_DISTRIBUTED_DEBUG'] = 'DETAIL'\n",
    "\n",
    "torch.distributed.init_process_group(backend='gloo', init_method='env://')\n",
    "torch.distributed.get_world_size(), torch.distributed.get_rank()"
   ]
  },
  {
   "cell_type": "code",
   "execution_count": 19,
   "id": "615ad764",
   "metadata": {
    "id": "DYnLNynr1pNS",
    "outputId": "8ae787a8-8b99-4cf1-d65c-b626bd476382",
    "papermill": {
     "duration": 6147.754176,
     "end_time": "2022-09-22T16:45:06.596237",
     "exception": false,
     "start_time": "2022-09-22T15:02:38.842061",
     "status": "completed"
    },
    "tags": []
   },
   "outputs": [
    {
     "name": "stdout",
     "output_type": "stream",
     "text": [
      "lr: 0.001\n"
     ]
    },
    {
     "name": "stderr",
     "output_type": "stream",
     "text": [
      "train 1/10: 100%|██████████| 405/405 [07:21<00:00,  1.09s/it]\n"
     ]
    },
    {
     "name": "stdout",
     "output_type": "stream",
     "text": [
      "loss: 0.34496240155932345\n"
     ]
    },
    {
     "name": "stderr",
     "output_type": "stream",
     "text": [
      "train 2/10: 100%|██████████| 405/405 [07:02<00:00,  1.04s/it]\n"
     ]
    },
    {
     "name": "stdout",
     "output_type": "stream",
     "text": [
      "loss: 0.237888092060148\n"
     ]
    },
    {
     "name": "stderr",
     "output_type": "stream",
     "text": [
      "train 3/10: 100%|██████████| 405/405 [06:50<00:00,  1.01s/it]\n"
     ]
    },
    {
     "name": "stdout",
     "output_type": "stream",
     "text": [
      "loss: 0.2113403524513598\n"
     ]
    },
    {
     "name": "stderr",
     "output_type": "stream",
     "text": [
      "train 4/10: 100%|██████████| 405/405 [07:01<00:00,  1.04s/it]\n"
     ]
    },
    {
     "name": "stdout",
     "output_type": "stream",
     "text": [
      "loss: 0.19878698112788024\n"
     ]
    },
    {
     "name": "stderr",
     "output_type": "stream",
     "text": [
      "train 5/10: 100%|██████████| 405/405 [07:04<00:00,  1.05s/it]\n"
     ]
    },
    {
     "name": "stdout",
     "output_type": "stream",
     "text": [
      "loss: 0.19165930876761306\n"
     ]
    },
    {
     "name": "stderr",
     "output_type": "stream",
     "text": [
      "train 6/10: 100%|██████████| 405/405 [06:56<00:00,  1.03s/it]\n"
     ]
    },
    {
     "name": "stdout",
     "output_type": "stream",
     "text": [
      "loss: 0.186484882419492\n"
     ]
    },
    {
     "name": "stderr",
     "output_type": "stream",
     "text": [
      "train 7/10: 100%|██████████| 405/405 [07:24<00:00,  1.10s/it]\n"
     ]
    },
    {
     "name": "stdout",
     "output_type": "stream",
     "text": [
      "loss: 0.18407132770912146\n"
     ]
    },
    {
     "name": "stderr",
     "output_type": "stream",
     "text": [
      "train 8/10: 100%|██████████| 405/405 [07:32<00:00,  1.12s/it]\n"
     ]
    },
    {
     "name": "stdout",
     "output_type": "stream",
     "text": [
      "loss: 0.17886579172846712\n"
     ]
    },
    {
     "name": "stderr",
     "output_type": "stream",
     "text": [
      "train 9/10: 100%|██████████| 405/405 [07:16<00:00,  1.08s/it]\n"
     ]
    },
    {
     "name": "stdout",
     "output_type": "stream",
     "text": [
      "loss: 0.1807649611690898\n"
     ]
    },
    {
     "name": "stderr",
     "output_type": "stream",
     "text": [
      "train 10/10: 100%|██████████| 405/405 [07:38<00:00,  1.13s/it]"
     ]
    },
    {
     "name": "stdout",
     "output_type": "stream",
     "text": [
      "loss: 0.17695413599779578\n"
     ]
    },
    {
     "name": "stderr",
     "output_type": "stream",
     "text": [
      "\n"
     ]
    },
    {
     "data": {
      "image/png": "[encoded data removed]",
      "text/plain": [
       "<Figure size 432x288 with 1 Axes>"
      ]
     },
     "metadata": {
      "needs_background": "light"
     },
     "output_type": "display_data"
    }
   ],
   "source": [
    "loss_history = train_triplet_multigpu_distributed(model, dataset, 10, batch_size=64*len(dev_list()))\n",
    "plt.plot(loss_history)\n",
    "plt.title('loss');"
   ]
  },
  {
   "cell_type": "code",
   "execution_count": 20,
   "id": "727209cd-b77b-4e38-bdb3-6fbb1b736653",
   "metadata": {},
   "outputs": [],
   "source": [
    "model.to(torch.device('cpu'));"
   ]
  },
  {
   "cell_type": "code",
   "execution_count": 21,
   "id": "6dc83236",
   "metadata": {
    "id": "PSoePnKbXp58",
    "outputId": "5e742904-b13e-4834-83a1-770707c17f8f",
    "papermill": {
     "duration": 2.112794,
     "end_time": "2022-09-22T16:45:09.679153",
     "exception": false,
     "start_time": "2022-09-22T16:45:07.566359",
     "status": "completed"
    },
    "tags": []
   },
   "outputs": [
    {
     "data": {
      "image/png": "[encoded data removed]",
      "text/plain": [
       "<Figure size 432x288 with 1 Axes>"
      ]
     },
     "metadata": {
      "needs_background": "light"
     },
     "output_type": "display_data"
    }
   ],
   "source": [
    "plt.hist(model.fc.weight.detach().reshape(-1).numpy(), bins=100);"
   ]
  },
  {
   "cell_type": "code",
   "execution_count": 22,
   "id": "964b2e1e",
   "metadata": {
    "id": "GaluetAiclVn",
    "papermill": {
     "duration": 0.951564,
     "end_time": "2022-09-22T16:45:13.713349",
     "exception": false,
     "start_time": "2022-09-22T16:45:12.761785",
     "status": "completed"
    },
    "tags": []
   },
   "outputs": [],
   "source": [
    "def cos_similarity(v1, v2):\n",
    "    val = np.inner(v1,v2)/(np.linalg.norm(v1)*np.linalg.norm(v2))\n",
    "    return val.reshape(-1)[0]\n",
    "\n",
    "def euc_similarity(v1, v2):\n",
    "    return np.linalg.norm(v1-v2)"
   ]
  },
  {
   "cell_type": "code",
   "execution_count": 23,
   "id": "cc3b6cf7",
   "metadata": {
    "id": "fFtYrsKntNsX",
    "outputId": "7244266d-d69a-483e-bc4b-4853b3009e7d",
    "papermill": {
     "duration": 1.602186,
     "end_time": "2022-09-22T16:45:16.344910",
     "exception": false,
     "start_time": "2022-09-22T16:45:14.742724",
     "status": "completed"
    },
    "tags": []
   },
   "outputs": [
    {
     "name": "stdout",
     "output_type": "stream",
     "text": [
      "2.219443 1.9557835 0.1177174 0.3755612 -0.88560116 0.74632645\n",
      "2.3403358 2.2630825 0.33632866 0.4189784 -1.4781933 0.8395437\n",
      "2.3765364 2.4447172 0.04176349 0.065529846 -1.4559104 0.9075387\n",
      "2.7838104 2.0528836 -0.057439998 0.53878987 -1.1573808 1.3754977\n",
      "1.8298863 2.4300165 0.5949012 0.27496412 -1.4533628 1.0743965\n",
      "1.9310721 2.1498418 0.5836523 0.5992098 -1.5864804 1.2209858\n",
      "1.7912395 1.9058383 0.42458534 0.4337281 -0.97138304 0.91586226\n",
      "2.0634024 1.9316411 0.42619407 0.35498103 -1.0041279 1.1066613\n",
      "1.8054645 1.4946333 0.5175506 0.6804038 -0.9428124 0.8111264\n",
      "1.5971583 1.8799732 0.7297595 0.5337376 -1.0138412 1.2926507\n"
     ]
    }
   ],
   "source": [
    "for i in range(10):\n",
    "    v1 = model(dataset[42][0].reshape(1, 1, 224, 224)).detach().numpy()\n",
    "    v2 = model(dataset[42][1].reshape(1, 1, 224, 224)).detach().numpy()\n",
    "    v3 = model(dataset[42][2].reshape(1, 1, 224, 224)).detach().numpy()\n",
    "    print(euc_similarity(v1, v2), euc_similarity(v1, v3),\n",
    "          cos_similarity(v1, v2), cos_similarity(v1, v3),\n",
    "          np.vstack((v1, v2, v3)).min(), np.vstack((v1, v2, v3)).max())"
   ]
  },
  {
   "cell_type": "code",
   "execution_count": 24,
   "id": "ea24bf46-f0ca-4a79-a843-5ee27f39f509",
   "metadata": {},
   "outputs": [],
   "source": [
    "torch.save(model, f'faceid-model-{loss_history[-1]}.pt')"
   ]
  },
  {
   "cell_type": "code",
   "execution_count": 25,
   "id": "270dce8d-ad96-4b95-8e6e-c6db46fb24bf",
   "metadata": {},
   "outputs": [
    {
     "data": {
      "text/plain": [
       "103500"
      ]
     },
     "execution_count": 25,
     "metadata": {},
     "output_type": "execute_result"
    }
   ],
   "source": [
    "dataset.resize(anchor_set_len=5, positive_set_len=5, negative_set_len=5)\n",
    "len(dataset)"
   ]
  },
  {
   "cell_type": "code",
   "execution_count": 26,
   "id": "3dd2d7d6-296e-417d-94df-12730b36e28c",
   "metadata": {},
   "outputs": [
    {
     "data": {
      "image/png": "[encoded data removed]",
      "text/plain": [
       "<PIL.Image.Image image mode=L size=224x224 at 0x7F7F0EF98E50>"
      ]
     },
     "execution_count": 26,
     "metadata": {},
     "output_type": "execute_result"
    }
   ],
   "source": [
    "to_pil_transform(dataset[0][1])"
   ]
  },
  {
   "cell_type": "code",
   "execution_count": 27,
   "id": "0fb83031",
   "metadata": {
    "id": "FwJflhX1aeym",
    "outputId": "de38b2ce-ec38-4e20-b8af-29de96a53be4",
    "papermill": {
     "duration": 4373.356898,
     "end_time": "2022-09-22T17:58:10.734899",
     "exception": false,
     "start_time": "2022-09-22T16:45:17.378001",
     "status": "completed"
    },
    "tags": []
   },
   "outputs": [
    {
     "name": "stdout",
     "output_type": "stream",
     "text": [
      "lr: 1e-06\n"
     ]
    },
    {
     "name": "stderr",
     "output_type": "stream",
     "text": [
      "train 1/10:   0%|          | 0/102 [00:00<?, ?it/s]\n"
     ]
    },
    {
     "ename": "RuntimeError",
     "evalue": "one of the variables needed for gradient computation has been modified by an inplace operation: [torch.cuda.FloatTensor [2048]] is at version 4; expected version 3 instead. Hint: enable anomaly detection to find the operation that failed to compute its gradient, with torch.autograd.set_detect_anomaly(True).",
     "output_type": "error",
     "traceback": [
      "\u001b[0;31m---------------------------------------------------------------------------\u001b[0m",
      "\u001b[0;31mRuntimeError\u001b[0m                              Traceback (most recent call last)",
      "\u001b[0;32m/tmp/ipykernel_4776/4066361873.py\u001b[0m in \u001b[0;36m<module>\u001b[0;34m\u001b[0m\n\u001b[1;32m      1\u001b[0m \u001b[0mmodel\u001b[0m\u001b[0;34m.\u001b[0m\u001b[0mrequires_grad_\u001b[0m\u001b[0;34m(\u001b[0m\u001b[0;32mTrue\u001b[0m\u001b[0;34m)\u001b[0m\u001b[0;34m\u001b[0m\u001b[0;34m\u001b[0m\u001b[0m\n\u001b[0;32m----> 2\u001b[0;31m \u001b[0mloss_history\u001b[0m \u001b[0;34m=\u001b[0m \u001b[0mtrain_triplet_multigpu_distributed\u001b[0m\u001b[0;34m(\u001b[0m\u001b[0mmodel\u001b[0m\u001b[0;34m,\u001b[0m \u001b[0mdataset\u001b[0m\u001b[0;34m,\u001b[0m \u001b[0;36m10\u001b[0m\u001b[0;34m,\u001b[0m \u001b[0mlr\u001b[0m\u001b[0;34m=\u001b[0m\u001b[0;36m0.000001\u001b[0m\u001b[0;34m,\u001b[0m \u001b[0mbatch_size\u001b[0m\u001b[0;34m=\u001b[0m\u001b[0;36m32\u001b[0m\u001b[0;34m*\u001b[0m\u001b[0mlen\u001b[0m\u001b[0;34m(\u001b[0m\u001b[0mdev_list\u001b[0m\u001b[0;34m(\u001b[0m\u001b[0;34m)\u001b[0m\u001b[0;34m)\u001b[0m\u001b[0;34m)\u001b[0m\u001b[0;34m\u001b[0m\u001b[0;34m\u001b[0m\u001b[0m\n\u001b[0m\u001b[1;32m      3\u001b[0m \u001b[0mplt\u001b[0m\u001b[0;34m.\u001b[0m\u001b[0mplot\u001b[0m\u001b[0;34m(\u001b[0m\u001b[0mloss_history\u001b[0m\u001b[0;34m)\u001b[0m\u001b[0;34m\u001b[0m\u001b[0;34m\u001b[0m\u001b[0m\n\u001b[1;32m      4\u001b[0m \u001b[0mplt\u001b[0m\u001b[0;34m.\u001b[0m\u001b[0mtitle\u001b[0m\u001b[0;34m(\u001b[0m\u001b[0;34m'loss'\u001b[0m\u001b[0;34m)\u001b[0m\u001b[0;34m;\u001b[0m\u001b[0;34m\u001b[0m\u001b[0;34m\u001b[0m\u001b[0m\n",
      "\u001b[0;32m/tmp/ipykernel_4776/214589227.py\u001b[0m in \u001b[0;36mtrain_triplet_multigpu_distributed\u001b[0;34m(model, dataset, num_epochs, lr, batch_size)\u001b[0m\n\u001b[1;32m     30\u001b[0m \u001b[0;34m\u001b[0m\u001b[0m\n\u001b[1;32m     31\u001b[0m             \u001b[0moptimizer\u001b[0m\u001b[0;34m.\u001b[0m\u001b[0mzero_grad\u001b[0m\u001b[0;34m(\u001b[0m\u001b[0;34m)\u001b[0m\u001b[0;34m\u001b[0m\u001b[0;34m\u001b[0m\u001b[0m\n\u001b[0;32m---> 32\u001b[0;31m             \u001b[0mloss_data\u001b[0m\u001b[0;34m.\u001b[0m\u001b[0mbackward\u001b[0m\u001b[0;34m(\u001b[0m\u001b[0;34m)\u001b[0m\u001b[0;34m\u001b[0m\u001b[0;34m\u001b[0m\u001b[0m\n\u001b[0m\u001b[1;32m     33\u001b[0m             \u001b[0moptimizer\u001b[0m\u001b[0;34m.\u001b[0m\u001b[0mstep\u001b[0m\u001b[0;34m(\u001b[0m\u001b[0;34m)\u001b[0m\u001b[0;34m\u001b[0m\u001b[0;34m\u001b[0m\u001b[0m\n\u001b[1;32m     34\u001b[0m \u001b[0;34m\u001b[0m\u001b[0m\n",
      "\u001b[0;32m~/anaconda/lib/python3.9/site-packages/torch/_tensor.py\u001b[0m in \u001b[0;36mbackward\u001b[0;34m(self, gradient, retain_graph, create_graph, inputs)\u001b[0m\n\u001b[1;32m    394\u001b[0m                 \u001b[0mcreate_graph\u001b[0m\u001b[0;34m=\u001b[0m\u001b[0mcreate_graph\u001b[0m\u001b[0;34m,\u001b[0m\u001b[0;34m\u001b[0m\u001b[0;34m\u001b[0m\u001b[0m\n\u001b[1;32m    395\u001b[0m                 inputs=inputs)\n\u001b[0;32m--> 396\u001b[0;31m         \u001b[0mtorch\u001b[0m\u001b[0;34m.\u001b[0m\u001b[0mautograd\u001b[0m\u001b[0;34m.\u001b[0m\u001b[0mbackward\u001b[0m\u001b[0;34m(\u001b[0m\u001b[0mself\u001b[0m\u001b[0;34m,\u001b[0m \u001b[0mgradient\u001b[0m\u001b[0;34m,\u001b[0m \u001b[0mretain_graph\u001b[0m\u001b[0;34m,\u001b[0m \u001b[0mcreate_graph\u001b[0m\u001b[0;34m,\u001b[0m \u001b[0minputs\u001b[0m\u001b[0;34m=\u001b[0m\u001b[0minputs\u001b[0m\u001b[0;34m)\u001b[0m\u001b[0;34m\u001b[0m\u001b[0;34m\u001b[0m\u001b[0m\n\u001b[0m\u001b[1;32m    397\u001b[0m \u001b[0;34m\u001b[0m\u001b[0m\n\u001b[1;32m    398\u001b[0m     \u001b[0;32mdef\u001b[0m \u001b[0mregister_hook\u001b[0m\u001b[0;34m(\u001b[0m\u001b[0mself\u001b[0m\u001b[0;34m,\u001b[0m \u001b[0mhook\u001b[0m\u001b[0;34m)\u001b[0m\u001b[0;34m:\u001b[0m\u001b[0;34m\u001b[0m\u001b[0;34m\u001b[0m\u001b[0m\n",
      "\u001b[0;32m~/anaconda/lib/python3.9/site-packages/torch/autograd/__init__.py\u001b[0m in \u001b[0;36mbackward\u001b[0;34m(tensors, grad_tensors, retain_graph, create_graph, grad_variables, inputs)\u001b[0m\n\u001b[1;32m    171\u001b[0m     \u001b[0;31m# some Python versions print out the first line of a multi-line function\u001b[0m\u001b[0;34m\u001b[0m\u001b[0;34m\u001b[0m\u001b[0m\n\u001b[1;32m    172\u001b[0m     \u001b[0;31m# calls in the traceback and some print out the last line\u001b[0m\u001b[0;34m\u001b[0m\u001b[0;34m\u001b[0m\u001b[0m\n\u001b[0;32m--> 173\u001b[0;31m     Variable._execution_engine.run_backward(  # Calls into the C++ engine to run the backward pass\n\u001b[0m\u001b[1;32m    174\u001b[0m         \u001b[0mtensors\u001b[0m\u001b[0;34m,\u001b[0m \u001b[0mgrad_tensors_\u001b[0m\u001b[0;34m,\u001b[0m \u001b[0mretain_graph\u001b[0m\u001b[0;34m,\u001b[0m \u001b[0mcreate_graph\u001b[0m\u001b[0;34m,\u001b[0m \u001b[0minputs\u001b[0m\u001b[0;34m,\u001b[0m\u001b[0;34m\u001b[0m\u001b[0;34m\u001b[0m\u001b[0m\n\u001b[1;32m    175\u001b[0m         allow_unreachable=True, accumulate_grad=True)  # Calls into the C++ engine to run the backward pass\n",
      "\u001b[0;31mRuntimeError\u001b[0m: one of the variables needed for gradient computation has been modified by an inplace operation: [torch.cuda.FloatTensor [2048]] is at version 4; expected version 3 instead. Hint: enable anomaly detection to find the operation that failed to compute its gradient, with torch.autograd.set_detect_anomaly(True)."
     ]
    }
   ],
   "source": [
    "model.requires_grad_(True)\n",
    "loss_history = train_triplet_multigpu_distributed(model, dataset, 10, lr=0.000001, batch_size=32*len(dev_list()))\n",
    "plt.plot(loss_history)\n",
    "plt.title('loss');"
   ]
  },
  {
   "cell_type": "code",
   "execution_count": null,
   "id": "f6bb41fd-be1f-49e3-aea4-60225dc01e34",
   "metadata": {},
   "outputs": [],
   "source": [
    "model.to(torch.device('cpu'));"
   ]
  },
  {
   "cell_type": "code",
   "execution_count": null,
   "id": "cc66525d",
   "metadata": {
    "id": "awzalcn6bpTe",
    "outputId": "3926ea4f-f4d2-4902-d2d6-da44f976a256",
    "papermill": {
     "duration": 2.447524,
     "end_time": "2022-09-22T17:58:14.813972",
     "exception": false,
     "start_time": "2022-09-22T17:58:12.366448",
     "status": "completed"
    },
    "tags": []
   },
   "outputs": [],
   "source": [
    "plt.hist(model.fc.weight.detach().reshape(-1).numpy(), bins=100);"
   ]
  },
  {
   "cell_type": "code",
   "execution_count": null,
   "id": "e0a7ad75",
   "metadata": {
    "id": "e90luCJ3kZ9Q",
    "outputId": "1356b994-f4fb-47ec-da11-5fb86ae56262",
    "papermill": {
     "duration": 2.299878,
     "end_time": "2022-09-22T17:58:28.489114",
     "exception": false,
     "start_time": "2022-09-22T17:58:26.189236",
     "status": "completed"
    },
    "tags": []
   },
   "outputs": [],
   "source": [
    "for i in range(10):\n",
    "    v1 = model(dataset[42][0].reshape(1, 1, 224, 224)).detach().numpy()\n",
    "    v2 = model(dataset[42][1].reshape(1, 1, 224, 224)).detach().numpy()\n",
    "    v3 = model(dataset[42][2].reshape(1, 1, 224, 224)).detach().numpy()\n",
    "    print(euc_similarity(v1, v2), euc_similarity(v1, v3),\n",
    "          cos_similarity(v1, v2), cos_similarity(v1, v3),\n",
    "          np.vstack((v1, v2, v3)).min(), np.vstack((v1, v2, v3)).max())"
   ]
  },
  {
   "cell_type": "code",
   "execution_count": null,
   "id": "385ad04a",
   "metadata": {
    "id": "37ox4WYL7-Tb",
    "outputId": "519ac00f-3b1a-4761-f2c7-802805940540",
    "papermill": {
     "duration": 2.889478,
     "end_time": "2022-09-22T17:58:32.874738",
     "exception": false,
     "start_time": "2022-09-22T17:58:29.985260",
     "status": "completed"
    },
    "tags": []
   },
   "outputs": [],
   "source": [
    "torch.save(model, f'faceid-model-{loss_history[-1]}.pt')\n",
    "!ls -l faceid-model-*.pt"
   ]
  }
 ],
 "metadata": {
  "kernelspec": {
   "display_name": "Python 3 (ipykernel)",
   "language": "python",
   "name": "python3"
  },
  "language_info": {
   "codemirror_mode": {
    "name": "ipython",
    "version": 3
   },
   "file_extension": ".py",
   "mimetype": "text/x-python",
   "name": "python",
   "nbconvert_exporter": "python",
   "pygments_lexer": "ipython3",
   "version": "3.9.7"
  },
  "papermill": {
   "default_parameters": {},
   "duration": 10600.005102,
   "end_time": "2022-09-22T17:58:37.073717",
   "environment_variables": {},
   "exception": null,
   "input_path": "__notebook__.ipynb",
   "output_path": "__notebook__.ipynb",
   "parameters": {},
   "start_time": "2022-09-22T15:01:57.068615",
   "version": "2.3.4"
  }
 },
 "nbformat": 4,
 "nbformat_minor": 5
}
