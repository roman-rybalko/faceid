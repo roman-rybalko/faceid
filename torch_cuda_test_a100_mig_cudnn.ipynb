{
 "cells": [
  {
   "cell_type": "code",
   "execution_count": 1,
   "id": "d0d10eab-0390-434f-9dc7-1d0dd5fdccc1",
   "metadata": {},
   "outputs": [
    {
     "name": "stderr",
     "output_type": "stream",
     "text": [
      "/home/ubuntu/anaconda/lib/python3.9/site-packages/torch/cuda/__init__.py:146: UserWarning: \n",
      "NVIDIA A100 80GB PCIe MIG 1g.10gb with CUDA capability sm_80 is not compatible with the current PyTorch installation.\n",
      "The current PyTorch install supports CUDA capabilities sm_37 sm_50 sm_60 sm_70.\n",
      "If you want to use the NVIDIA A100 80GB PCIe MIG 1g.10gb GPU with PyTorch, please check the instructions at https://pytorch.org/get-started/locally/\n",
      "\n",
      "  warnings.warn(incompatible_device_warn.format(device_name, capability, \" \".join(arch_list), device_name))\n"
     ]
    },
    {
     "data": {
      "text/plain": [
       "(device(type='cuda', index=0),\n",
       " _CudaDeviceProperties(name='NVIDIA A100 80GB PCIe MIG 1g.10gb', major=8, minor=0, total_memory=9728MB, multi_processor_count=14))"
      ]
     },
     "execution_count": 1,
     "metadata": {},
     "output_type": "execute_result"
    }
   ],
   "source": [
    "import torch\n",
    "device = torch.device(\"cuda:0\" if torch.cuda.is_available() else \"cpu\")\n",
    "device, torch.cuda.get_device_properties(device) if torch.cuda.is_available() else 'CPU'"
   ]
  },
  {
   "cell_type": "code",
   "execution_count": 2,
   "id": "7547ed77-8859-4068-9715-cb81a48019ff",
   "metadata": {},
   "outputs": [
    {
     "data": {
      "text/plain": [
       "[_CudaDeviceProperties(name='NVIDIA A100 80GB PCIe MIG 1g.10gb', major=8, minor=0, total_memory=9728MB, multi_processor_count=14)]"
      ]
     },
     "execution_count": 2,
     "metadata": {},
     "output_type": "execute_result"
    }
   ],
   "source": [
    "devs = [torch.device(f'cuda:{i}') for i in range(torch.cuda.device_count())]\n",
    "[torch.cuda.get_device_properties(d) for d in devs]"
   ]
  },
  {
   "cell_type": "code",
   "execution_count": 3,
   "id": "908b92dc-6cde-4bfc-8efb-bf0650048ae3",
   "metadata": {},
   "outputs": [
    {
     "data": {
      "text/plain": [
       "environ{'SHELL': '/bin/bash',\n",
       "        'TERMCAP': 'SC|screen|VT 100/ANSI X3.64 virtual terminal:DO=\\\\E[%dB:LE=\\\\E[%dD:RI=\\\\E[%dC:UP=\\\\E[%dA:bs:bt=\\\\E[Z:cd=\\\\E[J:ce=\\\\E[K:cl=\\\\E[H\\\\E[J:cm=\\\\E[%i%d;%dH:ct=\\\\E[3g:do=^J:nd=\\\\E[C:pt:rc=\\\\E8:rs=\\\\Ec:sc=\\\\E7:st=\\\\EH:up=\\\\EM:le=^H:bl=^G:cr=^M:it#8:ho=\\\\E[H:nw=\\\\EE:ta=^I:is=\\\\E)0:li#24:co#80:am:xn:xv:LP:sr=\\\\EM:al=\\\\E[L:AL=\\\\E[%dL:cs=\\\\E[%i%d;%dr:dl=\\\\E[M:DL=\\\\E[%dM:dc=\\\\E[P:DC=\\\\E[%dP:im=\\\\E[4h:ei=\\\\E[4l:mi:IC=\\\\E[%d@:ks=\\\\E[?1h\\\\E=:ke=\\\\E[?1l\\\\E>:vi=\\\\E[?25l:ve=\\\\E[34h\\\\E[?25h:vs=\\\\E[34l:ti=\\\\E[?1049h:te=\\\\E[?1049l:Km=\\\\E[M:k0=\\\\E[10~:k1=\\\\EOP:k2=\\\\EOQ:k3=\\\\EOR:k4=\\\\EOS:k5=\\\\E[15~:k6=\\\\E[17~:k7=\\\\E[18~:k8=\\\\E[19~:k9=\\\\E[20~:k;=\\\\E[21~:F1=\\\\E[23~:F2=\\\\E[24~:kh=\\\\E[1~:@1=\\\\E[1~:kH=\\\\E[4~:@7=\\\\E[4~:kN=\\\\E[6~:kP=\\\\E[5~:kI=\\\\E[2~:kD=\\\\E[3~:ku=\\\\EOA:kd=\\\\EOB:kr=\\\\EOC:kl=\\\\EOD:',\n",
       "        'WINDOW': '0',\n",
       "        'PWD': '/home/ubuntu',\n",
       "        'LOGNAME': 'ubuntu',\n",
       "        'XDG_SESSION_TYPE': 'tty',\n",
       "        'MOTD_SHOWN': 'pam',\n",
       "        'HOME': '/home/ubuntu',\n",
       "        'LANG': 'C.UTF-8',\n",
       "        'SSH_CONNECTION': '178.252.127.200 54948 176.99.135.107 22',\n",
       "        'XDG_SESSION_CLASS': 'user',\n",
       "        'TERM': 'xterm-color',\n",
       "        'USER': 'ubuntu',\n",
       "        'SHLVL': '0',\n",
       "        'XDG_SESSION_ID': '2',\n",
       "        'XDG_RUNTIME_DIR': '/run/user/1000',\n",
       "        'SSH_CLIENT': '178.252.127.200 54948 22',\n",
       "        'LC_ALL': 'en_US.UTF-8',\n",
       "        'PATH': '/home/ubuntu/anaconda/bin:/usr/local/sbin:/usr/local/bin:/usr/sbin:/usr/bin:/sbin:/bin:/snap/bin',\n",
       "        'STY': '9284.jupyter',\n",
       "        'DBUS_SESSION_BUS_ADDRESS': 'unix:path=/run/user/1000/bus',\n",
       "        'SSH_TTY': '/dev/pts/0',\n",
       "        '_': '/home/ubuntu/anaconda/bin/jupyter',\n",
       "        'PYDEVD_USE_FRAME_EVAL': 'NO',\n",
       "        'JPY_PARENT_PID': '9287',\n",
       "        'CLICOLOR': '1',\n",
       "        'PAGER': 'cat',\n",
       "        'GIT_PAGER': 'cat',\n",
       "        'MPLBACKEND': 'module://matplotlib_inline.backend_inline'}"
      ]
     },
     "execution_count": 3,
     "metadata": {},
     "output_type": "execute_result"
    }
   ],
   "source": [
    "import os\n",
    "os.environ"
   ]
  },
  {
   "cell_type": "code",
   "execution_count": 4,
   "id": "901d7d39-48c8-4046-9665-754d3c1696ea",
   "metadata": {},
   "outputs": [
    {
     "name": "stdout",
     "output_type": "stream",
     "text": [
      "Wed Oct 19 12:06:30 2022       \n",
      "+-----------------------------------------------------------------------------+\n",
      "| NVIDIA-SMI 510.60.02    Driver Version: 510.60.02    CUDA Version: 11.6     |\n",
      "|-------------------------------+----------------------+----------------------+\n",
      "| GPU  Name        Persistence-M| Bus-Id        Disp.A | Volatile Uncorr. ECC |\n",
      "| Fan  Temp  Perf  Pwr:Usage/Cap|         Memory-Usage | GPU-Util  Compute M. |\n",
      "|                               |                      |               MIG M. |\n",
      "|===============================+======================+======================|\n",
      "|   0  NVIDIA A100 80G...  Off  | 00000000:00:05.0 Off |                   On |\n",
      "| N/A   31C    P0    40W / 300W |     48MiB / 81920MiB |     N/A      Default |\n",
      "|                               |                      |              Enabled |\n",
      "+-------------------------------+----------------------+----------------------+\n",
      "\n",
      "+-----------------------------------------------------------------------------+\n",
      "| MIG devices:                                                                |\n",
      "+------------------+----------------------+-----------+-----------------------+\n",
      "| GPU  GI  CI  MIG |         Memory-Usage |        Vol|         Shared        |\n",
      "|      ID  ID  Dev |           BAR1-Usage | SM     Unc| CE  ENC  DEC  OFA  JPG|\n",
      "|                  |                      |        ECC|                       |\n",
      "|==================+======================+===========+=======================|\n",
      "|  0    7   0   0  |      8MiB /  9728MiB | 14      0 |  1   0    0    0    0 |\n",
      "|                  |      0MiB / 16383MiB |           |                       |\n",
      "+------------------+----------------------+-----------+-----------------------+\n",
      "|  0    8   0   1  |      6MiB /  9728MiB | 14      0 |  1   0    0    0    0 |\n",
      "|                  |      0MiB / 16383MiB |           |                       |\n",
      "+------------------+----------------------+-----------+-----------------------+\n",
      "|  0    9   0   2  |      6MiB /  9728MiB | 14      0 |  1   0    0    0    0 |\n",
      "|                  |      0MiB / 16383MiB |           |                       |\n",
      "+------------------+----------------------+-----------+-----------------------+\n",
      "|  0   10   0   3  |      6MiB /  9728MiB | 14      0 |  1   0    0    0    0 |\n",
      "|                  |      0MiB / 16383MiB |           |                       |\n",
      "+------------------+----------------------+-----------+-----------------------+\n",
      "|  0   11   0   4  |      6MiB /  9728MiB | 14      0 |  1   0    0    0    0 |\n",
      "|                  |      0MiB / 16383MiB |           |                       |\n",
      "+------------------+----------------------+-----------+-----------------------+\n",
      "|  0   12   0   5  |      6MiB /  9728MiB | 14      0 |  1   0    0    0    0 |\n",
      "|                  |      0MiB / 16383MiB |           |                       |\n",
      "+------------------+----------------------+-----------+-----------------------+\n",
      "|  0   13   0   6  |      6MiB /  9728MiB | 14      0 |  1   0    0    0    0 |\n",
      "|                  |      0MiB / 16383MiB |           |                       |\n",
      "+------------------+----------------------+-----------+-----------------------+\n",
      "                                                                               \n",
      "+-----------------------------------------------------------------------------+\n",
      "| Processes:                                                                  |\n",
      "|  GPU   GI   CI        PID   Type   Process name                  GPU Memory |\n",
      "|        ID   ID                                                   Usage      |\n",
      "|=============================================================================|\n",
      "|  No running processes found                                                 |\n",
      "+-----------------------------------------------------------------------------+\n"
     ]
    }
   ],
   "source": [
    "!nvidia-smi"
   ]
  },
  {
   "cell_type": "code",
   "execution_count": 6,
   "id": "589741a3-3104-409a-8d25-6c441e3d6e14",
   "metadata": {},
   "outputs": [
    {
     "ename": "AssertionError",
     "evalue": "Invalid device id",
     "output_type": "error",
     "traceback": [
      "\u001b[0;31m---------------------------------------------------------------------------\u001b[0m",
      "\u001b[0;31mAssertionError\u001b[0m                            Traceback (most recent call last)",
      "\u001b[0;32m/tmp/ipykernel_9816/730922294.py\u001b[0m in \u001b[0;36m<module>\u001b[0;34m\u001b[0m\n\u001b[1;32m      1\u001b[0m \u001b[0mdevs\u001b[0m \u001b[0;34m=\u001b[0m \u001b[0;34m[\u001b[0m\u001b[0mtorch\u001b[0m\u001b[0;34m.\u001b[0m\u001b[0mdevice\u001b[0m\u001b[0;34m(\u001b[0m\u001b[0;34mf'cuda:{i}'\u001b[0m\u001b[0;34m)\u001b[0m \u001b[0;32mfor\u001b[0m \u001b[0mi\u001b[0m \u001b[0;32min\u001b[0m \u001b[0mrange\u001b[0m\u001b[0;34m(\u001b[0m\u001b[0;36m5\u001b[0m\u001b[0;34m)\u001b[0m\u001b[0;34m]\u001b[0m\u001b[0;34m\u001b[0m\u001b[0;34m\u001b[0m\u001b[0m\n\u001b[0;32m----> 2\u001b[0;31m \u001b[0;34m[\u001b[0m\u001b[0mtorch\u001b[0m\u001b[0;34m.\u001b[0m\u001b[0mcuda\u001b[0m\u001b[0;34m.\u001b[0m\u001b[0mget_device_properties\u001b[0m\u001b[0;34m(\u001b[0m\u001b[0md\u001b[0m\u001b[0;34m)\u001b[0m \u001b[0;32mfor\u001b[0m \u001b[0md\u001b[0m \u001b[0;32min\u001b[0m \u001b[0mdevs\u001b[0m\u001b[0;34m]\u001b[0m\u001b[0;34m\u001b[0m\u001b[0;34m\u001b[0m\u001b[0m\n\u001b[0m",
      "\u001b[0;32m/tmp/ipykernel_9816/730922294.py\u001b[0m in \u001b[0;36m<listcomp>\u001b[0;34m(.0)\u001b[0m\n\u001b[1;32m      1\u001b[0m \u001b[0mdevs\u001b[0m \u001b[0;34m=\u001b[0m \u001b[0;34m[\u001b[0m\u001b[0mtorch\u001b[0m\u001b[0;34m.\u001b[0m\u001b[0mdevice\u001b[0m\u001b[0;34m(\u001b[0m\u001b[0;34mf'cuda:{i}'\u001b[0m\u001b[0;34m)\u001b[0m \u001b[0;32mfor\u001b[0m \u001b[0mi\u001b[0m \u001b[0;32min\u001b[0m \u001b[0mrange\u001b[0m\u001b[0;34m(\u001b[0m\u001b[0;36m5\u001b[0m\u001b[0;34m)\u001b[0m\u001b[0;34m]\u001b[0m\u001b[0;34m\u001b[0m\u001b[0;34m\u001b[0m\u001b[0m\n\u001b[0;32m----> 2\u001b[0;31m \u001b[0;34m[\u001b[0m\u001b[0mtorch\u001b[0m\u001b[0;34m.\u001b[0m\u001b[0mcuda\u001b[0m\u001b[0;34m.\u001b[0m\u001b[0mget_device_properties\u001b[0m\u001b[0;34m(\u001b[0m\u001b[0md\u001b[0m\u001b[0;34m)\u001b[0m \u001b[0;32mfor\u001b[0m \u001b[0md\u001b[0m \u001b[0;32min\u001b[0m \u001b[0mdevs\u001b[0m\u001b[0;34m]\u001b[0m\u001b[0;34m\u001b[0m\u001b[0;34m\u001b[0m\u001b[0m\n\u001b[0m",
      "\u001b[0;32m~/anaconda/lib/python3.9/site-packages/torch/cuda/__init__.py\u001b[0m in \u001b[0;36mget_device_properties\u001b[0;34m(device)\u001b[0m\n\u001b[1;32m    360\u001b[0m     \u001b[0mdevice\u001b[0m \u001b[0;34m=\u001b[0m \u001b[0m_get_device_index\u001b[0m\u001b[0;34m(\u001b[0m\u001b[0mdevice\u001b[0m\u001b[0;34m,\u001b[0m \u001b[0moptional\u001b[0m\u001b[0;34m=\u001b[0m\u001b[0;32mTrue\u001b[0m\u001b[0;34m)\u001b[0m\u001b[0;34m\u001b[0m\u001b[0;34m\u001b[0m\u001b[0m\n\u001b[1;32m    361\u001b[0m     \u001b[0;32mif\u001b[0m \u001b[0mdevice\u001b[0m \u001b[0;34m<\u001b[0m \u001b[0;36m0\u001b[0m \u001b[0;32mor\u001b[0m \u001b[0mdevice\u001b[0m \u001b[0;34m>=\u001b[0m \u001b[0mdevice_count\u001b[0m\u001b[0;34m(\u001b[0m\u001b[0;34m)\u001b[0m\u001b[0;34m:\u001b[0m\u001b[0;34m\u001b[0m\u001b[0;34m\u001b[0m\u001b[0m\n\u001b[0;32m--> 362\u001b[0;31m         \u001b[0;32mraise\u001b[0m \u001b[0mAssertionError\u001b[0m\u001b[0;34m(\u001b[0m\u001b[0;34m\"Invalid device id\"\u001b[0m\u001b[0;34m)\u001b[0m\u001b[0;34m\u001b[0m\u001b[0;34m\u001b[0m\u001b[0m\n\u001b[0m\u001b[1;32m    363\u001b[0m     \u001b[0;32mreturn\u001b[0m \u001b[0m_get_device_properties\u001b[0m\u001b[0;34m(\u001b[0m\u001b[0mdevice\u001b[0m\u001b[0;34m)\u001b[0m  \u001b[0;31m# type: ignore[name-defined]\u001b[0m\u001b[0;34m\u001b[0m\u001b[0;34m\u001b[0m\u001b[0m\n\u001b[1;32m    364\u001b[0m \u001b[0;34m\u001b[0m\u001b[0m\n",
      "\u001b[0;31mAssertionError\u001b[0m: Invalid device id"
     ]
    }
   ],
   "source": [
    "devs = [torch.device(f'cuda:{i}') for i in range(5)]\n",
    "[torch.cuda.get_device_properties(d) for d in devs]"
   ]
  }
 ],
 "metadata": {
  "kernelspec": {
   "display_name": "Python 3 (ipykernel)",
   "language": "python",
   "name": "python3"
  },
  "language_info": {
   "codemirror_mode": {
    "name": "ipython",
    "version": 3
   },
   "file_extension": ".py",
   "mimetype": "text/x-python",
   "name": "python",
   "nbconvert_exporter": "python",
   "pygments_lexer": "ipython3",
   "version": "3.9.7"
  }
 },
 "nbformat": 4,
 "nbformat_minor": 5
}
