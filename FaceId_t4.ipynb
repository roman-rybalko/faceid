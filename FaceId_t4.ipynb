{
 "cells": [
  {
   "cell_type": "raw",
   "metadata": {
    "colab": {
     "base_uri": "https://localhost:8080/"
    },
    "id": "k1qP4ahrdqFC",
    "outputId": "b8c8584d-447e-4099-e0e7-ec577e398b1d"
   },
   "source": [
    "!gdown https://drive.google.com/uc?id=1kCQxmbJzZPyoyt10H4QAqAUZFhqNZuZG\n",
    "!unzip YouTubeFaces-subset.zip\n",
    "!mv subset/* ./\n",
    "!ls -l"
   ]
  },
  {
   "cell_type": "code",
   "execution_count": 1,
   "metadata": {
    "id": "xcDdqMb8jWEY"
   },
   "outputs": [],
   "source": [
    "import pandas as pd\n",
    "import numpy as np\n",
    "import matplotlib.pyplot as plt\n",
    "from tqdm import tqdm"
   ]
  },
  {
   "cell_type": "code",
   "execution_count": 2,
   "metadata": {
    "colab": {
     "base_uri": "https://localhost:8080/",
     "height": 677
    },
    "id": "9Wpb5ohLj5VI",
    "outputId": "ca513529-baef-44a8-9825-ab8ac718af30"
   },
   "outputs": [
    {
     "data": {
      "text/html": [
       "<div>\n",
       "<style scoped>\n",
       "    .dataframe tbody tr th:only-of-type {\n",
       "        vertical-align: middle;\n",
       "    }\n",
       "\n",
       "    .dataframe tbody tr th {\n",
       "        vertical-align: top;\n",
       "    }\n",
       "\n",
       "    .dataframe thead th {\n",
       "        text-align: right;\n",
       "    }\n",
       "</style>\n",
       "<table border=\"1\" class=\"dataframe\">\n",
       "  <thead>\n",
       "    <tr style=\"text-align: right;\">\n",
       "      <th></th>\n",
       "      <th>videoID</th>\n",
       "      <th>personName</th>\n",
       "      <th>imageHeight</th>\n",
       "      <th>imageWidth</th>\n",
       "      <th>videoDuration</th>\n",
       "      <th>averageFaceSize</th>\n",
       "      <th>numVideosForPerson</th>\n",
       "    </tr>\n",
       "  </thead>\n",
       "  <tbody>\n",
       "    <tr>\n",
       "      <th>0</th>\n",
       "      <td>Alison_Lohman_0</td>\n",
       "      <td>Alison_Lohman</td>\n",
       "      <td>228.0</td>\n",
       "      <td>213.0</td>\n",
       "      <td>240.0</td>\n",
       "      <td>90.150000</td>\n",
       "      <td>6.0</td>\n",
       "    </tr>\n",
       "    <tr>\n",
       "      <th>1</th>\n",
       "      <td>Alison_Lohman_1</td>\n",
       "      <td>Alison_Lohman</td>\n",
       "      <td>248.0</td>\n",
       "      <td>201.0</td>\n",
       "      <td>79.0</td>\n",
       "      <td>108.417722</td>\n",
       "      <td>6.0</td>\n",
       "    </tr>\n",
       "    <tr>\n",
       "      <th>2</th>\n",
       "      <td>Alison_Lohman_2</td>\n",
       "      <td>Alison_Lohman</td>\n",
       "      <td>335.0</td>\n",
       "      <td>308.0</td>\n",
       "      <td>136.0</td>\n",
       "      <td>122.161765</td>\n",
       "      <td>6.0</td>\n",
       "    </tr>\n",
       "    <tr>\n",
       "      <th>3</th>\n",
       "      <td>Alison_Lohman_3</td>\n",
       "      <td>Alison_Lohman</td>\n",
       "      <td>151.0</td>\n",
       "      <td>110.0</td>\n",
       "      <td>53.0</td>\n",
       "      <td>58.000000</td>\n",
       "      <td>6.0</td>\n",
       "    </tr>\n",
       "    <tr>\n",
       "      <th>4</th>\n",
       "      <td>Alison_Lohman_4</td>\n",
       "      <td>Alison_Lohman</td>\n",
       "      <td>236.0</td>\n",
       "      <td>228.0</td>\n",
       "      <td>147.0</td>\n",
       "      <td>91.680272</td>\n",
       "      <td>6.0</td>\n",
       "    </tr>\n",
       "    <tr>\n",
       "      <th>5</th>\n",
       "      <td>Alison_Lohman_5</td>\n",
       "      <td>Alison_Lohman</td>\n",
       "      <td>227.0</td>\n",
       "      <td>179.0</td>\n",
       "      <td>68.0</td>\n",
       "      <td>105.647059</td>\n",
       "      <td>6.0</td>\n",
       "    </tr>\n",
       "    <tr>\n",
       "      <th>6</th>\n",
       "      <td>Kevin_Spacey_0</td>\n",
       "      <td>Kevin_Spacey</td>\n",
       "      <td>196.0</td>\n",
       "      <td>264.0</td>\n",
       "      <td>91.0</td>\n",
       "      <td>99.912088</td>\n",
       "      <td>6.0</td>\n",
       "    </tr>\n",
       "    <tr>\n",
       "      <th>7</th>\n",
       "      <td>Kevin_Spacey_1</td>\n",
       "      <td>Kevin_Spacey</td>\n",
       "      <td>260.0</td>\n",
       "      <td>217.0</td>\n",
       "      <td>59.0</td>\n",
       "      <td>120.186441</td>\n",
       "      <td>6.0</td>\n",
       "    </tr>\n",
       "    <tr>\n",
       "      <th>8</th>\n",
       "      <td>Kevin_Spacey_2</td>\n",
       "      <td>Kevin_Spacey</td>\n",
       "      <td>186.0</td>\n",
       "      <td>175.0</td>\n",
       "      <td>71.0</td>\n",
       "      <td>86.746479</td>\n",
       "      <td>6.0</td>\n",
       "    </tr>\n",
       "    <tr>\n",
       "      <th>9</th>\n",
       "      <td>Kevin_Spacey_3</td>\n",
       "      <td>Kevin_Spacey</td>\n",
       "      <td>100.0</td>\n",
       "      <td>89.0</td>\n",
       "      <td>99.0</td>\n",
       "      <td>44.636364</td>\n",
       "      <td>6.0</td>\n",
       "    </tr>\n",
       "    <tr>\n",
       "      <th>10</th>\n",
       "      <td>Kevin_Spacey_4</td>\n",
       "      <td>Kevin_Spacey</td>\n",
       "      <td>212.0</td>\n",
       "      <td>207.0</td>\n",
       "      <td>240.0</td>\n",
       "      <td>99.025000</td>\n",
       "      <td>6.0</td>\n",
       "    </tr>\n",
       "    <tr>\n",
       "      <th>11</th>\n",
       "      <td>Kevin_Spacey_5</td>\n",
       "      <td>Kevin_Spacey</td>\n",
       "      <td>242.0</td>\n",
       "      <td>205.0</td>\n",
       "      <td>203.0</td>\n",
       "      <td>116.886700</td>\n",
       "      <td>6.0</td>\n",
       "    </tr>\n",
       "    <tr>\n",
       "      <th>12</th>\n",
       "      <td>Lauren_Hutton_0</td>\n",
       "      <td>Lauren_Hutton</td>\n",
       "      <td>223.0</td>\n",
       "      <td>202.0</td>\n",
       "      <td>127.0</td>\n",
       "      <td>96.086614</td>\n",
       "      <td>6.0</td>\n",
       "    </tr>\n",
       "    <tr>\n",
       "      <th>13</th>\n",
       "      <td>Lauren_Hutton_1</td>\n",
       "      <td>Lauren_Hutton</td>\n",
       "      <td>279.0</td>\n",
       "      <td>213.0</td>\n",
       "      <td>68.0</td>\n",
       "      <td>107.191176</td>\n",
       "      <td>6.0</td>\n",
       "    </tr>\n",
       "    <tr>\n",
       "      <th>14</th>\n",
       "      <td>Lauren_Hutton_2</td>\n",
       "      <td>Lauren_Hutton</td>\n",
       "      <td>320.0</td>\n",
       "      <td>361.0</td>\n",
       "      <td>55.0</td>\n",
       "      <td>193.781818</td>\n",
       "      <td>6.0</td>\n",
       "    </tr>\n",
       "    <tr>\n",
       "      <th>15</th>\n",
       "      <td>Lauren_Hutton_3</td>\n",
       "      <td>Lauren_Hutton</td>\n",
       "      <td>325.0</td>\n",
       "      <td>281.0</td>\n",
       "      <td>240.0</td>\n",
       "      <td>136.158333</td>\n",
       "      <td>6.0</td>\n",
       "    </tr>\n",
       "    <tr>\n",
       "      <th>16</th>\n",
       "      <td>Lauren_Hutton_4</td>\n",
       "      <td>Lauren_Hutton</td>\n",
       "      <td>222.0</td>\n",
       "      <td>208.0</td>\n",
       "      <td>51.0</td>\n",
       "      <td>103.431373</td>\n",
       "      <td>6.0</td>\n",
       "    </tr>\n",
       "    <tr>\n",
       "      <th>17</th>\n",
       "      <td>Lauren_Hutton_5</td>\n",
       "      <td>Lauren_Hutton</td>\n",
       "      <td>165.0</td>\n",
       "      <td>192.0</td>\n",
       "      <td>147.0</td>\n",
       "      <td>56.435374</td>\n",
       "      <td>6.0</td>\n",
       "    </tr>\n",
       "    <tr>\n",
       "      <th>18</th>\n",
       "      <td>Robert_F_Kennedy_Jr_0</td>\n",
       "      <td>Robert_F_Kennedy_Jr</td>\n",
       "      <td>192.0</td>\n",
       "      <td>169.0</td>\n",
       "      <td>240.0</td>\n",
       "      <td>84.812500</td>\n",
       "      <td>6.0</td>\n",
       "    </tr>\n",
       "    <tr>\n",
       "      <th>19</th>\n",
       "      <td>Robert_F_Kennedy_Jr_1</td>\n",
       "      <td>Robert_F_Kennedy_Jr</td>\n",
       "      <td>229.0</td>\n",
       "      <td>232.0</td>\n",
       "      <td>107.0</td>\n",
       "      <td>109.439252</td>\n",
       "      <td>6.0</td>\n",
       "    </tr>\n",
       "  </tbody>\n",
       "</table>\n",
       "</div>"
      ],
      "text/plain": [
       "                  videoID           personName  imageHeight  imageWidth  \\\n",
       "0         Alison_Lohman_0        Alison_Lohman        228.0       213.0   \n",
       "1         Alison_Lohman_1        Alison_Lohman        248.0       201.0   \n",
       "2         Alison_Lohman_2        Alison_Lohman        335.0       308.0   \n",
       "3         Alison_Lohman_3        Alison_Lohman        151.0       110.0   \n",
       "4         Alison_Lohman_4        Alison_Lohman        236.0       228.0   \n",
       "5         Alison_Lohman_5        Alison_Lohman        227.0       179.0   \n",
       "6          Kevin_Spacey_0         Kevin_Spacey        196.0       264.0   \n",
       "7          Kevin_Spacey_1         Kevin_Spacey        260.0       217.0   \n",
       "8          Kevin_Spacey_2         Kevin_Spacey        186.0       175.0   \n",
       "9          Kevin_Spacey_3         Kevin_Spacey        100.0        89.0   \n",
       "10         Kevin_Spacey_4         Kevin_Spacey        212.0       207.0   \n",
       "11         Kevin_Spacey_5         Kevin_Spacey        242.0       205.0   \n",
       "12        Lauren_Hutton_0        Lauren_Hutton        223.0       202.0   \n",
       "13        Lauren_Hutton_1        Lauren_Hutton        279.0       213.0   \n",
       "14        Lauren_Hutton_2        Lauren_Hutton        320.0       361.0   \n",
       "15        Lauren_Hutton_3        Lauren_Hutton        325.0       281.0   \n",
       "16        Lauren_Hutton_4        Lauren_Hutton        222.0       208.0   \n",
       "17        Lauren_Hutton_5        Lauren_Hutton        165.0       192.0   \n",
       "18  Robert_F_Kennedy_Jr_0  Robert_F_Kennedy_Jr        192.0       169.0   \n",
       "19  Robert_F_Kennedy_Jr_1  Robert_F_Kennedy_Jr        229.0       232.0   \n",
       "\n",
       "    videoDuration  averageFaceSize  numVideosForPerson  \n",
       "0           240.0        90.150000                 6.0  \n",
       "1            79.0       108.417722                 6.0  \n",
       "2           136.0       122.161765                 6.0  \n",
       "3            53.0        58.000000                 6.0  \n",
       "4           147.0        91.680272                 6.0  \n",
       "5            68.0       105.647059                 6.0  \n",
       "6            91.0        99.912088                 6.0  \n",
       "7            59.0       120.186441                 6.0  \n",
       "8            71.0        86.746479                 6.0  \n",
       "9            99.0        44.636364                 6.0  \n",
       "10          240.0        99.025000                 6.0  \n",
       "11          203.0       116.886700                 6.0  \n",
       "12          127.0        96.086614                 6.0  \n",
       "13           68.0       107.191176                 6.0  \n",
       "14           55.0       193.781818                 6.0  \n",
       "15          240.0       136.158333                 6.0  \n",
       "16           51.0       103.431373                 6.0  \n",
       "17          147.0        56.435374                 6.0  \n",
       "18          240.0        84.812500                 6.0  \n",
       "19          107.0       109.439252                 6.0  "
      ]
     },
     "execution_count": 2,
     "metadata": {},
     "output_type": "execute_result"
    }
   ],
   "source": [
    "df = pd.read_csv('youtube_faces_with_keypoints_full.csv')\n",
    "df = df[:20]\n",
    "df"
   ]
  },
  {
   "cell_type": "code",
   "execution_count": 3,
   "metadata": {
    "id": "sJguPEzWihnZ"
   },
   "outputs": [],
   "source": [
    "import torch\n",
    "import torch.nn as nn\n",
    "import torch.optim as optim\n",
    "import torchvision\n",
    "#from torchinfo import summary"
   ]
  },
  {
   "cell_type": "code",
   "execution_count": 4,
   "metadata": {
    "colab": {
     "base_uri": "https://localhost:8080/"
    },
    "id": "dLXqSfVskgi9",
    "outputId": "ade42169-dfd1-4fdc-d231-e5b5a51c6561"
   },
   "outputs": [
    {
     "data": {
      "text/plain": [
       "(device(type='cuda', index=0),\n",
       " _CudaDeviceProperties(name='Tesla T4', major=7, minor=5, total_memory=14910MB, multi_processor_count=40))"
      ]
     },
     "execution_count": 4,
     "metadata": {},
     "output_type": "execute_result"
    }
   ],
   "source": [
    "device = torch.device(\"cuda:0\" if torch.cuda.is_available() else \"cpu\")\n",
    "device, torch.cuda.get_device_properties(device) if torch.cuda.is_available() else 'CPU'"
   ]
  },
  {
   "cell_type": "code",
   "execution_count": 6,
   "metadata": {
    "id": "NfaI6TWnkpWw"
   },
   "outputs": [],
   "source": [
    "import PIL\n",
    "import cv2\n",
    "\n",
    "class NormalizeTransform:\n",
    "  def __init__(self, ratio=0.333):\n",
    "    self.ratio = ratio\n",
    "\n",
    "    self.jawPoints          = [ 0,17]\n",
    "    self.rigthEyebrowPoints = [17,22]\n",
    "    self.leftEyebrowPoints  = [22,27]\n",
    "    self.noseRidgePoints    = [27,31]\n",
    "    self.noseBasePoints     = [31,36]\n",
    "    self.rightEyePoints     = [36,42]\n",
    "    self.leftEyePoints      = [42,48]\n",
    "    self.outerMouthPoints   = [48,60]\n",
    "    self.innerMouthPoints   = [60,68]\n",
    "\n",
    "    self.norm_transform = torchvision.transforms.Compose([\n",
    "      torchvision.transforms.Resize((224, 224)),\n",
    "      torchvision.transforms.functional.autocontrast,\n",
    "      torchvision.transforms.functional.to_grayscale,\n",
    "      torchvision.transforms.ToTensor(),\n",
    "    ])\n",
    "\n",
    "  def __call__(self, data, landmarks):\n",
    "    data = self.face_transform(data, landmarks)\n",
    "    img = PIL.Image.fromarray(data)\n",
    "    data = self.norm_transform(img)\n",
    "    return data\n",
    "\n",
    "  def face_transform(self, data, landmarks):\n",
    "    # see FaceId-Normalization.ipynb\n",
    "    pt1 = self.avg(landmarks[self.leftEyePoints[0]:self.leftEyePoints[1]])\n",
    "    pt2 = self.avg(landmarks[self.outerMouthPoints[0]:self.outerMouthPoints[1]])\n",
    "    pt3 = self.avg(landmarks[self.rightEyePoints[0]:self.rightEyePoints[1]])\n",
    "    src_pts = np.float32([pt1, pt2, pt3])\n",
    "    dst_pts = np.float32([\n",
    "      [data.shape[0]*self.ratio, data.shape[1]*self.ratio],\n",
    "      [data.shape[0]/2, data.shape[1]*(1-self.ratio)],\n",
    "      [data.shape[0]*(1-self.ratio), data.shape[1]*self.ratio]\n",
    "    ])\n",
    "    M = cv2.getAffineTransform(src_pts, dst_pts)\n",
    "    data = cv2.warpAffine(data, M, data.shape[:2])\n",
    "    return data\n",
    "  \n",
    "  def avg(self, pts):\n",
    "    x = sum(x for x,y in pts) / len(pts)\n",
    "    y = sum(y for x,y in pts) / len(pts)\n",
    "    return x, y"
   ]
  },
  {
   "cell_type": "code",
   "execution_count": 7,
   "metadata": {
    "colab": {
     "base_uri": "https://localhost:8080/"
    },
    "id": "K6M-NqdtlvAN",
    "outputId": "7dba579b-5797-41d8-fdfb-4bbe6b901641"
   },
   "outputs": [
    {
     "name": "stderr",
     "output_type": "stream",
     "text": [
      "Loading data: 100%|██████████████████████████████████████████████████████████████████████████████████████████████████████████████████████████████████████████████████████████████████████| 4/4 [00:02<00:00,  1.76it/s]\n"
     ]
    },
    {
     "data": {
      "text/plain": [
       "(7563, 3, 3, 3)"
      ]
     },
     "execution_count": 7,
     "metadata": {},
     "output_type": "execute_result"
    }
   ],
   "source": [
    "import bisect\n",
    "import random\n",
    "\n",
    "class YouTubeFacesDataset(torch.utils.data.Dataset):\n",
    "  def __init__(self, df, folder='.', transform=NormalizeTransform(), cache_lim=200, preload=False):\n",
    "    self.transform = transform\n",
    "    self.cache = {}\n",
    "    self.cache_lim = 0 if preload else cache_lim\n",
    "    self.data = {}\n",
    "    for p in tqdm(df['personName'].unique(), desc='Loading data'):\n",
    "      self.data[p] = []\n",
    "      for fn, cnt in df[df['personName'] == p][['videoID', 'videoDuration']].values:\n",
    "        fp = f'{folder}/{fn}.npz'\n",
    "        cnt = int(cnt)\n",
    "        self.data[p] += [(fp, i) for i in range(cnt)]\n",
    "        if preload:\n",
    "          self.cache_lim += 1\n",
    "          self._cache_get(fp)\n",
    "    self.persons = list(self.data.keys())\n",
    "    self.neg_data = {}\n",
    "    for p in self.persons:\n",
    "      self.neg_data[p] = []\n",
    "      for p_neg in self.persons:\n",
    "        if p_neg == p:\n",
    "          continue\n",
    "        self.neg_data[p] += self.data[p_neg]\n",
    "    self.pers_item_counter = []\n",
    "    for p in self.persons:\n",
    "      # random positive set\n",
    "      positive_set_len = 1\n",
    "      self.pers_item_counter += [positive_set_len * len(self.neg_data[p])]\n",
    "      if len(self.pers_item_counter) > 1:\n",
    "        self.pers_item_counter[-1] += self.pers_item_counter[-2]\n",
    "  \n",
    "  def __len__(self):\n",
    "    # random positive set\n",
    "    return sum(len(x) for x in self.neg_data.values())\n",
    "  \n",
    "  def __getitem__(self, index):\n",
    "    p_i = bisect.bisect_left(self.pers_item_counter, index + 1)\n",
    "    assert p_i >= 0\n",
    "    assert p_i < len(self.persons)\n",
    "    p = self.persons[p_i]\n",
    "    anchor_i = (self.pers_item_counter[p_i] - index) % len(self.data[p])\n",
    "    assert anchor_i >= 0\n",
    "    assert anchor_i < len(self.data[p])\n",
    "    positive_i = random.randint(0, len(self.data[p]) - 1)\n",
    "    while positive_i == anchor_i:\n",
    "      positive_i = random.randint(0, len(self.data[p]) - 1)\n",
    "    assert positive_i >= 0\n",
    "    assert positive_i < len(self.data[p])\n",
    "    # the order does not matter\n",
    "    negative_i = self.pers_item_counter[p_i] - index - 1\n",
    "    assert negative_i >= 0, (p_i, index, self.persons[p_i], self.pers_item_counter[p_i])\n",
    "    assert negative_i < len(self.neg_data[p])\n",
    "    return self._load(*self.data[p][anchor_i]), self._load(*self.data[p][positive_i]), self._load(*self.neg_data[p][negative_i])\n",
    "  \n",
    "  def _load(self, fp, i):\n",
    "    imgs, lms = self._cache_get(fp)\n",
    "    assert i < imgs.shape[-1], (fp, i, imgs.shape[-1])\n",
    "    data = imgs[:,:,:,i]\n",
    "    assert i < lms.shape[-1], (fp, i, lms.shape[-1])\n",
    "    lms = lms[:,:,i]\n",
    "    if self.transform:\n",
    "      data = self.transform(data, lms)\n",
    "    return data\n",
    "  \n",
    "  def _cache_get(self, fp):\n",
    "    if fp in self.cache:\n",
    "      return self.cache[fp]\n",
    "    if len(self.cache) > self.cache_lim:\n",
    "      idx = random.randint(0, len(self.cache) - 1)\n",
    "      key = list(self.cache.keys())[idx]\n",
    "      del self.cache[key]\n",
    "    d = np.load(fp)\n",
    "    # trigger lazy loading\n",
    "    self.cache[fp] = (d['colorImages'], d['landmarks2D'])\n",
    "    return self.cache[fp]\n",
    "\n",
    "dataset = YouTubeFacesDataset(df, preload=True)\n",
    "len(dataset), len(dataset[42]), len(dataset[0]), len(dataset[len(dataset)-1])"
   ]
  },
  {
   "cell_type": "code",
   "execution_count": 8,
   "metadata": {
    "colab": {
     "base_uri": "https://localhost:8080/",
     "height": 241
    },
    "id": "xl07IjbM8sh9",
    "outputId": "896090fd-3e14-4abb-b7f8-9488d94e2d11"
   },
   "outputs": [
    {
     "data": {
      "image/png": "[encoded data removed]",
      "text/plain": [
       "<PIL.Image.Image image mode=L size=224x224 at 0x7F6AC490BE50>"
      ]
     },
     "execution_count": 8,
     "metadata": {},
     "output_type": "execute_result"
    }
   ],
   "source": [
    "to_pil_transform = torchvision.transforms.ToPILImage()\n",
    "to_pil_transform(dataset[42][1])"
   ]
  },
  {
   "cell_type": "code",
   "execution_count": 9,
   "metadata": {
    "id": "4az7iXvujIux"
   },
   "outputs": [],
   "source": [
    "def train_triplet(model, data_loader, num_epochs, lr=0.001):\n",
    "  model.train()\n",
    "  loss = torch.nn.TripletMarginLoss()\n",
    "  loss_history = []\n",
    "  print(f'lr: {lr}')\n",
    "  optimizer = optim.Adam(model.parameters(), lr=lr)\n",
    "  for epoch in range(1, num_epochs+1):\n",
    "    loss_accum = 0\n",
    "    loss_cnt = 0\n",
    "    for xa, xp, xn in tqdm(data_loader, desc=f'train {epoch}/{num_epochs}'):\n",
    "      ya = model(xa.to(device))\n",
    "      yp = model(xp.to(device))\n",
    "      yn = model(xn.to(device))\n",
    "      loss_data = loss(ya, yp, yn)\n",
    "      \n",
    "      optimizer.zero_grad()\n",
    "      loss_data.backward()\n",
    "      optimizer.step()\n",
    "      \n",
    "      loss_accum += float(loss_data)\n",
    "      loss_cnt += 1\n",
    "\n",
    "    loss_value = loss_accum / loss_cnt\n",
    "    loss_history.append(loss_value)\n",
    "    print(f'loss: {loss_value}')\n",
    "\n",
    "    if loss_value > loss_history[-1]:\n",
    "      lr *= 0.1\n",
    "      print(f'lr: {lr}')\n",
    "      optimizer = optim.Adam(model.parameters(), lr=lr)\n",
    "\n",
    "  return loss_history"
   ]
  },
  {
   "cell_type": "code",
   "execution_count": null,
   "metadata": {
    "colab": {
     "base_uri": "https://localhost:8080/"
    },
    "id": "4ZbEaT2d048T",
    "outputId": "a6cfec9b-dd52-4c9e-b7da-d4b8f17df73a"
   },
   "outputs": [],
   "source": [
    "import psutil\n",
    "psutil.cpu_count()"
   ]
  },
  {
   "cell_type": "code",
   "execution_count": 11,
   "metadata": {
    "colab": {
     "base_uri": "https://localhost:8080/"
    },
    "id": "PQ5MsTvD2Ifs",
    "outputId": "d0fc9abf-e1e4-4051-a659-6cdaae79f8a4"
   },
   "outputs": [
    {
     "name": "stderr",
     "output_type": "stream",
     "text": [
      "Downloading: \"https://download.pytorch.org/models/resnet50-11ad3fa6.pth\" to /home/ubuntu/.cache/torch/hub/checkpoints/resnet50-11ad3fa6.pth\n"
     ]
    },
    {
     "data": {
      "application/vnd.jupyter.widget-view+json": {
       "model_id": "b3f65fc7f178417c9a25d292c5d52b4e",
       "version_major": 2,
       "version_minor": 0
      },
      "text/plain": [
       "  0%|          | 0.00/97.8M [00:00<?, ?B/s]"
      ]
     },
     "metadata": {},
     "output_type": "display_data"
    },
    {
     "data": {
      "text/plain": [
       "(Conv2d(1, 64, kernel_size=(7, 7), stride=(2, 2), padding=(3, 3), bias=False),\n",
       " Linear(in_features=2048, out_features=16, bias=True))"
      ]
     },
     "execution_count": 11,
     "metadata": {},
     "output_type": "execute_result"
    }
   ],
   "source": [
    "def create_faceid_model():\n",
    "  model = torchvision.models.resnet50(weights='DEFAULT')\n",
    "  model.fc = nn.Linear(model.fc.in_features, 16)\n",
    "  return model\n",
    "\n",
    "def grayscale_fix_model(model):\n",
    "  w = model.conv1.weight.data.sum(axis=1).reshape(64, 1, 7, 7)\n",
    "  model.conv1 = torch.nn.Conv2d(1, 64, kernel_size=(7, 7), stride=(2, 2), padding=(3, 3), bias=False)\n",
    "  model.conv1.weight.data = w\n",
    "  return model\n",
    "\n",
    "def set_trainable(model):\n",
    "  model.requires_grad_(False)\n",
    "  model.fc.requires_grad_(True)\n",
    "\n",
    "def bind_model2device(model):\n",
    "  model.to(device)\n",
    "\n",
    "model = create_faceid_model()\n",
    "model = grayscale_fix_model(model)\n",
    "set_trainable(model)\n",
    "bind_model2device(model)\n",
    "#summary(model)\n",
    "model.conv1, model.fc"
   ]
  },
  {
   "cell_type": "code",
   "execution_count": 13,
   "metadata": {
    "colab": {
     "base_uri": "https://localhost:8080/",
     "height": 646
    },
    "id": "DYnLNynr1pNS",
    "outputId": "8ae787a8-8b99-4cf1-d65c-b626bd476382"
   },
   "outputs": [
    {
     "name": "stdout",
     "output_type": "stream",
     "text": [
      "lr: 0.001\n"
     ]
    },
    {
     "name": "stderr",
     "output_type": "stream",
     "text": [
      "train 1/10:  38%|███████████████████████████████████████████████████████████████▋                                                                                                      | 23/60 [00:27<00:44,  1.21s/it]\n"
     ]
    },
    {
     "ename": "KeyboardInterrupt",
     "evalue": "",
     "output_type": "error",
     "traceback": [
      "\u001b[0;31m---------------------------------------------------------------------------\u001b[0m",
      "\u001b[0;31mKeyboardInterrupt\u001b[0m                         Traceback (most recent call last)",
      "\u001b[0;32m/tmp/ipykernel_2227/3733236310.py\u001b[0m in \u001b[0;36m<module>\u001b[0;34m\u001b[0m\n\u001b[1;32m      1\u001b[0m \u001b[0mdata_loader\u001b[0m \u001b[0;34m=\u001b[0m \u001b[0mtorch\u001b[0m\u001b[0;34m.\u001b[0m\u001b[0mutils\u001b[0m\u001b[0;34m.\u001b[0m\u001b[0mdata\u001b[0m\u001b[0;34m.\u001b[0m\u001b[0mDataLoader\u001b[0m\u001b[0;34m(\u001b[0m\u001b[0mdataset\u001b[0m\u001b[0;34m,\u001b[0m \u001b[0mbatch_size\u001b[0m\u001b[0;34m=\u001b[0m\u001b[0;36m128\u001b[0m\u001b[0;34m,\u001b[0m \u001b[0mnum_workers\u001b[0m\u001b[0;34m=\u001b[0m\u001b[0mpsutil\u001b[0m\u001b[0;34m.\u001b[0m\u001b[0mcpu_count\u001b[0m\u001b[0;34m(\u001b[0m\u001b[0;34m)\u001b[0m\u001b[0;34m)\u001b[0m\u001b[0;34m\u001b[0m\u001b[0;34m\u001b[0m\u001b[0m\n\u001b[0;32m----> 2\u001b[0;31m \u001b[0mloss_history\u001b[0m \u001b[0;34m=\u001b[0m \u001b[0mtrain_triplet\u001b[0m\u001b[0;34m(\u001b[0m\u001b[0mmodel\u001b[0m\u001b[0;34m,\u001b[0m \u001b[0mdata_loader\u001b[0m\u001b[0;34m,\u001b[0m \u001b[0;36m10\u001b[0m\u001b[0;34m)\u001b[0m\u001b[0;34m\u001b[0m\u001b[0;34m\u001b[0m\u001b[0m\n\u001b[0m\u001b[1;32m      3\u001b[0m \u001b[0mplt\u001b[0m\u001b[0;34m.\u001b[0m\u001b[0mplot\u001b[0m\u001b[0;34m(\u001b[0m\u001b[0mloss_history\u001b[0m\u001b[0;34m)\u001b[0m\u001b[0;34m\u001b[0m\u001b[0;34m\u001b[0m\u001b[0m\n\u001b[1;32m      4\u001b[0m \u001b[0mplt\u001b[0m\u001b[0;34m.\u001b[0m\u001b[0mtitle\u001b[0m\u001b[0;34m(\u001b[0m\u001b[0;34m'loss'\u001b[0m\u001b[0;34m)\u001b[0m\u001b[0;34m;\u001b[0m\u001b[0;34m\u001b[0m\u001b[0;34m\u001b[0m\u001b[0m\n",
      "\u001b[0;32m/tmp/ipykernel_2227/89248024.py\u001b[0m in \u001b[0;36mtrain_triplet\u001b[0;34m(model, data_loader, num_epochs, lr)\u001b[0m\n\u001b[1;32m     18\u001b[0m       \u001b[0moptimizer\u001b[0m\u001b[0;34m.\u001b[0m\u001b[0mstep\u001b[0m\u001b[0;34m(\u001b[0m\u001b[0;34m)\u001b[0m\u001b[0;34m\u001b[0m\u001b[0;34m\u001b[0m\u001b[0m\n\u001b[1;32m     19\u001b[0m \u001b[0;34m\u001b[0m\u001b[0m\n\u001b[0;32m---> 20\u001b[0;31m       \u001b[0mloss_accum\u001b[0m \u001b[0;34m+=\u001b[0m \u001b[0mfloat\u001b[0m\u001b[0;34m(\u001b[0m\u001b[0mloss_data\u001b[0m\u001b[0;34m)\u001b[0m\u001b[0;34m\u001b[0m\u001b[0;34m\u001b[0m\u001b[0m\n\u001b[0m\u001b[1;32m     21\u001b[0m       \u001b[0mloss_cnt\u001b[0m \u001b[0;34m+=\u001b[0m \u001b[0;36m1\u001b[0m\u001b[0;34m\u001b[0m\u001b[0;34m\u001b[0m\u001b[0m\n\u001b[1;32m     22\u001b[0m \u001b[0;34m\u001b[0m\u001b[0m\n",
      "\u001b[0;31mKeyboardInterrupt\u001b[0m: "
     ]
    }
   ],
   "source": [
    "data_loader = torch.utils.data.DataLoader(dataset, batch_size=128, num_workers=psutil.cpu_count())\n",
    "loss_history = train_triplet(model, data_loader, 10)\n",
    "plt.plot(loss_history)\n",
    "plt.title('loss');"
   ]
  },
  {
   "cell_type": "code",
   "execution_count": null,
   "metadata": {
    "colab": {
     "base_uri": "https://localhost:8080/",
     "height": 265
    },
    "id": "PSoePnKbXp58",
    "outputId": "5e742904-b13e-4834-83a1-770707c17f8f"
   },
   "outputs": [],
   "source": [
    "plt.hist(model.fc.weight.cpu().detach().reshape(-1), bins=100);"
   ]
  },
  {
   "cell_type": "code",
   "execution_count": null,
   "metadata": {
    "colab": {
     "base_uri": "https://localhost:8080/"
    },
    "id": "DmNlocWSW2Fa",
    "outputId": "438e2c13-ebd1-4219-afcf-5a9ef6529bd4"
   },
   "outputs": [],
   "source": [
    "model(dataset[42][0].reshape(1, 1, 224, 224).to(device))"
   ]
  },
  {
   "cell_type": "code",
   "execution_count": null,
   "metadata": {
    "id": "GaluetAiclVn"
   },
   "outputs": [],
   "source": [
    "def cos_similarity(v1, v2):\n",
    "  val = np.inner(v1,v2)/(np.linalg.norm(v1)*np.linalg.norm(v2))\n",
    "  return val.reshape(-1)[0]\n",
    "\n",
    "def euc_similarity(v1, v2):\n",
    "  return np.linalg.norm(v1-v2)"
   ]
  },
  {
   "cell_type": "code",
   "execution_count": null,
   "metadata": {
    "colab": {
     "base_uri": "https://localhost:8080/"
    },
    "id": "fFtYrsKntNsX",
    "outputId": "7244266d-d69a-483e-bc4b-4853b3009e7d"
   },
   "outputs": [],
   "source": [
    "for i in range(10):\n",
    "  v1 = model(dataset[42][0].reshape(1, 1, 224, 224).to(device)).cpu().detach().numpy()\n",
    "  v2 = model(dataset[42][1].reshape(1, 1, 224, 224).to(device)).cpu().detach().numpy()\n",
    "  v3 = model(dataset[42][2].reshape(1, 1, 224, 224).to(device)).cpu().detach().numpy()\n",
    "  print(euc_similarity(v1, v2), euc_similarity(v1, v3), cos_similarity(v1, v2), cos_similarity(v1, v3))"
   ]
  },
  {
   "cell_type": "code",
   "execution_count": 14,
   "metadata": {
    "colab": {
     "base_uri": "https://localhost:8080/",
     "height": 472
    },
    "id": "FwJflhX1aeym",
    "outputId": "de38b2ce-ec38-4e20-b8af-29de96a53be4"
   },
   "outputs": [
    {
     "name": "stdout",
     "output_type": "stream",
     "text": [
      "lr: 1e-05\n"
     ]
    },
    {
     "name": "stderr",
     "output_type": "stream",
     "text": [
      "train 1/5:  15%|████████████████████████▌                                                                                                                                             | 35/237 [00:31<03:01,  1.12it/s]\n"
     ]
    },
    {
     "ename": "KeyboardInterrupt",
     "evalue": "",
     "output_type": "error",
     "traceback": [
      "\u001b[0;31m---------------------------------------------------------------------------\u001b[0m",
      "\u001b[0;31mKeyboardInterrupt\u001b[0m                         Traceback (most recent call last)",
      "\u001b[0;32m/tmp/ipykernel_2227/3444056369.py\u001b[0m in \u001b[0;36m<module>\u001b[0;34m\u001b[0m\n\u001b[1;32m      1\u001b[0m \u001b[0mdata_loader\u001b[0m \u001b[0;34m=\u001b[0m \u001b[0mtorch\u001b[0m\u001b[0;34m.\u001b[0m\u001b[0mutils\u001b[0m\u001b[0;34m.\u001b[0m\u001b[0mdata\u001b[0m\u001b[0;34m.\u001b[0m\u001b[0mDataLoader\u001b[0m\u001b[0;34m(\u001b[0m\u001b[0mdataset\u001b[0m\u001b[0;34m,\u001b[0m \u001b[0mbatch_size\u001b[0m\u001b[0;34m=\u001b[0m\u001b[0;36m32\u001b[0m\u001b[0;34m,\u001b[0m \u001b[0mnum_workers\u001b[0m\u001b[0;34m=\u001b[0m\u001b[0mpsutil\u001b[0m\u001b[0;34m.\u001b[0m\u001b[0mcpu_count\u001b[0m\u001b[0;34m(\u001b[0m\u001b[0;34m)\u001b[0m\u001b[0;34m)\u001b[0m\u001b[0;34m\u001b[0m\u001b[0;34m\u001b[0m\u001b[0m\n\u001b[1;32m      2\u001b[0m \u001b[0mmodel\u001b[0m\u001b[0;34m.\u001b[0m\u001b[0mrequires_grad_\u001b[0m\u001b[0;34m(\u001b[0m\u001b[0;32mTrue\u001b[0m\u001b[0;34m)\u001b[0m\u001b[0;34m\u001b[0m\u001b[0;34m\u001b[0m\u001b[0m\n\u001b[0;32m----> 3\u001b[0;31m \u001b[0mloss_history\u001b[0m \u001b[0;34m=\u001b[0m \u001b[0mtrain_triplet\u001b[0m\u001b[0;34m(\u001b[0m\u001b[0mmodel\u001b[0m\u001b[0;34m,\u001b[0m \u001b[0mdata_loader\u001b[0m\u001b[0;34m,\u001b[0m \u001b[0;36m5\u001b[0m\u001b[0;34m,\u001b[0m \u001b[0mlr\u001b[0m\u001b[0;34m=\u001b[0m\u001b[0;36m0.00001\u001b[0m\u001b[0;34m)\u001b[0m\u001b[0;34m\u001b[0m\u001b[0;34m\u001b[0m\u001b[0m\n\u001b[0m\u001b[1;32m      4\u001b[0m \u001b[0mplt\u001b[0m\u001b[0;34m.\u001b[0m\u001b[0mplot\u001b[0m\u001b[0;34m(\u001b[0m\u001b[0mloss_history\u001b[0m\u001b[0;34m)\u001b[0m\u001b[0;34m\u001b[0m\u001b[0;34m\u001b[0m\u001b[0m\n\u001b[1;32m      5\u001b[0m \u001b[0mplt\u001b[0m\u001b[0;34m.\u001b[0m\u001b[0mtitle\u001b[0m\u001b[0;34m(\u001b[0m\u001b[0;34m'loss'\u001b[0m\u001b[0;34m)\u001b[0m\u001b[0;34m;\u001b[0m\u001b[0;34m\u001b[0m\u001b[0;34m\u001b[0m\u001b[0m\n",
      "\u001b[0;32m/tmp/ipykernel_2227/89248024.py\u001b[0m in \u001b[0;36mtrain_triplet\u001b[0;34m(model, data_loader, num_epochs, lr)\u001b[0m\n\u001b[1;32m     15\u001b[0m \u001b[0;34m\u001b[0m\u001b[0m\n\u001b[1;32m     16\u001b[0m       \u001b[0moptimizer\u001b[0m\u001b[0;34m.\u001b[0m\u001b[0mzero_grad\u001b[0m\u001b[0;34m(\u001b[0m\u001b[0;34m)\u001b[0m\u001b[0;34m\u001b[0m\u001b[0;34m\u001b[0m\u001b[0m\n\u001b[0;32m---> 17\u001b[0;31m       \u001b[0mloss_data\u001b[0m\u001b[0;34m.\u001b[0m\u001b[0mbackward\u001b[0m\u001b[0;34m(\u001b[0m\u001b[0;34m)\u001b[0m\u001b[0;34m\u001b[0m\u001b[0;34m\u001b[0m\u001b[0m\n\u001b[0m\u001b[1;32m     18\u001b[0m       \u001b[0moptimizer\u001b[0m\u001b[0;34m.\u001b[0m\u001b[0mstep\u001b[0m\u001b[0;34m(\u001b[0m\u001b[0;34m)\u001b[0m\u001b[0;34m\u001b[0m\u001b[0;34m\u001b[0m\u001b[0m\n\u001b[1;32m     19\u001b[0m \u001b[0;34m\u001b[0m\u001b[0m\n",
      "\u001b[0;32m~/anaconda/lib/python3.9/site-packages/torch/_tensor.py\u001b[0m in \u001b[0;36mbackward\u001b[0;34m(self, gradient, retain_graph, create_graph, inputs)\u001b[0m\n\u001b[1;32m    394\u001b[0m                 \u001b[0mcreate_graph\u001b[0m\u001b[0;34m=\u001b[0m\u001b[0mcreate_graph\u001b[0m\u001b[0;34m,\u001b[0m\u001b[0;34m\u001b[0m\u001b[0;34m\u001b[0m\u001b[0m\n\u001b[1;32m    395\u001b[0m                 inputs=inputs)\n\u001b[0;32m--> 396\u001b[0;31m         \u001b[0mtorch\u001b[0m\u001b[0;34m.\u001b[0m\u001b[0mautograd\u001b[0m\u001b[0;34m.\u001b[0m\u001b[0mbackward\u001b[0m\u001b[0;34m(\u001b[0m\u001b[0mself\u001b[0m\u001b[0;34m,\u001b[0m \u001b[0mgradient\u001b[0m\u001b[0;34m,\u001b[0m \u001b[0mretain_graph\u001b[0m\u001b[0;34m,\u001b[0m \u001b[0mcreate_graph\u001b[0m\u001b[0;34m,\u001b[0m \u001b[0minputs\u001b[0m\u001b[0;34m=\u001b[0m\u001b[0minputs\u001b[0m\u001b[0;34m)\u001b[0m\u001b[0;34m\u001b[0m\u001b[0;34m\u001b[0m\u001b[0m\n\u001b[0m\u001b[1;32m    397\u001b[0m \u001b[0;34m\u001b[0m\u001b[0m\n\u001b[1;32m    398\u001b[0m     \u001b[0;32mdef\u001b[0m \u001b[0mregister_hook\u001b[0m\u001b[0;34m(\u001b[0m\u001b[0mself\u001b[0m\u001b[0;34m,\u001b[0m \u001b[0mhook\u001b[0m\u001b[0;34m)\u001b[0m\u001b[0;34m:\u001b[0m\u001b[0;34m\u001b[0m\u001b[0;34m\u001b[0m\u001b[0m\n",
      "\u001b[0;32m~/anaconda/lib/python3.9/site-packages/torch/autograd/__init__.py\u001b[0m in \u001b[0;36mbackward\u001b[0;34m(tensors, grad_tensors, retain_graph, create_graph, grad_variables, inputs)\u001b[0m\n\u001b[1;32m    171\u001b[0m     \u001b[0;31m# some Python versions print out the first line of a multi-line function\u001b[0m\u001b[0;34m\u001b[0m\u001b[0;34m\u001b[0m\u001b[0m\n\u001b[1;32m    172\u001b[0m     \u001b[0;31m# calls in the traceback and some print out the last line\u001b[0m\u001b[0;34m\u001b[0m\u001b[0;34m\u001b[0m\u001b[0m\n\u001b[0;32m--> 173\u001b[0;31m     Variable._execution_engine.run_backward(  # Calls into the C++ engine to run the backward pass\n\u001b[0m\u001b[1;32m    174\u001b[0m         \u001b[0mtensors\u001b[0m\u001b[0;34m,\u001b[0m \u001b[0mgrad_tensors_\u001b[0m\u001b[0;34m,\u001b[0m \u001b[0mretain_graph\u001b[0m\u001b[0;34m,\u001b[0m \u001b[0mcreate_graph\u001b[0m\u001b[0;34m,\u001b[0m \u001b[0minputs\u001b[0m\u001b[0;34m,\u001b[0m\u001b[0;34m\u001b[0m\u001b[0;34m\u001b[0m\u001b[0m\n\u001b[1;32m    175\u001b[0m         allow_unreachable=True, accumulate_grad=True)  # Calls into the C++ engine to run the backward pass\n",
      "\u001b[0;31mKeyboardInterrupt\u001b[0m: "
     ]
    }
   ],
   "source": [
    "data_loader = torch.utils.data.DataLoader(dataset, batch_size=32, num_workers=psutil.cpu_count())\n",
    "model.requires_grad_(True)\n",
    "loss_history = train_triplet(model, data_loader, 5, lr=0.00001)\n",
    "plt.plot(loss_history)\n",
    "plt.title('loss');"
   ]
  },
  {
   "cell_type": "code",
   "execution_count": null,
   "metadata": {
    "colab": {
     "base_uri": "https://localhost:8080/",
     "height": 265
    },
    "id": "awzalcn6bpTe",
    "outputId": "3926ea4f-f4d2-4902-d2d6-da44f976a256"
   },
   "outputs": [],
   "source": [
    "plt.hist(model.fc.weight.cpu().detach().reshape(-1), bins=100);"
   ]
  },
  {
   "cell_type": "code",
   "execution_count": null,
   "metadata": {
    "colab": {
     "base_uri": "https://localhost:8080/"
    },
    "id": "e90luCJ3kZ9Q",
    "outputId": "1356b994-f4fb-47ec-da11-5fb86ae56262"
   },
   "outputs": [],
   "source": [
    "for i in range(10):\n",
    "  v1 = model(dataset[42][0].reshape(1, 1, 224, 224).to(device)).cpu().detach().numpy()\n",
    "  v2 = model(dataset[42][1].reshape(1, 1, 224, 224).to(device)).cpu().detach().numpy()\n",
    "  v3 = model(dataset[42][2].reshape(1, 1, 224, 224).to(device)).cpu().detach().numpy()\n",
    "  print(euc_similarity(v1, v2), euc_similarity(v1, v3), cos_similarity(v1, v2), cos_similarity(v1, v3))"
   ]
  },
  {
   "cell_type": "code",
   "execution_count": null,
   "metadata": {
    "colab": {
     "base_uri": "https://localhost:8080/"
    },
    "id": "37ox4WYL7-Tb",
    "outputId": "519ac00f-3b1a-4761-f2c7-802805940540"
   },
   "outputs": [],
   "source": [
    "torch.save(model, f'faceid-model-{loss_history[-1]}.pt')\n",
    "!ls -l faceid-model-*.pt"
   ]
  }
 ],
 "metadata": {
  "accelerator": "GPU",
  "colab": {
   "collapsed_sections": [],
   "provenance": []
  },
  "kernelspec": {
   "display_name": "Python 3 (ipykernel)",
   "language": "python",
   "name": "python3"
  },
  "language_info": {
   "codemirror_mode": {
    "name": "ipython",
    "version": 3
   },
   "file_extension": ".py",
   "mimetype": "text/x-python",
   "name": "python",
   "nbconvert_exporter": "python",
   "pygments_lexer": "ipython3",
   "version": "3.9.7"
  }
 },
 "nbformat": 4,
 "nbformat_minor": 4
}
