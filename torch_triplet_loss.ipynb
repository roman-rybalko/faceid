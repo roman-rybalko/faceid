{
 "cells": [
  {
   "cell_type": "code",
   "execution_count": 1,
   "id": "17993320-c1cf-4d32-88d2-615d944e02a7",
   "metadata": {},
   "outputs": [],
   "source": [
    "import torch"
   ]
  },
  {
   "cell_type": "code",
   "execution_count": 8,
   "id": "ccfcb403-1988-45c9-9ec8-6ee0db15b2ff",
   "metadata": {},
   "outputs": [
    {
     "data": {
      "text/plain": [
       "TripletMarginLoss()"
      ]
     },
     "execution_count": 8,
     "metadata": {},
     "output_type": "execute_result"
    }
   ],
   "source": [
    "loss = torch.nn.TripletMarginLoss()\n",
    "loss"
   ]
  },
  {
   "cell_type": "code",
   "execution_count": 7,
   "id": "efe62c4d-eea5-4d68-86f3-4d76923a48dd",
   "metadata": {},
   "outputs": [
    {
     "data": {
      "text/plain": [
       "tensor([0., 0., 0., 0., 0., 0., 0., 0., 0., 0., 0., 0., 0., 0., 0., 0.])"
      ]
     },
     "execution_count": 7,
     "metadata": {},
     "output_type": "execute_result"
    }
   ],
   "source": [
    "x1 = torch.zeros((16))\n",
    "x1"
   ]
  },
  {
   "cell_type": "code",
   "execution_count": 10,
   "id": "f70a503d-5073-4268-a7a9-8d89a833cd48",
   "metadata": {},
   "outputs": [
    {
     "data": {
      "text/plain": [
       "tensor([1., 1., 1., 1., 1., 1., 1., 1., 1., 1., 1., 1., 1., 1., 1., 1.])"
      ]
     },
     "execution_count": 10,
     "metadata": {},
     "output_type": "execute_result"
    }
   ],
   "source": [
    "x2 = torch.ones((16))\n",
    "x2"
   ]
  },
  {
   "cell_type": "code",
   "execution_count": 13,
   "id": "03536068-3d08-492f-9176-34d7c1786e06",
   "metadata": {},
   "outputs": [
    {
     "data": {
      "text/plain": [
       "tensor(1.)"
      ]
     },
     "execution_count": 13,
     "metadata": {},
     "output_type": "execute_result"
    }
   ],
   "source": [
    "loss(x1, x1, x1)"
   ]
  },
  {
   "cell_type": "code",
   "execution_count": 14,
   "id": "bea517d3-3738-4213-ab72-db991c1655e6",
   "metadata": {},
   "outputs": [
    {
     "data": {
      "text/plain": [
       "tensor(1.0000)"
      ]
     },
     "execution_count": 14,
     "metadata": {},
     "output_type": "execute_result"
    }
   ],
   "source": [
    "loss(x1, x2, x2)"
   ]
  },
  {
   "cell_type": "code",
   "execution_count": 15,
   "id": "55ebb984-6ac1-4fdf-bc6b-913d80d82dde",
   "metadata": {},
   "outputs": [
    {
     "data": {
      "text/plain": [
       "tensor(0.)"
      ]
     },
     "execution_count": 15,
     "metadata": {},
     "output_type": "execute_result"
    }
   ],
   "source": [
    "loss(x1, x1, x2)"
   ]
  },
  {
   "cell_type": "code",
   "execution_count": 16,
   "id": "75f13348-bb40-47ce-bb94-ff24d4fa2111",
   "metadata": {},
   "outputs": [
    {
     "data": {
      "text/plain": [
       "tensor(1.)"
      ]
     },
     "execution_count": 16,
     "metadata": {},
     "output_type": "execute_result"
    }
   ],
   "source": [
    "loss(x2, x2, x2)"
   ]
  },
  {
   "cell_type": "code",
   "execution_count": null,
   "id": "f7278077-39ee-4c73-bd0b-e9204daf4fe0",
   "metadata": {},
   "outputs": [],
   "source": [
    "import numpy as np"
   ]
  },
  {
   "cell_type": "code",
   "execution_count": 35,
   "id": "8a3f3994-7922-4d83-9684-f32c29eae3e1",
   "metadata": {},
   "outputs": [
    {
     "data": {
      "text/plain": [
       "L1Loss()"
      ]
     },
     "execution_count": 35,
     "metadata": {},
     "output_type": "execute_result"
    }
   ],
   "source": [
    "l1 = torch.nn.L1Loss()\n",
    "l1"
   ]
  },
  {
   "cell_type": "code",
   "execution_count": 39,
   "id": "5c33a33e-5b02-425e-91f6-0af72384afc3",
   "metadata": {},
   "outputs": [
    {
     "name": "stdout",
     "output_type": "stream",
     "text": [
      "tensor(0.4157, dtype=torch.float64) tensor(0.3624, dtype=torch.float64) tensor(1.2137, dtype=torch.float64)\n",
      "tensor(0.3566, dtype=torch.float64) tensor(0.3107, dtype=torch.float64) tensor(1.1812, dtype=torch.float64)\n",
      "tensor(0.2639, dtype=torch.float64) tensor(0.4188, dtype=torch.float64) tensor(0.4485, dtype=torch.float64)\n",
      "tensor(0.3162, dtype=torch.float64) tensor(0.4119, dtype=torch.float64) tensor(0.6656, dtype=torch.float64)\n",
      "tensor(0.2709, dtype=torch.float64) tensor(0.3252, dtype=torch.float64) tensor(0.8363, dtype=torch.float64)\n",
      "tensor(0.2994, dtype=torch.float64) tensor(0.3483, dtype=torch.float64) tensor(0.8610, dtype=torch.float64)\n",
      "tensor(0.3115, dtype=torch.float64) tensor(0.2837, dtype=torch.float64) tensor(1.1195, dtype=torch.float64)\n",
      "tensor(0.3784, dtype=torch.float64) tensor(0.2773, dtype=torch.float64) tensor(1.4392, dtype=torch.float64)\n",
      "tensor(0.2588, dtype=torch.float64) tensor(0.4040, dtype=torch.float64) tensor(0.5030, dtype=torch.float64)\n",
      "tensor(0.4108, dtype=torch.float64) tensor(0.4198, dtype=torch.float64) tensor(0.7951, dtype=torch.float64)\n"
     ]
    }
   ],
   "source": [
    "for i in range(10):\n",
    "    a = torch.from_numpy(np.random.rand(16))\n",
    "    p = torch.from_numpy(np.random.rand(16))\n",
    "    n = torch.from_numpy(np.random.rand(16))\n",
    "    print(l1(a, p), l1(a, n), loss(a, p, n))"
   ]
  }
 ],
 "metadata": {
  "kernelspec": {
   "display_name": "Python 3 (ipykernel)",
   "language": "python",
   "name": "python3"
  },
  "language_info": {
   "codemirror_mode": {
    "name": "ipython",
    "version": 3
   },
   "file_extension": ".py",
   "mimetype": "text/x-python",
   "name": "python",
   "nbconvert_exporter": "python",
   "pygments_lexer": "ipython3",
   "version": "3.9.10"
  }
 },
 "nbformat": 4,
 "nbformat_minor": 5
}
