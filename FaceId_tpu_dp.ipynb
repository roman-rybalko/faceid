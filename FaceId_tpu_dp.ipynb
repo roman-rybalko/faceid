{
  "nbformat": 4,
  "nbformat_minor": 0,
  "metadata": {
    "colab": {
      "provenance": [],
      "collapsed_sections": []
    },
    "kernelspec": {
      "name": "python3",
      "display_name": "Python 3"
    },
    "language_info": {
      "name": "python"
    },
    "accelerator": "TPU"
  },
  "cells": [
    {
      "cell_type": "code",
      "source": [
        "!pip install cloud-tpu-client==0.10 torch==1.12.0 https://storage.googleapis.com/tpu-pytorch/wheels/colab/torch_xla-1.12-cp37-cp37m-linux_x86_64.whl torchvision"
      ],
      "metadata": {
        "id": "I6PYs18UsJzr",
        "colab": {
          "base_uri": "https://localhost:8080/"
        },
        "outputId": "40eb0f8d-3c0a-496c-eaca-8330c5906322"
      },
      "execution_count": 1,
      "outputs": [
        {
          "output_type": "stream",
          "name": "stdout",
          "text": [
            "Looking in indexes: https://pypi.org/simple, https://us-python.pkg.dev/colab-wheels/public/simple/\n",
            "Collecting torch-xla==1.12\n",
            "  Downloading https://storage.googleapis.com/tpu-pytorch/wheels/colab/torch_xla-1.12-cp37-cp37m-linux_x86_64.whl (187.4 MB)\n",
            "\u001b[K     |████████████████████████████████| 187.4 MB 21 kB/s \n",
            "\u001b[?25hCollecting cloud-tpu-client==0.10\n",
            "  Downloading cloud_tpu_client-0.10-py3-none-any.whl (7.4 kB)\n",
            "Collecting torch==1.12.0\n",
            "  Downloading torch-1.12.0-cp37-cp37m-manylinux1_x86_64.whl (776.3 MB)\n",
            "\u001b[K     |████████████████████████████████| 776.3 MB 14 kB/s \n",
            "\u001b[?25hRequirement already satisfied: torchvision in /usr/local/lib/python3.7/dist-packages (0.13.1+cu113)\n",
            "Requirement already satisfied: absl-py>=1.0.0 in /usr/local/lib/python3.7/dist-packages (from torch-xla==1.12) (1.2.0)\n",
            "Requirement already satisfied: oauth2client in /usr/local/lib/python3.7/dist-packages (from cloud-tpu-client==0.10) (4.1.3)\n",
            "Collecting google-api-python-client==1.8.0\n",
            "  Downloading google_api_python_client-1.8.0-py3-none-any.whl (57 kB)\n",
            "\u001b[K     |████████████████████████████████| 57 kB 4.2 MB/s \n",
            "\u001b[?25hRequirement already satisfied: typing-extensions in /usr/local/lib/python3.7/dist-packages (from torch==1.12.0) (4.1.1)\n",
            "Requirement already satisfied: httplib2<1dev,>=0.9.2 in /usr/local/lib/python3.7/dist-packages (from google-api-python-client==1.8.0->cloud-tpu-client==0.10) (0.17.4)\n",
            "Requirement already satisfied: six<2dev,>=1.6.1 in /usr/local/lib/python3.7/dist-packages (from google-api-python-client==1.8.0->cloud-tpu-client==0.10) (1.15.0)\n",
            "Requirement already satisfied: google-auth-httplib2>=0.0.3 in /usr/local/lib/python3.7/dist-packages (from google-api-python-client==1.8.0->cloud-tpu-client==0.10) (0.0.4)\n",
            "Requirement already satisfied: google-api-core<2dev,>=1.13.0 in /usr/local/lib/python3.7/dist-packages (from google-api-python-client==1.8.0->cloud-tpu-client==0.10) (1.31.6)\n",
            "Requirement already satisfied: uritemplate<4dev,>=3.0.0 in /usr/local/lib/python3.7/dist-packages (from google-api-python-client==1.8.0->cloud-tpu-client==0.10) (3.0.1)\n",
            "Requirement already satisfied: google-auth>=1.4.1 in /usr/local/lib/python3.7/dist-packages (from google-api-python-client==1.8.0->cloud-tpu-client==0.10) (1.35.0)\n",
            "Requirement already satisfied: googleapis-common-protos<2.0dev,>=1.6.0 in /usr/local/lib/python3.7/dist-packages (from google-api-core<2dev,>=1.13.0->google-api-python-client==1.8.0->cloud-tpu-client==0.10) (1.56.4)\n",
            "Requirement already satisfied: setuptools>=40.3.0 in /usr/local/lib/python3.7/dist-packages (from google-api-core<2dev,>=1.13.0->google-api-python-client==1.8.0->cloud-tpu-client==0.10) (57.4.0)\n",
            "Requirement already satisfied: protobuf<4.0.0dev,>=3.12.0 in /usr/local/lib/python3.7/dist-packages (from google-api-core<2dev,>=1.13.0->google-api-python-client==1.8.0->cloud-tpu-client==0.10) (3.17.3)\n",
            "Requirement already satisfied: packaging>=14.3 in /usr/local/lib/python3.7/dist-packages (from google-api-core<2dev,>=1.13.0->google-api-python-client==1.8.0->cloud-tpu-client==0.10) (21.3)\n",
            "Requirement already satisfied: requests<3.0.0dev,>=2.18.0 in /usr/local/lib/python3.7/dist-packages (from google-api-core<2dev,>=1.13.0->google-api-python-client==1.8.0->cloud-tpu-client==0.10) (2.23.0)\n",
            "Requirement already satisfied: pytz in /usr/local/lib/python3.7/dist-packages (from google-api-core<2dev,>=1.13.0->google-api-python-client==1.8.0->cloud-tpu-client==0.10) (2022.2.1)\n",
            "Requirement already satisfied: cachetools<5.0,>=2.0.0 in /usr/local/lib/python3.7/dist-packages (from google-auth>=1.4.1->google-api-python-client==1.8.0->cloud-tpu-client==0.10) (4.2.4)\n",
            "Requirement already satisfied: rsa<5,>=3.1.4 in /usr/local/lib/python3.7/dist-packages (from google-auth>=1.4.1->google-api-python-client==1.8.0->cloud-tpu-client==0.10) (4.9)\n",
            "Requirement already satisfied: pyasn1-modules>=0.2.1 in /usr/local/lib/python3.7/dist-packages (from google-auth>=1.4.1->google-api-python-client==1.8.0->cloud-tpu-client==0.10) (0.2.8)\n",
            "Requirement already satisfied: pyparsing!=3.0.5,>=2.0.2 in /usr/local/lib/python3.7/dist-packages (from packaging>=14.3->google-api-core<2dev,>=1.13.0->google-api-python-client==1.8.0->cloud-tpu-client==0.10) (3.0.9)\n",
            "Requirement already satisfied: pyasn1<0.5.0,>=0.4.6 in /usr/local/lib/python3.7/dist-packages (from pyasn1-modules>=0.2.1->google-auth>=1.4.1->google-api-python-client==1.8.0->cloud-tpu-client==0.10) (0.4.8)\n",
            "Requirement already satisfied: chardet<4,>=3.0.2 in /usr/local/lib/python3.7/dist-packages (from requests<3.0.0dev,>=2.18.0->google-api-core<2dev,>=1.13.0->google-api-python-client==1.8.0->cloud-tpu-client==0.10) (3.0.4)\n",
            "Requirement already satisfied: urllib3!=1.25.0,!=1.25.1,<1.26,>=1.21.1 in /usr/local/lib/python3.7/dist-packages (from requests<3.0.0dev,>=2.18.0->google-api-core<2dev,>=1.13.0->google-api-python-client==1.8.0->cloud-tpu-client==0.10) (1.24.3)\n",
            "Requirement already satisfied: certifi>=2017.4.17 in /usr/local/lib/python3.7/dist-packages (from requests<3.0.0dev,>=2.18.0->google-api-core<2dev,>=1.13.0->google-api-python-client==1.8.0->cloud-tpu-client==0.10) (2022.6.15)\n",
            "Requirement already satisfied: idna<3,>=2.5 in /usr/local/lib/python3.7/dist-packages (from requests<3.0.0dev,>=2.18.0->google-api-core<2dev,>=1.13.0->google-api-python-client==1.8.0->cloud-tpu-client==0.10) (2.10)\n",
            "Collecting torchvision\n",
            "  Downloading torchvision-0.13.1-cp37-cp37m-manylinux1_x86_64.whl (19.1 MB)\n",
            "\u001b[K     |████████████████████████████████| 19.1 MB 44.8 MB/s \n",
            "\u001b[?25h  Downloading torchvision-0.13.0-cp37-cp37m-manylinux1_x86_64.whl (19.1 MB)\n",
            "\u001b[K     |████████████████████████████████| 19.1 MB 1.2 MB/s \n",
            "\u001b[?25hRequirement already satisfied: pillow!=8.3.*,>=5.3.0 in /usr/local/lib/python3.7/dist-packages (from torchvision) (7.1.2)\n",
            "Requirement already satisfied: numpy in /usr/local/lib/python3.7/dist-packages (from torchvision) (1.21.6)\n",
            "Installing collected packages: google-api-python-client, torch, cloud-tpu-client, torchvision, torch-xla\n",
            "  Attempting uninstall: google-api-python-client\n",
            "    Found existing installation: google-api-python-client 1.12.11\n",
            "    Uninstalling google-api-python-client-1.12.11:\n",
            "      Successfully uninstalled google-api-python-client-1.12.11\n",
            "  Attempting uninstall: torch\n",
            "    Found existing installation: torch 1.12.1+cu113\n",
            "    Uninstalling torch-1.12.1+cu113:\n",
            "      Successfully uninstalled torch-1.12.1+cu113\n",
            "  Attempting uninstall: torchvision\n",
            "    Found existing installation: torchvision 0.13.1+cu113\n",
            "    Uninstalling torchvision-0.13.1+cu113:\n",
            "      Successfully uninstalled torchvision-0.13.1+cu113\n",
            "\u001b[31mERROR: pip's dependency resolver does not currently take into account all the packages that are installed. This behaviour is the source of the following dependency conflicts.\n",
            "torchtext 0.13.1 requires torch==1.12.1, but you have torch 1.12.0 which is incompatible.\n",
            "torchaudio 0.12.1+cu113 requires torch==1.12.1, but you have torch 1.12.0 which is incompatible.\n",
            "earthengine-api 0.1.323 requires google-api-python-client<2,>=1.12.1, but you have google-api-python-client 1.8.0 which is incompatible.\u001b[0m\n",
            "Successfully installed cloud-tpu-client-0.10 google-api-python-client-1.8.0 torch-1.12.0 torch-xla-1.12 torchvision-0.13.0\n"
          ]
        }
      ]
    },
    {
      "cell_type": "code",
      "execution_count": 2,
      "metadata": {
        "id": "k1qP4ahrdqFC",
        "colab": {
          "base_uri": "https://localhost:8080/"
        },
        "outputId": "db9ff942-135e-4ce6-e2b9-1227b22937c1"
      },
      "outputs": [
        {
          "output_type": "stream",
          "name": "stdout",
          "text": [
            "Downloading...\n",
            "From: https://drive.google.com/uc?id=1kCQxmbJzZPyoyt10H4QAqAUZFhqNZuZG\n",
            "To: /content/YouTubeFaces-subset.zip\n",
            "100% 496M/496M [00:06<00:00, 78.8MB/s]\n",
            "Archive:  YouTubeFaces-subset.zip\n",
            "   creating: subset/\n",
            " extracting: subset/Fred_Eckhard_1.npz  \n",
            " extracting: subset/Kevin_Spacey_3.npz  \n",
            " extracting: subset/Amanda_Beard_2.npz  \n",
            " extracting: subset/Barbara_Brezigar_2.npz  \n",
            " extracting: subset/Daniel_Kurtzer_2.npz  \n",
            " extracting: subset/Kevin_Spacey_2.npz  \n",
            " extracting: subset/Fred_Eckhard_2.npz  \n",
            " extracting: subset/Lauren_Hutton_3.npz  \n",
            " extracting: subset/Amanda_Beard_0.npz  \n",
            " extracting: subset/Daniel_Kurtzer_1.npz  \n",
            " extracting: subset/Alison_Lohman_5.npz  \n",
            " extracting: subset/Andrew_Bernard_2.npz  \n",
            " extracting: subset/Robert_F_Kennedy_Jr_0.npz  \n",
            " extracting: subset/Daniel_Kurtzer_3.npz  \n",
            " extracting: subset/Daniel_Kurtzer_0.npz  \n",
            " extracting: subset/Robert_F_Kennedy_Jr_4.npz  \n",
            " extracting: subset/Elizabeth_Berkeley_2.npz  \n",
            " extracting: subset/Amanda_Beard_4.npz  \n",
            " extracting: subset/Andrew_Bernard_1.npz  \n",
            " extracting: subset/youtube_faces_with_keypoints_full.csv  \n",
            " extracting: subset/Kevin_Spacey_0.npz  \n",
            " extracting: subset/Alison_Lohman_3.npz  \n",
            " extracting: subset/Fred_Eckhard_3.npz  \n",
            " extracting: subset/Fred_Eckhard_4.npz  \n",
            " extracting: subset/Andrew_Bernard_4.npz  \n",
            " extracting: subset/Daniel_Kurtzer_4.npz  \n",
            " extracting: subset/Barbara_Brezigar_5.npz  \n",
            " extracting: subset/Barbara_Brezigar_4.npz  \n",
            " extracting: subset/Lauren_Hutton_5.npz  \n",
            " extracting: subset/Lauren_Hutton_2.npz  \n",
            " extracting: subset/Amanda_Beard_3.npz  \n",
            " extracting: subset/Andrew_Bernard_0.npz  \n",
            " extracting: subset/Robert_F_Kennedy_Jr_5.npz  \n",
            " extracting: subset/Amanda_Beard_1.npz  \n",
            " extracting: subset/Robert_F_Kennedy_Jr_1.npz  \n",
            " extracting: subset/Kevin_Spacey_1.npz  \n",
            " extracting: subset/Elizabeth_Berkeley_5.npz  \n",
            " extracting: subset/Andrew_Bernard_3.npz  \n",
            " extracting: subset/Alison_Lohman_4.npz  \n",
            " extracting: subset/Barbara_Brezigar_3.npz  \n",
            " extracting: subset/Lauren_Hutton_1.npz  \n",
            " extracting: subset/Lauren_Hutton_0.npz  \n",
            " extracting: subset/Kevin_Spacey_4.npz  \n",
            " extracting: subset/Alison_Lohman_1.npz  \n",
            " extracting: subset/Elizabeth_Berkeley_4.npz  \n",
            " extracting: subset/Fred_Eckhard_0.npz  \n",
            " extracting: subset/Robert_F_Kennedy_Jr_3.npz  \n",
            " extracting: subset/Robert_F_Kennedy_Jr_2.npz  \n",
            " extracting: subset/Elizabeth_Berkeley_1.npz  \n",
            " extracting: subset/Kevin_Spacey_5.npz  \n",
            " extracting: subset/Alison_Lohman_2.npz  \n",
            " extracting: subset/Elizabeth_Berkeley_3.npz  \n",
            " extracting: subset/Barbara_Brezigar_1.npz  \n",
            " extracting: subset/Alison_Lohman_0.npz  \n",
            " extracting: subset/Lauren_Hutton_4.npz  \n",
            "total 969000\n",
            "-rw-rw-r-- 1 root root  18193387 Oct  6  2021 Alison_Lohman_0.npz\n",
            "-rw-rw-r-- 1 root root   6450691 Oct  6  2021 Alison_Lohman_1.npz\n",
            "-rw-rw-r-- 1 root root  15667895 Oct  6  2021 Alison_Lohman_2.npz\n",
            "-rw-rw-r-- 1 root root   1540033 Oct  6  2021 Alison_Lohman_3.npz\n",
            "-rw-rw-r-- 1 root root  11513318 Oct  6  2021 Alison_Lohman_4.npz\n",
            "-rw-rw-r-- 1 root root   3837609 Oct  6  2021 Alison_Lohman_5.npz\n",
            "-rw-rw-r-- 1 root root  18911258 Oct  6  2021 Amanda_Beard_0.npz\n",
            "-rw-rw-r-- 1 root root   3215936 Oct  6  2021 Amanda_Beard_1.npz\n",
            "-rw-rw-r-- 1 root root   3324041 Oct  6  2021 Amanda_Beard_2.npz\n",
            "-rw-rw-r-- 1 root root   7765399 Oct  6  2021 Amanda_Beard_3.npz\n",
            "-rw-rw-r-- 1 root root   4438243 Oct  6  2021 Amanda_Beard_4.npz\n",
            "-rw-rw-r-- 1 root root  11244317 Oct  6  2021 Andrew_Bernard_0.npz\n",
            "-rw-rw-r-- 1 root root  25892662 Oct  6  2021 Andrew_Bernard_1.npz\n",
            "-rw-rw-r-- 1 root root   6796459 Oct  6  2021 Andrew_Bernard_2.npz\n",
            "-rw-rw-r-- 1 root root   4776170 Oct  6  2021 Andrew_Bernard_3.npz\n",
            "-rw-rw-r-- 1 root root   4042134 Oct  6  2021 Andrew_Bernard_4.npz\n",
            "-rw-rw-r-- 1 root root   9604377 Oct  6  2021 Barbara_Brezigar_1.npz\n",
            "-rw-rw-r-- 1 root root   4349101 Oct  6  2021 Barbara_Brezigar_2.npz\n",
            "-rw-rw-r-- 1 root root  21163174 Oct  6  2021 Barbara_Brezigar_3.npz\n",
            "-rw-rw-r-- 1 root root   7489787 Oct  6  2021 Barbara_Brezigar_4.npz\n",
            "-rw-rw-r-- 1 root root   4437748 Oct  6  2021 Barbara_Brezigar_5.npz\n",
            "-rw-rw-r-- 1 root root   7758503 Oct  6  2021 Daniel_Kurtzer_0.npz\n",
            "-rw-rw-r-- 1 root root   8701069 Oct  6  2021 Daniel_Kurtzer_1.npz\n",
            "-rw-rw-r-- 1 root root  12007531 Oct  6  2021 Daniel_Kurtzer_2.npz\n",
            "-rw-rw-r-- 1 root root   5882529 Oct  6  2021 Daniel_Kurtzer_3.npz\n",
            "-rw-rw-r-- 1 root root   1068335 Oct  6  2021 Daniel_Kurtzer_4.npz\n",
            "-rw-rw-r-- 1 root root  10796448 Oct  6  2021 Elizabeth_Berkeley_1.npz\n",
            "-rw-rw-r-- 1 root root   7128672 Oct  6  2021 Elizabeth_Berkeley_2.npz\n",
            "-rw-rw-r-- 1 root root   1068134 Oct  6  2021 Elizabeth_Berkeley_3.npz\n",
            "-rw-rw-r-- 1 root root  24747044 Oct  6  2021 Elizabeth_Berkeley_4.npz\n",
            "-rw-rw-r-- 1 root root   8932865 Oct  6  2021 Elizabeth_Berkeley_5.npz\n",
            "-rw-rw-r-- 1 root root   1465119 Oct  6  2021 Fred_Eckhard_0.npz\n",
            "-rw-rw-r-- 1 root root   2739302 Oct  6  2021 Fred_Eckhard_1.npz\n",
            "-rw-rw-r-- 1 root root  24273287 Oct  6  2021 Fred_Eckhard_2.npz\n",
            "-rw-rw-r-- 1 root root   4239283 Oct  6  2021 Fred_Eckhard_3.npz\n",
            "-rw-rw-r-- 1 root root  14546988 Oct  6  2021 Fred_Eckhard_4.npz\n",
            "-rw-rw-r-- 1 root root   5974851 Oct  6  2021 Kevin_Spacey_0.npz\n",
            "-rw-rw-r-- 1 root root   3491825 Oct  6  2021 Kevin_Spacey_1.npz\n",
            "-rw-rw-r-- 1 root root   2891358 Oct  6  2021 Kevin_Spacey_2.npz\n",
            "-rw-rw-r-- 1 root root   1209517 Oct  6  2021 Kevin_Spacey_3.npz\n",
            "-rw-rw-r-- 1 root root  10084440 Oct  6  2021 Kevin_Spacey_4.npz\n",
            "-rw-rw-r-- 1 root root   6762098 Oct  6  2021 Kevin_Spacey_5.npz\n",
            "-rw-rw-r-- 1 root root  12195213 Oct  6  2021 Lauren_Hutton_0.npz\n",
            "-rw-rw-r-- 1 root root   8479179 Oct  6  2021 Lauren_Hutton_1.npz\n",
            "-rw-rw-r-- 1 root root  12506780 Oct  6  2021 Lauren_Hutton_2.npz\n",
            "-rw-rw-r-- 1 root root  43750771 Oct  6  2021 Lauren_Hutton_3.npz\n",
            "-rw-rw-r-- 1 root root   5546311 Oct  6  2021 Lauren_Hutton_4.npz\n",
            "-rw-rw-r-- 1 root root   8461708 Oct  6  2021 Lauren_Hutton_5.npz\n",
            "-rw-rw-r-- 1 root root  10746467 Oct  6  2021 Robert_F_Kennedy_Jr_0.npz\n",
            "-rw-rw-r-- 1 root root   7381447 Oct  6  2021 Robert_F_Kennedy_Jr_1.npz\n",
            "-rw-rw-r-- 1 root root   9264783 Oct  6  2021 Robert_F_Kennedy_Jr_2.npz\n",
            "-rw-rw-r-- 1 root root   1594220 Oct  6  2021 Robert_F_Kennedy_Jr_3.npz\n",
            "-rw-rw-r-- 1 root root   8107277 Oct  6  2021 Robert_F_Kennedy_Jr_4.npz\n",
            "-rw-rw-r-- 1 root root   7602849 Oct  6  2021 Robert_F_Kennedy_Jr_5.npz\n",
            "drwxr-xr-x 1 root root      4096 Sep 14 13:44 sample_data\n",
            "drwxr-xr-x 2 root root      4096 Sep 23 05:38 subset\n",
            "-rw-r--r-- 1 root root 496073898 Sep 23 05:38 YouTubeFaces-subset.zip\n",
            "-rw-r--r-- 1 root root      3716 Aug 24 02:34 youtube_faces_with_keypoints_full.csv\n"
          ]
        }
      ],
      "source": [
        "!gdown https://drive.google.com/uc?id=1kCQxmbJzZPyoyt10H4QAqAUZFhqNZuZG\n",
        "!unzip YouTubeFaces-subset.zip\n",
        "!mv subset/* ./\n",
        "!ls -l"
      ]
    },
    {
      "cell_type": "code",
      "source": [
        "import pandas as pd\n",
        "import numpy as np\n",
        "import matplotlib.pyplot as plt\n",
        "from tqdm import tqdm"
      ],
      "metadata": {
        "id": "xcDdqMb8jWEY"
      },
      "execution_count": 1,
      "outputs": []
    },
    {
      "cell_type": "code",
      "source": [
        "df = pd.read_csv('youtube_faces_with_keypoints_full.csv')\n",
        "df = df[:20]\n",
        "df"
      ],
      "metadata": {
        "colab": {
          "base_uri": "https://localhost:8080/",
          "height": 677
        },
        "id": "9Wpb5ohLj5VI",
        "outputId": "eaef1186-d6a5-4ea2-c50a-4cae04542b85"
      },
      "execution_count": 2,
      "outputs": [
        {
          "output_type": "execute_result",
          "data": {
            "text/plain": [
              "                  videoID           personName  imageHeight  imageWidth  \\\n",
              "0         Alison_Lohman_0        Alison_Lohman        228.0       213.0   \n",
              "1         Alison_Lohman_1        Alison_Lohman        248.0       201.0   \n",
              "2         Alison_Lohman_2        Alison_Lohman        335.0       308.0   \n",
              "3         Alison_Lohman_3        Alison_Lohman        151.0       110.0   \n",
              "4         Alison_Lohman_4        Alison_Lohman        236.0       228.0   \n",
              "5         Alison_Lohman_5        Alison_Lohman        227.0       179.0   \n",
              "6          Kevin_Spacey_0         Kevin_Spacey        196.0       264.0   \n",
              "7          Kevin_Spacey_1         Kevin_Spacey        260.0       217.0   \n",
              "8          Kevin_Spacey_2         Kevin_Spacey        186.0       175.0   \n",
              "9          Kevin_Spacey_3         Kevin_Spacey        100.0        89.0   \n",
              "10         Kevin_Spacey_4         Kevin_Spacey        212.0       207.0   \n",
              "11         Kevin_Spacey_5         Kevin_Spacey        242.0       205.0   \n",
              "12        Lauren_Hutton_0        Lauren_Hutton        223.0       202.0   \n",
              "13        Lauren_Hutton_1        Lauren_Hutton        279.0       213.0   \n",
              "14        Lauren_Hutton_2        Lauren_Hutton        320.0       361.0   \n",
              "15        Lauren_Hutton_3        Lauren_Hutton        325.0       281.0   \n",
              "16        Lauren_Hutton_4        Lauren_Hutton        222.0       208.0   \n",
              "17        Lauren_Hutton_5        Lauren_Hutton        165.0       192.0   \n",
              "18  Robert_F_Kennedy_Jr_0  Robert_F_Kennedy_Jr        192.0       169.0   \n",
              "19  Robert_F_Kennedy_Jr_1  Robert_F_Kennedy_Jr        229.0       232.0   \n",
              "\n",
              "    videoDuration  averageFaceSize  numVideosForPerson  \n",
              "0           240.0        90.150000                 6.0  \n",
              "1            79.0       108.417722                 6.0  \n",
              "2           136.0       122.161765                 6.0  \n",
              "3            53.0        58.000000                 6.0  \n",
              "4           147.0        91.680272                 6.0  \n",
              "5            68.0       105.647059                 6.0  \n",
              "6            91.0        99.912088                 6.0  \n",
              "7            59.0       120.186441                 6.0  \n",
              "8            71.0        86.746479                 6.0  \n",
              "9            99.0        44.636364                 6.0  \n",
              "10          240.0        99.025000                 6.0  \n",
              "11          203.0       116.886700                 6.0  \n",
              "12          127.0        96.086614                 6.0  \n",
              "13           68.0       107.191176                 6.0  \n",
              "14           55.0       193.781818                 6.0  \n",
              "15          240.0       136.158333                 6.0  \n",
              "16           51.0       103.431373                 6.0  \n",
              "17          147.0        56.435374                 6.0  \n",
              "18          240.0        84.812500                 6.0  \n",
              "19          107.0       109.439252                 6.0  "
            ],
            "text/html": [
              "\n",
              "  <div id=\"df-b0fcab32-53c3-491f-8040-a8f3f432efcd\">\n",
              "    <div class=\"colab-df-container\">\n",
              "      <div>\n",
              "<style scoped>\n",
              "    .dataframe tbody tr th:only-of-type {\n",
              "        vertical-align: middle;\n",
              "    }\n",
              "\n",
              "    .dataframe tbody tr th {\n",
              "        vertical-align: top;\n",
              "    }\n",
              "\n",
              "    .dataframe thead th {\n",
              "        text-align: right;\n",
              "    }\n",
              "</style>\n",
              "<table border=\"1\" class=\"dataframe\">\n",
              "  <thead>\n",
              "    <tr style=\"text-align: right;\">\n",
              "      <th></th>\n",
              "      <th>videoID</th>\n",
              "      <th>personName</th>\n",
              "      <th>imageHeight</th>\n",
              "      <th>imageWidth</th>\n",
              "      <th>videoDuration</th>\n",
              "      <th>averageFaceSize</th>\n",
              "      <th>numVideosForPerson</th>\n",
              "    </tr>\n",
              "  </thead>\n",
              "  <tbody>\n",
              "    <tr>\n",
              "      <th>0</th>\n",
              "      <td>Alison_Lohman_0</td>\n",
              "      <td>Alison_Lohman</td>\n",
              "      <td>228.0</td>\n",
              "      <td>213.0</td>\n",
              "      <td>240.0</td>\n",
              "      <td>90.150000</td>\n",
              "      <td>6.0</td>\n",
              "    </tr>\n",
              "    <tr>\n",
              "      <th>1</th>\n",
              "      <td>Alison_Lohman_1</td>\n",
              "      <td>Alison_Lohman</td>\n",
              "      <td>248.0</td>\n",
              "      <td>201.0</td>\n",
              "      <td>79.0</td>\n",
              "      <td>108.417722</td>\n",
              "      <td>6.0</td>\n",
              "    </tr>\n",
              "    <tr>\n",
              "      <th>2</th>\n",
              "      <td>Alison_Lohman_2</td>\n",
              "      <td>Alison_Lohman</td>\n",
              "      <td>335.0</td>\n",
              "      <td>308.0</td>\n",
              "      <td>136.0</td>\n",
              "      <td>122.161765</td>\n",
              "      <td>6.0</td>\n",
              "    </tr>\n",
              "    <tr>\n",
              "      <th>3</th>\n",
              "      <td>Alison_Lohman_3</td>\n",
              "      <td>Alison_Lohman</td>\n",
              "      <td>151.0</td>\n",
              "      <td>110.0</td>\n",
              "      <td>53.0</td>\n",
              "      <td>58.000000</td>\n",
              "      <td>6.0</td>\n",
              "    </tr>\n",
              "    <tr>\n",
              "      <th>4</th>\n",
              "      <td>Alison_Lohman_4</td>\n",
              "      <td>Alison_Lohman</td>\n",
              "      <td>236.0</td>\n",
              "      <td>228.0</td>\n",
              "      <td>147.0</td>\n",
              "      <td>91.680272</td>\n",
              "      <td>6.0</td>\n",
              "    </tr>\n",
              "    <tr>\n",
              "      <th>5</th>\n",
              "      <td>Alison_Lohman_5</td>\n",
              "      <td>Alison_Lohman</td>\n",
              "      <td>227.0</td>\n",
              "      <td>179.0</td>\n",
              "      <td>68.0</td>\n",
              "      <td>105.647059</td>\n",
              "      <td>6.0</td>\n",
              "    </tr>\n",
              "    <tr>\n",
              "      <th>6</th>\n",
              "      <td>Kevin_Spacey_0</td>\n",
              "      <td>Kevin_Spacey</td>\n",
              "      <td>196.0</td>\n",
              "      <td>264.0</td>\n",
              "      <td>91.0</td>\n",
              "      <td>99.912088</td>\n",
              "      <td>6.0</td>\n",
              "    </tr>\n",
              "    <tr>\n",
              "      <th>7</th>\n",
              "      <td>Kevin_Spacey_1</td>\n",
              "      <td>Kevin_Spacey</td>\n",
              "      <td>260.0</td>\n",
              "      <td>217.0</td>\n",
              "      <td>59.0</td>\n",
              "      <td>120.186441</td>\n",
              "      <td>6.0</td>\n",
              "    </tr>\n",
              "    <tr>\n",
              "      <th>8</th>\n",
              "      <td>Kevin_Spacey_2</td>\n",
              "      <td>Kevin_Spacey</td>\n",
              "      <td>186.0</td>\n",
              "      <td>175.0</td>\n",
              "      <td>71.0</td>\n",
              "      <td>86.746479</td>\n",
              "      <td>6.0</td>\n",
              "    </tr>\n",
              "    <tr>\n",
              "      <th>9</th>\n",
              "      <td>Kevin_Spacey_3</td>\n",
              "      <td>Kevin_Spacey</td>\n",
              "      <td>100.0</td>\n",
              "      <td>89.0</td>\n",
              "      <td>99.0</td>\n",
              "      <td>44.636364</td>\n",
              "      <td>6.0</td>\n",
              "    </tr>\n",
              "    <tr>\n",
              "      <th>10</th>\n",
              "      <td>Kevin_Spacey_4</td>\n",
              "      <td>Kevin_Spacey</td>\n",
              "      <td>212.0</td>\n",
              "      <td>207.0</td>\n",
              "      <td>240.0</td>\n",
              "      <td>99.025000</td>\n",
              "      <td>6.0</td>\n",
              "    </tr>\n",
              "    <tr>\n",
              "      <th>11</th>\n",
              "      <td>Kevin_Spacey_5</td>\n",
              "      <td>Kevin_Spacey</td>\n",
              "      <td>242.0</td>\n",
              "      <td>205.0</td>\n",
              "      <td>203.0</td>\n",
              "      <td>116.886700</td>\n",
              "      <td>6.0</td>\n",
              "    </tr>\n",
              "    <tr>\n",
              "      <th>12</th>\n",
              "      <td>Lauren_Hutton_0</td>\n",
              "      <td>Lauren_Hutton</td>\n",
              "      <td>223.0</td>\n",
              "      <td>202.0</td>\n",
              "      <td>127.0</td>\n",
              "      <td>96.086614</td>\n",
              "      <td>6.0</td>\n",
              "    </tr>\n",
              "    <tr>\n",
              "      <th>13</th>\n",
              "      <td>Lauren_Hutton_1</td>\n",
              "      <td>Lauren_Hutton</td>\n",
              "      <td>279.0</td>\n",
              "      <td>213.0</td>\n",
              "      <td>68.0</td>\n",
              "      <td>107.191176</td>\n",
              "      <td>6.0</td>\n",
              "    </tr>\n",
              "    <tr>\n",
              "      <th>14</th>\n",
              "      <td>Lauren_Hutton_2</td>\n",
              "      <td>Lauren_Hutton</td>\n",
              "      <td>320.0</td>\n",
              "      <td>361.0</td>\n",
              "      <td>55.0</td>\n",
              "      <td>193.781818</td>\n",
              "      <td>6.0</td>\n",
              "    </tr>\n",
              "    <tr>\n",
              "      <th>15</th>\n",
              "      <td>Lauren_Hutton_3</td>\n",
              "      <td>Lauren_Hutton</td>\n",
              "      <td>325.0</td>\n",
              "      <td>281.0</td>\n",
              "      <td>240.0</td>\n",
              "      <td>136.158333</td>\n",
              "      <td>6.0</td>\n",
              "    </tr>\n",
              "    <tr>\n",
              "      <th>16</th>\n",
              "      <td>Lauren_Hutton_4</td>\n",
              "      <td>Lauren_Hutton</td>\n",
              "      <td>222.0</td>\n",
              "      <td>208.0</td>\n",
              "      <td>51.0</td>\n",
              "      <td>103.431373</td>\n",
              "      <td>6.0</td>\n",
              "    </tr>\n",
              "    <tr>\n",
              "      <th>17</th>\n",
              "      <td>Lauren_Hutton_5</td>\n",
              "      <td>Lauren_Hutton</td>\n",
              "      <td>165.0</td>\n",
              "      <td>192.0</td>\n",
              "      <td>147.0</td>\n",
              "      <td>56.435374</td>\n",
              "      <td>6.0</td>\n",
              "    </tr>\n",
              "    <tr>\n",
              "      <th>18</th>\n",
              "      <td>Robert_F_Kennedy_Jr_0</td>\n",
              "      <td>Robert_F_Kennedy_Jr</td>\n",
              "      <td>192.0</td>\n",
              "      <td>169.0</td>\n",
              "      <td>240.0</td>\n",
              "      <td>84.812500</td>\n",
              "      <td>6.0</td>\n",
              "    </tr>\n",
              "    <tr>\n",
              "      <th>19</th>\n",
              "      <td>Robert_F_Kennedy_Jr_1</td>\n",
              "      <td>Robert_F_Kennedy_Jr</td>\n",
              "      <td>229.0</td>\n",
              "      <td>232.0</td>\n",
              "      <td>107.0</td>\n",
              "      <td>109.439252</td>\n",
              "      <td>6.0</td>\n",
              "    </tr>\n",
              "  </tbody>\n",
              "</table>\n",
              "</div>\n",
              "      <button class=\"colab-df-convert\" onclick=\"convertToInteractive('df-b0fcab32-53c3-491f-8040-a8f3f432efcd')\"\n",
              "              title=\"Convert this dataframe to an interactive table.\"\n",
              "              style=\"display:none;\">\n",
              "        \n",
              "  <svg xmlns=\"http://www.w3.org/2000/svg\" height=\"24px\"viewBox=\"0 0 24 24\"\n",
              "       width=\"24px\">\n",
              "    <path d=\"M0 0h24v24H0V0z\" fill=\"none\"/>\n",
              "    <path d=\"M18.56 5.44l.94 2.06.94-2.06 2.06-.94-2.06-.94-.94-2.06-.94 2.06-2.06.94zm-11 1L8.5 8.5l.94-2.06 2.06-.94-2.06-.94L8.5 2.5l-.94 2.06-2.06.94zm10 10l.94 2.06.94-2.06 2.06-.94-2.06-.94-.94-2.06-.94 2.06-2.06.94z\"/><path d=\"M17.41 7.96l-1.37-1.37c-.4-.4-.92-.59-1.43-.59-.52 0-1.04.2-1.43.59L10.3 9.45l-7.72 7.72c-.78.78-.78 2.05 0 2.83L4 21.41c.39.39.9.59 1.41.59.51 0 1.02-.2 1.41-.59l7.78-7.78 2.81-2.81c.8-.78.8-2.07 0-2.86zM5.41 20L4 18.59l7.72-7.72 1.47 1.35L5.41 20z\"/>\n",
              "  </svg>\n",
              "      </button>\n",
              "      \n",
              "  <style>\n",
              "    .colab-df-container {\n",
              "      display:flex;\n",
              "      flex-wrap:wrap;\n",
              "      gap: 12px;\n",
              "    }\n",
              "\n",
              "    .colab-df-convert {\n",
              "      background-color: #E8F0FE;\n",
              "      border: none;\n",
              "      border-radius: 50%;\n",
              "      cursor: pointer;\n",
              "      display: none;\n",
              "      fill: #1967D2;\n",
              "      height: 32px;\n",
              "      padding: 0 0 0 0;\n",
              "      width: 32px;\n",
              "    }\n",
              "\n",
              "    .colab-df-convert:hover {\n",
              "      background-color: #E2EBFA;\n",
              "      box-shadow: 0px 1px 2px rgba(60, 64, 67, 0.3), 0px 1px 3px 1px rgba(60, 64, 67, 0.15);\n",
              "      fill: #174EA6;\n",
              "    }\n",
              "\n",
              "    [theme=dark] .colab-df-convert {\n",
              "      background-color: #3B4455;\n",
              "      fill: #D2E3FC;\n",
              "    }\n",
              "\n",
              "    [theme=dark] .colab-df-convert:hover {\n",
              "      background-color: #434B5C;\n",
              "      box-shadow: 0px 1px 3px 1px rgba(0, 0, 0, 0.15);\n",
              "      filter: drop-shadow(0px 1px 2px rgba(0, 0, 0, 0.3));\n",
              "      fill: #FFFFFF;\n",
              "    }\n",
              "  </style>\n",
              "\n",
              "      <script>\n",
              "        const buttonEl =\n",
              "          document.querySelector('#df-b0fcab32-53c3-491f-8040-a8f3f432efcd button.colab-df-convert');\n",
              "        buttonEl.style.display =\n",
              "          google.colab.kernel.accessAllowed ? 'block' : 'none';\n",
              "\n",
              "        async function convertToInteractive(key) {\n",
              "          const element = document.querySelector('#df-b0fcab32-53c3-491f-8040-a8f3f432efcd');\n",
              "          const dataTable =\n",
              "            await google.colab.kernel.invokeFunction('convertToInteractive',\n",
              "                                                     [key], {});\n",
              "          if (!dataTable) return;\n",
              "\n",
              "          const docLinkHtml = 'Like what you see? Visit the ' +\n",
              "            '<a target=\"_blank\" href=https://colab.research.google.com/notebooks/data_table.ipynb>data table notebook</a>'\n",
              "            + ' to learn more about interactive tables.';\n",
              "          element.innerHTML = '';\n",
              "          dataTable['output_type'] = 'display_data';\n",
              "          await google.colab.output.renderOutput(dataTable, element);\n",
              "          const docLink = document.createElement('div');\n",
              "          docLink.innerHTML = docLinkHtml;\n",
              "          element.appendChild(docLink);\n",
              "        }\n",
              "      </script>\n",
              "    </div>\n",
              "  </div>\n",
              "  "
            ]
          },
          "metadata": {},
          "execution_count": 2
        }
      ]
    },
    {
      "cell_type": "code",
      "source": [
        "import torch\n",
        "import torch.nn as nn\n",
        "import torch.optim as optim\n",
        "import torchvision\n",
        "#from torchinfo import summary"
      ],
      "metadata": {
        "id": "sJguPEzWihnZ"
      },
      "execution_count": 3,
      "outputs": []
    },
    {
      "cell_type": "code",
      "source": [
        "import torch_xla.core.xla_model\n",
        "torch_xla.core.xla_model.get_xla_supported_devices()"
      ],
      "metadata": {
        "id": "-Mhg5iJFsSyX",
        "colab": {
          "base_uri": "https://localhost:8080/"
        },
        "outputId": "84c3583d-d90a-4c76-ba9e-effc6e89e5a4"
      },
      "execution_count": 4,
      "outputs": [
        {
          "output_type": "execute_result",
          "data": {
            "text/plain": [
              "['xla:1', 'xla:2', 'xla:3', 'xla:4', 'xla:5', 'xla:6', 'xla:7', 'xla:8']"
            ]
          },
          "metadata": {},
          "execution_count": 4
        }
      ]
    },
    {
      "cell_type": "code",
      "source": [
        "dev_cnt = len(torch_xla.core.xla_model.get_xla_supported_devices())\n",
        "devs = [torch_xla.core.xla_model.xla_device(n=i) for i in range(1, dev_cnt+1)]\n",
        "devs"
      ],
      "metadata": {
        "id": "GEXntmyNsnXh",
        "colab": {
          "base_uri": "https://localhost:8080/"
        },
        "outputId": "8497ad7b-5915-4953-904f-7a63e207b575"
      },
      "execution_count": 5,
      "outputs": [
        {
          "output_type": "execute_result",
          "data": {
            "text/plain": [
              "[device(type='xla', index=1),\n",
              " device(type='xla', index=2),\n",
              " device(type='xla', index=3),\n",
              " device(type='xla', index=4),\n",
              " device(type='xla', index=5),\n",
              " device(type='xla', index=6),\n",
              " device(type='xla', index=7),\n",
              " device(type='xla', index=8)]"
            ]
          },
          "metadata": {},
          "execution_count": 5
        }
      ]
    },
    {
      "cell_type": "code",
      "source": [
        "[torch_xla.core.xla_model.get_memory_info(dev) for dev in devs]"
      ],
      "metadata": {
        "id": "s3M333n6st5Q",
        "colab": {
          "base_uri": "https://localhost:8080/"
        },
        "outputId": "48ae789d-91a6-4171-8bf5-59523311c9b8"
      },
      "execution_count": 6,
      "outputs": [
        {
          "output_type": "execute_result",
          "data": {
            "text/plain": [
              "[{'kb_free': 7845872, 'kb_total': 7845888},\n",
              " {'kb_free': 7845872, 'kb_total': 7845888},\n",
              " {'kb_free': 7845872, 'kb_total': 7845888},\n",
              " {'kb_free': 7845872, 'kb_total': 7845888},\n",
              " {'kb_free': 7845872, 'kb_total': 7845888},\n",
              " {'kb_free': 7845872, 'kb_total': 7845888},\n",
              " {'kb_free': 7845872, 'kb_total': 7845888},\n",
              " {'kb_free': 7845872, 'kb_total': 7845888}]"
            ]
          },
          "metadata": {},
          "execution_count": 6
        }
      ]
    },
    {
      "cell_type": "code",
      "source": [
        "device = devs[0]\n",
        "device"
      ],
      "metadata": {
        "colab": {
          "base_uri": "https://localhost:8080/"
        },
        "id": "dLXqSfVskgi9",
        "outputId": "7603a29e-cd98-4063-c85d-922532d802b2"
      },
      "execution_count": 7,
      "outputs": [
        {
          "output_type": "execute_result",
          "data": {
            "text/plain": [
              "device(type='xla', index=1)"
            ]
          },
          "metadata": {},
          "execution_count": 7
        }
      ]
    },
    {
      "cell_type": "code",
      "source": [
        "import PIL\n",
        "import cv2\n",
        "\n",
        "class NormalizeTransform:\n",
        "  def __init__(self, ratio=0.333):\n",
        "    self.ratio = ratio\n",
        "\n",
        "    self.jawPoints          = [ 0,17]\n",
        "    self.rigthEyebrowPoints = [17,22]\n",
        "    self.leftEyebrowPoints  = [22,27]\n",
        "    self.noseRidgePoints    = [27,31]\n",
        "    self.noseBasePoints     = [31,36]\n",
        "    self.rightEyePoints     = [36,42]\n",
        "    self.leftEyePoints      = [42,48]\n",
        "    self.outerMouthPoints   = [48,60]\n",
        "    self.innerMouthPoints   = [60,68]\n",
        "\n",
        "    self.norm_transform = torchvision.transforms.Compose([\n",
        "      torchvision.transforms.Resize((224, 224)),\n",
        "      torchvision.transforms.functional.autocontrast,\n",
        "      torchvision.transforms.functional.to_grayscale,\n",
        "      torchvision.transforms.ToTensor(),\n",
        "    ])\n",
        "\n",
        "  def __call__(self, data, landmarks):\n",
        "    data = self.face_transform(data, landmarks)\n",
        "    img = PIL.Image.fromarray(data)\n",
        "    data = self.norm_transform(img)\n",
        "    return data\n",
        "\n",
        "  def face_transform(self, data, landmarks):\n",
        "    # see FaceId-Normalization.ipynb\n",
        "    pt1 = self.avg(landmarks[self.leftEyePoints[0]:self.leftEyePoints[1]])\n",
        "    pt2 = self.avg(landmarks[self.outerMouthPoints[0]:self.outerMouthPoints[1]])\n",
        "    pt3 = self.avg(landmarks[self.rightEyePoints[0]:self.rightEyePoints[1]])\n",
        "    src_pts = np.float32([pt1, pt2, pt3])\n",
        "    dst_pts = np.float32([\n",
        "      [data.shape[0]*self.ratio, data.shape[1]*self.ratio],\n",
        "      [data.shape[0]/2, data.shape[1]*(1-self.ratio)],\n",
        "      [data.shape[0]*(1-self.ratio), data.shape[1]*self.ratio]\n",
        "    ])\n",
        "    M = cv2.getAffineTransform(src_pts, dst_pts)\n",
        "    data = cv2.warpAffine(data, M, data.shape[:2])\n",
        "    return data\n",
        "  \n",
        "  def avg(self, pts):\n",
        "    x = sum(x for x,y in pts) / len(pts)\n",
        "    y = sum(y for x,y in pts) / len(pts)\n",
        "    return x, y"
      ],
      "metadata": {
        "id": "NfaI6TWnkpWw"
      },
      "execution_count": 8,
      "outputs": []
    },
    {
      "cell_type": "code",
      "source": [
        "import bisect\n",
        "import random\n",
        "\n",
        "class YouTubeFacesDataset(torch.utils.data.Dataset):\n",
        "  def __init__(self, df, folder='.', transform=NormalizeTransform(), cache_lim=200, preload=False):\n",
        "    self.transform = transform\n",
        "    self.cache = {}\n",
        "    self.cache_lim = 0 if preload else cache_lim\n",
        "    self.data = {}\n",
        "    for p in tqdm(df['personName'].unique(), desc='Loading data'):\n",
        "      self.data[p] = []\n",
        "      for fn, cnt in df[df['personName'] == p][['videoID', 'videoDuration']].values:\n",
        "        fp = f'{folder}/{fn}.npz'\n",
        "        cnt = int(cnt)\n",
        "        self.data[p] += [(fp, i) for i in range(cnt)]\n",
        "        if preload:\n",
        "          self.cache_lim += 1\n",
        "          self._cache_get(fp)\n",
        "    self.persons = list(self.data.keys())\n",
        "    self.neg_data = {}\n",
        "    for p in self.persons:\n",
        "      self.neg_data[p] = []\n",
        "      for p_neg in self.persons:\n",
        "        if p_neg == p:\n",
        "          continue\n",
        "        self.neg_data[p] += self.data[p_neg]\n",
        "    self.pers_item_counter = []\n",
        "    for p in self.persons:\n",
        "      # random positive set\n",
        "      positive_set_len = 1\n",
        "      self.pers_item_counter += [positive_set_len * len(self.neg_data[p])]\n",
        "      if len(self.pers_item_counter) > 1:\n",
        "        self.pers_item_counter[-1] += self.pers_item_counter[-2]\n",
        "  \n",
        "  def __len__(self):\n",
        "    # random positive set\n",
        "    return sum(len(x) for x in self.neg_data.values())\n",
        "  \n",
        "  def __getitem__(self, index):\n",
        "    p_i = bisect.bisect_left(self.pers_item_counter, index + 1)\n",
        "    assert p_i >= 0\n",
        "    assert p_i < len(self.persons)\n",
        "    p = self.persons[p_i]\n",
        "    anchor_i = (self.pers_item_counter[p_i] - index) % len(self.data[p])\n",
        "    assert anchor_i >= 0\n",
        "    assert anchor_i < len(self.data[p])\n",
        "    positive_i = random.randint(0, len(self.data[p]) - 1)\n",
        "    while positive_i == anchor_i:\n",
        "      positive_i = random.randint(0, len(self.data[p]) - 1)\n",
        "    assert positive_i >= 0\n",
        "    assert positive_i < len(self.data[p])\n",
        "    # the order does not matter\n",
        "    negative_i = self.pers_item_counter[p_i] - index - 1\n",
        "    assert negative_i >= 0, (p_i, index, self.persons[p_i], self.pers_item_counter[p_i])\n",
        "    assert negative_i < len(self.neg_data[p])\n",
        "    return self._load(*self.data[p][anchor_i]), self._load(*self.data[p][positive_i]), self._load(*self.neg_data[p][negative_i])\n",
        "  \n",
        "  def _load(self, fp, i):\n",
        "    imgs, lms = self._cache_get(fp)\n",
        "    assert i < imgs.shape[-1], (fp, i, imgs.shape[-1])\n",
        "    data = imgs[:,:,:,i]\n",
        "    assert i < lms.shape[-1], (fp, i, lms.shape[-1])\n",
        "    lms = lms[:,:,i]\n",
        "    if self.transform:\n",
        "      data = self.transform(data, lms)\n",
        "    return data\n",
        "  \n",
        "  def _cache_get(self, fp):\n",
        "    if fp in self.cache:\n",
        "      return self.cache[fp]\n",
        "    if len(self.cache) > self.cache_lim:\n",
        "      idx = random.randint(0, len(self.cache) - 1)\n",
        "      key = list(self.cache.keys())[idx]\n",
        "      del self.cache[key]\n",
        "    d = np.load(fp)\n",
        "    # trigger lazy loading\n",
        "    self.cache[fp] = (d['colorImages'], d['landmarks2D'])\n",
        "    return self.cache[fp]\n",
        "\n",
        "dataset = YouTubeFacesDataset(df, preload=True)\n",
        "len(dataset), len(dataset[42]), len(dataset[0]), len(dataset[len(dataset)-1])"
      ],
      "metadata": {
        "id": "K6M-NqdtlvAN",
        "colab": {
          "base_uri": "https://localhost:8080/"
        },
        "outputId": "8ebe0246-7880-4558-8633-3d9bbbbc5a77"
      },
      "execution_count": 9,
      "outputs": [
        {
          "output_type": "stream",
          "name": "stderr",
          "text": [
            "Loading data: 100%|██████████| 4/4 [00:03<00:00,  1.01it/s]\n"
          ]
        },
        {
          "output_type": "execute_result",
          "data": {
            "text/plain": [
              "(7563, 3, 3, 3)"
            ]
          },
          "metadata": {},
          "execution_count": 9
        }
      ]
    },
    {
      "cell_type": "code",
      "source": [
        "to_pil_transform = torchvision.transforms.ToPILImage()\n",
        "to_pil_transform(dataset[42][1])"
      ],
      "metadata": {
        "colab": {
          "base_uri": "https://localhost:8080/",
          "height": 241
        },
        "id": "xl07IjbM8sh9",
        "outputId": "9977891f-bb9f-4254-c3da-8eebbbe08148"
      },
      "execution_count": 10,
      "outputs": [
        {
          "output_type": "execute_result",
          "data": {
            "text/plain": [
              "<PIL.Image.Image image mode=L size=224x224 at 0x7F3F1C80A550>"
            ],
            "image/png": "[encoded data removed]"
          },
          "metadata": {},
          "execution_count": 10
        }
      ]
    },
    {
      "cell_type": "code",
      "source": [
        "def train_triplet(model, data_loader, num_epochs, lr=0.001):\n",
        "  model.train()\n",
        "  loss = torch.nn.TripletMarginLoss()\n",
        "  loss_history = []\n",
        "  print(f'lr: {lr}')\n",
        "  optimizer = optim.Adam(model.parameters(), lr=lr)\n",
        "  for epoch in range(1, num_epochs+1):\n",
        "    loss_accum = 0\n",
        "    loss_cnt = 0\n",
        "    for xa, xp, xn in tqdm(data_loader, desc=f'train {epoch}/{num_epochs}'):\n",
        "      ya = model(xa.to(device))\n",
        "      yp = model(xp.to(device))\n",
        "      yn = model(xn.to(device))\n",
        "      loss_data = loss(ya, yp, yn)\n",
        "      \n",
        "      optimizer.zero_grad()\n",
        "      loss_data.backward()\n",
        "      optimizer.step()\n",
        "      \n",
        "      loss_accum += float(loss_data)\n",
        "      loss_cnt += 1\n",
        "\n",
        "    loss_value = loss_accum / loss_cnt\n",
        "    loss_history.append(loss_value)\n",
        "    print(f'loss: {loss_value}')\n",
        "\n",
        "    if loss_value > loss_history[-1]:\n",
        "      lr *= 0.1\n",
        "      print(f'lr: {lr}')\n",
        "      optimizer = optim.Adam(model.parameters(), lr=lr)\n",
        "\n",
        "  return loss_history"
      ],
      "metadata": {
        "id": "4az7iXvujIux"
      },
      "execution_count": 11,
      "outputs": []
    },
    {
      "cell_type": "code",
      "source": [
        "import psutil\n",
        "data_loader = torch.utils.data.DataLoader(dataset, batch_size=32, num_workers=psutil.cpu_count())\n",
        "psutil.cpu_count()"
      ],
      "metadata": {
        "colab": {
          "base_uri": "https://localhost:8080/"
        },
        "id": "4ZbEaT2d048T",
        "outputId": "d1e4803c-150b-4d33-8196-9f51f11c8a88"
      },
      "execution_count": 12,
      "outputs": [
        {
          "output_type": "execute_result",
          "data": {
            "text/plain": [
              "2"
            ]
          },
          "metadata": {},
          "execution_count": 12
        }
      ]
    },
    {
      "cell_type": "code",
      "source": [
        "def create_faceid_model():\n",
        "  model = torchvision.models.resnet50(weights='DEFAULT')\n",
        "  model.fc = nn.Linear(model.fc.in_features, 16)\n",
        "  return model\n",
        "\n",
        "def grayscale_fix_model(model):\n",
        "  w = model.conv1.weight.data.sum(axis=1).reshape(64, 1, 7, 7)\n",
        "  model.conv1 = torch.nn.Conv2d(1, 64, kernel_size=(7, 7), stride=(2, 2), padding=(3, 3), bias=False)\n",
        "  model.conv1.weight.data = w\n",
        "  return model\n",
        "\n",
        "def set_trainable(model):\n",
        "  model.requires_grad_(False)\n",
        "  model.fc.requires_grad_(True)\n",
        "\n",
        "def bind_model2device(model):\n",
        "  model.to(device)\n",
        "  #model = torch.nn.DataParallel(model, device_ids=devs)\n",
        "\n",
        "model = create_faceid_model()\n",
        "model = grayscale_fix_model(model)\n",
        "set_trainable(model)\n",
        "bind_model2device(model)\n",
        "#summary(model)\n",
        "model.conv1, model.fc"
      ],
      "metadata": {
        "colab": {
          "base_uri": "https://localhost:8080/"
        },
        "id": "PQ5MsTvD2Ifs",
        "outputId": "17c5a271-bec6-4eb2-c90d-0838178d1a27"
      },
      "execution_count": 21,
      "outputs": [
        {
          "output_type": "execute_result",
          "data": {
            "text/plain": [
              "(Conv2d(1, 64, kernel_size=(7, 7), stride=(2, 2), padding=(3, 3), bias=False),\n",
              " Linear(in_features=2048, out_features=16, bias=True))"
            ]
          },
          "metadata": {},
          "execution_count": 21
        }
      ]
    },
    {
      "cell_type": "code",
      "source": [
        "stop here"
      ],
      "metadata": {
        "colab": {
          "base_uri": "https://localhost:8080/",
          "height": 130
        },
        "id": "LaQZDbZl2ztT",
        "outputId": "f60bc67a-c61b-4637-962f-832365ebe50f"
      },
      "execution_count": 14,
      "outputs": [
        {
          "output_type": "error",
          "ename": "SyntaxError",
          "evalue": "ignored",
          "traceback": [
            "\u001b[0;36m  File \u001b[0;32m\"<ipython-input-14-a96ba3aab008>\"\u001b[0;36m, line \u001b[0;32m1\u001b[0m\n\u001b[0;31m    stop here\u001b[0m\n\u001b[0m            ^\u001b[0m\n\u001b[0;31mSyntaxError\u001b[0m\u001b[0;31m:\u001b[0m invalid syntax\n"
          ]
        }
      ]
    },
    {
      "cell_type": "code",
      "source": [
        "device = devs[1]\n",
        "device"
      ],
      "metadata": {
        "id": "9DxOiKD77v_T"
      },
      "execution_count": null,
      "outputs": []
    },
    {
      "cell_type": "code",
      "source": [
        "loss_history = train_triplet(model, data_loader, 10)\n",
        "plt.plot(loss_history)\n",
        "plt.title('loss');"
      ],
      "metadata": {
        "colab": {
          "base_uri": "https://localhost:8080/",
          "height": 356
        },
        "id": "DYnLNynr1pNS",
        "outputId": "8086447f-4e09-4617-8501-ff25f32d8ee6"
      },
      "execution_count": 22,
      "outputs": [
        {
          "output_type": "stream",
          "name": "stdout",
          "text": [
            "lr: 0.001\n"
          ]
        },
        {
          "output_type": "stream",
          "name": "stderr",
          "text": [
            "train 1/10:   5%|▌         | 13/237 [11:24<3:16:31, 52.64s/it]\n"
          ]
        },
        {
          "output_type": "error",
          "ename": "KeyboardInterrupt",
          "evalue": "ignored",
          "traceback": [
            "\u001b[0;31m---------------------------------------------------------------------------\u001b[0m",
            "\u001b[0;31mKeyboardInterrupt\u001b[0m                         Traceback (most recent call last)",
            "\u001b[0;32m<ipython-input-22-092a21a1172c>\u001b[0m in \u001b[0;36m<module>\u001b[0;34m\u001b[0m\n\u001b[0;32m----> 1\u001b[0;31m \u001b[0mloss_history\u001b[0m \u001b[0;34m=\u001b[0m \u001b[0mtrain_triplet\u001b[0m\u001b[0;34m(\u001b[0m\u001b[0mmodel\u001b[0m\u001b[0;34m,\u001b[0m \u001b[0mdata_loader\u001b[0m\u001b[0;34m,\u001b[0m \u001b[0;36m10\u001b[0m\u001b[0;34m)\u001b[0m\u001b[0;34m\u001b[0m\u001b[0;34m\u001b[0m\u001b[0m\n\u001b[0m\u001b[1;32m      2\u001b[0m \u001b[0mplt\u001b[0m\u001b[0;34m.\u001b[0m\u001b[0mplot\u001b[0m\u001b[0;34m(\u001b[0m\u001b[0mloss_history\u001b[0m\u001b[0;34m)\u001b[0m\u001b[0;34m\u001b[0m\u001b[0;34m\u001b[0m\u001b[0m\n\u001b[1;32m      3\u001b[0m \u001b[0mplt\u001b[0m\u001b[0;34m.\u001b[0m\u001b[0mtitle\u001b[0m\u001b[0;34m(\u001b[0m\u001b[0;34m'loss'\u001b[0m\u001b[0;34m)\u001b[0m\u001b[0;34m;\u001b[0m\u001b[0;34m\u001b[0m\u001b[0;34m\u001b[0m\u001b[0m\n",
            "\u001b[0;32m<ipython-input-11-2d64c95ccd52>\u001b[0m in \u001b[0;36mtrain_triplet\u001b[0;34m(model, data_loader, num_epochs, lr)\u001b[0m\n\u001b[1;32m     18\u001b[0m       \u001b[0moptimizer\u001b[0m\u001b[0;34m.\u001b[0m\u001b[0mstep\u001b[0m\u001b[0;34m(\u001b[0m\u001b[0;34m)\u001b[0m\u001b[0;34m\u001b[0m\u001b[0;34m\u001b[0m\u001b[0m\n\u001b[1;32m     19\u001b[0m \u001b[0;34m\u001b[0m\u001b[0m\n\u001b[0;32m---> 20\u001b[0;31m       \u001b[0mloss_accum\u001b[0m \u001b[0;34m+=\u001b[0m \u001b[0mfloat\u001b[0m\u001b[0;34m(\u001b[0m\u001b[0mloss_data\u001b[0m\u001b[0;34m)\u001b[0m\u001b[0;34m\u001b[0m\u001b[0;34m\u001b[0m\u001b[0m\n\u001b[0m\u001b[1;32m     21\u001b[0m       \u001b[0mloss_cnt\u001b[0m \u001b[0;34m+=\u001b[0m \u001b[0;36m1\u001b[0m\u001b[0;34m\u001b[0m\u001b[0;34m\u001b[0m\u001b[0m\n\u001b[1;32m     22\u001b[0m \u001b[0;34m\u001b[0m\u001b[0m\n",
            "\u001b[0;31mKeyboardInterrupt\u001b[0m: "
          ]
        }
      ]
    },
    {
      "cell_type": "code",
      "source": [
        "[torch_xla.core.xla_model.get_memory_info(dev) for dev in devs]"
      ],
      "metadata": {
        "colab": {
          "base_uri": "https://localhost:8080/"
        },
        "id": "5ZmZBTvu5VBy",
        "outputId": "4a2d0016-6eee-4376-b622-689dacb55f42"
      },
      "execution_count": 23,
      "outputs": [
        {
          "output_type": "execute_result",
          "data": {
            "text/plain": [
              "[{'kb_free': 544048, 'kb_total': 7845888},\n",
              " {'kb_free': 1639856, 'kb_total': 7845888},\n",
              " {'kb_free': 7845872, 'kb_total': 7845888},\n",
              " {'kb_free': 7845872, 'kb_total': 7845888},\n",
              " {'kb_free': 7845872, 'kb_total': 7845888},\n",
              " {'kb_free': 7845872, 'kb_total': 7845888},\n",
              " {'kb_free': 7845872, 'kb_total': 7845888},\n",
              " {'kb_free': 7845872, 'kb_total': 7845888}]"
            ]
          },
          "metadata": {},
          "execution_count": 23
        }
      ]
    },
    {
      "cell_type": "code",
      "source": [
        "plt.hist(model.fc.weight.cpu().detach().reshape(-1), bins=100);"
      ],
      "metadata": {
        "id": "PSoePnKbXp58"
      },
      "execution_count": null,
      "outputs": []
    },
    {
      "cell_type": "code",
      "source": [
        "model(dataset[42][0].reshape(1, 1, 224, 224).to(device))"
      ],
      "metadata": {
        "id": "DmNlocWSW2Fa"
      },
      "execution_count": null,
      "outputs": []
    },
    {
      "cell_type": "code",
      "source": [
        "def cos_similarity(v1, v2):\n",
        "  val = np.inner(v1,v2)/(np.linalg.norm(v1)*np.linalg.norm(v2))\n",
        "  return val.reshape(-1)[0]\n",
        "\n",
        "def euc_similarity(v1, v2):\n",
        "  return np.linalg.norm(v1-v2)"
      ],
      "metadata": {
        "id": "GaluetAiclVn"
      },
      "execution_count": null,
      "outputs": []
    },
    {
      "cell_type": "code",
      "source": [
        "for i in range(10):\n",
        "  v1 = model(dataset[42][0].reshape(1, 1, 224, 224).to(device)).cpu().detach().numpy()\n",
        "  v2 = model(dataset[42][1].reshape(1, 1, 224, 224).to(device)).cpu().detach().numpy()\n",
        "  v3 = model(dataset[42][2].reshape(1, 1, 224, 224).to(device)).cpu().detach().numpy()\n",
        "  print(euc_similarity(v1, v2), euc_similarity(v1, v3), cos_similarity(v1, v2), cos_similarity(v1, v3))"
      ],
      "metadata": {
        "id": "fFtYrsKntNsX"
      },
      "execution_count": null,
      "outputs": []
    },
    {
      "cell_type": "code",
      "source": [
        "model.requires_grad_(True)\n",
        "loss_history = train_triplet(model, data_loader, 5, lr=0.00001)\n",
        "plt.plot(loss_history)\n",
        "plt.title('loss');"
      ],
      "metadata": {
        "colab": {
          "base_uri": "https://localhost:8080/",
          "height": 373
        },
        "id": "FwJflhX1aeym",
        "outputId": "a11cdbe4-8d6c-451d-a9ca-83388022100a"
      },
      "execution_count": 15,
      "outputs": [
        {
          "output_type": "stream",
          "name": "stdout",
          "text": [
            "lr: 1e-05\n"
          ]
        },
        {
          "output_type": "stream",
          "name": "stderr",
          "text": [
            "train 1/5:   2%|▏         | 5/237 [06:24<4:56:59, 76.81s/it]\n"
          ]
        },
        {
          "output_type": "error",
          "ename": "KeyboardInterrupt",
          "evalue": "ignored",
          "traceback": [
            "\u001b[0;31m---------------------------------------------------------------------------\u001b[0m",
            "\u001b[0;31mKeyboardInterrupt\u001b[0m                         Traceback (most recent call last)",
            "\u001b[0;32m<ipython-input-15-731c2aa50ee0>\u001b[0m in \u001b[0;36m<module>\u001b[0;34m\u001b[0m\n\u001b[1;32m      1\u001b[0m \u001b[0mmodel\u001b[0m\u001b[0;34m.\u001b[0m\u001b[0mrequires_grad_\u001b[0m\u001b[0;34m(\u001b[0m\u001b[0;32mTrue\u001b[0m\u001b[0;34m)\u001b[0m\u001b[0;34m\u001b[0m\u001b[0;34m\u001b[0m\u001b[0m\n\u001b[0;32m----> 2\u001b[0;31m \u001b[0mloss_history\u001b[0m \u001b[0;34m=\u001b[0m \u001b[0mtrain_triplet\u001b[0m\u001b[0;34m(\u001b[0m\u001b[0mmodel\u001b[0m\u001b[0;34m,\u001b[0m \u001b[0mdata_loader\u001b[0m\u001b[0;34m,\u001b[0m \u001b[0;36m5\u001b[0m\u001b[0;34m,\u001b[0m \u001b[0mlr\u001b[0m\u001b[0;34m=\u001b[0m\u001b[0;36m0.00001\u001b[0m\u001b[0;34m)\u001b[0m\u001b[0;34m\u001b[0m\u001b[0;34m\u001b[0m\u001b[0m\n\u001b[0m\u001b[1;32m      3\u001b[0m \u001b[0mplt\u001b[0m\u001b[0;34m.\u001b[0m\u001b[0mplot\u001b[0m\u001b[0;34m(\u001b[0m\u001b[0mloss_history\u001b[0m\u001b[0;34m)\u001b[0m\u001b[0;34m\u001b[0m\u001b[0;34m\u001b[0m\u001b[0m\n\u001b[1;32m      4\u001b[0m \u001b[0mplt\u001b[0m\u001b[0;34m.\u001b[0m\u001b[0mtitle\u001b[0m\u001b[0;34m(\u001b[0m\u001b[0;34m'loss'\u001b[0m\u001b[0;34m)\u001b[0m\u001b[0;34m;\u001b[0m\u001b[0;34m\u001b[0m\u001b[0;34m\u001b[0m\u001b[0m\n",
            "\u001b[0;32m<ipython-input-11-2d64c95ccd52>\u001b[0m in \u001b[0;36mtrain_triplet\u001b[0;34m(model, data_loader, num_epochs, lr)\u001b[0m\n\u001b[1;32m     18\u001b[0m       \u001b[0moptimizer\u001b[0m\u001b[0;34m.\u001b[0m\u001b[0mstep\u001b[0m\u001b[0;34m(\u001b[0m\u001b[0;34m)\u001b[0m\u001b[0;34m\u001b[0m\u001b[0;34m\u001b[0m\u001b[0m\n\u001b[1;32m     19\u001b[0m \u001b[0;34m\u001b[0m\u001b[0m\n\u001b[0;32m---> 20\u001b[0;31m       \u001b[0mloss_accum\u001b[0m \u001b[0;34m+=\u001b[0m \u001b[0mfloat\u001b[0m\u001b[0;34m(\u001b[0m\u001b[0mloss_data\u001b[0m\u001b[0;34m)\u001b[0m\u001b[0;34m\u001b[0m\u001b[0;34m\u001b[0m\u001b[0m\n\u001b[0m\u001b[1;32m     21\u001b[0m       \u001b[0mloss_cnt\u001b[0m \u001b[0;34m+=\u001b[0m \u001b[0;36m1\u001b[0m\u001b[0;34m\u001b[0m\u001b[0;34m\u001b[0m\u001b[0m\n\u001b[1;32m     22\u001b[0m \u001b[0;34m\u001b[0m\u001b[0m\n",
            "\u001b[0;31mKeyboardInterrupt\u001b[0m: "
          ]
        }
      ]
    },
    {
      "cell_type": "code",
      "source": [
        "[torch_xla.core.xla_model.get_memory_info(dev) for dev in devs]"
      ],
      "metadata": {
        "colab": {
          "base_uri": "https://localhost:8080/"
        },
        "id": "n5iBsxDW5SfL",
        "outputId": "2675495a-8a39-4661-ea59-0972211967b1"
      },
      "execution_count": 16,
      "outputs": [
        {
          "output_type": "execute_result",
          "data": {
            "text/plain": [
              "[{'kb_free': 639616, 'kb_total': 7845888},\n",
              " {'kb_free': 7845872, 'kb_total': 7845888},\n",
              " {'kb_free': 7845872, 'kb_total': 7845888},\n",
              " {'kb_free': 7845872, 'kb_total': 7845888},\n",
              " {'kb_free': 7845872, 'kb_total': 7845888},\n",
              " {'kb_free': 7845872, 'kb_total': 7845888},\n",
              " {'kb_free': 7845872, 'kb_total': 7845888},\n",
              " {'kb_free': 7845872, 'kb_total': 7845888}]"
            ]
          },
          "metadata": {},
          "execution_count": 16
        }
      ]
    },
    {
      "cell_type": "code",
      "source": [
        "plt.hist(model.fc.weight.cpu().detach().reshape(-1), bins=100);"
      ],
      "metadata": {
        "id": "awzalcn6bpTe"
      },
      "execution_count": null,
      "outputs": []
    },
    {
      "cell_type": "code",
      "source": [
        "for i in range(10):\n",
        "  v1 = model(dataset[42][0].reshape(1, 1, 224, 224).to(device)).cpu().detach().numpy()\n",
        "  v2 = model(dataset[42][1].reshape(1, 1, 224, 224).to(device)).cpu().detach().numpy()\n",
        "  v3 = model(dataset[42][2].reshape(1, 1, 224, 224).to(device)).cpu().detach().numpy()\n",
        "  print(euc_similarity(v1, v2), euc_similarity(v1, v3), cos_similarity(v1, v2), cos_similarity(v1, v3))"
      ],
      "metadata": {
        "id": "e90luCJ3kZ9Q"
      },
      "execution_count": null,
      "outputs": []
    },
    {
      "cell_type": "code",
      "source": [
        "torch.save(model, f'faceid-model-{loss_history[-1]}.pt')\n",
        "!ls -l faceid-model-*.pt"
      ],
      "metadata": {
        "id": "37ox4WYL7-Tb"
      },
      "execution_count": null,
      "outputs": []
    }
  ]
}