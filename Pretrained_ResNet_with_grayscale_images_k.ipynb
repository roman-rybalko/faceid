{
 "cells": [
  {
   "cell_type": "markdown",
   "id": "14697346",
   "metadata": {
    "papermill": {
     "duration": 0.006227,
     "end_time": "2022-09-19T21:47:36.012617",
     "exception": false,
     "start_time": "2022-09-19T21:47:36.006390",
     "status": "completed"
    },
    "tags": []
   },
   "source": [
    "# How can I use a pre-trained neural network with grayscale images?\n",
    "This work is aimed to validate this answer at StackOverflow: https://stackoverflow.com/questions/51995977/how-can-i-use-a-pre-trained-neural-network-with-grayscale-images#answer-54777347\n",
    "\n",
    "The idea is to fix the first convolution layer by summing up the weights over the color channels."
   ]
  },
  {
   "cell_type": "code",
   "execution_count": 1,
   "id": "746297c6",
   "metadata": {
    "_cell_guid": "b1076dfc-b9ad-4769-8c92-a6c4dae69d19",
    "_uuid": "8f2839f25d086af736a60e9eeb907d3b93b6e0e5",
    "execution": {
     "iopub.execute_input": "2022-09-19T21:47:36.025567Z",
     "iopub.status.busy": "2022-09-19T21:47:36.024818Z",
     "iopub.status.idle": "2022-09-19T21:47:42.254381Z",
     "shell.execute_reply": "2022-09-19T21:47:42.253138Z"
    },
    "papermill": {
     "duration": 6.238468,
     "end_time": "2022-09-19T21:47:42.256661",
     "exception": false,
     "start_time": "2022-09-19T21:47:36.018193",
     "status": "completed"
    },
    "tags": []
   },
   "outputs": [
    {
     "name": "stdout",
     "output_type": "stream",
     "text": [
      "/kaggle/input/imagenetmini-1000/imagenet-mini/val/n01531178/ILSVRC2012_val_00029581.JPEG\n",
      "/kaggle/input/imagenetmini-1000/imagenet-mini/val/n01531178/ILSVRC2012_val_00048710.JPEG\n",
      "/kaggle/input/imagenetmini-1000/imagenet-mini/val/n01531178/ILSVRC2012_val_00001274.JPEG\n",
      "/kaggle/input/imagenetmini-1000/imagenet-mini/val/n01531178/ILSVRC2012_val_00025151.JPEG\n",
      "/kaggle/input/imagenetmini-1000/imagenet-mini/val/n02412080/ILSVRC2012_val_00017145.JPEG\n",
      "/kaggle/input/imagenetmini-1000/imagenet-mini/val/n02412080/ILSVRC2012_val_00019446.JPEG\n",
      "/kaggle/input/imagenetmini-1000/imagenet-mini/val/n02098413/ILSVRC2012_val_00049190.JPEG\n",
      "/kaggle/input/imagenetmini-1000/imagenet-mini/val/n02098413/ILSVRC2012_val_00007497.JPEG\n",
      "/kaggle/input/imagenetmini-1000/imagenet-mini/val/n02098413/ILSVRC2012_val_00033278.JPEG\n",
      "38676\n"
     ]
    }
   ],
   "source": [
    "# This Python 3 environment comes with many helpful analytics libraries installed\n",
    "# It is defined by the kaggle/python Docker image: https://github.com/kaggle/docker-python\n",
    "# For example, here's several helpful packages to load\n",
    "\n",
    "import numpy as np # linear algebra\n",
    "import pandas as pd # data processing, CSV file I/O (e.g. pd.read_csv)\n",
    "from tqdm import tqdm # progress bar\n",
    "import matplotlib.pyplot as plt # drawing\n",
    "\n",
    "# Input data files are available in the read-only \"../input/\" directory\n",
    "# For example, running this (by clicking run or pressing Shift+Enter) will list all files under the input directory\n",
    "\n",
    "import os\n",
    "fcnt = 0\n",
    "for dirname, _, filenames in os.walk('/kaggle/input'):\n",
    "    for filename in filenames:\n",
    "        fcnt += 1\n",
    "        if fcnt < 10:\n",
    "            print(os.path.join(dirname, filename))\n",
    "print(fcnt)\n",
    "\n",
    "# You can write up to 20GB to the current directory (/kaggle/working/) that gets preserved as output when you create a version using \"Save & Run All\" \n",
    "# You can also write temporary files to /kaggle/temp/, but they won't be saved outside of the current session"
   ]
  },
  {
   "cell_type": "code",
   "execution_count": 2,
   "id": "7ca189e7",
   "metadata": {
    "execution": {
     "iopub.execute_input": "2022-09-19T21:47:42.269767Z",
     "iopub.status.busy": "2022-09-19T21:47:42.268809Z",
     "iopub.status.idle": "2022-09-19T21:47:42.273915Z",
     "shell.execute_reply": "2022-09-19T21:47:42.273053Z"
    },
    "papermill": {
     "duration": 0.013516,
     "end_time": "2022-09-19T21:47:42.275848",
     "exception": false,
     "start_time": "2022-09-19T21:47:42.262332",
     "status": "completed"
    },
    "tags": []
   },
   "outputs": [],
   "source": [
    "data_dir = '/kaggle/input/imagenetmini-1000/imagenet-mini/train'"
   ]
  },
  {
   "cell_type": "code",
   "execution_count": 3,
   "id": "098a1e7d",
   "metadata": {
    "execution": {
     "iopub.execute_input": "2022-09-19T21:47:42.288179Z",
     "iopub.status.busy": "2022-09-19T21:47:42.287377Z",
     "iopub.status.idle": "2022-09-19T21:47:44.373353Z",
     "shell.execute_reply": "2022-09-19T21:47:44.372399Z"
    },
    "papermill": {
     "duration": 2.095091,
     "end_time": "2022-09-19T21:47:44.376210",
     "exception": false,
     "start_time": "2022-09-19T21:47:42.281119",
     "status": "completed"
    },
    "tags": []
   },
   "outputs": [
    {
     "data": {
      "text/plain": [
       "(device(type='cuda', index=0),\n",
       " _CudaDeviceProperties(name='Tesla P100-PCIE-16GB', major=6, minor=0, total_memory=16280MB, multi_processor_count=56))"
      ]
     },
     "execution_count": 3,
     "metadata": {},
     "output_type": "execute_result"
    }
   ],
   "source": [
    "import torch\n",
    "import torchvision\n",
    "\n",
    "device = torch.device(\"cuda:0\" if torch.cuda.is_available() else \"cpu\")\n",
    "device, torch.cuda.get_device_properties(device) if torch.cuda.is_available() else 'CPU'"
   ]
  },
  {
   "cell_type": "code",
   "execution_count": 4,
   "id": "a85e9053",
   "metadata": {
    "execution": {
     "iopub.execute_input": "2022-09-19T21:47:44.394916Z",
     "iopub.status.busy": "2022-09-19T21:47:44.394302Z",
     "iopub.status.idle": "2022-09-19T21:47:44.811813Z",
     "shell.execute_reply": "2022-09-19T21:47:44.810921Z"
    },
    "papermill": {
     "duration": 0.428644,
     "end_time": "2022-09-19T21:47:44.813905",
     "exception": false,
     "start_time": "2022-09-19T21:47:44.385261",
     "status": "completed"
    },
    "tags": []
   },
   "outputs": [
    {
     "name": "stderr",
     "output_type": "stream",
     "text": [
      "data: 100%|██████████| 1000/1000 [00:00<00:00, 2604.21it/s]\n"
     ]
    },
    {
     "data": {
      "text/plain": [
       "(34745, 1000)"
      ]
     },
     "execution_count": 4,
     "metadata": {},
     "output_type": "execute_result"
    }
   ],
   "source": [
    "import PIL\n",
    "\n",
    "class ImageNetDataset(torch.utils.data.Dataset):\n",
    "    def __init__(self, data_dir, transform=None):\n",
    "        self.transform = transform\n",
    "        self.data = []\n",
    "        for cl in tqdm(os.listdir(data_dir), desc='data'):\n",
    "            for f in os.listdir(f'{data_dir}/{cl}'):\n",
    "                self.data += [(f'{data_dir}/{cl}/{f}', cl)]\n",
    "        \n",
    "    def __len__(self):\n",
    "        return len(self.data)\n",
    "    \n",
    "    def __getitem__(self, index):\n",
    "        assert index >= 0\n",
    "        assert index < len(self.data)\n",
    "        f, cl = self.data[index]\n",
    "        img = PIL.Image.open(f).convert('RGB')\n",
    "        if self.transform:\n",
    "            img = self.transform(img)\n",
    "        return img, cl, f\n",
    "    \n",
    "    def classes(self):\n",
    "        return list(set(cl for f, cl in self.data))\n",
    "    \n",
    "    def get_class(self, index):\n",
    "        assert index >= 0\n",
    "        assert index < len(self.data)\n",
    "        f, cl = self.data[index]\n",
    "        return cl\n",
    "\n",
    "dataset = ImageNetDataset(data_dir)\n",
    "len(dataset), len(dataset.classes())"
   ]
  },
  {
   "cell_type": "code",
   "execution_count": 5,
   "id": "2e3584c3",
   "metadata": {
    "execution": {
     "iopub.execute_input": "2022-09-19T21:47:44.827660Z",
     "iopub.status.busy": "2022-09-19T21:47:44.826767Z",
     "iopub.status.idle": "2022-09-19T21:47:44.833315Z",
     "shell.execute_reply": "2022-09-19T21:47:44.832348Z"
    },
    "papermill": {
     "duration": 0.015386,
     "end_time": "2022-09-19T21:47:44.835413",
     "exception": false,
     "start_time": "2022-09-19T21:47:44.820027",
     "status": "completed"
    },
    "tags": []
   },
   "outputs": [],
   "source": [
    "def predict(model, loader, out_cnt=1000):\n",
    "    model.to(device)\n",
    "    model.eval()\n",
    "    predictions = []\n",
    "    weights = []\n",
    "    for x, _, _ in tqdm(loader, desc='eval'):\n",
    "        ws = model(x.to(device))\n",
    "        weights += [ws.cpu().detach().reshape(-1, out_cnt)]\n",
    "        predictions += [torch.argmax(ws, dim=1).cpu().detach().reshape(-1, 1)]\n",
    "    return np.vstack(predictions), np.vstack(weights)"
   ]
  },
  {
   "cell_type": "code",
   "execution_count": 6,
   "id": "21578186",
   "metadata": {
    "execution": {
     "iopub.execute_input": "2022-09-19T21:47:44.848605Z",
     "iopub.status.busy": "2022-09-19T21:47:44.848345Z",
     "iopub.status.idle": "2022-09-19T21:47:45.576966Z",
     "shell.execute_reply": "2022-09-19T21:47:45.576001Z"
    },
    "papermill": {
     "duration": 0.737838,
     "end_time": "2022-09-19T21:47:45.579541",
     "exception": false,
     "start_time": "2022-09-19T21:47:44.841703",
     "status": "completed"
    },
    "tags": []
   },
   "outputs": [],
   "source": [
    "import sklearn.metrics\n",
    "from collections import Counter, defaultdict\n",
    "\n",
    "def metrics(classes, dataset):\n",
    "    assert len(classes) == len(dataset)\n",
    "    classes = classes.reshape(-1)\n",
    "    gt_classes = np.copy(classes)\n",
    "    cl_id = defaultdict(list)\n",
    "    for i in range(len(dataset)):\n",
    "        # find sample_ids for each class\n",
    "        cl = dataset.get_class(i)\n",
    "        cl_id[cl] += [i]\n",
    "    for cl in cl_id:\n",
    "        # guess the class - pick the most common class_id\n",
    "        cmn_cl = Counter(classes[cl_id[cl]]).most_common(1)[0][0]\n",
    "        gt_classes[cl_id[cl]] = cmn_cl\n",
    "    return sklearn.metrics.precision_score(gt_classes, classes, average='micro')"
   ]
  },
  {
   "cell_type": "code",
   "execution_count": 7,
   "id": "a0bdc6a9",
   "metadata": {
    "execution": {
     "iopub.execute_input": "2022-09-19T21:47:45.593768Z",
     "iopub.status.busy": "2022-09-19T21:47:45.592948Z",
     "iopub.status.idle": "2022-09-19T21:47:45.600820Z",
     "shell.execute_reply": "2022-09-19T21:47:45.599638Z"
    },
    "papermill": {
     "duration": 0.017616,
     "end_time": "2022-09-19T21:47:45.603546",
     "exception": false,
     "start_time": "2022-09-19T21:47:45.585930",
     "status": "completed"
    },
    "tags": []
   },
   "outputs": [
    {
     "data": {
      "text/plain": [
       "2"
      ]
     },
     "execution_count": 7,
     "metadata": {},
     "output_type": "execute_result"
    }
   ],
   "source": [
    "import psutil\n",
    "\n",
    "def validate(model, dataset):\n",
    "    data_loader = torch.utils.data.DataLoader(dataset, batch_size=16, num_workers=psutil.cpu_count())\n",
    "    cl, w = predict(model, data_loader)\n",
    "    return metrics(cl, dataset)\n",
    "\n",
    "psutil.cpu_count()"
   ]
  },
  {
   "cell_type": "code",
   "execution_count": 8,
   "id": "0ac7397b",
   "metadata": {
    "execution": {
     "iopub.execute_input": "2022-09-19T21:47:45.617694Z",
     "iopub.status.busy": "2022-09-19T21:47:45.617414Z",
     "iopub.status.idle": "2022-09-19T21:48:00.970757Z",
     "shell.execute_reply": "2022-09-19T21:48:00.967480Z"
    },
    "papermill": {
     "duration": 15.364208,
     "end_time": "2022-09-19T21:48:00.974748",
     "exception": false,
     "start_time": "2022-09-19T21:47:45.610540",
     "status": "completed"
    },
    "tags": []
   },
   "outputs": [
    {
     "name": "stdout",
     "output_type": "stream",
     "text": [
      "mkdir: created directory '/root/.cache/torch'\r\n",
      "mkdir: created directory '/root/.cache/torch/hub'\r\n",
      "mkdir: created directory '/root/.cache/torch/hub/checkpoints/'\r\n",
      "'/kaggle/input/torchvision-resnet-pretrained/resnet101-63fe2227.pth' -> '/root/.cache/torch/hub/checkpoints/resnet101-63fe2227.pth'\r\n",
      "'/kaggle/input/torchvision-resnet-pretrained/resnet101-cd907fc2.pth' -> '/root/.cache/torch/hub/checkpoints/resnet101-cd907fc2.pth'\r\n",
      "'/kaggle/input/torchvision-resnet-pretrained/resnet152-394f9c45.pth' -> '/root/.cache/torch/hub/checkpoints/resnet152-394f9c45.pth'\r\n",
      "'/kaggle/input/torchvision-resnet-pretrained/resnet152-f82ba261.pth' -> '/root/.cache/torch/hub/checkpoints/resnet152-f82ba261.pth'\r\n",
      "'/kaggle/input/torchvision-resnet-pretrained/resnet18-f37072fd.pth' -> '/root/.cache/torch/hub/checkpoints/resnet18-f37072fd.pth'\r\n",
      "'/kaggle/input/torchvision-resnet-pretrained/resnet34-b627a593.pth' -> '/root/.cache/torch/hub/checkpoints/resnet34-b627a593.pth'\r\n",
      "'/kaggle/input/torchvision-resnet-pretrained/resnet50-0676ba61.pth' -> '/root/.cache/torch/hub/checkpoints/resnet50-0676ba61.pth'\r\n",
      "'/kaggle/input/torchvision-resnet-pretrained/resnet50-11ad3fa6.pth' -> '/root/.cache/torch/hub/checkpoints/resnet50-11ad3fa6.pth'\r\n",
      "renamed '/root/.cache/torch/hub/checkpoints/resnet50-11ad3fa6.pth' -> '/root/.cache/torch/hub/checkpoints/resnet50-0676ba61.pth'\r\n",
      "renamed '/root/.cache/torch/hub/checkpoints/resnet101-cd907fc2.pth' -> '/root/.cache/torch/hub/checkpoints/resnet101-63fe2227.pth'\r\n",
      "renamed '/root/.cache/torch/hub/checkpoints/resnet152-f82ba261.pth' -> '/root/.cache/torch/hub/checkpoints/resnet152-394f9c45.pth'\r\n"
     ]
    }
   ],
   "source": [
    "# Updating to the recent pretrained data\n",
    "!mkdir -pv ~/.cache/torch/hub/checkpoints/\n",
    "!cp -av /kaggle/input/torchvision-resnet-pretrained/resnet*.pth ~/.cache/torch/hub/checkpoints/\n",
    "!mv -vf ~/.cache/torch/hub/checkpoints/resnet50-11ad3fa6.pth ~/.cache/torch/hub/checkpoints/resnet50-0676ba61.pth\n",
    "!mv -vf ~/.cache/torch/hub/checkpoints/resnet101-cd907fc2.pth ~/.cache/torch/hub/checkpoints/resnet101-63fe2227.pth\n",
    "!mv -vf ~/.cache/torch/hub/checkpoints/resnet152-f82ba261.pth ~/.cache/torch/hub/checkpoints/resnet152-394f9c45.pth"
   ]
  },
  {
   "cell_type": "code",
   "execution_count": 9,
   "id": "dfb62f9d",
   "metadata": {
    "execution": {
     "iopub.execute_input": "2022-09-19T21:48:01.004619Z",
     "iopub.status.busy": "2022-09-19T21:48:01.004193Z",
     "iopub.status.idle": "2022-09-19T21:48:01.012020Z",
     "shell.execute_reply": "2022-09-19T21:48:01.010835Z"
    },
    "papermill": {
     "duration": 0.023363,
     "end_time": "2022-09-19T21:48:01.015905",
     "exception": false,
     "start_time": "2022-09-19T21:48:00.992542",
     "status": "completed"
    },
    "tags": []
   },
   "outputs": [],
   "source": [
    "rn_transform = torchvision.transforms.Compose([\n",
    "    torchvision.transforms.Resize((224, 224)),\n",
    "    torchvision.transforms.ToTensor(),\n",
    "    torchvision.transforms.Normalize(mean=[0.485, 0.456, 0.406], std=[0.229, 0.224, 0.225])\n",
    "])\n",
    "\n",
    "def resnet_transform(img):\n",
    "    img = rn_transform(img)\n",
    "    return img"
   ]
  },
  {
   "cell_type": "code",
   "execution_count": 10,
   "id": "b612edc7",
   "metadata": {
    "execution": {
     "iopub.execute_input": "2022-09-19T21:48:01.038245Z",
     "iopub.status.busy": "2022-09-19T21:48:01.037910Z",
     "iopub.status.idle": "2022-09-19T21:53:00.486292Z",
     "shell.execute_reply": "2022-09-19T21:53:00.485205Z"
    },
    "papermill": {
     "duration": 299.462437,
     "end_time": "2022-09-19T21:53:00.489153",
     "exception": false,
     "start_time": "2022-09-19T21:48:01.026716",
     "status": "completed"
    },
    "tags": []
   },
   "outputs": [
    {
     "name": "stderr",
     "output_type": "stream",
     "text": [
      "data: 100%|██████████| 1000/1000 [00:00<00:00, 1443.73it/s]\n",
      "eval: 100%|██████████| 2172/2172 [04:55<00:00,  7.36it/s]\n"
     ]
    },
    {
     "data": {
      "text/plain": [
       "0.7440207224061016"
      ]
     },
     "execution_count": 10,
     "metadata": {},
     "output_type": "execute_result"
    }
   ],
   "source": [
    "validate(\n",
    "    torchvision.models.resnet18(pretrained=True),\n",
    "    ImageNetDataset(data_dir, resnet_transform)\n",
    ")"
   ]
  },
  {
   "cell_type": "code",
   "execution_count": 11,
   "id": "eb113d13",
   "metadata": {
    "execution": {
     "iopub.execute_input": "2022-09-19T21:53:00.713938Z",
     "iopub.status.busy": "2022-09-19T21:53:00.713476Z",
     "iopub.status.idle": "2022-09-19T21:57:18.438310Z",
     "shell.execute_reply": "2022-09-19T21:57:18.437137Z"
    },
    "papermill": {
     "duration": 257.840285,
     "end_time": "2022-09-19T21:57:18.440438",
     "exception": false,
     "start_time": "2022-09-19T21:53:00.600153",
     "status": "completed"
    },
    "tags": []
   },
   "outputs": [
    {
     "name": "stderr",
     "output_type": "stream",
     "text": [
      "data: 100%|██████████| 1000/1000 [00:00<00:00, 1634.02it/s]\n",
      "eval: 100%|██████████| 2172/2172 [04:16<00:00,  8.47it/s]\n"
     ]
    },
    {
     "data": {
      "text/plain": [
       "0.8000863433587566"
      ]
     },
     "execution_count": 11,
     "metadata": {},
     "output_type": "execute_result"
    }
   ],
   "source": [
    "validate(\n",
    "    torchvision.models.resnet34(pretrained=True),\n",
    "    ImageNetDataset(data_dir, resnet_transform)\n",
    ")"
   ]
  },
  {
   "cell_type": "code",
   "execution_count": 12,
   "id": "1fc2c8eb",
   "metadata": {
    "execution": {
     "iopub.execute_input": "2022-09-19T21:57:18.689403Z",
     "iopub.status.busy": "2022-09-19T21:57:18.687417Z",
     "iopub.status.idle": "2022-09-19T22:01:43.832321Z",
     "shell.execute_reply": "2022-09-19T22:01:43.831149Z"
    },
    "papermill": {
     "duration": 265.269756,
     "end_time": "2022-09-19T22:01:43.834842",
     "exception": false,
     "start_time": "2022-09-19T21:57:18.565086",
     "status": "completed"
    },
    "tags": []
   },
   "outputs": [
    {
     "name": "stderr",
     "output_type": "stream",
     "text": [
      "data: 100%|██████████| 1000/1000 [00:00<00:00, 2609.42it/s]\n",
      "eval: 100%|██████████| 2172/2172 [04:23<00:00,  8.23it/s]\n"
     ]
    },
    {
     "data": {
      "text/plain": [
       "0.9063174557490287"
      ]
     },
     "execution_count": 12,
     "metadata": {},
     "output_type": "execute_result"
    }
   ],
   "source": [
    "validate(\n",
    "    torchvision.models.resnet50(pretrained=True),\n",
    "    ImageNetDataset(data_dir, resnet_transform)\n",
    ")"
   ]
  },
  {
   "cell_type": "code",
   "execution_count": 13,
   "id": "e656fd2f",
   "metadata": {
    "execution": {
     "iopub.execute_input": "2022-09-19T22:01:44.243192Z",
     "iopub.status.busy": "2022-09-19T22:01:44.242775Z",
     "iopub.status.idle": "2022-09-19T22:06:26.200211Z",
     "shell.execute_reply": "2022-09-19T22:06:26.199148Z"
    },
    "papermill": {
     "duration": 282.142496,
     "end_time": "2022-09-19T22:06:26.202364",
     "exception": false,
     "start_time": "2022-09-19T22:01:44.059868",
     "status": "completed"
    },
    "tags": []
   },
   "outputs": [
    {
     "name": "stderr",
     "output_type": "stream",
     "text": [
      "data: 100%|██████████| 1000/1000 [00:00<00:00, 2548.57it/s]\n",
      "eval: 100%|██████████| 2172/2172 [04:40<00:00,  7.75it/s]\n"
     ]
    },
    {
     "data": {
      "text/plain": [
       "0.9227802561519644"
      ]
     },
     "execution_count": 13,
     "metadata": {},
     "output_type": "execute_result"
    }
   ],
   "source": [
    "validate(\n",
    "    torchvision.models.resnet101(pretrained=True),\n",
    "    ImageNetDataset(data_dir, resnet_transform)\n",
    ")"
   ]
  },
  {
   "cell_type": "code",
   "execution_count": 14,
   "id": "27a45fe1",
   "metadata": {
    "execution": {
     "iopub.execute_input": "2022-09-19T22:06:26.735627Z",
     "iopub.status.busy": "2022-09-19T22:06:26.735245Z",
     "iopub.status.idle": "2022-09-19T22:11:24.375664Z",
     "shell.execute_reply": "2022-09-19T22:11:24.374450Z"
    },
    "papermill": {
     "duration": 297.928208,
     "end_time": "2022-09-19T22:11:24.377959",
     "exception": false,
     "start_time": "2022-09-19T22:06:26.449751",
     "status": "completed"
    },
    "tags": []
   },
   "outputs": [
    {
     "name": "stderr",
     "output_type": "stream",
     "text": [
      "data: 100%|██████████| 1000/1000 [00:00<00:00, 2222.36it/s]\n",
      "eval: 100%|██████████| 2172/2172 [04:55<00:00,  7.35it/s]\n"
     ]
    },
    {
     "data": {
      "text/plain": [
       "0.9347244207799683"
      ]
     },
     "execution_count": 14,
     "metadata": {},
     "output_type": "execute_result"
    }
   ],
   "source": [
    "validate(\n",
    "    torchvision.models.resnet152(pretrained=True),\n",
    "    ImageNetDataset(data_dir, resnet_transform)\n",
    ")"
   ]
  },
  {
   "cell_type": "code",
   "execution_count": 15,
   "id": "69299787",
   "metadata": {
    "execution": {
     "iopub.execute_input": "2022-09-19T22:11:24.992833Z",
     "iopub.status.busy": "2022-09-19T22:11:24.992436Z",
     "iopub.status.idle": "2022-09-19T22:11:24.999996Z",
     "shell.execute_reply": "2022-09-19T22:11:24.999052Z"
    },
    "papermill": {
     "duration": 0.314122,
     "end_time": "2022-09-19T22:11:25.001954",
     "exception": false,
     "start_time": "2022-09-19T22:11:24.687832",
     "status": "completed"
    },
    "tags": []
   },
   "outputs": [],
   "source": [
    "gr_transform = torchvision.transforms.Compose([\n",
    "    torchvision.transforms.Resize((224, 224)),\n",
    "    torchvision.transforms.functional.to_grayscale,\n",
    "    torchvision.transforms.ToTensor(),\n",
    "])\n",
    "\n",
    "def grayscale_transform(img):\n",
    "    img = gr_transform(img)\n",
    "    return img\n",
    "\n",
    "def grayscale_fix_model(model):\n",
    "    w = model.conv1.weight.data.sum(axis=1).reshape(64, 1, 7, 7)\n",
    "    model.conv1 = torch.nn.Conv2d(1, 64, kernel_size=(7, 7), stride=(2, 2), padding=(3, 3), bias=False)\n",
    "    model.conv1.weight.data = w\n",
    "    return model"
   ]
  },
  {
   "cell_type": "code",
   "execution_count": 16,
   "id": "ef5b18b6",
   "metadata": {
    "execution": {
     "iopub.execute_input": "2022-09-19T22:11:25.655851Z",
     "iopub.status.busy": "2022-09-19T22:11:25.655475Z",
     "iopub.status.idle": "2022-09-19T22:15:16.842374Z",
     "shell.execute_reply": "2022-09-19T22:15:16.841306Z"
    },
    "papermill": {
     "duration": 231.540605,
     "end_time": "2022-09-19T22:15:16.844792",
     "exception": false,
     "start_time": "2022-09-19T22:11:25.304187",
     "status": "completed"
    },
    "tags": []
   },
   "outputs": [
    {
     "name": "stderr",
     "output_type": "stream",
     "text": [
      "data: 100%|██████████| 1000/1000 [00:00<00:00, 2005.43it/s]\n",
      "eval: 100%|██████████| 2172/2172 [03:50<00:00,  9.43it/s]\n"
     ]
    },
    {
     "data": {
      "text/plain": [
       "0.33898402647863"
      ]
     },
     "execution_count": 16,
     "metadata": {},
     "output_type": "execute_result"
    }
   ],
   "source": [
    "validate(\n",
    "    grayscale_fix_model(torchvision.models.resnet18(pretrained=True)),\n",
    "    ImageNetDataset(data_dir, grayscale_transform)\n",
    ")"
   ]
  },
  {
   "cell_type": "code",
   "execution_count": 17,
   "id": "c99c877d",
   "metadata": {
    "execution": {
     "iopub.execute_input": "2022-09-19T22:15:17.637713Z",
     "iopub.status.busy": "2022-09-19T22:15:17.637329Z",
     "iopub.status.idle": "2022-09-19T22:19:15.336156Z",
     "shell.execute_reply": "2022-09-19T22:19:15.335124Z"
    },
    "papermill": {
     "duration": 238.118345,
     "end_time": "2022-09-19T22:19:15.338371",
     "exception": false,
     "start_time": "2022-09-19T22:15:17.220026",
     "status": "completed"
    },
    "tags": []
   },
   "outputs": [
    {
     "name": "stderr",
     "output_type": "stream",
     "text": [
      "data: 100%|██████████| 1000/1000 [00:00<00:00, 2757.55it/s]\n",
      "eval: 100%|██████████| 2172/2172 [03:56<00:00,  9.18it/s]\n"
     ]
    },
    {
     "data": {
      "text/plain": [
       "0.41977262915527414"
      ]
     },
     "execution_count": 17,
     "metadata": {},
     "output_type": "execute_result"
    }
   ],
   "source": [
    "validate(\n",
    "    grayscale_fix_model(torchvision.models.resnet34(pretrained=True)),\n",
    "    ImageNetDataset(data_dir, grayscale_transform)\n",
    ")"
   ]
  },
  {
   "cell_type": "code",
   "execution_count": 18,
   "id": "e81c9c69",
   "metadata": {
    "execution": {
     "iopub.execute_input": "2022-09-19T22:19:16.253992Z",
     "iopub.status.busy": "2022-09-19T22:19:16.253592Z",
     "iopub.status.idle": "2022-09-19T22:23:19.825112Z",
     "shell.execute_reply": "2022-09-19T22:23:19.823731Z"
    },
    "papermill": {
     "duration": 244.068097,
     "end_time": "2022-09-19T22:23:19.827563",
     "exception": false,
     "start_time": "2022-09-19T22:19:15.759466",
     "status": "completed"
    },
    "tags": []
   },
   "outputs": [
    {
     "name": "stderr",
     "output_type": "stream",
     "text": [
      "data: 100%|██████████| 1000/1000 [00:00<00:00, 2533.48it/s]\n",
      "eval: 100%|██████████| 2172/2172 [04:02<00:00,  8.96it/s]\n"
     ]
    },
    {
     "data": {
      "text/plain": [
       "0.7534033673909916"
      ]
     },
     "execution_count": 18,
     "metadata": {},
     "output_type": "execute_result"
    }
   ],
   "source": [
    "validate(\n",
    "    grayscale_fix_model(torchvision.models.resnet50(pretrained=True)),\n",
    "    ImageNetDataset(data_dir, grayscale_transform)\n",
    ")"
   ]
  },
  {
   "cell_type": "code",
   "execution_count": 19,
   "id": "588028c3",
   "metadata": {
    "execution": {
     "iopub.execute_input": "2022-09-19T22:23:20.845753Z",
     "iopub.status.busy": "2022-09-19T22:23:20.845373Z",
     "iopub.status.idle": "2022-09-19T22:27:41.013890Z",
     "shell.execute_reply": "2022-09-19T22:27:41.012682Z"
    },
    "papermill": {
     "duration": 260.701932,
     "end_time": "2022-09-19T22:27:41.016219",
     "exception": false,
     "start_time": "2022-09-19T22:23:20.314287",
     "status": "completed"
    },
    "tags": []
   },
   "outputs": [
    {
     "name": "stderr",
     "output_type": "stream",
     "text": [
      "data: 100%|██████████| 1000/1000 [00:00<00:00, 2193.11it/s]\n",
      "eval: 100%|██████████| 2172/2172 [04:18<00:00,  8.40it/s]\n"
     ]
    },
    {
     "data": {
      "text/plain": [
       "0.7789897827025472"
      ]
     },
     "execution_count": 19,
     "metadata": {},
     "output_type": "execute_result"
    }
   ],
   "source": [
    "validate(\n",
    "    grayscale_fix_model(torchvision.models.resnet101(pretrained=True)),\n",
    "    ImageNetDataset(data_dir, grayscale_transform)\n",
    ")"
   ]
  },
  {
   "cell_type": "code",
   "execution_count": 20,
   "id": "7148f289",
   "metadata": {
    "execution": {
     "iopub.execute_input": "2022-09-19T22:27:42.141184Z",
     "iopub.status.busy": "2022-09-19T22:27:42.140774Z",
     "iopub.status.idle": "2022-09-19T22:32:19.763043Z",
     "shell.execute_reply": "2022-09-19T22:32:19.762018Z"
    },
    "papermill": {
     "duration": 278.213008,
     "end_time": "2022-09-19T22:32:19.765365",
     "exception": false,
     "start_time": "2022-09-19T22:27:41.552357",
     "status": "completed"
    },
    "tags": []
   },
   "outputs": [
    {
     "name": "stderr",
     "output_type": "stream",
     "text": [
      "data: 100%|██████████| 1000/1000 [00:00<00:00, 2644.20it/s]\n",
      "eval: 100%|██████████| 2172/2172 [04:35<00:00,  7.88it/s]\n"
     ]
    },
    {
     "data": {
      "text/plain": [
       "0.807454309972658"
      ]
     },
     "execution_count": 20,
     "metadata": {},
     "output_type": "execute_result"
    }
   ],
   "source": [
    "validate(\n",
    "    grayscale_fix_model(torchvision.models.resnet152(pretrained=True)),\n",
    "    ImageNetDataset(data_dir, grayscale_transform)\n",
    ")"
   ]
  },
  {
   "cell_type": "code",
   "execution_count": 21,
   "id": "6a6e32df",
   "metadata": {
    "execution": {
     "iopub.execute_input": "2022-09-19T22:32:21.025486Z",
     "iopub.status.busy": "2022-09-19T22:32:21.025078Z",
     "iopub.status.idle": "2022-09-19T22:32:21.032894Z",
     "shell.execute_reply": "2022-09-19T22:32:21.031943Z"
    },
    "papermill": {
     "duration": 0.612159,
     "end_time": "2022-09-19T22:32:21.034997",
     "exception": false,
     "start_time": "2022-09-19T22:32:20.422838",
     "status": "completed"
    },
    "tags": []
   },
   "outputs": [],
   "source": [
    "gr_transform = torchvision.transforms.Compose([\n",
    "    torchvision.transforms.Resize((224, 224)),\n",
    "    torchvision.transforms.ToTensor(),\n",
    "    torchvision.transforms.Normalize(mean=[0.485, 0.456, 0.406], std=[0.229, 0.224, 0.225]),\n",
    "    torchvision.transforms.ToPILImage(),\n",
    "    torchvision.transforms.functional.to_grayscale,\n",
    "    torchvision.transforms.ToTensor(),\n",
    "])"
   ]
  },
  {
   "cell_type": "code",
   "execution_count": 22,
   "id": "b64ca294",
   "metadata": {
    "execution": {
     "iopub.execute_input": "2022-09-19T22:32:22.278381Z",
     "iopub.status.busy": "2022-09-19T22:32:22.278001Z",
     "iopub.status.idle": "2022-09-19T22:37:19.429372Z",
     "shell.execute_reply": "2022-09-19T22:37:19.428149Z"
    },
    "papermill": {
     "duration": 297.752205,
     "end_time": "2022-09-19T22:37:19.431547",
     "exception": false,
     "start_time": "2022-09-19T22:32:21.679342",
     "status": "completed"
    },
    "tags": []
   },
   "outputs": [
    {
     "name": "stderr",
     "output_type": "stream",
     "text": [
      "data: 100%|██████████| 1000/1000 [00:00<00:00, 2519.99it/s]\n",
      "eval: 100%|██████████| 2172/2172 [04:56<00:00,  7.33it/s]\n"
     ]
    },
    {
     "data": {
      "text/plain": [
       "0.26182184486976545"
      ]
     },
     "execution_count": 22,
     "metadata": {},
     "output_type": "execute_result"
    }
   ],
   "source": [
    "validate(\n",
    "    grayscale_fix_model(torchvision.models.resnet18(pretrained=True)),\n",
    "    ImageNetDataset(data_dir, grayscale_transform)\n",
    ")"
   ]
  },
  {
   "cell_type": "code",
   "execution_count": 23,
   "id": "2a8ab19b",
   "metadata": {
    "execution": {
     "iopub.execute_input": "2022-09-19T22:37:21.059530Z",
     "iopub.status.busy": "2022-09-19T22:37:21.059141Z",
     "iopub.status.idle": "2022-09-19T22:42:25.050702Z",
     "shell.execute_reply": "2022-09-19T22:42:25.049183Z"
    },
    "papermill": {
     "duration": 304.797495,
     "end_time": "2022-09-19T22:42:25.054925",
     "exception": false,
     "start_time": "2022-09-19T22:37:20.257430",
     "status": "completed"
    },
    "tags": []
   },
   "outputs": [
    {
     "name": "stderr",
     "output_type": "stream",
     "text": [
      "data: 100%|██████████| 1000/1000 [00:00<00:00, 2504.67it/s]\n",
      "eval: 100%|██████████| 2172/2172 [05:02<00:00,  7.17it/s]\n"
     ]
    },
    {
     "data": {
      "text/plain": [
       "0.21145488559504966"
      ]
     },
     "execution_count": 23,
     "metadata": {},
     "output_type": "execute_result"
    }
   ],
   "source": [
    "validate(\n",
    "    grayscale_fix_model(torchvision.models.resnet34(pretrained=True)),\n",
    "    ImageNetDataset(data_dir, grayscale_transform)\n",
    ")"
   ]
  },
  {
   "cell_type": "code",
   "execution_count": 24,
   "id": "7d5cd711",
   "metadata": {
    "execution": {
     "iopub.execute_input": "2022-09-19T22:42:26.625159Z",
     "iopub.status.busy": "2022-09-19T22:42:26.624728Z",
     "iopub.status.idle": "2022-09-19T22:47:39.598414Z",
     "shell.execute_reply": "2022-09-19T22:47:39.597126Z"
    },
    "papermill": {
     "duration": 313.753993,
     "end_time": "2022-09-19T22:47:39.601003",
     "exception": false,
     "start_time": "2022-09-19T22:42:25.847010",
     "status": "completed"
    },
    "tags": []
   },
   "outputs": [
    {
     "name": "stderr",
     "output_type": "stream",
     "text": [
      "data: 100%|██████████| 1000/1000 [00:00<00:00, 1843.35it/s]\n",
      "eval: 100%|██████████| 2172/2172 [05:11<00:00,  6.97it/s]\n"
     ]
    },
    {
     "data": {
      "text/plain": [
       "0.19202762987480212"
      ]
     },
     "execution_count": 24,
     "metadata": {},
     "output_type": "execute_result"
    }
   ],
   "source": [
    "validate(\n",
    "    grayscale_fix_model(torchvision.models.resnet50(pretrained=True)),\n",
    "    ImageNetDataset(data_dir, grayscale_transform)\n",
    ")"
   ]
  },
  {
   "cell_type": "code",
   "execution_count": 25,
   "id": "37500a11",
   "metadata": {
    "execution": {
     "iopub.execute_input": "2022-09-19T22:47:41.257269Z",
     "iopub.status.busy": "2022-09-19T22:47:41.256083Z",
     "iopub.status.idle": "2022-09-19T22:53:09.005835Z",
     "shell.execute_reply": "2022-09-19T22:53:09.004430Z"
    },
    "papermill": {
     "duration": 328.563664,
     "end_time": "2022-09-19T22:53:09.008117",
     "exception": false,
     "start_time": "2022-09-19T22:47:40.444453",
     "status": "completed"
    },
    "tags": []
   },
   "outputs": [
    {
     "name": "stderr",
     "output_type": "stream",
     "text": [
      "data: 100%|██████████| 1000/1000 [00:00<00:00, 2075.79it/s]\n",
      "eval: 100%|██████████| 2172/2172 [05:26<00:00,  6.66it/s]\n"
     ]
    },
    {
     "data": {
      "text/plain": [
       "0.20851921139732335"
      ]
     },
     "execution_count": 25,
     "metadata": {},
     "output_type": "execute_result"
    }
   ],
   "source": [
    "validate(\n",
    "    grayscale_fix_model(torchvision.models.resnet101(pretrained=True)),\n",
    "    ImageNetDataset(data_dir, grayscale_transform)\n",
    ")"
   ]
  },
  {
   "cell_type": "code",
   "execution_count": 26,
   "id": "eb9ec358",
   "metadata": {
    "execution": {
     "iopub.execute_input": "2022-09-19T22:53:10.844984Z",
     "iopub.status.busy": "2022-09-19T22:53:10.844579Z",
     "iopub.status.idle": "2022-09-19T22:58:57.052469Z",
     "shell.execute_reply": "2022-09-19T22:58:57.051292Z"
    },
    "papermill": {
     "duration": 347.118878,
     "end_time": "2022-09-19T22:58:57.054880",
     "exception": false,
     "start_time": "2022-09-19T22:53:09.936002",
     "status": "completed"
    },
    "tags": []
   },
   "outputs": [
    {
     "name": "stderr",
     "output_type": "stream",
     "text": [
      "data: 100%|██████████| 1000/1000 [00:00<00:00, 2647.73it/s]\n",
      "eval: 100%|██████████| 2172/2172 [05:44<00:00,  6.31it/s]\n"
     ]
    },
    {
     "data": {
      "text/plain": [
       "0.21289394157432723"
      ]
     },
     "execution_count": 26,
     "metadata": {},
     "output_type": "execute_result"
    }
   ],
   "source": [
    "validate(\n",
    "    grayscale_fix_model(torchvision.models.resnet152(pretrained=True)),\n",
    "    ImageNetDataset(data_dir, grayscale_transform)\n",
    ")"
   ]
  },
  {
   "cell_type": "code",
   "execution_count": 27,
   "id": "39afb546",
   "metadata": {
    "execution": {
     "iopub.execute_input": "2022-09-19T22:58:59.174231Z",
     "iopub.status.busy": "2022-09-19T22:58:59.173820Z",
     "iopub.status.idle": "2022-09-19T22:58:59.179913Z",
     "shell.execute_reply": "2022-09-19T22:58:59.178891Z"
    },
    "papermill": {
     "duration": 1.049343,
     "end_time": "2022-09-19T22:58:59.182044",
     "exception": false,
     "start_time": "2022-09-19T22:58:58.132701",
     "status": "completed"
    },
    "tags": []
   },
   "outputs": [],
   "source": [
    "gr_transform = torchvision.transforms.Compose([\n",
    "    torchvision.transforms.Resize((224, 224)),\n",
    "    torchvision.transforms.functional.autocontrast,\n",
    "    torchvision.transforms.functional.to_grayscale,\n",
    "    torchvision.transforms.ToTensor(),\n",
    "])"
   ]
  },
  {
   "cell_type": "code",
   "execution_count": 28,
   "id": "d04ab9b3",
   "metadata": {
    "execution": {
     "iopub.execute_input": "2022-09-19T22:59:01.121885Z",
     "iopub.status.busy": "2022-09-19T22:59:01.121522Z",
     "iopub.status.idle": "2022-09-19T23:03:26.694534Z",
     "shell.execute_reply": "2022-09-19T23:03:26.693365Z"
    },
    "papermill": {
     "duration": 266.543934,
     "end_time": "2022-09-19T23:03:26.696892",
     "exception": false,
     "start_time": "2022-09-19T22:59:00.152958",
     "status": "completed"
    },
    "tags": []
   },
   "outputs": [
    {
     "name": "stderr",
     "output_type": "stream",
     "text": [
      "data: 100%|██████████| 1000/1000 [00:00<00:00, 1655.46it/s]\n",
      "eval: 100%|██████████| 2172/2172 [04:24<00:00,  8.21it/s]\n"
     ]
    },
    {
     "data": {
      "text/plain": [
       "0.3505540365520219"
      ]
     },
     "execution_count": 28,
     "metadata": {},
     "output_type": "execute_result"
    }
   ],
   "source": [
    "validate(\n",
    "    grayscale_fix_model(torchvision.models.resnet18(pretrained=True)),\n",
    "    ImageNetDataset(data_dir, grayscale_transform)\n",
    ")"
   ]
  },
  {
   "cell_type": "code",
   "execution_count": 29,
   "id": "1d7d3c49",
   "metadata": {
    "execution": {
     "iopub.execute_input": "2022-09-19T23:03:28.789928Z",
     "iopub.status.busy": "2022-09-19T23:03:28.789484Z",
     "iopub.status.idle": "2022-09-19T23:07:58.731357Z",
     "shell.execute_reply": "2022-09-19T23:07:58.729803Z"
    },
    "papermill": {
     "duration": 270.940831,
     "end_time": "2022-09-19T23:07:58.733824",
     "exception": false,
     "start_time": "2022-09-19T23:03:27.792993",
     "status": "completed"
    },
    "tags": []
   },
   "outputs": [
    {
     "name": "stderr",
     "output_type": "stream",
     "text": [
      "data: 100%|██████████| 1000/1000 [00:00<00:00, 2610.67it/s]\n",
      "eval: 100%|██████████| 2172/2172 [04:28<00:00,  8.08it/s]\n"
     ]
    },
    {
     "data": {
      "text/plain": [
       "0.43243632177291697"
      ]
     },
     "execution_count": 29,
     "metadata": {},
     "output_type": "execute_result"
    }
   ],
   "source": [
    "validate(\n",
    "    grayscale_fix_model(torchvision.models.resnet34(pretrained=True)),\n",
    "    ImageNetDataset(data_dir, grayscale_transform)\n",
    ")"
   ]
  },
  {
   "cell_type": "code",
   "execution_count": 30,
   "id": "9071cd7c",
   "metadata": {
    "execution": {
     "iopub.execute_input": "2022-09-19T23:08:00.898804Z",
     "iopub.status.busy": "2022-09-19T23:08:00.898402Z",
     "iopub.status.idle": "2022-09-19T23:12:38.402819Z",
     "shell.execute_reply": "2022-09-19T23:12:38.401774Z"
    },
    "papermill": {
     "duration": 278.623053,
     "end_time": "2022-09-19T23:12:38.404940",
     "exception": false,
     "start_time": "2022-09-19T23:07:59.781887",
     "status": "completed"
    },
    "tags": []
   },
   "outputs": [
    {
     "name": "stderr",
     "output_type": "stream",
     "text": [
      "data: 100%|██████████| 1000/1000 [00:00<00:00, 1564.12it/s]\n",
      "eval: 100%|██████████| 2172/2172 [04:36<00:00,  7.87it/s]\n"
     ]
    },
    {
     "data": {
      "text/plain": [
       "0.7551014534465391"
      ]
     },
     "execution_count": 30,
     "metadata": {},
     "output_type": "execute_result"
    }
   ],
   "source": [
    "validate(\n",
    "    grayscale_fix_model(torchvision.models.resnet50(pretrained=True)),\n",
    "    ImageNetDataset(data_dir, grayscale_transform)\n",
    ")"
   ]
  },
  {
   "cell_type": "code",
   "execution_count": 31,
   "id": "a610007a",
   "metadata": {
    "execution": {
     "iopub.execute_input": "2022-09-19T23:12:40.760302Z",
     "iopub.status.busy": "2022-09-19T23:12:40.759844Z",
     "iopub.status.idle": "2022-09-19T23:17:33.632581Z",
     "shell.execute_reply": "2022-09-19T23:17:33.623786Z"
    },
    "papermill": {
     "duration": 294.659476,
     "end_time": "2022-09-19T23:17:34.239218",
     "exception": false,
     "start_time": "2022-09-19T23:12:39.579742",
     "status": "completed"
    },
    "tags": []
   },
   "outputs": [
    {
     "name": "stderr",
     "output_type": "stream",
     "text": [
      "data: 100%|██████████| 1000/1000 [00:00<00:00, 2634.99it/s]\n",
      "eval: 100%|██████████| 2172/2172 [04:51<00:00,  7.46it/s]\n"
     ]
    },
    {
     "data": {
      "text/plain": [
       "0.7812634911498058"
      ]
     },
     "execution_count": 31,
     "metadata": {},
     "output_type": "execute_result"
    }
   ],
   "source": [
    "validate(\n",
    "    grayscale_fix_model(torchvision.models.resnet101(pretrained=True)),\n",
    "    ImageNetDataset(data_dir, grayscale_transform)\n",
    ")"
   ]
  },
  {
   "cell_type": "code",
   "execution_count": 32,
   "id": "ed961082",
   "metadata": {
    "execution": {
     "iopub.execute_input": "2022-09-19T23:17:37.205312Z",
     "iopub.status.busy": "2022-09-19T23:17:37.204881Z",
     "iopub.status.idle": "2022-09-19T23:22:46.909663Z",
     "shell.execute_reply": "2022-09-19T23:22:46.908278Z"
    },
    "papermill": {
     "duration": 311.254137,
     "end_time": "2022-09-19T23:22:46.912168",
     "exception": false,
     "start_time": "2022-09-19T23:17:35.658031",
     "status": "completed"
    },
    "tags": []
   },
   "outputs": [
    {
     "name": "stderr",
     "output_type": "stream",
     "text": [
      "data: 100%|██████████| 1000/1000 [00:00<00:00, 2127.23it/s]\n",
      "eval: 100%|██████████| 2172/2172 [05:07<00:00,  7.06it/s]\n"
     ]
    },
    {
     "data": {
      "text/plain": [
       "0.8091523960282055"
      ]
     },
     "execution_count": 32,
     "metadata": {},
     "output_type": "execute_result"
    }
   ],
   "source": [
    "validate(\n",
    "    grayscale_fix_model(torchvision.models.resnet152(pretrained=True)),\n",
    "    ImageNetDataset(data_dir, grayscale_transform)\n",
    ")"
   ]
  }
 ],
 "metadata": {
  "kernelspec": {
   "display_name": "Python 3",
   "language": "python",
   "name": "python3"
  },
  "language_info": {
   "codemirror_mode": {
    "name": "ipython",
    "version": 3
   },
   "file_extension": ".py",
   "mimetype": "text/x-python",
   "name": "python",
   "nbconvert_exporter": "python",
   "pygments_lexer": "ipython3",
   "version": "3.7.12"
  },
  "papermill": {
   "default_parameters": {},
   "duration": 5721.656977,
   "end_time": "2022-09-19T23:22:50.160364",
   "environment_variables": {},
   "exception": null,
   "input_path": "__notebook__.ipynb",
   "output_path": "__notebook__.ipynb",
   "parameters": {},
   "start_time": "2022-09-19T21:47:28.503387",
   "version": "2.3.4"
  }
 },
 "nbformat": 4,
 "nbformat_minor": 5
}
