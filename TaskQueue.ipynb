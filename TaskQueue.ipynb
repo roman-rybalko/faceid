{
 "cells": [
  {
   "cell_type": "markdown",
   "id": "90b0d636-4e31-4bfb-9707-ec3c3a5a39d0",
   "metadata": {},
   "source": [
    "# Broken"
   ]
  },
  {
   "cell_type": "code",
   "execution_count": 12,
   "id": "2638dce6-04a9-4e72-98e8-062f1b407e59",
   "metadata": {},
   "outputs": [],
   "source": [
    "import os\n",
    "import signal\n",
    "import time\n",
    "\n",
    "class TaskQueue:\n",
    "  def __init__(self, workers_cnt = os.cpu_count()):\n",
    "    self.worker_cnt = workers_cnt\n",
    "    self.pids = []\n",
    "    self.tasks = []\n",
    "  \n",
    "  def enqueue(self, func, args):\n",
    "    self.tasks += [(func, args)]\n",
    "    self._clear_completed()\n",
    "    self._run_queued()\n",
    "  \n",
    "  def join(self):\n",
    "    while self.tasks and self.pids:\n",
    "      self._clear_completed()\n",
    "      self._run_queued()\n",
    "      status = os.wait()\n",
    "      if status[0] in self.pids:\n",
    "        self.pids.remove(status[0])\n",
    "      else:\n",
    "        print(f'Joined a spurious zombie {status[0]}')\n",
    "\n",
    "  def _run_queued(self):\n",
    "    self.pids += [self._run(*self.tasks.pop(0)) for i in range(self.worker_cnt - len(self.pids)) if self.tasks]\n",
    "  \n",
    "  def _clear_completed(self):\n",
    "    self.pids = [pid for pid in self.pids if os.waitpid(pid, os.WNOHANG)[0] == 0]\n",
    "\n",
    "  def _run(self, func, args):\n",
    "    pid = os.fork()\n",
    "    if pid == 0:\n",
    "      func(*args)\n",
    "      self._exit()\n",
    "    return pid\n",
    "\n",
    "  def _exit(self):\n",
    "    while True:\n",
    "      os.kill(0, signal.SIGTERM)\n",
    "      time.sleep(1)\n",
    "      os.kill(0, signal.SIGKILL)"
   ]
  },
  {
   "cell_type": "code",
   "execution_count": 13,
   "id": "59abdf4e-0f31-4cdc-bc0c-218cb2f736e1",
   "metadata": {},
   "outputs": [
    {
     "name": "stdout",
     "output_type": "stream",
     "text": [
      "Joined a spurious zombie 357\n",
      "Joined a spurious zombie 358\n",
      "Joined a spurious zombie 359\n",
      "Joined a spurious zombie 360\n"
     ]
    },
    {
     "ename": "KeyboardInterrupt",
     "evalue": "",
     "output_type": "error",
     "traceback": [
      "\u001b[0;31m\u001b[0m",
      "\u001b[0;31mKeyboardInterrupt\u001b[0mTraceback (most recent call last)",
      "\u001b[0;32m<ipython-input-13-6f8e9aca0c4a>\u001b[0m in \u001b[0;36m<module>\u001b[0;34m\u001b[0m\n\u001b[1;32m      9\u001b[0m \u001b[0;34m\u001b[0m\u001b[0m\n\u001b[1;32m     10\u001b[0m \u001b[0mt1\u001b[0m \u001b[0;34m=\u001b[0m \u001b[0mtime\u001b[0m\u001b[0;34m.\u001b[0m\u001b[0mperf_counter\u001b[0m\u001b[0;34m(\u001b[0m\u001b[0;34m)\u001b[0m\u001b[0;34m\u001b[0m\u001b[0;34m\u001b[0m\u001b[0m\n\u001b[0;32m---> 11\u001b[0;31m \u001b[0mtq\u001b[0m\u001b[0;34m.\u001b[0m\u001b[0mjoin\u001b[0m\u001b[0;34m(\u001b[0m\u001b[0;34m)\u001b[0m\u001b[0;34m\u001b[0m\u001b[0;34m\u001b[0m\u001b[0m\n\u001b[0m\u001b[1;32m     12\u001b[0m \u001b[0mt2\u001b[0m \u001b[0;34m=\u001b[0m \u001b[0mtime\u001b[0m\u001b[0;34m.\u001b[0m\u001b[0mperf_counter\u001b[0m\u001b[0;34m(\u001b[0m\u001b[0;34m)\u001b[0m\u001b[0;34m\u001b[0m\u001b[0;34m\u001b[0m\u001b[0m\n\u001b[1;32m     13\u001b[0m \u001b[0mprint\u001b[0m\u001b[0;34m(\u001b[0m\u001b[0mt2\u001b[0m\u001b[0;34m-\u001b[0m\u001b[0mt1\u001b[0m\u001b[0;34m)\u001b[0m\u001b[0;34m\u001b[0m\u001b[0;34m\u001b[0m\u001b[0m\n",
      "\u001b[0;32m<ipython-input-12-e21ce80f246c>\u001b[0m in \u001b[0;36mjoin\u001b[0;34m(self)\u001b[0m\n\u001b[1;32m     18\u001b[0m       \u001b[0mself\u001b[0m\u001b[0;34m.\u001b[0m\u001b[0m_clear_completed\u001b[0m\u001b[0;34m(\u001b[0m\u001b[0;34m)\u001b[0m\u001b[0;34m\u001b[0m\u001b[0;34m\u001b[0m\u001b[0m\n\u001b[1;32m     19\u001b[0m       \u001b[0mself\u001b[0m\u001b[0;34m.\u001b[0m\u001b[0m_run_queued\u001b[0m\u001b[0;34m(\u001b[0m\u001b[0;34m)\u001b[0m\u001b[0;34m\u001b[0m\u001b[0;34m\u001b[0m\u001b[0m\n\u001b[0;32m---> 20\u001b[0;31m       \u001b[0mstatus\u001b[0m \u001b[0;34m=\u001b[0m \u001b[0mos\u001b[0m\u001b[0;34m.\u001b[0m\u001b[0mwait\u001b[0m\u001b[0;34m(\u001b[0m\u001b[0;34m)\u001b[0m\u001b[0;34m\u001b[0m\u001b[0;34m\u001b[0m\u001b[0m\n\u001b[0m\u001b[1;32m     21\u001b[0m       \u001b[0;32mif\u001b[0m \u001b[0mstatus\u001b[0m\u001b[0;34m[\u001b[0m\u001b[0;36m0\u001b[0m\u001b[0;34m]\u001b[0m \u001b[0;32min\u001b[0m \u001b[0mself\u001b[0m\u001b[0;34m.\u001b[0m\u001b[0mpids\u001b[0m\u001b[0;34m:\u001b[0m\u001b[0;34m\u001b[0m\u001b[0;34m\u001b[0m\u001b[0m\n\u001b[1;32m     22\u001b[0m         \u001b[0mself\u001b[0m\u001b[0;34m.\u001b[0m\u001b[0mpids\u001b[0m\u001b[0;34m.\u001b[0m\u001b[0mremove\u001b[0m\u001b[0;34m(\u001b[0m\u001b[0mstatus\u001b[0m\u001b[0;34m[\u001b[0m\u001b[0;36m0\u001b[0m\u001b[0;34m]\u001b[0m\u001b[0;34m)\u001b[0m\u001b[0;34m\u001b[0m\u001b[0;34m\u001b[0m\u001b[0m\n",
      "\u001b[0;31mKeyboardInterrupt\u001b[0m: "
     ]
    }
   ],
   "source": [
    "import time\n",
    "\n",
    "def proc(x):\n",
    "    time.sleep(1)\n",
    "\n",
    "tq = TaskQueue()\n",
    "for i in range(100):\n",
    "  tq.enqueue(proc, i)\n",
    "\n",
    "t1 = time.perf_counter()\n",
    "tq.join()\n",
    "t2 = time.perf_counter()\n",
    "print(t2-t1)"
   ]
  }
 ],
 "metadata": {
  "kernelspec": {
   "display_name": "Python 3",
   "language": "python",
   "name": "python3"
  },
  "language_info": {
   "codemirror_mode": {
    "name": "ipython",
    "version": 3
   },
   "file_extension": ".py",
   "mimetype": "text/x-python",
   "name": "python",
   "nbconvert_exporter": "python",
   "pygments_lexer": "ipython3",
   "version": "3.6.9"
  }
 },
 "nbformat": 4,
 "nbformat_minor": 5
}
