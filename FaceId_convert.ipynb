{
 "cells": [
  {
   "cell_type": "markdown",
   "metadata": {},
   "source": [
    "# Convert saved in poptorch models"
   ]
  },
  {
   "cell_type": "code",
   "execution_count": 1,
   "metadata": {},
   "outputs": [],
   "source": [
    "import torch"
   ]
  },
  {
   "cell_type": "code",
   "execution_count": 3,
   "metadata": {},
   "outputs": [],
   "source": [
    "def convert(model_f):\n",
    "    model = torch.load(model_f, map_location=torch.device('cpu'))\n",
    "    torch.save(model, model_f)\n",
    "\n",
    "convert('faceid-model-0.011796065969605762.pt')\n",
    "convert('faceid-model-0.016750329740267147.pt')\n",
    "convert('faceid-model-0.02253507034381968.pt')"
   ]
  },
  {
   "cell_type": "code",
   "execution_count": 4,
   "metadata": {},
   "outputs": [],
   "source": [
    "import torchvision"
   ]
  },
  {
   "cell_type": "code",
   "execution_count": 6,
   "metadata": {},
   "outputs": [],
   "source": [
    "def create_faceid_model():\n",
    "    model = torchvision.models.resnet50(pretrained=True)\n",
    "    model.fc = torch.nn.Linear(model.fc.in_features, 8)\n",
    "    return model\n",
    "\n",
    "def grayscale_fix_model(model):\n",
    "    w = model.conv1.weight.data.sum(axis=1).reshape(64, 1, 7, 7)\n",
    "    model.conv1 = torch.nn.Conv2d(1, 64, kernel_size=(7, 7), stride=(2, 2), padding=(3, 3), bias=False)\n",
    "    model.conv1.weight.data = w\n",
    "    return model\n",
    "\n",
    "def convert_sd(sd_f, model_f):\n",
    "    model = create_faceid_model()\n",
    "    model = grayscale_fix_model(model)\n",
    "    model.load_state_dict(torch.load(sd_f))\n",
    "    torch.save(model, model_f)\n",
    "\n",
    "convert_sd('faceid-model-ov8-0.016422454035053595.sd.pt', 'faceid-model-ov8-0.016422454035053595.pt')\n",
    "convert_sd('faceid-model-ov8-0.02309628876459473.sd.pt', 'faceid-model-ov8-0.02309628876459473.pt')"
   ]
  }
 ],
 "metadata": {
  "kernelspec": {
   "display_name": "Python 3",
   "language": "python",
   "name": "python3"
  },
  "language_info": {
   "codemirror_mode": {
    "name": "ipython",
    "version": 3
   },
   "file_extension": ".py",
   "mimetype": "text/x-python",
   "name": "python",
   "nbconvert_exporter": "python",
   "pygments_lexer": "ipython3",
   "version": "3.6.9"
  }
 },
 "nbformat": 4,
 "nbformat_minor": 4
}
